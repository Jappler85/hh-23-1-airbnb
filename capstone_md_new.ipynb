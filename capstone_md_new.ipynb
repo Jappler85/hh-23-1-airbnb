{
 "cells": [
  {
   "attachments": {},
   "cell_type": "markdown",
   "metadata": {},
   "source": [
    "# Airbnb Capstone Project"
   ]
  },
  {
   "attachments": {},
   "cell_type": "markdown",
   "metadata": {},
   "source": [
    "## London listings.csv test"
   ]
  },
  {
   "cell_type": "code",
   "execution_count": 1,
   "metadata": {},
   "outputs": [],
   "source": [
    "import pandas as pd\n",
    "import numpy as np\n",
    "from py_functions import increase_bbox\n",
    "import requests\n",
    "import json\n",
    "import gzip"
   ]
  },
  {
   "cell_type": "code",
   "execution_count": 2,
   "metadata": {},
   "outputs": [],
   "source": [
    "# London\n",
    "# Define path, .gz archive file name, country and city for url\n",
    "path ='data/'\n",
    "gz_file = \"listings.csv.gz\"\n",
    "country = \"united-kingdom\"\n",
    "state = \"england\"\n",
    "city = \"london\"\n",
    "url = f\"http://data.insideairbnb.com/{country}/{state}/{city}/2023-03-14/data/{gz_file}\""
   ]
  },
  {
   "cell_type": "code",
   "execution_count": null,
   "metadata": {},
   "outputs": [],
   "source": [
    "# Create new directory for city\n",
    "!mkdir {path}{city}"
   ]
  },
  {
   "cell_type": "code",
   "execution_count": null,
   "metadata": {},
   "outputs": [],
   "source": [
    "# Download the .gz file\n",
    "r = requests.get(url)\n",
    "with open(path+city+'/'+gz_file, 'wb') as f:\n",
    "    f.write(r.content)"
   ]
  },
  {
   "cell_type": "code",
   "execution_count": 3,
   "metadata": {},
   "outputs": [],
   "source": [
    "# Unzip the .gz file and save the content as pd.DataFrame via read_csv\n",
    "with gzip.open(path+city+'/'+gz_file) as f:\n",
    "\n",
    "    listings = pd.read_csv(f)"
   ]
  },
  {
   "attachments": {},
   "cell_type": "markdown",
   "metadata": {},
   "source": [
    "London OSM dataframe"
   ]
  },
  {
   "cell_type": "code",
   "execution_count": 4,
   "metadata": {},
   "outputs": [],
   "source": [
    "# Increase outside border of listings\n",
    "london_bbox = increase_bbox(listings)"
   ]
  },
  {
   "cell_type": "code",
   "execution_count": 5,
   "metadata": {},
   "outputs": [],
   "source": [
    "# Get OSM data for slightly bigger bbox\n",
    "# Example for nodes with an entry for \"cuisine\"\n",
    "overpass_url = \"http://overpass-api.de/api/interpreter\"\n",
    "overpass_query = f\"\"\"\n",
    "[out:json];\n",
    "(\n",
    "    node[\"amenity\"~\"^(bar|pub|restaurant|cafe|fast_food)$\"]({london_bbox[\"south_shifted\"]},{london_bbox[\"west_shifted\"]},{london_bbox[\"north_shifted\"]},{london_bbox[\"east_shifted\"]});\n",
    ");\n",
    "out body;\n",
    "\"\"\"\n",
    "response = requests.get(overpass_url, \n",
    "                        params={'data': overpass_query})\n",
    "data = response.json()\n",
    "\n",
    "data_norm = pd.json_normalize(data, record_path=\"elements\")"
   ]
  },
  {
   "cell_type": "code",
   "execution_count": 6,
   "metadata": {},
   "outputs": [
    {
     "data": {
      "text/plain": [
       "(15234, 466)"
      ]
     },
     "execution_count": 6,
     "metadata": {},
     "output_type": "execute_result"
    }
   ],
   "source": [
    "data_norm.shape"
   ]
  },
  {
   "cell_type": "code",
   "execution_count": null,
   "metadata": {},
   "outputs": [],
   "source": [
    "data_norm.head()"
   ]
  },
  {
   "cell_type": "code",
   "execution_count": null,
   "metadata": {},
   "outputs": [],
   "source": [
    "data_norm[[\"id\", \"lat\", \"lon\",\"tags.name\", \"tags.amenity\", \"tags.cuisine\", \"tags.diet:vegetarian\", \"tags.diet:vegan\"]]"
   ]
  },
  {
   "cell_type": "code",
   "execution_count": null,
   "metadata": {},
   "outputs": [],
   "source": [
    "data_norm[\"tags.vegetarian\"].unique()"
   ]
  },
  {
   "cell_type": "code",
   "execution_count": null,
   "metadata": {},
   "outputs": [],
   "source": [
    "data_norm[\"tags.amenity\"].value_counts()"
   ]
  },
  {
   "cell_type": "code",
   "execution_count": null,
   "metadata": {},
   "outputs": [],
   "source": [
    "data_norm.dropna(thresh=len(data_norm)-50, axis=1)"
   ]
  },
  {
   "cell_type": "code",
   "execution_count": null,
   "metadata": {},
   "outputs": [],
   "source": [
    "df_amenity = pd.DataFrame(data_norm[\"tags.amenity\"])"
   ]
  },
  {
   "cell_type": "code",
   "execution_count": null,
   "metadata": {},
   "outputs": [],
   "source": [
    "df_amenity_vc = df_amenity.value_counts().reset_index()"
   ]
  },
  {
   "cell_type": "code",
   "execution_count": null,
   "metadata": {},
   "outputs": [],
   "source": [
    "df_new = data_norm.merge(df_amenity_vc, on=\"tags.amenity\", how=\"left\")"
   ]
  },
  {
   "cell_type": "code",
   "execution_count": null,
   "metadata": {},
   "outputs": [],
   "source": [
    "df_new.head(10)"
   ]
  },
  {
   "cell_type": "code",
   "execution_count": null,
   "metadata": {},
   "outputs": [],
   "source": [
    "data_norm.shape"
   ]
  },
  {
   "cell_type": "code",
   "execution_count": null,
   "metadata": {},
   "outputs": [],
   "source": [
    "df_new[df_new[0] > 100]"
   ]
  },
  {
   "cell_type": "code",
   "execution_count": null,
   "metadata": {},
   "outputs": [],
   "source": [
    "data_norm.groupby(\"tags.amenity\").sum()"
   ]
  },
  {
   "cell_type": "code",
   "execution_count": null,
   "metadata": {},
   "outputs": [],
   "source": [
    "pd.DataFrame(data_norm[\"tags.amenity\"]).reset_index()"
   ]
  },
  {
   "cell_type": "code",
   "execution_count": null,
   "metadata": {},
   "outputs": [],
   "source": [
    "# Outermost longitude/latitude points of the Airbnb listings\n",
    "listings.describe()[[\"latitude\", \"longitude\"]].loc[[\"min\", \"max\"]]"
   ]
  },
  {
   "attachments": {},
   "cell_type": "markdown",
   "metadata": {},
   "source": [
    "(northern hemisphere)\n",
    "\n",
    "latitude max = north\n",
    "\n",
    "latitude min = south\n",
    "\n",
    "longitude max = east\n",
    "\n",
    "longitude min = west"
   ]
  },
  {
   "attachments": {},
   "cell_type": "markdown",
   "metadata": {},
   "source": [
    "Increasing the maxs by 0.01 and decreasing the mins by 0.01 will shift the outline's border by a bit more than 1km in each direction.\n",
    "\n",
    "See increase_bbox function in py_functions.py"
   ]
  },
  {
   "attachments": {},
   "cell_type": "markdown",
   "metadata": {},
   "source": [
    "requests and json method:"
   ]
  },
  {
   "cell_type": "code",
   "execution_count": null,
   "metadata": {},
   "outputs": [],
   "source": [
    "import requests\n",
    "import json\n",
    "from py_functions import increase_bbox"
   ]
  },
  {
   "cell_type": "code",
   "execution_count": null,
   "metadata": {},
   "outputs": [],
   "source": [
    "overpass_url = \"http://overpass-api.de/api/interpreter\"\n",
    "overpass_query = \"\"\"\n",
    "[out:json];\n",
    "(node[\"amenity\"~\"^(bar|pub|restaurant)$\"](51.2867602,-0.5103751,51.6918741,0.3340155);\n",
    ");\n",
    "out body;\n",
    "\"\"\"\n",
    "response = requests.get(overpass_url, \n",
    "                        params={'data': overpass_query})\n",
    "data = response.json()"
   ]
  },
  {
   "cell_type": "code",
   "execution_count": null,
   "metadata": {},
   "outputs": [],
   "source": [
    "data_norm = pd.json_normalize(data, record_path=\"elements\")"
   ]
  },
  {
   "cell_type": "code",
   "execution_count": null,
   "metadata": {},
   "outputs": [],
   "source": [
    "pd.set_option('display.max_columns', 50)\n",
    "data_norm.head()"
   ]
  },
  {
   "cell_type": "code",
   "execution_count": null,
   "metadata": {},
   "outputs": [],
   "source": [
    "data_norm[[\"tags.name\", \"tags.amenity\", \"tags.cuisine\"]]"
   ]
  },
  {
   "cell_type": "code",
   "execution_count": null,
   "metadata": {},
   "outputs": [],
   "source": [
    "data_norm.shape"
   ]
  },
  {
   "attachments": {},
   "cell_type": "markdown",
   "metadata": {},
   "source": [
    "## Lisbon pipeline test"
   ]
  },
  {
   "cell_type": "code",
   "execution_count": null,
   "metadata": {},
   "outputs": [],
   "source": [
    "import gzip"
   ]
  },
  {
   "cell_type": "code",
   "execution_count": null,
   "metadata": {},
   "outputs": [],
   "source": [
    "# Define path, .gz archive file name, country and city for url\n",
    "path ='data/'\n",
    "gz_file = \"listings.csv.gz\"\n",
    "country = \"portugal\"\n",
    "state = \"lisbon\"\n",
    "city = \"lisbon\"\n",
    "url = f\"http://data.insideairbnb.com/{country}/{state}/{city}/2023-03-19/data/{gz_file}\""
   ]
  },
  {
   "cell_type": "code",
   "execution_count": null,
   "metadata": {},
   "outputs": [],
   "source": [
    "# Create new directory for city\n",
    "!mkdir {path}{city}"
   ]
  },
  {
   "cell_type": "code",
   "execution_count": null,
   "metadata": {},
   "outputs": [],
   "source": [
    "# Download the .gz file\n",
    "r = requests.get(url)\n",
    "with open(path+city+'/'+gz_file, 'wb') as f:\n",
    "    f.write(r.content)"
   ]
  },
  {
   "cell_type": "code",
   "execution_count": null,
   "metadata": {},
   "outputs": [],
   "source": [
    "# Unzip the .gz file and save the content as pd.DataFrame via read_csv\n",
    "with gzip.open(path+city+'/'+gz_file) as f:\n",
    "\n",
    "    listings = pd.read_csv(f)"
   ]
  },
  {
   "cell_type": "code",
   "execution_count": null,
   "metadata": {},
   "outputs": [],
   "source": [
    "# Increase outside border of listings\n",
    "lisbon_bbox = increase_bbox(listings)"
   ]
  },
  {
   "cell_type": "code",
   "execution_count": null,
   "metadata": {},
   "outputs": [],
   "source": [
    "lisbon_bbox"
   ]
  },
  {
   "cell_type": "code",
   "execution_count": null,
   "metadata": {},
   "outputs": [],
   "source": [
    "# Get OSM data for slightly bigger bbox\n",
    "# Example for nodes with an entry for \"cuisine\"\n",
    "overpass_url = \"http://overpass-api.de/api/interpreter\"\n",
    "overpass_query = f\"\"\"\n",
    "[out:json];\n",
    "(node[\"cuisine\"]({lisbon_bbox[\"south_shifted\"]},{lisbon_bbox[\"west_shifted\"]},{lisbon_bbox[\"north_shifted\"]},{lisbon_bbox[\"east_shifted\"]});\n",
    ");\n",
    "out body;\n",
    "\"\"\"\n",
    "response = requests.get(overpass_url, \n",
    "                        params={'data': overpass_query})\n",
    "data = response.json()\n",
    "\n",
    "data_norm = pd.json_normalize(data, record_path=\"elements\")"
   ]
  },
  {
   "cell_type": "code",
   "execution_count": null,
   "metadata": {},
   "outputs": [],
   "source": [
    "data_norm.shape"
   ]
  },
  {
   "cell_type": "code",
   "execution_count": null,
   "metadata": {},
   "outputs": [],
   "source": [
    "data_norm.head()"
   ]
  },
  {
   "cell_type": "code",
   "execution_count": null,
   "metadata": {},
   "outputs": [],
   "source": [
    "data_norm[[\"tags.name\",\"tags.cuisine\",\"tags.amenity\"]]"
   ]
  },
  {
   "attachments": {},
   "cell_type": "markdown",
   "metadata": {},
   "source": [
    "Web scraping test"
   ]
  },
  {
   "attachments": {},
   "cell_type": "markdown",
   "metadata": {},
   "source": [
    "Check out Selenium"
   ]
  },
  {
   "cell_type": "markdown",
   "metadata": {},
   "source": []
  }
 ],
 "metadata": {
  "kernelspec": {
   "display_name": "nf_base",
   "language": "python",
   "name": "python3"
  },
  "language_info": {
   "codemirror_mode": {
    "name": "ipython",
    "version": 3
   },
   "file_extension": ".py",
   "mimetype": "text/x-python",
   "name": "python",
   "nbconvert_exporter": "python",
   "pygments_lexer": "ipython3",
   "version": "3.9.16"
  },
  "orig_nbformat": 4,
  "vscode": {
   "interpreter": {
    "hash": "ab3d85a18739f6fff6a9c8c504adc2ff9340867b576dede986e2ee74c099e4e5"
   }
  }
 },
 "nbformat": 4,
 "nbformat_minor": 2
}
