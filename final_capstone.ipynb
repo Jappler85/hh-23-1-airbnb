{
 "cells": [
  {
   "attachments": {},
   "cell_type": "markdown",
   "metadata": {},
   "source": [
    "# Airbnb Capstone Project"
   ]
  },
  {
   "attachments": {},
   "cell_type": "markdown",
   "metadata": {},
   "source": [
    "## 1.Import all Libraries"
   ]
  },
  {
   "cell_type": "code",
   "execution_count": 1,
   "metadata": {},
   "outputs": [],
   "source": [
    "### import all libraries and set settings \n",
    "import pandas as pd\n",
    "import numpy as np\n",
    "import geopandas as gpd\n",
    "import matplotlib.pyplot as plt\n",
    "import seaborn as sns\n",
    "\n",
    "import requests\n",
    "import json\n",
    "import gzip\n",
    "import pyproj\n",
    "import math\n",
    "\n",
    "from py_functions import increase_bbox \n",
    "from sklearn.neighbors import BallTree\n",
    "from scipy.spatial import cKDTree\n",
    "from shapely.geometry import Point\n",
    "from shapely.ops import transform\n",
    "from functools import partial\n",
    "\n",
    "pd.set_option('display.max_columns', None) # show all columns  "
   ]
  },
  {
   "attachments": {},
   "cell_type": "markdown",
   "metadata": {},
   "source": [
    "## 2.Inside Airbnb pipeline"
   ]
  },
  {
   "cell_type": "code",
   "execution_count": 2,
   "metadata": {},
   "outputs": [],
   "source": [
    "### Define path, .gz archive file name, country and city for url\n",
    "path ='data/'\n",
    "gz_file = \"listings.csv.gz\"\n",
    "country = \"united-kingdom\"\n",
    "state = \"england\"\n",
    "city = \"london\"\n",
    "url = f\"http://data.insideairbnb.com/{country}/{state}/{city}/2023-03-14/data/{gz_file}\""
   ]
  },
  {
   "cell_type": "code",
   "execution_count": 3,
   "metadata": {},
   "outputs": [
    {
     "name": "stdout",
     "output_type": "stream",
     "text": [
      "mkdir: data/london: File exists\n"
     ]
    }
   ],
   "source": [
    "### Create new directory for city\n",
    "!mkdir {path}{city}"
   ]
  },
  {
   "cell_type": "code",
   "execution_count": 4,
   "metadata": {},
   "outputs": [],
   "source": [
    "### Download the .gz file\n",
    "r = requests.get(url)\n",
    "with open(path+city+'/'+gz_file, 'wb') as f:\n",
    "    f.write(r.content)"
   ]
  },
  {
   "cell_type": "code",
   "execution_count": 5,
   "metadata": {},
   "outputs": [],
   "source": [
    "### Unzip the .gz file and save the content as pd.DataFrame via read_csv\n",
    "with gzip.open(path+city+'/'+gz_file) as f:\n",
    "    listings = pd.read_csv(f)\n"
   ]
  },
  {
   "cell_type": "code",
   "execution_count": 6,
   "metadata": {},
   "outputs": [],
   "source": [
    "### select only desired columns \n",
    "columns_keeper = ([\"id\",\n",
    "                   \"listing_url\",\n",
    "                   \"name\",\n",
    "                   \"picture_url\",\n",
    "                   \"host_id\",\n",
    "                   \"host_response_rate\",\n",
    "                   \"host_acceptance_rate\",\n",
    "                   \"host_is_superhost\",\n",
    "                   \"host_listings_count\",\n",
    "                   \"host_total_listings_count\",\n",
    "                   \"neighbourhood_cleansed\",\n",
    "                   \"latitude\",\n",
    "                   \"longitude\",\n",
    "                   \"room_type\",\n",
    "                   \"accommodates\",\n",
    "                   \"bathrooms_text\",\n",
    "                   \"bedrooms\",\n",
    "                   \"beds\",\n",
    "                   \"amenities\",\n",
    "                   \"price\",\n",
    "                   \"availability_90\",\n",
    "                   \"minimum_nights\",\n",
    "                   \"maximum_nights\",\n",
    "                   \"instant_bookable\",\n",
    "                   \"number_of_reviews\",\n",
    "                   \"number_of_reviews_ltm\",\n",
    "                   \"number_of_reviews_l30d\",\n",
    "                   \"first_review\",\n",
    "                   \"last_review\",\n",
    "                   \"review_scores_rating\",\n",
    "                   \"review_scores_accuracy\",\n",
    "                   \"review_scores_cleanliness\",\n",
    "                   \"review_scores_checkin\",\n",
    "                   \"review_scores_communication\",\n",
    "                   \"review_scores_location\",\n",
    "                   \"review_scores_value\",\n",
    "                   \"reviews_per_month\"]\n",
    "                  )"
   ]
  },
  {
   "cell_type": "code",
   "execution_count": 7,
   "metadata": {},
   "outputs": [],
   "source": [
    "### filter columns \n",
    "listings_short = listings[columns_keeper]"
   ]
  },
  {
   "attachments": {},
   "cell_type": "markdown",
   "metadata": {},
   "source": [
    "### 2.2.First Look - Airbnb Data"
   ]
  },
  {
   "cell_type": "code",
   "execution_count": 8,
   "metadata": {},
   "outputs": [
    {
     "data": {
      "text/html": [
       "<div>\n",
       "<style scoped>\n",
       "    .dataframe tbody tr th:only-of-type {\n",
       "        vertical-align: middle;\n",
       "    }\n",
       "\n",
       "    .dataframe tbody tr th {\n",
       "        vertical-align: top;\n",
       "    }\n",
       "\n",
       "    .dataframe thead th {\n",
       "        text-align: right;\n",
       "    }\n",
       "</style>\n",
       "<table border=\"1\" class=\"dataframe\">\n",
       "  <thead>\n",
       "    <tr style=\"text-align: right;\">\n",
       "      <th></th>\n",
       "      <th>id</th>\n",
       "      <th>listing_url</th>\n",
       "      <th>name</th>\n",
       "      <th>picture_url</th>\n",
       "      <th>host_id</th>\n",
       "      <th>host_response_rate</th>\n",
       "      <th>host_acceptance_rate</th>\n",
       "      <th>host_is_superhost</th>\n",
       "      <th>host_listings_count</th>\n",
       "      <th>host_total_listings_count</th>\n",
       "      <th>neighbourhood_cleansed</th>\n",
       "      <th>latitude</th>\n",
       "      <th>longitude</th>\n",
       "      <th>room_type</th>\n",
       "      <th>accommodates</th>\n",
       "      <th>bathrooms_text</th>\n",
       "      <th>bedrooms</th>\n",
       "      <th>beds</th>\n",
       "      <th>amenities</th>\n",
       "      <th>price</th>\n",
       "      <th>availability_90</th>\n",
       "      <th>minimum_nights</th>\n",
       "      <th>maximum_nights</th>\n",
       "      <th>instant_bookable</th>\n",
       "      <th>number_of_reviews</th>\n",
       "      <th>number_of_reviews_ltm</th>\n",
       "      <th>number_of_reviews_l30d</th>\n",
       "      <th>first_review</th>\n",
       "      <th>last_review</th>\n",
       "      <th>review_scores_rating</th>\n",
       "      <th>review_scores_accuracy</th>\n",
       "      <th>review_scores_cleanliness</th>\n",
       "      <th>review_scores_checkin</th>\n",
       "      <th>review_scores_communication</th>\n",
       "      <th>review_scores_location</th>\n",
       "      <th>review_scores_value</th>\n",
       "      <th>reviews_per_month</th>\n",
       "    </tr>\n",
       "  </thead>\n",
       "  <tbody>\n",
       "    <tr>\n",
       "      <th>0</th>\n",
       "      <td>714569379355913481</td>\n",
       "      <td>https://www.airbnb.com/rooms/714569379355913481</td>\n",
       "      <td>Lovely private bedroom in Muswell Hill.</td>\n",
       "      <td>https://a0.muscache.com/pictures/miso/Hosting-...</td>\n",
       "      <td>39009854</td>\n",
       "      <td>NaN</td>\n",
       "      <td>NaN</td>\n",
       "      <td>f</td>\n",
       "      <td>1.0</td>\n",
       "      <td>1.0</td>\n",
       "      <td>Haringey</td>\n",
       "      <td>51.597280</td>\n",
       "      <td>-0.139330</td>\n",
       "      <td>Private room</td>\n",
       "      <td>1</td>\n",
       "      <td>1 shared bath</td>\n",
       "      <td>1.0</td>\n",
       "      <td>1.0</td>\n",
       "      <td>[\"Iron\", \"Hangers\", \"Hair dryer\", \"Outdoor din...</td>\n",
       "      <td>$100.00</td>\n",
       "      <td>90</td>\n",
       "      <td>1</td>\n",
       "      <td>365</td>\n",
       "      <td>f</td>\n",
       "      <td>0</td>\n",
       "      <td>0</td>\n",
       "      <td>0</td>\n",
       "      <td>NaN</td>\n",
       "      <td>NaN</td>\n",
       "      <td>NaN</td>\n",
       "      <td>NaN</td>\n",
       "      <td>NaN</td>\n",
       "      <td>NaN</td>\n",
       "      <td>NaN</td>\n",
       "      <td>NaN</td>\n",
       "      <td>NaN</td>\n",
       "      <td>NaN</td>\n",
       "    </tr>\n",
       "    <tr>\n",
       "      <th>1</th>\n",
       "      <td>808038970516277767</td>\n",
       "      <td>https://www.airbnb.com/rooms/808038970516277767</td>\n",
       "      <td>Studio Flat  Franklin London</td>\n",
       "      <td>https://a0.muscache.com/pictures/miso/Hosting-...</td>\n",
       "      <td>495977998</td>\n",
       "      <td>100%</td>\n",
       "      <td>100%</td>\n",
       "      <td>f</td>\n",
       "      <td>14.0</td>\n",
       "      <td>31.0</td>\n",
       "      <td>Barnet</td>\n",
       "      <td>51.636518</td>\n",
       "      <td>-0.177475</td>\n",
       "      <td>Entire home/apt</td>\n",
       "      <td>1</td>\n",
       "      <td>1 bath</td>\n",
       "      <td>1.0</td>\n",
       "      <td>1.0</td>\n",
       "      <td>[]</td>\n",
       "      <td>$65.00</td>\n",
       "      <td>90</td>\n",
       "      <td>180</td>\n",
       "      <td>365</td>\n",
       "      <td>t</td>\n",
       "      <td>0</td>\n",
       "      <td>0</td>\n",
       "      <td>0</td>\n",
       "      <td>NaN</td>\n",
       "      <td>NaN</td>\n",
       "      <td>NaN</td>\n",
       "      <td>NaN</td>\n",
       "      <td>NaN</td>\n",
       "      <td>NaN</td>\n",
       "      <td>NaN</td>\n",
       "      <td>NaN</td>\n",
       "      <td>NaN</td>\n",
       "      <td>NaN</td>\n",
       "    </tr>\n",
       "    <tr>\n",
       "      <th>2</th>\n",
       "      <td>822557738577472503</td>\n",
       "      <td>https://www.airbnb.com/rooms/822557738577472503</td>\n",
       "      <td>PropertyPlug - 2Bed Flat in Edgware SmartTV WiFi</td>\n",
       "      <td>https://a0.muscache.com/pictures/d77957d5-695a...</td>\n",
       "      <td>325629338</td>\n",
       "      <td>100%</td>\n",
       "      <td>91%</td>\n",
       "      <td>t</td>\n",
       "      <td>4.0</td>\n",
       "      <td>8.0</td>\n",
       "      <td>Harrow</td>\n",
       "      <td>51.608180</td>\n",
       "      <td>-0.277400</td>\n",
       "      <td>Entire home/apt</td>\n",
       "      <td>4</td>\n",
       "      <td>2 baths</td>\n",
       "      <td>2.0</td>\n",
       "      <td>2.0</td>\n",
       "      <td>[\"Dining table\", \"Washer\", \"Outdoor furniture\"...</td>\n",
       "      <td>$132.00</td>\n",
       "      <td>35</td>\n",
       "      <td>2</td>\n",
       "      <td>28</td>\n",
       "      <td>t</td>\n",
       "      <td>0</td>\n",
       "      <td>0</td>\n",
       "      <td>0</td>\n",
       "      <td>NaN</td>\n",
       "      <td>NaN</td>\n",
       "      <td>NaN</td>\n",
       "      <td>NaN</td>\n",
       "      <td>NaN</td>\n",
       "      <td>NaN</td>\n",
       "      <td>NaN</td>\n",
       "      <td>NaN</td>\n",
       "      <td>NaN</td>\n",
       "      <td>NaN</td>\n",
       "    </tr>\n",
       "    <tr>\n",
       "      <th>3</th>\n",
       "      <td>3518856</td>\n",
       "      <td>https://www.airbnb.com/rooms/3518856</td>\n",
       "      <td>Wimbledon Double Bedroom Ensuite</td>\n",
       "      <td>https://a0.muscache.com/pictures/23a18442-fc1d...</td>\n",
       "      <td>187811</td>\n",
       "      <td>NaN</td>\n",
       "      <td>100%</td>\n",
       "      <td>f</td>\n",
       "      <td>2.0</td>\n",
       "      <td>5.0</td>\n",
       "      <td>Merton</td>\n",
       "      <td>51.422310</td>\n",
       "      <td>-0.188410</td>\n",
       "      <td>Private room</td>\n",
       "      <td>1</td>\n",
       "      <td>1 private bath</td>\n",
       "      <td>1.0</td>\n",
       "      <td>1.0</td>\n",
       "      <td>[\"Washer\", \"Iron\", \"Hangers\", \"Kitchen\", \"Smok...</td>\n",
       "      <td>$100.00</td>\n",
       "      <td>90</td>\n",
       "      <td>5</td>\n",
       "      <td>1125</td>\n",
       "      <td>f</td>\n",
       "      <td>4</td>\n",
       "      <td>0</td>\n",
       "      <td>0</td>\n",
       "      <td>2015-12-27</td>\n",
       "      <td>2016-07-11</td>\n",
       "      <td>3.67</td>\n",
       "      <td>3.0</td>\n",
       "      <td>4.33</td>\n",
       "      <td>4.67</td>\n",
       "      <td>5.0</td>\n",
       "      <td>3.67</td>\n",
       "      <td>3.67</td>\n",
       "      <td>0.05</td>\n",
       "    </tr>\n",
       "    <tr>\n",
       "      <th>4</th>\n",
       "      <td>4876550</td>\n",
       "      <td>https://www.airbnb.com/rooms/4876550</td>\n",
       "      <td>Stunning Apartment 2 minutes walk to Tube Station</td>\n",
       "      <td>https://a0.muscache.com/pictures/miso/Hosting-...</td>\n",
       "      <td>25087384</td>\n",
       "      <td>75%</td>\n",
       "      <td>46%</td>\n",
       "      <td>f</td>\n",
       "      <td>1.0</td>\n",
       "      <td>1.0</td>\n",
       "      <td>Barnet</td>\n",
       "      <td>51.602282</td>\n",
       "      <td>-0.193606</td>\n",
       "      <td>Entire home/apt</td>\n",
       "      <td>2</td>\n",
       "      <td>1 bath</td>\n",
       "      <td>1.0</td>\n",
       "      <td>1.0</td>\n",
       "      <td>[\"First aid kit\", \"Washer\", \"Fire extinguisher...</td>\n",
       "      <td>$120.00</td>\n",
       "      <td>83</td>\n",
       "      <td>5</td>\n",
       "      <td>90</td>\n",
       "      <td>f</td>\n",
       "      <td>0</td>\n",
       "      <td>0</td>\n",
       "      <td>0</td>\n",
       "      <td>NaN</td>\n",
       "      <td>NaN</td>\n",
       "      <td>NaN</td>\n",
       "      <td>NaN</td>\n",
       "      <td>NaN</td>\n",
       "      <td>NaN</td>\n",
       "      <td>NaN</td>\n",
       "      <td>NaN</td>\n",
       "      <td>NaN</td>\n",
       "      <td>NaN</td>\n",
       "    </tr>\n",
       "  </tbody>\n",
       "</table>\n",
       "</div>"
      ],
      "text/plain": [
       "                   id                                      listing_url  \\\n",
       "0  714569379355913481  https://www.airbnb.com/rooms/714569379355913481   \n",
       "1  808038970516277767  https://www.airbnb.com/rooms/808038970516277767   \n",
       "2  822557738577472503  https://www.airbnb.com/rooms/822557738577472503   \n",
       "3             3518856             https://www.airbnb.com/rooms/3518856   \n",
       "4             4876550             https://www.airbnb.com/rooms/4876550   \n",
       "\n",
       "                                                name  \\\n",
       "0            Lovely private bedroom in Muswell Hill.   \n",
       "1                       Studio Flat  Franklin London   \n",
       "2   PropertyPlug - 2Bed Flat in Edgware SmartTV WiFi   \n",
       "3                   Wimbledon Double Bedroom Ensuite   \n",
       "4  Stunning Apartment 2 minutes walk to Tube Station   \n",
       "\n",
       "                                         picture_url    host_id  \\\n",
       "0  https://a0.muscache.com/pictures/miso/Hosting-...   39009854   \n",
       "1  https://a0.muscache.com/pictures/miso/Hosting-...  495977998   \n",
       "2  https://a0.muscache.com/pictures/d77957d5-695a...  325629338   \n",
       "3  https://a0.muscache.com/pictures/23a18442-fc1d...     187811   \n",
       "4  https://a0.muscache.com/pictures/miso/Hosting-...   25087384   \n",
       "\n",
       "  host_response_rate host_acceptance_rate host_is_superhost  \\\n",
       "0                NaN                  NaN                 f   \n",
       "1               100%                 100%                 f   \n",
       "2               100%                  91%                 t   \n",
       "3                NaN                 100%                 f   \n",
       "4                75%                  46%                 f   \n",
       "\n",
       "   host_listings_count  host_total_listings_count neighbourhood_cleansed  \\\n",
       "0                  1.0                        1.0               Haringey   \n",
       "1                 14.0                       31.0                 Barnet   \n",
       "2                  4.0                        8.0                 Harrow   \n",
       "3                  2.0                        5.0                 Merton   \n",
       "4                  1.0                        1.0                 Barnet   \n",
       "\n",
       "    latitude  longitude        room_type  accommodates  bathrooms_text  \\\n",
       "0  51.597280  -0.139330     Private room             1   1 shared bath   \n",
       "1  51.636518  -0.177475  Entire home/apt             1          1 bath   \n",
       "2  51.608180  -0.277400  Entire home/apt             4         2 baths   \n",
       "3  51.422310  -0.188410     Private room             1  1 private bath   \n",
       "4  51.602282  -0.193606  Entire home/apt             2          1 bath   \n",
       "\n",
       "   bedrooms  beds                                          amenities    price  \\\n",
       "0       1.0   1.0  [\"Iron\", \"Hangers\", \"Hair dryer\", \"Outdoor din...  $100.00   \n",
       "1       1.0   1.0                                                 []   $65.00   \n",
       "2       2.0   2.0  [\"Dining table\", \"Washer\", \"Outdoor furniture\"...  $132.00   \n",
       "3       1.0   1.0  [\"Washer\", \"Iron\", \"Hangers\", \"Kitchen\", \"Smok...  $100.00   \n",
       "4       1.0   1.0  [\"First aid kit\", \"Washer\", \"Fire extinguisher...  $120.00   \n",
       "\n",
       "   availability_90  minimum_nights  maximum_nights instant_bookable  \\\n",
       "0               90               1             365                f   \n",
       "1               90             180             365                t   \n",
       "2               35               2              28                t   \n",
       "3               90               5            1125                f   \n",
       "4               83               5              90                f   \n",
       "\n",
       "   number_of_reviews  number_of_reviews_ltm  number_of_reviews_l30d  \\\n",
       "0                  0                      0                       0   \n",
       "1                  0                      0                       0   \n",
       "2                  0                      0                       0   \n",
       "3                  4                      0                       0   \n",
       "4                  0                      0                       0   \n",
       "\n",
       "  first_review last_review  review_scores_rating  review_scores_accuracy  \\\n",
       "0          NaN         NaN                   NaN                     NaN   \n",
       "1          NaN         NaN                   NaN                     NaN   \n",
       "2          NaN         NaN                   NaN                     NaN   \n",
       "3   2015-12-27  2016-07-11                  3.67                     3.0   \n",
       "4          NaN         NaN                   NaN                     NaN   \n",
       "\n",
       "   review_scores_cleanliness  review_scores_checkin  \\\n",
       "0                        NaN                    NaN   \n",
       "1                        NaN                    NaN   \n",
       "2                        NaN                    NaN   \n",
       "3                       4.33                   4.67   \n",
       "4                        NaN                    NaN   \n",
       "\n",
       "   review_scores_communication  review_scores_location  review_scores_value  \\\n",
       "0                          NaN                     NaN                  NaN   \n",
       "1                          NaN                     NaN                  NaN   \n",
       "2                          NaN                     NaN                  NaN   \n",
       "3                          5.0                    3.67                 3.67   \n",
       "4                          NaN                     NaN                  NaN   \n",
       "\n",
       "   reviews_per_month  \n",
       "0                NaN  \n",
       "1                NaN  \n",
       "2                NaN  \n",
       "3               0.05  \n",
       "4                NaN  "
      ]
     },
     "execution_count": 8,
     "metadata": {},
     "output_type": "execute_result"
    }
   ],
   "source": [
    "listings_short.head()"
   ]
  },
  {
   "cell_type": "code",
   "execution_count": 9,
   "metadata": {},
   "outputs": [
    {
     "name": "stdout",
     "output_type": "stream",
     "text": [
      "<class 'pandas.core.frame.DataFrame'>\n",
      "RangeIndex: 75241 entries, 0 to 75240\n",
      "Data columns (total 37 columns):\n",
      " #   Column                       Non-Null Count  Dtype  \n",
      "---  ------                       --------------  -----  \n",
      " 0   id                           75241 non-null  int64  \n",
      " 1   listing_url                  75241 non-null  object \n",
      " 2   name                         75210 non-null  object \n",
      " 3   picture_url                  75241 non-null  object \n",
      " 4   host_id                      75241 non-null  int64  \n",
      " 5   host_response_rate           46285 non-null  object \n",
      " 6   host_acceptance_rate         51028 non-null  object \n",
      " 7   host_is_superhost            75223 non-null  object \n",
      " 8   host_listings_count          75236 non-null  float64\n",
      " 9   host_total_listings_count    75236 non-null  float64\n",
      " 10  neighbourhood_cleansed       75241 non-null  object \n",
      " 11  latitude                     75241 non-null  float64\n",
      " 12  longitude                    75241 non-null  float64\n",
      " 13  room_type                    75241 non-null  object \n",
      " 14  accommodates                 75241 non-null  int64  \n",
      " 15  bathrooms_text               75117 non-null  object \n",
      " 16  bedrooms                     71768 non-null  float64\n",
      " 17  beds                         74135 non-null  float64\n",
      " 18  amenities                    75241 non-null  object \n",
      " 19  price                        75241 non-null  object \n",
      " 20  availability_90              75241 non-null  int64  \n",
      " 21  minimum_nights               75241 non-null  int64  \n",
      " 22  maximum_nights               75241 non-null  int64  \n",
      " 23  instant_bookable             75241 non-null  object \n",
      " 24  number_of_reviews            75241 non-null  int64  \n",
      " 25  number_of_reviews_ltm        75241 non-null  int64  \n",
      " 26  number_of_reviews_l30d       75241 non-null  int64  \n",
      " 27  first_review                 56548 non-null  object \n",
      " 28  last_review                  56548 non-null  object \n",
      " 29  review_scores_rating         56548 non-null  float64\n",
      " 30  review_scores_accuracy       55595 non-null  float64\n",
      " 31  review_scores_cleanliness    55606 non-null  float64\n",
      " 32  review_scores_checkin        55564 non-null  float64\n",
      " 33  review_scores_communication  55592 non-null  float64\n",
      " 34  review_scores_location       55565 non-null  float64\n",
      " 35  review_scores_value          55562 non-null  float64\n",
      " 36  reviews_per_month            56548 non-null  float64\n",
      "dtypes: float64(14), int64(9), object(14)\n",
      "memory usage: 21.2+ MB\n"
     ]
    }
   ],
   "source": [
    "listings_short.info()"
   ]
  },
  {
   "cell_type": "code",
   "execution_count": 10,
   "metadata": {},
   "outputs": [
    {
     "data": {
      "text/html": [
       "<div>\n",
       "<style scoped>\n",
       "    .dataframe tbody tr th:only-of-type {\n",
       "        vertical-align: middle;\n",
       "    }\n",
       "\n",
       "    .dataframe tbody tr th {\n",
       "        vertical-align: top;\n",
       "    }\n",
       "\n",
       "    .dataframe thead th {\n",
       "        text-align: right;\n",
       "    }\n",
       "</style>\n",
       "<table border=\"1\" class=\"dataframe\">\n",
       "  <thead>\n",
       "    <tr style=\"text-align: right;\">\n",
       "      <th></th>\n",
       "      <th>id</th>\n",
       "      <th>host_id</th>\n",
       "      <th>host_listings_count</th>\n",
       "      <th>host_total_listings_count</th>\n",
       "      <th>latitude</th>\n",
       "      <th>longitude</th>\n",
       "      <th>accommodates</th>\n",
       "      <th>bedrooms</th>\n",
       "      <th>beds</th>\n",
       "      <th>availability_90</th>\n",
       "      <th>minimum_nights</th>\n",
       "      <th>maximum_nights</th>\n",
       "      <th>number_of_reviews</th>\n",
       "      <th>number_of_reviews_ltm</th>\n",
       "      <th>number_of_reviews_l30d</th>\n",
       "      <th>review_scores_rating</th>\n",
       "      <th>review_scores_accuracy</th>\n",
       "      <th>review_scores_cleanliness</th>\n",
       "      <th>review_scores_checkin</th>\n",
       "      <th>review_scores_communication</th>\n",
       "      <th>review_scores_location</th>\n",
       "      <th>review_scores_value</th>\n",
       "      <th>reviews_per_month</th>\n",
       "    </tr>\n",
       "  </thead>\n",
       "  <tbody>\n",
       "    <tr>\n",
       "      <th>count</th>\n",
       "      <td>7.524100e+04</td>\n",
       "      <td>7.524100e+04</td>\n",
       "      <td>75236.000000</td>\n",
       "      <td>75236.000000</td>\n",
       "      <td>75241.000000</td>\n",
       "      <td>75241.000000</td>\n",
       "      <td>75241.000000</td>\n",
       "      <td>71768.000000</td>\n",
       "      <td>74135.000000</td>\n",
       "      <td>75241.000000</td>\n",
       "      <td>75241.000000</td>\n",
       "      <td>7.524100e+04</td>\n",
       "      <td>75241.000000</td>\n",
       "      <td>75241.000000</td>\n",
       "      <td>75241.000000</td>\n",
       "      <td>56548.000000</td>\n",
       "      <td>55595.000000</td>\n",
       "      <td>55606.000000</td>\n",
       "      <td>55564.000000</td>\n",
       "      <td>55592.000000</td>\n",
       "      <td>55565.000000</td>\n",
       "      <td>55562.000000</td>\n",
       "      <td>56548.000000</td>\n",
       "    </tr>\n",
       "    <tr>\n",
       "      <th>mean</th>\n",
       "      <td>2.368628e+17</td>\n",
       "      <td>1.390765e+08</td>\n",
       "      <td>39.525958</td>\n",
       "      <td>71.379100</td>\n",
       "      <td>51.509708</td>\n",
       "      <td>-0.128108</td>\n",
       "      <td>3.105793</td>\n",
       "      <td>1.513153</td>\n",
       "      <td>1.772833</td>\n",
       "      <td>27.229409</td>\n",
       "      <td>5.750748</td>\n",
       "      <td>7.790300e+03</td>\n",
       "      <td>17.974668</td>\n",
       "      <td>5.736301</td>\n",
       "      <td>0.456467</td>\n",
       "      <td>4.588159</td>\n",
       "      <td>4.723349</td>\n",
       "      <td>4.623915</td>\n",
       "      <td>4.783393</td>\n",
       "      <td>4.801027</td>\n",
       "      <td>4.729358</td>\n",
       "      <td>4.607755</td>\n",
       "      <td>0.877064</td>\n",
       "    </tr>\n",
       "    <tr>\n",
       "      <th>std</th>\n",
       "      <td>3.425911e+17</td>\n",
       "      <td>1.529621e+08</td>\n",
       "      <td>222.170789</td>\n",
       "      <td>420.039233</td>\n",
       "      <td>0.048369</td>\n",
       "      <td>0.099341</td>\n",
       "      <td>1.936972</td>\n",
       "      <td>0.885015</td>\n",
       "      <td>1.228013</td>\n",
       "      <td>32.742591</td>\n",
       "      <td>24.240947</td>\n",
       "      <td>1.914055e+06</td>\n",
       "      <td>41.984021</td>\n",
       "      <td>12.991805</td>\n",
       "      <td>1.277612</td>\n",
       "      <td>0.779083</td>\n",
       "      <td>0.489328</td>\n",
       "      <td>0.550721</td>\n",
       "      <td>0.453835</td>\n",
       "      <td>0.448759</td>\n",
       "      <td>0.418873</td>\n",
       "      <td>0.521839</td>\n",
       "      <td>1.234003</td>\n",
       "    </tr>\n",
       "    <tr>\n",
       "      <th>min</th>\n",
       "      <td>1.391300e+04</td>\n",
       "      <td>2.594000e+03</td>\n",
       "      <td>1.000000</td>\n",
       "      <td>1.000000</td>\n",
       "      <td>51.295937</td>\n",
       "      <td>-0.497800</td>\n",
       "      <td>0.000000</td>\n",
       "      <td>1.000000</td>\n",
       "      <td>1.000000</td>\n",
       "      <td>0.000000</td>\n",
       "      <td>1.000000</td>\n",
       "      <td>1.000000e+00</td>\n",
       "      <td>0.000000</td>\n",
       "      <td>0.000000</td>\n",
       "      <td>0.000000</td>\n",
       "      <td>0.000000</td>\n",
       "      <td>0.000000</td>\n",
       "      <td>0.000000</td>\n",
       "      <td>0.000000</td>\n",
       "      <td>0.000000</td>\n",
       "      <td>0.000000</td>\n",
       "      <td>0.000000</td>\n",
       "      <td>0.010000</td>\n",
       "    </tr>\n",
       "    <tr>\n",
       "      <th>25%</th>\n",
       "      <td>1.981740e+07</td>\n",
       "      <td>1.995923e+07</td>\n",
       "      <td>1.000000</td>\n",
       "      <td>1.000000</td>\n",
       "      <td>51.483540</td>\n",
       "      <td>-0.189390</td>\n",
       "      <td>2.000000</td>\n",
       "      <td>1.000000</td>\n",
       "      <td>1.000000</td>\n",
       "      <td>0.000000</td>\n",
       "      <td>1.000000</td>\n",
       "      <td>4.200000e+01</td>\n",
       "      <td>1.000000</td>\n",
       "      <td>0.000000</td>\n",
       "      <td>0.000000</td>\n",
       "      <td>4.500000</td>\n",
       "      <td>4.670000</td>\n",
       "      <td>4.500000</td>\n",
       "      <td>4.750000</td>\n",
       "      <td>4.790000</td>\n",
       "      <td>4.640000</td>\n",
       "      <td>4.500000</td>\n",
       "      <td>0.130000</td>\n",
       "    </tr>\n",
       "    <tr>\n",
       "      <th>50%</th>\n",
       "      <td>3.933875e+07</td>\n",
       "      <td>6.745519e+07</td>\n",
       "      <td>2.000000</td>\n",
       "      <td>2.000000</td>\n",
       "      <td>51.513840</td>\n",
       "      <td>-0.126280</td>\n",
       "      <td>2.000000</td>\n",
       "      <td>1.000000</td>\n",
       "      <td>1.000000</td>\n",
       "      <td>9.000000</td>\n",
       "      <td>2.000000</td>\n",
       "      <td>3.650000e+02</td>\n",
       "      <td>4.000000</td>\n",
       "      <td>0.000000</td>\n",
       "      <td>0.000000</td>\n",
       "      <td>4.820000</td>\n",
       "      <td>4.890000</td>\n",
       "      <td>4.800000</td>\n",
       "      <td>4.940000</td>\n",
       "      <td>4.970000</td>\n",
       "      <td>4.850000</td>\n",
       "      <td>4.750000</td>\n",
       "      <td>0.450000</td>\n",
       "    </tr>\n",
       "    <tr>\n",
       "      <th>75%</th>\n",
       "      <td>6.562985e+17</td>\n",
       "      <td>2.248670e+08</td>\n",
       "      <td>5.000000</td>\n",
       "      <td>8.000000</td>\n",
       "      <td>51.539450</td>\n",
       "      <td>-0.068460</td>\n",
       "      <td>4.000000</td>\n",
       "      <td>2.000000</td>\n",
       "      <td>2.000000</td>\n",
       "      <td>55.000000</td>\n",
       "      <td>4.000000</td>\n",
       "      <td>1.125000e+03</td>\n",
       "      <td>17.000000</td>\n",
       "      <td>6.000000</td>\n",
       "      <td>0.000000</td>\n",
       "      <td>5.000000</td>\n",
       "      <td>5.000000</td>\n",
       "      <td>5.000000</td>\n",
       "      <td>5.000000</td>\n",
       "      <td>5.000000</td>\n",
       "      <td>5.000000</td>\n",
       "      <td>4.970000</td>\n",
       "      <td>1.090000</td>\n",
       "    </tr>\n",
       "    <tr>\n",
       "      <th>max</th>\n",
       "      <td>8.463271e+17</td>\n",
       "      <td>5.050400e+08</td>\n",
       "      <td>2138.000000</td>\n",
       "      <td>24047.000000</td>\n",
       "      <td>51.681142</td>\n",
       "      <td>0.288570</td>\n",
       "      <td>16.000000</td>\n",
       "      <td>22.000000</td>\n",
       "      <td>38.000000</td>\n",
       "      <td>90.000000</td>\n",
       "      <td>1125.000000</td>\n",
       "      <td>5.248556e+08</td>\n",
       "      <td>1328.000000</td>\n",
       "      <td>564.000000</td>\n",
       "      <td>68.000000</td>\n",
       "      <td>5.000000</td>\n",
       "      <td>5.000000</td>\n",
       "      <td>5.000000</td>\n",
       "      <td>5.000000</td>\n",
       "      <td>5.000000</td>\n",
       "      <td>5.000000</td>\n",
       "      <td>5.000000</td>\n",
       "      <td>51.050000</td>\n",
       "    </tr>\n",
       "  </tbody>\n",
       "</table>\n",
       "</div>"
      ],
      "text/plain": [
       "                 id       host_id  host_listings_count  \\\n",
       "count  7.524100e+04  7.524100e+04         75236.000000   \n",
       "mean   2.368628e+17  1.390765e+08            39.525958   \n",
       "std    3.425911e+17  1.529621e+08           222.170789   \n",
       "min    1.391300e+04  2.594000e+03             1.000000   \n",
       "25%    1.981740e+07  1.995923e+07             1.000000   \n",
       "50%    3.933875e+07  6.745519e+07             2.000000   \n",
       "75%    6.562985e+17  2.248670e+08             5.000000   \n",
       "max    8.463271e+17  5.050400e+08          2138.000000   \n",
       "\n",
       "       host_total_listings_count      latitude     longitude  accommodates  \\\n",
       "count               75236.000000  75241.000000  75241.000000  75241.000000   \n",
       "mean                   71.379100     51.509708     -0.128108      3.105793   \n",
       "std                   420.039233      0.048369      0.099341      1.936972   \n",
       "min                     1.000000     51.295937     -0.497800      0.000000   \n",
       "25%                     1.000000     51.483540     -0.189390      2.000000   \n",
       "50%                     2.000000     51.513840     -0.126280      2.000000   \n",
       "75%                     8.000000     51.539450     -0.068460      4.000000   \n",
       "max                 24047.000000     51.681142      0.288570     16.000000   \n",
       "\n",
       "           bedrooms          beds  availability_90  minimum_nights  \\\n",
       "count  71768.000000  74135.000000     75241.000000    75241.000000   \n",
       "mean       1.513153      1.772833        27.229409        5.750748   \n",
       "std        0.885015      1.228013        32.742591       24.240947   \n",
       "min        1.000000      1.000000         0.000000        1.000000   \n",
       "25%        1.000000      1.000000         0.000000        1.000000   \n",
       "50%        1.000000      1.000000         9.000000        2.000000   \n",
       "75%        2.000000      2.000000        55.000000        4.000000   \n",
       "max       22.000000     38.000000        90.000000     1125.000000   \n",
       "\n",
       "       maximum_nights  number_of_reviews  number_of_reviews_ltm  \\\n",
       "count    7.524100e+04       75241.000000           75241.000000   \n",
       "mean     7.790300e+03          17.974668               5.736301   \n",
       "std      1.914055e+06          41.984021              12.991805   \n",
       "min      1.000000e+00           0.000000               0.000000   \n",
       "25%      4.200000e+01           1.000000               0.000000   \n",
       "50%      3.650000e+02           4.000000               0.000000   \n",
       "75%      1.125000e+03          17.000000               6.000000   \n",
       "max      5.248556e+08        1328.000000             564.000000   \n",
       "\n",
       "       number_of_reviews_l30d  review_scores_rating  review_scores_accuracy  \\\n",
       "count            75241.000000          56548.000000            55595.000000   \n",
       "mean                 0.456467              4.588159                4.723349   \n",
       "std                  1.277612              0.779083                0.489328   \n",
       "min                  0.000000              0.000000                0.000000   \n",
       "25%                  0.000000              4.500000                4.670000   \n",
       "50%                  0.000000              4.820000                4.890000   \n",
       "75%                  0.000000              5.000000                5.000000   \n",
       "max                 68.000000              5.000000                5.000000   \n",
       "\n",
       "       review_scores_cleanliness  review_scores_checkin  \\\n",
       "count               55606.000000           55564.000000   \n",
       "mean                    4.623915               4.783393   \n",
       "std                     0.550721               0.453835   \n",
       "min                     0.000000               0.000000   \n",
       "25%                     4.500000               4.750000   \n",
       "50%                     4.800000               4.940000   \n",
       "75%                     5.000000               5.000000   \n",
       "max                     5.000000               5.000000   \n",
       "\n",
       "       review_scores_communication  review_scores_location  \\\n",
       "count                 55592.000000            55565.000000   \n",
       "mean                      4.801027                4.729358   \n",
       "std                       0.448759                0.418873   \n",
       "min                       0.000000                0.000000   \n",
       "25%                       4.790000                4.640000   \n",
       "50%                       4.970000                4.850000   \n",
       "75%                       5.000000                5.000000   \n",
       "max                       5.000000                5.000000   \n",
       "\n",
       "       review_scores_value  reviews_per_month  \n",
       "count         55562.000000       56548.000000  \n",
       "mean              4.607755           0.877064  \n",
       "std               0.521839           1.234003  \n",
       "min               0.000000           0.010000  \n",
       "25%               4.500000           0.130000  \n",
       "50%               4.750000           0.450000  \n",
       "75%               4.970000           1.090000  \n",
       "max               5.000000          51.050000  "
      ]
     },
     "execution_count": 10,
     "metadata": {},
     "output_type": "execute_result"
    }
   ],
   "source": [
    "listings_short.describe()"
   ]
  },
  {
   "attachments": {},
   "cell_type": "markdown",
   "metadata": {},
   "source": [
    "## 2.3. Clean Airbnb "
   ]
  },
  {
   "attachments": {},
   "cell_type": "markdown",
   "metadata": {},
   "source": [
    "### 2.3.1. Handling Missing Data "
   ]
  },
  {
   "cell_type": "code",
   "execution_count": 11,
   "metadata": {},
   "outputs": [
    {
     "data": {
      "text/plain": [
       "(75241, 37)"
      ]
     },
     "execution_count": 11,
     "metadata": {},
     "output_type": "execute_result"
    }
   ],
   "source": [
    "listings_short.shape"
   ]
  },
  {
   "cell_type": "code",
   "execution_count": 12,
   "metadata": {},
   "outputs": [
    {
     "data": {
      "text/plain": [
       "id                                 0\n",
       "listing_url                        0\n",
       "name                              31\n",
       "picture_url                        0\n",
       "host_id                            0\n",
       "host_response_rate             28956\n",
       "host_acceptance_rate           24213\n",
       "host_is_superhost                 18\n",
       "host_listings_count                5\n",
       "host_total_listings_count          5\n",
       "neighbourhood_cleansed             0\n",
       "latitude                           0\n",
       "longitude                          0\n",
       "room_type                          0\n",
       "accommodates                       0\n",
       "bathrooms_text                   124\n",
       "bedrooms                        3473\n",
       "beds                            1106\n",
       "amenities                          0\n",
       "price                              0\n",
       "availability_90                    0\n",
       "minimum_nights                     0\n",
       "maximum_nights                     0\n",
       "instant_bookable                   0\n",
       "number_of_reviews                  0\n",
       "number_of_reviews_ltm              0\n",
       "number_of_reviews_l30d             0\n",
       "first_review                   18693\n",
       "last_review                    18693\n",
       "review_scores_rating           18693\n",
       "review_scores_accuracy         19646\n",
       "review_scores_cleanliness      19635\n",
       "review_scores_checkin          19677\n",
       "review_scores_communication    19649\n",
       "review_scores_location         19676\n",
       "review_scores_value            19679\n",
       "reviews_per_month              18693\n",
       "dtype: int64"
      ]
     },
     "execution_count": 12,
     "metadata": {},
     "output_type": "execute_result"
    }
   ],
   "source": [
    "listings_short.isnull().sum()"
   ]
  },
  {
   "attachments": {},
   "cell_type": "markdown",
   "metadata": {},
   "source": [
    "**host_is_superhost**"
   ]
  },
  {
   "cell_type": "code",
   "execution_count": 13,
   "metadata": {},
   "outputs": [
    {
     "data": {
      "text/plain": [
       "f      64574\n",
       "t      10649\n",
       "NaN       18\n",
       "Name: host_is_superhost, dtype: int64"
      ]
     },
     "execution_count": 13,
     "metadata": {},
     "output_type": "execute_result"
    }
   ],
   "source": [
    "# check the different values of \"host_is_superhost\"\n",
    "listings_short[\"host_is_superhost\"].value_counts(dropna=False)"
   ]
  },
  {
   "cell_type": "code",
   "execution_count": 14,
   "metadata": {},
   "outputs": [
    {
     "data": {
      "text/plain": [
       "5.0     4\n",
       "2.0     3\n",
       "6.0     2\n",
       "10.0    2\n",
       "7.0     2\n",
       "4.0     2\n",
       "26.0    2\n",
       "1.0     1\n",
       "Name: host_total_listings_count, dtype: int64"
      ]
     },
     "execution_count": 14,
     "metadata": {},
     "output_type": "execute_result"
    }
   ],
   "source": [
    "# check how many listings the hosts with nan value for \"host_is_superhost\" have: \n",
    "listings_short[listings_short['host_is_superhost'].isna()][\"host_total_listings_count\"].value_counts()"
   ]
  },
  {
   "cell_type": "code",
   "execution_count": 15,
   "metadata": {},
   "outputs": [
    {
     "name": "stderr",
     "output_type": "stream",
     "text": [
      "/var/folders/7p/5hb3bs814mz8v_v78023f0sh0000gn/T/ipykernel_937/3651527053.py:2: SettingWithCopyWarning: \n",
      "A value is trying to be set on a copy of a slice from a DataFrame.\n",
      "Try using .loc[row_indexer,col_indexer] = value instead\n",
      "\n",
      "See the caveats in the documentation: https://pandas.pydata.org/pandas-docs/stable/user_guide/indexing.html#returning-a-view-versus-a-copy\n",
      "  listings_short[\"host_is_superhost\"] = listings_short[\"host_is_superhost\"].fillna(\"f\")\n"
     ]
    }
   ],
   "source": [
    "# we can fill values with \"f\" for false \n",
    "listings_short[\"host_is_superhost\"] = listings_short[\"host_is_superhost\"].fillna(\"f\")"
   ]
  },
  {
   "cell_type": "code",
   "execution_count": 16,
   "metadata": {},
   "outputs": [
    {
     "name": "stderr",
     "output_type": "stream",
     "text": [
      "/var/folders/7p/5hb3bs814mz8v_v78023f0sh0000gn/T/ipykernel_937/3052865995.py:2: SettingWithCopyWarning: \n",
      "A value is trying to be set on a copy of a slice from a DataFrame.\n",
      "Try using .loc[row_indexer,col_indexer] = value instead\n",
      "\n",
      "See the caveats in the documentation: https://pandas.pydata.org/pandas-docs/stable/user_guide/indexing.html#returning-a-view-versus-a-copy\n",
      "  listings_short[[\"name\", \"host_response_rate\",\n"
     ]
    }
   ],
   "source": [
    "# renaming Rows with NaN to \"Unknown\"\n",
    "listings_short[[\"name\", \"host_response_rate\",\n",
    "                \"host_acceptance_rate\"]] = listings_short[[\"name\", \"host_response_rate\",\n",
    "                                                           \"host_acceptance_rate\"]].fillna(\"Unknown\")\n"
   ]
  },
  {
   "attachments": {},
   "cell_type": "markdown",
   "metadata": {},
   "source": [
    "**host_listings_count & host_total_listings_count**"
   ]
  },
  {
   "cell_type": "code",
   "execution_count": 17,
   "metadata": {},
   "outputs": [
    {
     "name": "stderr",
     "output_type": "stream",
     "text": [
      "/var/folders/7p/5hb3bs814mz8v_v78023f0sh0000gn/T/ipykernel_937/859434433.py:2: SettingWithCopyWarning: \n",
      "A value is trying to be set on a copy of a slice from a DataFrame\n",
      "\n",
      "See the caveats in the documentation: https://pandas.pydata.org/pandas-docs/stable/user_guide/indexing.html#returning-a-view-versus-a-copy\n",
      "  listings_short[\"host_listings_count\"].fillna(listings_short[\"host_listings_count\"].mode()[0], inplace=True)\n",
      "/var/folders/7p/5hb3bs814mz8v_v78023f0sh0000gn/T/ipykernel_937/859434433.py:4: SettingWithCopyWarning: \n",
      "A value is trying to be set on a copy of a slice from a DataFrame\n",
      "\n",
      "See the caveats in the documentation: https://pandas.pydata.org/pandas-docs/stable/user_guide/indexing.html#returning-a-view-versus-a-copy\n",
      "  listings_short[\"host_total_listings_count\"].fillna(listings_short[\"host_total_listings_count\"].mode()[0], inplace=True)\n"
     ]
    }
   ],
   "source": [
    "# set the mode for host_listings_count & host_total_listings_count\n",
    "listings_short[\"host_listings_count\"].fillna(listings_short[\"host_listings_count\"].mode()[0], inplace=True)\n",
    "\n",
    "listings_short[\"host_total_listings_count\"].fillna(listings_short[\"host_total_listings_count\"].mode()[0], inplace=True)"
   ]
  },
  {
   "attachments": {},
   "cell_type": "markdown",
   "metadata": {},
   "source": [
    "**bedrooms , beds & bathrooms_text**"
   ]
  },
  {
   "cell_type": "code",
   "execution_count": 18,
   "metadata": {},
   "outputs": [
    {
     "name": "stderr",
     "output_type": "stream",
     "text": [
      "/var/folders/7p/5hb3bs814mz8v_v78023f0sh0000gn/T/ipykernel_937/1250815054.py:2: SettingWithCopyWarning: \n",
      "A value is trying to be set on a copy of a slice from a DataFrame\n",
      "\n",
      "See the caveats in the documentation: https://pandas.pydata.org/pandas-docs/stable/user_guide/indexing.html#returning-a-view-versus-a-copy\n",
      "  listings_short[\"bathrooms_text\"].fillna(listings_short[\"bathrooms_text\"].mode()[0], inplace=True)\n",
      "/var/folders/7p/5hb3bs814mz8v_v78023f0sh0000gn/T/ipykernel_937/1250815054.py:4: SettingWithCopyWarning: \n",
      "A value is trying to be set on a copy of a slice from a DataFrame\n",
      "\n",
      "See the caveats in the documentation: https://pandas.pydata.org/pandas-docs/stable/user_guide/indexing.html#returning-a-view-versus-a-copy\n",
      "  listings_short[\"bedrooms\"].fillna(listings_short[\"bedrooms\"].mode()[0], inplace=True)\n",
      "/var/folders/7p/5hb3bs814mz8v_v78023f0sh0000gn/T/ipykernel_937/1250815054.py:6: SettingWithCopyWarning: \n",
      "A value is trying to be set on a copy of a slice from a DataFrame\n",
      "\n",
      "See the caveats in the documentation: https://pandas.pydata.org/pandas-docs/stable/user_guide/indexing.html#returning-a-view-versus-a-copy\n",
      "  listings_short[\"beds\"].fillna(listings_short[\"beds\"].mode()[0], inplace=True)\n"
     ]
    }
   ],
   "source": [
    "# set the mode for above columns\n",
    "listings_short[\"bathrooms_text\"].fillna(listings_short[\"bathrooms_text\"].mode()[0], inplace=True)\n",
    "\n",
    "listings_short[\"bedrooms\"].fillna(listings_short[\"bedrooms\"].mode()[0], inplace=True)\n",
    "\n",
    "listings_short[\"beds\"].fillna(listings_short[\"beds\"].mode()[0], inplace=True)"
   ]
  },
  {
   "attachments": {},
   "cell_type": "markdown",
   "metadata": {},
   "source": [
    "**Convert host_response_rate & host_acceptance_rate**"
   ]
  },
  {
   "cell_type": "code",
   "execution_count": 19,
   "metadata": {},
   "outputs": [
    {
     "name": "stderr",
     "output_type": "stream",
     "text": [
      "/var/folders/7p/5hb3bs814mz8v_v78023f0sh0000gn/T/ipykernel_937/4137212484.py:2: SettingWithCopyWarning: \n",
      "A value is trying to be set on a copy of a slice from a DataFrame.\n",
      "Try using .loc[row_indexer,col_indexer] = value instead\n",
      "\n",
      "See the caveats in the documentation: https://pandas.pydata.org/pandas-docs/stable/user_guide/indexing.html#returning-a-view-versus-a-copy\n",
      "  listings_short[\"host_acceptance_rate_int\"] = listings_short[\"host_acceptance_rate\"].str[:-1]\n",
      "/var/folders/7p/5hb3bs814mz8v_v78023f0sh0000gn/T/ipykernel_937/4137212484.py:3: SettingWithCopyWarning: \n",
      "A value is trying to be set on a copy of a slice from a DataFrame.\n",
      "Try using .loc[row_indexer,col_indexer] = value instead\n",
      "\n",
      "See the caveats in the documentation: https://pandas.pydata.org/pandas-docs/stable/user_guide/indexing.html#returning-a-view-versus-a-copy\n",
      "  listings_short[\"host_acceptance_rate_int\"] = listings_short[\"host_acceptance_rate_int\"].replace('Unknow', np.nan)\n",
      "/var/folders/7p/5hb3bs814mz8v_v78023f0sh0000gn/T/ipykernel_937/4137212484.py:4: SettingWithCopyWarning: \n",
      "A value is trying to be set on a copy of a slice from a DataFrame.\n",
      "Try using .loc[row_indexer,col_indexer] = value instead\n",
      "\n",
      "See the caveats in the documentation: https://pandas.pydata.org/pandas-docs/stable/user_guide/indexing.html#returning-a-view-versus-a-copy\n",
      "  listings_short[\"host_acceptance_rate_int\"] = listings_short[\"host_acceptance_rate_int\"].astype(\"float64\")\n",
      "/var/folders/7p/5hb3bs814mz8v_v78023f0sh0000gn/T/ipykernel_937/4137212484.py:5: SettingWithCopyWarning: \n",
      "A value is trying to be set on a copy of a slice from a DataFrame.\n",
      "Try using .loc[row_indexer,col_indexer] = value instead\n",
      "\n",
      "See the caveats in the documentation: https://pandas.pydata.org/pandas-docs/stable/user_guide/indexing.html#returning-a-view-versus-a-copy\n",
      "  listings_short[\"host_acceptance_rate\"] = listings_short[\"host_acceptance_rate_int\"]\n",
      "/var/folders/7p/5hb3bs814mz8v_v78023f0sh0000gn/T/ipykernel_937/4137212484.py:6: SettingWithCopyWarning: \n",
      "A value is trying to be set on a copy of a slice from a DataFrame\n",
      "\n",
      "See the caveats in the documentation: https://pandas.pydata.org/pandas-docs/stable/user_guide/indexing.html#returning-a-view-versus-a-copy\n",
      "  listings_short.drop(\"host_acceptance_rate_int\", axis=1, inplace = True)\n"
     ]
    }
   ],
   "source": [
    "## Convert response rate/acceptance rate from % in integer\n",
    "listings_short[\"host_acceptance_rate_int\"] = listings_short[\"host_acceptance_rate\"].str[:-1]\n",
    "listings_short[\"host_acceptance_rate_int\"] = listings_short[\"host_acceptance_rate_int\"].replace('Unknow', np.nan)\n",
    "listings_short[\"host_acceptance_rate_int\"] = listings_short[\"host_acceptance_rate_int\"].astype(\"float64\")\n",
    "listings_short[\"host_acceptance_rate\"] = listings_short[\"host_acceptance_rate_int\"]\n",
    "listings_short.drop(\"host_acceptance_rate_int\", axis=1, inplace = True)"
   ]
  },
  {
   "cell_type": "code",
   "execution_count": 20,
   "metadata": {},
   "outputs": [
    {
     "name": "stderr",
     "output_type": "stream",
     "text": [
      "/var/folders/7p/5hb3bs814mz8v_v78023f0sh0000gn/T/ipykernel_937/3075004784.py:3: SettingWithCopyWarning: \n",
      "A value is trying to be set on a copy of a slice from a DataFrame.\n",
      "Try using .loc[row_indexer,col_indexer] = value instead\n",
      "\n",
      "See the caveats in the documentation: https://pandas.pydata.org/pandas-docs/stable/user_guide/indexing.html#returning-a-view-versus-a-copy\n",
      "  listings_short[\"host_response_rate_int\"] = listings_short[\"host_response_rate\"].str[:-1]\n",
      "/var/folders/7p/5hb3bs814mz8v_v78023f0sh0000gn/T/ipykernel_937/3075004784.py:4: SettingWithCopyWarning: \n",
      "A value is trying to be set on a copy of a slice from a DataFrame.\n",
      "Try using .loc[row_indexer,col_indexer] = value instead\n",
      "\n",
      "See the caveats in the documentation: https://pandas.pydata.org/pandas-docs/stable/user_guide/indexing.html#returning-a-view-versus-a-copy\n",
      "  listings_short[\"host_response_rate_int\"] = listings_short[\"host_response_rate_int\"].replace('Unknow', np.nan)\n",
      "/var/folders/7p/5hb3bs814mz8v_v78023f0sh0000gn/T/ipykernel_937/3075004784.py:5: SettingWithCopyWarning: \n",
      "A value is trying to be set on a copy of a slice from a DataFrame.\n",
      "Try using .loc[row_indexer,col_indexer] = value instead\n",
      "\n",
      "See the caveats in the documentation: https://pandas.pydata.org/pandas-docs/stable/user_guide/indexing.html#returning-a-view-versus-a-copy\n",
      "  listings_short[\"host_response_rate\"] = listings_short[\"host_response_rate_int\"].astype(\"float64\")\n",
      "/var/folders/7p/5hb3bs814mz8v_v78023f0sh0000gn/T/ipykernel_937/3075004784.py:6: SettingWithCopyWarning: \n",
      "A value is trying to be set on a copy of a slice from a DataFrame\n",
      "\n",
      "See the caveats in the documentation: https://pandas.pydata.org/pandas-docs/stable/user_guide/indexing.html#returning-a-view-versus-a-copy\n",
      "  listings_short.drop(\"host_response_rate_int\", axis=1, inplace = True)\n"
     ]
    }
   ],
   "source": [
    "#same for host_acceptance_rate \n",
    "\n",
    "listings_short[\"host_response_rate_int\"] = listings_short[\"host_response_rate\"].str[:-1]\n",
    "listings_short[\"host_response_rate_int\"] = listings_short[\"host_response_rate_int\"].replace('Unknow', np.nan)\n",
    "listings_short[\"host_response_rate\"] = listings_short[\"host_response_rate_int\"].astype(\"float64\")\n",
    "listings_short.drop(\"host_response_rate_int\", axis=1, inplace = True)"
   ]
  },
  {
   "attachments": {},
   "cell_type": "markdown",
   "metadata": {},
   "source": [
    "**price**"
   ]
  },
  {
   "cell_type": "code",
   "execution_count": 21,
   "metadata": {},
   "outputs": [
    {
     "name": "stderr",
     "output_type": "stream",
     "text": [
      "/var/folders/7p/5hb3bs814mz8v_v78023f0sh0000gn/T/ipykernel_937/4083807180.py:3: SettingWithCopyWarning: \n",
      "A value is trying to be set on a copy of a slice from a DataFrame.\n",
      "Try using .loc[row_indexer,col_indexer] = value instead\n",
      "\n",
      "See the caveats in the documentation: https://pandas.pydata.org/pandas-docs/stable/user_guide/indexing.html#returning-a-view-versus-a-copy\n",
      "  listings_short[\"price\"] = listings_short[\"price\"].str[1:]\n",
      "/var/folders/7p/5hb3bs814mz8v_v78023f0sh0000gn/T/ipykernel_937/4083807180.py:4: SettingWithCopyWarning: \n",
      "A value is trying to be set on a copy of a slice from a DataFrame.\n",
      "Try using .loc[row_indexer,col_indexer] = value instead\n",
      "\n",
      "See the caveats in the documentation: https://pandas.pydata.org/pandas-docs/stable/user_guide/indexing.html#returning-a-view-versus-a-copy\n",
      "  listings_short[\"price\"] = listings_short[\"price\"].str.replace(\",\", \"\")\n",
      "/var/folders/7p/5hb3bs814mz8v_v78023f0sh0000gn/T/ipykernel_937/4083807180.py:5: SettingWithCopyWarning: \n",
      "A value is trying to be set on a copy of a slice from a DataFrame.\n",
      "Try using .loc[row_indexer,col_indexer] = value instead\n",
      "\n",
      "See the caveats in the documentation: https://pandas.pydata.org/pandas-docs/stable/user_guide/indexing.html#returning-a-view-versus-a-copy\n",
      "  listings_short[\"price\"] = listings_short[\"price\"].astype(\"float64\")\n"
     ]
    }
   ],
   "source": [
    "#convert Price in Integer\n",
    "\n",
    "listings_short[\"price\"] = listings_short[\"price\"].str[1:]\n",
    "listings_short[\"price\"] = listings_short[\"price\"].str.replace(\",\", \"\")\n",
    "listings_short[\"price\"] = listings_short[\"price\"].astype(\"float64\")"
   ]
  },
  {
   "attachments": {},
   "cell_type": "markdown",
   "metadata": {},
   "source": [
    "**Bathroom_text & private_bath**"
   ]
  },
  {
   "cell_type": "code",
   "execution_count": 22,
   "metadata": {},
   "outputs": [
    {
     "name": "stderr",
     "output_type": "stream",
     "text": [
      "/var/folders/7p/5hb3bs814mz8v_v78023f0sh0000gn/T/ipykernel_937/2776869170.py:2: SettingWithCopyWarning: \n",
      "A value is trying to be set on a copy of a slice from a DataFrame.\n",
      "Try using .loc[row_indexer,col_indexer] = value instead\n",
      "\n",
      "See the caveats in the documentation: https://pandas.pydata.org/pandas-docs/stable/user_guide/indexing.html#returning-a-view-versus-a-copy\n",
      "  listings_short['private_bath'] = ~listings_short['bathrooms_text'].str.contains('shared|Shared')\n",
      "/var/folders/7p/5hb3bs814mz8v_v78023f0sh0000gn/T/ipykernel_937/2776869170.py:3: SettingWithCopyWarning: \n",
      "A value is trying to be set on a copy of a slice from a DataFrame\n",
      "\n",
      "See the caveats in the documentation: https://pandas.pydata.org/pandas-docs/stable/user_guide/indexing.html#returning-a-view-versus-a-copy\n",
      "  listings_short.drop('bathrooms_text', inplace = True, axis = 1)\n"
     ]
    }
   ],
   "source": [
    "#convert bathroom text top bool ('private_bath)\n",
    "listings_short['private_bath'] = ~listings_short['bathrooms_text'].str.contains('shared|Shared')\n",
    "listings_short.drop('bathrooms_text', inplace = True, axis = 1)"
   ]
  },
  {
   "cell_type": "code",
   "execution_count": 23,
   "metadata": {},
   "outputs": [
    {
     "data": {
      "text/html": [
       "<div>\n",
       "<style scoped>\n",
       "    .dataframe tbody tr th:only-of-type {\n",
       "        vertical-align: middle;\n",
       "    }\n",
       "\n",
       "    .dataframe tbody tr th {\n",
       "        vertical-align: top;\n",
       "    }\n",
       "\n",
       "    .dataframe thead th {\n",
       "        text-align: right;\n",
       "    }\n",
       "</style>\n",
       "<table border=\"1\" class=\"dataframe\">\n",
       "  <thead>\n",
       "    <tr style=\"text-align: right;\">\n",
       "      <th></th>\n",
       "      <th>id</th>\n",
       "      <th>listing_url</th>\n",
       "      <th>name</th>\n",
       "      <th>picture_url</th>\n",
       "      <th>host_id</th>\n",
       "      <th>host_response_rate</th>\n",
       "      <th>host_acceptance_rate</th>\n",
       "      <th>host_is_superhost</th>\n",
       "      <th>host_listings_count</th>\n",
       "      <th>host_total_listings_count</th>\n",
       "      <th>neighbourhood_cleansed</th>\n",
       "      <th>latitude</th>\n",
       "      <th>longitude</th>\n",
       "      <th>room_type</th>\n",
       "      <th>accommodates</th>\n",
       "      <th>bedrooms</th>\n",
       "      <th>beds</th>\n",
       "      <th>amenities</th>\n",
       "      <th>price</th>\n",
       "      <th>availability_90</th>\n",
       "      <th>minimum_nights</th>\n",
       "      <th>maximum_nights</th>\n",
       "      <th>instant_bookable</th>\n",
       "      <th>number_of_reviews</th>\n",
       "      <th>number_of_reviews_ltm</th>\n",
       "      <th>number_of_reviews_l30d</th>\n",
       "      <th>first_review</th>\n",
       "      <th>last_review</th>\n",
       "      <th>review_scores_rating</th>\n",
       "      <th>review_scores_accuracy</th>\n",
       "      <th>review_scores_cleanliness</th>\n",
       "      <th>review_scores_checkin</th>\n",
       "      <th>review_scores_communication</th>\n",
       "      <th>review_scores_location</th>\n",
       "      <th>review_scores_value</th>\n",
       "      <th>reviews_per_month</th>\n",
       "      <th>private_bath</th>\n",
       "    </tr>\n",
       "  </thead>\n",
       "  <tbody>\n",
       "    <tr>\n",
       "      <th>0</th>\n",
       "      <td>714569379355913481</td>\n",
       "      <td>https://www.airbnb.com/rooms/714569379355913481</td>\n",
       "      <td>Lovely private bedroom in Muswell Hill.</td>\n",
       "      <td>https://a0.muscache.com/pictures/miso/Hosting-...</td>\n",
       "      <td>39009854</td>\n",
       "      <td>NaN</td>\n",
       "      <td>NaN</td>\n",
       "      <td>f</td>\n",
       "      <td>1.0</td>\n",
       "      <td>1.0</td>\n",
       "      <td>Haringey</td>\n",
       "      <td>51.597280</td>\n",
       "      <td>-0.139330</td>\n",
       "      <td>Private room</td>\n",
       "      <td>1</td>\n",
       "      <td>1.0</td>\n",
       "      <td>1.0</td>\n",
       "      <td>[\"Iron\", \"Hangers\", \"Hair dryer\", \"Outdoor din...</td>\n",
       "      <td>100.0</td>\n",
       "      <td>90</td>\n",
       "      <td>1</td>\n",
       "      <td>365</td>\n",
       "      <td>f</td>\n",
       "      <td>0</td>\n",
       "      <td>0</td>\n",
       "      <td>0</td>\n",
       "      <td>NaN</td>\n",
       "      <td>NaN</td>\n",
       "      <td>NaN</td>\n",
       "      <td>NaN</td>\n",
       "      <td>NaN</td>\n",
       "      <td>NaN</td>\n",
       "      <td>NaN</td>\n",
       "      <td>NaN</td>\n",
       "      <td>NaN</td>\n",
       "      <td>NaN</td>\n",
       "      <td>False</td>\n",
       "    </tr>\n",
       "    <tr>\n",
       "      <th>1</th>\n",
       "      <td>808038970516277767</td>\n",
       "      <td>https://www.airbnb.com/rooms/808038970516277767</td>\n",
       "      <td>Studio Flat  Franklin London</td>\n",
       "      <td>https://a0.muscache.com/pictures/miso/Hosting-...</td>\n",
       "      <td>495977998</td>\n",
       "      <td>100.0</td>\n",
       "      <td>100.0</td>\n",
       "      <td>f</td>\n",
       "      <td>14.0</td>\n",
       "      <td>31.0</td>\n",
       "      <td>Barnet</td>\n",
       "      <td>51.636518</td>\n",
       "      <td>-0.177475</td>\n",
       "      <td>Entire home/apt</td>\n",
       "      <td>1</td>\n",
       "      <td>1.0</td>\n",
       "      <td>1.0</td>\n",
       "      <td>[]</td>\n",
       "      <td>65.0</td>\n",
       "      <td>90</td>\n",
       "      <td>180</td>\n",
       "      <td>365</td>\n",
       "      <td>t</td>\n",
       "      <td>0</td>\n",
       "      <td>0</td>\n",
       "      <td>0</td>\n",
       "      <td>NaN</td>\n",
       "      <td>NaN</td>\n",
       "      <td>NaN</td>\n",
       "      <td>NaN</td>\n",
       "      <td>NaN</td>\n",
       "      <td>NaN</td>\n",
       "      <td>NaN</td>\n",
       "      <td>NaN</td>\n",
       "      <td>NaN</td>\n",
       "      <td>NaN</td>\n",
       "      <td>True</td>\n",
       "    </tr>\n",
       "  </tbody>\n",
       "</table>\n",
       "</div>"
      ],
      "text/plain": [
       "                   id                                      listing_url  \\\n",
       "0  714569379355913481  https://www.airbnb.com/rooms/714569379355913481   \n",
       "1  808038970516277767  https://www.airbnb.com/rooms/808038970516277767   \n",
       "\n",
       "                                      name  \\\n",
       "0  Lovely private bedroom in Muswell Hill.   \n",
       "1             Studio Flat  Franklin London   \n",
       "\n",
       "                                         picture_url    host_id  \\\n",
       "0  https://a0.muscache.com/pictures/miso/Hosting-...   39009854   \n",
       "1  https://a0.muscache.com/pictures/miso/Hosting-...  495977998   \n",
       "\n",
       "   host_response_rate  host_acceptance_rate host_is_superhost  \\\n",
       "0                 NaN                   NaN                 f   \n",
       "1               100.0                 100.0                 f   \n",
       "\n",
       "   host_listings_count  host_total_listings_count neighbourhood_cleansed  \\\n",
       "0                  1.0                        1.0               Haringey   \n",
       "1                 14.0                       31.0                 Barnet   \n",
       "\n",
       "    latitude  longitude        room_type  accommodates  bedrooms  beds  \\\n",
       "0  51.597280  -0.139330     Private room             1       1.0   1.0   \n",
       "1  51.636518  -0.177475  Entire home/apt             1       1.0   1.0   \n",
       "\n",
       "                                           amenities  price  availability_90  \\\n",
       "0  [\"Iron\", \"Hangers\", \"Hair dryer\", \"Outdoor din...  100.0               90   \n",
       "1                                                 []   65.0               90   \n",
       "\n",
       "   minimum_nights  maximum_nights instant_bookable  number_of_reviews  \\\n",
       "0               1             365                f                  0   \n",
       "1             180             365                t                  0   \n",
       "\n",
       "   number_of_reviews_ltm  number_of_reviews_l30d first_review last_review  \\\n",
       "0                      0                       0          NaN         NaN   \n",
       "1                      0                       0          NaN         NaN   \n",
       "\n",
       "   review_scores_rating  review_scores_accuracy  review_scores_cleanliness  \\\n",
       "0                   NaN                     NaN                        NaN   \n",
       "1                   NaN                     NaN                        NaN   \n",
       "\n",
       "   review_scores_checkin  review_scores_communication  review_scores_location  \\\n",
       "0                    NaN                          NaN                     NaN   \n",
       "1                    NaN                          NaN                     NaN   \n",
       "\n",
       "   review_scores_value  reviews_per_month  private_bath  \n",
       "0                  NaN                NaN         False  \n",
       "1                  NaN                NaN          True  "
      ]
     },
     "execution_count": 23,
     "metadata": {},
     "output_type": "execute_result"
    }
   ],
   "source": [
    "listings_short.head(2)"
   ]
  },
  {
   "attachments": {},
   "cell_type": "markdown",
   "metadata": {},
   "source": [
    "**room_type**"
   ]
  },
  {
   "cell_type": "code",
   "execution_count": 24,
   "metadata": {},
   "outputs": [
    {
     "name": "stderr",
     "output_type": "stream",
     "text": [
      "/var/folders/7p/5hb3bs814mz8v_v78023f0sh0000gn/T/ipykernel_937/1045346324.py:2: SettingWithCopyWarning: \n",
      "A value is trying to be set on a copy of a slice from a DataFrame.\n",
      "Try using .loc[row_indexer,col_indexer] = value instead\n",
      "\n",
      "See the caveats in the documentation: https://pandas.pydata.org/pandas-docs/stable/user_guide/indexing.html#returning-a-view-versus-a-copy\n",
      "  listings_short[\"room_type\"] = listings_short[\"room_type\"].str.replace(\"Entire home/apt\", \"Entire home\")\n"
     ]
    }
   ],
   "source": [
    "#renaming the values \n",
    "listings_short[\"room_type\"] = listings_short[\"room_type\"].str.replace(\"Entire home/apt\", \"Entire home\")"
   ]
  },
  {
   "attachments": {},
   "cell_type": "markdown",
   "metadata": {},
   "source": [
    "**Instant_bookable and Host_is_superhost as bool**"
   ]
  },
  {
   "cell_type": "code",
   "execution_count": 25,
   "metadata": {},
   "outputs": [
    {
     "name": "stderr",
     "output_type": "stream",
     "text": [
      "/var/folders/7p/5hb3bs814mz8v_v78023f0sh0000gn/T/ipykernel_937/831478609.py:1: SettingWithCopyWarning: \n",
      "A value is trying to be set on a copy of a slice from a DataFrame.\n",
      "Try using .loc[row_indexer,col_indexer] = value instead\n",
      "\n",
      "See the caveats in the documentation: https://pandas.pydata.org/pandas-docs/stable/user_guide/indexing.html#returning-a-view-versus-a-copy\n",
      "  listings_short['instant_bookable'] = listings_short['instant_bookable'].map({'f': False, 't': True})\n",
      "/var/folders/7p/5hb3bs814mz8v_v78023f0sh0000gn/T/ipykernel_937/831478609.py:2: SettingWithCopyWarning: \n",
      "A value is trying to be set on a copy of a slice from a DataFrame.\n",
      "Try using .loc[row_indexer,col_indexer] = value instead\n",
      "\n",
      "See the caveats in the documentation: https://pandas.pydata.org/pandas-docs/stable/user_guide/indexing.html#returning-a-view-versus-a-copy\n",
      "  listings_short['host_is_superhost'] = listings_short['host_is_superhost'].map({'f': False, 't': True})\n"
     ]
    }
   ],
   "source": [
    "listings_short['instant_bookable'] = listings_short['instant_bookable'].map({'f': False, 't': True})\n",
    "listings_short['host_is_superhost'] = listings_short['host_is_superhost'].map({'f': False, 't': True})"
   ]
  },
  {
   "attachments": {},
   "cell_type": "markdown",
   "metadata": {},
   "source": [
    "**amenities**"
   ]
  },
  {
   "cell_type": "code",
   "execution_count": 26,
   "metadata": {},
   "outputs": [],
   "source": [
    "test = listings_short.copy()"
   ]
  },
  {
   "cell_type": "code",
   "execution_count": 27,
   "metadata": {},
   "outputs": [
    {
     "name": "stderr",
     "output_type": "stream",
     "text": [
      "/var/folders/7p/5hb3bs814mz8v_v78023f0sh0000gn/T/ipykernel_937/1066789727.py:2: FutureWarning: The default value of regex will change from True to False in a future version. In addition, single character regular expressions will *not* be treated as literal strings when regex=True.\n",
      "  test[\"amenities\"] = test[\"amenities\"].str.lower().str.replace('[','').str.replace(']','').str.replace('\"','').str.replace(' ','_').str.split(',')\n"
     ]
    }
   ],
   "source": [
    "# convert items in \"amenities\" to a list\n",
    "test[\"amenities\"] = test[\"amenities\"].str.lower().str.replace('[','').str.replace(']','').str.replace('\"','').str.replace(' ','_').str.split(',')\n"
   ]
  },
  {
   "cell_type": "code",
   "execution_count": 28,
   "metadata": {},
   "outputs": [],
   "source": [
    "# create new columns for each amenity \n",
    "from sklearn.preprocessing import MultiLabelBinarizer\n",
    "mlb = MultiLabelBinarizer()\n",
    "amenities = test.join(pd.DataFrame(mlb.fit_transform(test.pop('amenities')),\n",
    "                          columns=mlb.classes_,\n",
    "                          index=test.index))"
   ]
  },
  {
   "cell_type": "code",
   "execution_count": 29,
   "metadata": {},
   "outputs": [],
   "source": [
    "# create a list of amenity with fewer than 10% of listings\n",
    "infrequent_amenities = []\n",
    "for col in amenities.iloc[: , 35:].columns:\n",
    "    if amenities[col].sum() < len(amenities)/10:\n",
    "        infrequent_amenities.append(col)\n",
    "\n",
    "# drop infrequent amenity features\n",
    "amenities.drop(infrequent_amenities, axis=1, inplace=True)\n"
   ]
  },
  {
   "cell_type": "code",
   "execution_count": 30,
   "metadata": {},
   "outputs": [],
   "source": [
    "# combine _coffee & _coffe_maker to one column\n",
    "amenities['_coffee_'] = (amenities['_coffee_maker'] | amenities['_coffee']).astype(int)\n"
   ]
  },
  {
   "cell_type": "code",
   "execution_count": 31,
   "metadata": {},
   "outputs": [],
   "source": [
    "# focus on relevant columns\n",
    "amenity_keeper = [\"id\",\n",
    "                  \"_wifi\",\n",
    "                  \"_long_term_stays_allowed\",\n",
    "                  \"_private_patio_or_balcony\",\n",
    "                  \"_private_entrance\",\n",
    "                  \"_pets_allowed\",\n",
    "                  \"_outdoor_dining_area\",\n",
    "                  \"_lockbox\",\n",
    "                  \"_kitchen\",\n",
    "                  \"_hair_dryer\",\n",
    "                  \"_free_street_parking\",\n",
    "                  \"_free_parking_on_premises\",\n",
    "                  \"_dedicated_workspace\",\n",
    "                  \"_coffee_\",\n",
    "                  \"_bed_linens\",\n",
    "                  \"_bathtub\"]\n"
   ]
  },
  {
   "cell_type": "code",
   "execution_count": 32,
   "metadata": {},
   "outputs": [],
   "source": [
    "# keep only relevant columns \n",
    "amenities_short = amenities[amenity_keeper]"
   ]
  },
  {
   "cell_type": "code",
   "execution_count": 33,
   "metadata": {},
   "outputs": [],
   "source": [
    "# get rid of first \"_\"\n",
    "amenities_short.columns = amenities_short.columns.str.replace('_','', 1)\n"
   ]
  },
  {
   "cell_type": "code",
   "execution_count": 34,
   "metadata": {},
   "outputs": [],
   "source": [
    "# merge to one dataframe \n",
    "airbnb = listings_short.merge(amenities_short, how=\"left\", on=\"id\")"
   ]
  },
  {
   "cell_type": "code",
   "execution_count": 35,
   "metadata": {},
   "outputs": [
    {
     "data": {
      "text/plain": [
       "(75241, 52)"
      ]
     },
     "execution_count": 35,
     "metadata": {},
     "output_type": "execute_result"
    }
   ],
   "source": [
    "airbnb.shape"
   ]
  },
  {
   "cell_type": "code",
   "execution_count": 36,
   "metadata": {},
   "outputs": [
    {
     "data": {
      "text/html": [
       "<div>\n",
       "<style scoped>\n",
       "    .dataframe tbody tr th:only-of-type {\n",
       "        vertical-align: middle;\n",
       "    }\n",
       "\n",
       "    .dataframe tbody tr th {\n",
       "        vertical-align: top;\n",
       "    }\n",
       "\n",
       "    .dataframe thead th {\n",
       "        text-align: right;\n",
       "    }\n",
       "</style>\n",
       "<table border=\"1\" class=\"dataframe\">\n",
       "  <thead>\n",
       "    <tr style=\"text-align: right;\">\n",
       "      <th></th>\n",
       "      <th>id</th>\n",
       "      <th>listing_url</th>\n",
       "      <th>name</th>\n",
       "      <th>picture_url</th>\n",
       "      <th>host_id</th>\n",
       "      <th>host_response_rate</th>\n",
       "      <th>host_acceptance_rate</th>\n",
       "      <th>host_is_superhost</th>\n",
       "      <th>host_listings_count</th>\n",
       "      <th>host_total_listings_count</th>\n",
       "      <th>neighbourhood_cleansed</th>\n",
       "      <th>latitude</th>\n",
       "      <th>longitude</th>\n",
       "      <th>room_type</th>\n",
       "      <th>accommodates</th>\n",
       "      <th>bedrooms</th>\n",
       "      <th>beds</th>\n",
       "      <th>amenities</th>\n",
       "      <th>price</th>\n",
       "      <th>availability_90</th>\n",
       "      <th>minimum_nights</th>\n",
       "      <th>maximum_nights</th>\n",
       "      <th>instant_bookable</th>\n",
       "      <th>number_of_reviews</th>\n",
       "      <th>number_of_reviews_ltm</th>\n",
       "      <th>number_of_reviews_l30d</th>\n",
       "      <th>first_review</th>\n",
       "      <th>last_review</th>\n",
       "      <th>review_scores_rating</th>\n",
       "      <th>review_scores_accuracy</th>\n",
       "      <th>review_scores_cleanliness</th>\n",
       "      <th>review_scores_checkin</th>\n",
       "      <th>review_scores_communication</th>\n",
       "      <th>review_scores_location</th>\n",
       "      <th>review_scores_value</th>\n",
       "      <th>reviews_per_month</th>\n",
       "      <th>private_bath</th>\n",
       "      <th>wifi</th>\n",
       "      <th>long_term_stays_allowed</th>\n",
       "      <th>private_patio_or_balcony</th>\n",
       "      <th>private_entrance</th>\n",
       "      <th>pets_allowed</th>\n",
       "      <th>outdoor_dining_area</th>\n",
       "      <th>lockbox</th>\n",
       "      <th>kitchen</th>\n",
       "      <th>hair_dryer</th>\n",
       "      <th>free_street_parking</th>\n",
       "      <th>free_parking_on_premises</th>\n",
       "      <th>dedicated_workspace</th>\n",
       "      <th>coffee_</th>\n",
       "      <th>bed_linens</th>\n",
       "      <th>bathtub</th>\n",
       "    </tr>\n",
       "  </thead>\n",
       "  <tbody>\n",
       "    <tr>\n",
       "      <th>0</th>\n",
       "      <td>714569379355913481</td>\n",
       "      <td>https://www.airbnb.com/rooms/714569379355913481</td>\n",
       "      <td>Lovely private bedroom in Muswell Hill.</td>\n",
       "      <td>https://a0.muscache.com/pictures/miso/Hosting-...</td>\n",
       "      <td>39009854</td>\n",
       "      <td>NaN</td>\n",
       "      <td>NaN</td>\n",
       "      <td>False</td>\n",
       "      <td>1.0</td>\n",
       "      <td>1.0</td>\n",
       "      <td>Haringey</td>\n",
       "      <td>51.597280</td>\n",
       "      <td>-0.139330</td>\n",
       "      <td>Private room</td>\n",
       "      <td>1</td>\n",
       "      <td>1.0</td>\n",
       "      <td>1.0</td>\n",
       "      <td>[\"Iron\", \"Hangers\", \"Hair dryer\", \"Outdoor din...</td>\n",
       "      <td>100.0</td>\n",
       "      <td>90</td>\n",
       "      <td>1</td>\n",
       "      <td>365</td>\n",
       "      <td>False</td>\n",
       "      <td>0</td>\n",
       "      <td>0</td>\n",
       "      <td>0</td>\n",
       "      <td>NaN</td>\n",
       "      <td>NaN</td>\n",
       "      <td>NaN</td>\n",
       "      <td>NaN</td>\n",
       "      <td>NaN</td>\n",
       "      <td>NaN</td>\n",
       "      <td>NaN</td>\n",
       "      <td>NaN</td>\n",
       "      <td>NaN</td>\n",
       "      <td>NaN</td>\n",
       "      <td>False</td>\n",
       "      <td>0</td>\n",
       "      <td>0</td>\n",
       "      <td>0</td>\n",
       "      <td>0</td>\n",
       "      <td>0</td>\n",
       "      <td>1</td>\n",
       "      <td>0</td>\n",
       "      <td>0</td>\n",
       "      <td>1</td>\n",
       "      <td>0</td>\n",
       "      <td>0</td>\n",
       "      <td>0</td>\n",
       "      <td>0</td>\n",
       "      <td>0</td>\n",
       "      <td>0</td>\n",
       "    </tr>\n",
       "    <tr>\n",
       "      <th>1</th>\n",
       "      <td>808038970516277767</td>\n",
       "      <td>https://www.airbnb.com/rooms/808038970516277767</td>\n",
       "      <td>Studio Flat  Franklin London</td>\n",
       "      <td>https://a0.muscache.com/pictures/miso/Hosting-...</td>\n",
       "      <td>495977998</td>\n",
       "      <td>100.0</td>\n",
       "      <td>100.0</td>\n",
       "      <td>False</td>\n",
       "      <td>14.0</td>\n",
       "      <td>31.0</td>\n",
       "      <td>Barnet</td>\n",
       "      <td>51.636518</td>\n",
       "      <td>-0.177475</td>\n",
       "      <td>Entire home</td>\n",
       "      <td>1</td>\n",
       "      <td>1.0</td>\n",
       "      <td>1.0</td>\n",
       "      <td>[]</td>\n",
       "      <td>65.0</td>\n",
       "      <td>90</td>\n",
       "      <td>180</td>\n",
       "      <td>365</td>\n",
       "      <td>True</td>\n",
       "      <td>0</td>\n",
       "      <td>0</td>\n",
       "      <td>0</td>\n",
       "      <td>NaN</td>\n",
       "      <td>NaN</td>\n",
       "      <td>NaN</td>\n",
       "      <td>NaN</td>\n",
       "      <td>NaN</td>\n",
       "      <td>NaN</td>\n",
       "      <td>NaN</td>\n",
       "      <td>NaN</td>\n",
       "      <td>NaN</td>\n",
       "      <td>NaN</td>\n",
       "      <td>True</td>\n",
       "      <td>0</td>\n",
       "      <td>0</td>\n",
       "      <td>0</td>\n",
       "      <td>0</td>\n",
       "      <td>0</td>\n",
       "      <td>0</td>\n",
       "      <td>0</td>\n",
       "      <td>0</td>\n",
       "      <td>0</td>\n",
       "      <td>0</td>\n",
       "      <td>0</td>\n",
       "      <td>0</td>\n",
       "      <td>0</td>\n",
       "      <td>0</td>\n",
       "      <td>0</td>\n",
       "    </tr>\n",
       "    <tr>\n",
       "      <th>2</th>\n",
       "      <td>822557738577472503</td>\n",
       "      <td>https://www.airbnb.com/rooms/822557738577472503</td>\n",
       "      <td>PropertyPlug - 2Bed Flat in Edgware SmartTV WiFi</td>\n",
       "      <td>https://a0.muscache.com/pictures/d77957d5-695a...</td>\n",
       "      <td>325629338</td>\n",
       "      <td>100.0</td>\n",
       "      <td>91.0</td>\n",
       "      <td>True</td>\n",
       "      <td>4.0</td>\n",
       "      <td>8.0</td>\n",
       "      <td>Harrow</td>\n",
       "      <td>51.608180</td>\n",
       "      <td>-0.277400</td>\n",
       "      <td>Entire home</td>\n",
       "      <td>4</td>\n",
       "      <td>2.0</td>\n",
       "      <td>2.0</td>\n",
       "      <td>[\"Dining table\", \"Washer\", \"Outdoor furniture\"...</td>\n",
       "      <td>132.0</td>\n",
       "      <td>35</td>\n",
       "      <td>2</td>\n",
       "      <td>28</td>\n",
       "      <td>True</td>\n",
       "      <td>0</td>\n",
       "      <td>0</td>\n",
       "      <td>0</td>\n",
       "      <td>NaN</td>\n",
       "      <td>NaN</td>\n",
       "      <td>NaN</td>\n",
       "      <td>NaN</td>\n",
       "      <td>NaN</td>\n",
       "      <td>NaN</td>\n",
       "      <td>NaN</td>\n",
       "      <td>NaN</td>\n",
       "      <td>NaN</td>\n",
       "      <td>NaN</td>\n",
       "      <td>True</td>\n",
       "      <td>1</td>\n",
       "      <td>1</td>\n",
       "      <td>1</td>\n",
       "      <td>0</td>\n",
       "      <td>0</td>\n",
       "      <td>0</td>\n",
       "      <td>0</td>\n",
       "      <td>1</td>\n",
       "      <td>1</td>\n",
       "      <td>0</td>\n",
       "      <td>1</td>\n",
       "      <td>0</td>\n",
       "      <td>0</td>\n",
       "      <td>1</td>\n",
       "      <td>1</td>\n",
       "    </tr>\n",
       "    <tr>\n",
       "      <th>3</th>\n",
       "      <td>3518856</td>\n",
       "      <td>https://www.airbnb.com/rooms/3518856</td>\n",
       "      <td>Wimbledon Double Bedroom Ensuite</td>\n",
       "      <td>https://a0.muscache.com/pictures/23a18442-fc1d...</td>\n",
       "      <td>187811</td>\n",
       "      <td>NaN</td>\n",
       "      <td>100.0</td>\n",
       "      <td>False</td>\n",
       "      <td>2.0</td>\n",
       "      <td>5.0</td>\n",
       "      <td>Merton</td>\n",
       "      <td>51.422310</td>\n",
       "      <td>-0.188410</td>\n",
       "      <td>Private room</td>\n",
       "      <td>1</td>\n",
       "      <td>1.0</td>\n",
       "      <td>1.0</td>\n",
       "      <td>[\"Washer\", \"Iron\", \"Hangers\", \"Kitchen\", \"Smok...</td>\n",
       "      <td>100.0</td>\n",
       "      <td>90</td>\n",
       "      <td>5</td>\n",
       "      <td>1125</td>\n",
       "      <td>False</td>\n",
       "      <td>4</td>\n",
       "      <td>0</td>\n",
       "      <td>0</td>\n",
       "      <td>2015-12-27</td>\n",
       "      <td>2016-07-11</td>\n",
       "      <td>3.67</td>\n",
       "      <td>3.0</td>\n",
       "      <td>4.33</td>\n",
       "      <td>4.67</td>\n",
       "      <td>5.0</td>\n",
       "      <td>3.67</td>\n",
       "      <td>3.67</td>\n",
       "      <td>0.05</td>\n",
       "      <td>True</td>\n",
       "      <td>1</td>\n",
       "      <td>0</td>\n",
       "      <td>0</td>\n",
       "      <td>0</td>\n",
       "      <td>0</td>\n",
       "      <td>0</td>\n",
       "      <td>0</td>\n",
       "      <td>1</td>\n",
       "      <td>0</td>\n",
       "      <td>0</td>\n",
       "      <td>0</td>\n",
       "      <td>1</td>\n",
       "      <td>0</td>\n",
       "      <td>0</td>\n",
       "      <td>0</td>\n",
       "    </tr>\n",
       "    <tr>\n",
       "      <th>4</th>\n",
       "      <td>4876550</td>\n",
       "      <td>https://www.airbnb.com/rooms/4876550</td>\n",
       "      <td>Stunning Apartment 2 minutes walk to Tube Station</td>\n",
       "      <td>https://a0.muscache.com/pictures/miso/Hosting-...</td>\n",
       "      <td>25087384</td>\n",
       "      <td>75.0</td>\n",
       "      <td>46.0</td>\n",
       "      <td>False</td>\n",
       "      <td>1.0</td>\n",
       "      <td>1.0</td>\n",
       "      <td>Barnet</td>\n",
       "      <td>51.602282</td>\n",
       "      <td>-0.193606</td>\n",
       "      <td>Entire home</td>\n",
       "      <td>2</td>\n",
       "      <td>1.0</td>\n",
       "      <td>1.0</td>\n",
       "      <td>[\"First aid kit\", \"Washer\", \"Fire extinguisher...</td>\n",
       "      <td>120.0</td>\n",
       "      <td>83</td>\n",
       "      <td>5</td>\n",
       "      <td>90</td>\n",
       "      <td>False</td>\n",
       "      <td>0</td>\n",
       "      <td>0</td>\n",
       "      <td>0</td>\n",
       "      <td>NaN</td>\n",
       "      <td>NaN</td>\n",
       "      <td>NaN</td>\n",
       "      <td>NaN</td>\n",
       "      <td>NaN</td>\n",
       "      <td>NaN</td>\n",
       "      <td>NaN</td>\n",
       "      <td>NaN</td>\n",
       "      <td>NaN</td>\n",
       "      <td>NaN</td>\n",
       "      <td>True</td>\n",
       "      <td>1</td>\n",
       "      <td>0</td>\n",
       "      <td>0</td>\n",
       "      <td>0</td>\n",
       "      <td>0</td>\n",
       "      <td>0</td>\n",
       "      <td>0</td>\n",
       "      <td>1</td>\n",
       "      <td>0</td>\n",
       "      <td>0</td>\n",
       "      <td>1</td>\n",
       "      <td>0</td>\n",
       "      <td>0</td>\n",
       "      <td>0</td>\n",
       "      <td>0</td>\n",
       "    </tr>\n",
       "  </tbody>\n",
       "</table>\n",
       "</div>"
      ],
      "text/plain": [
       "                   id                                      listing_url  \\\n",
       "0  714569379355913481  https://www.airbnb.com/rooms/714569379355913481   \n",
       "1  808038970516277767  https://www.airbnb.com/rooms/808038970516277767   \n",
       "2  822557738577472503  https://www.airbnb.com/rooms/822557738577472503   \n",
       "3             3518856             https://www.airbnb.com/rooms/3518856   \n",
       "4             4876550             https://www.airbnb.com/rooms/4876550   \n",
       "\n",
       "                                                name  \\\n",
       "0            Lovely private bedroom in Muswell Hill.   \n",
       "1                       Studio Flat  Franklin London   \n",
       "2   PropertyPlug - 2Bed Flat in Edgware SmartTV WiFi   \n",
       "3                   Wimbledon Double Bedroom Ensuite   \n",
       "4  Stunning Apartment 2 minutes walk to Tube Station   \n",
       "\n",
       "                                         picture_url    host_id  \\\n",
       "0  https://a0.muscache.com/pictures/miso/Hosting-...   39009854   \n",
       "1  https://a0.muscache.com/pictures/miso/Hosting-...  495977998   \n",
       "2  https://a0.muscache.com/pictures/d77957d5-695a...  325629338   \n",
       "3  https://a0.muscache.com/pictures/23a18442-fc1d...     187811   \n",
       "4  https://a0.muscache.com/pictures/miso/Hosting-...   25087384   \n",
       "\n",
       "   host_response_rate  host_acceptance_rate  host_is_superhost  \\\n",
       "0                 NaN                   NaN              False   \n",
       "1               100.0                 100.0              False   \n",
       "2               100.0                  91.0               True   \n",
       "3                 NaN                 100.0              False   \n",
       "4                75.0                  46.0              False   \n",
       "\n",
       "   host_listings_count  host_total_listings_count neighbourhood_cleansed  \\\n",
       "0                  1.0                        1.0               Haringey   \n",
       "1                 14.0                       31.0                 Barnet   \n",
       "2                  4.0                        8.0                 Harrow   \n",
       "3                  2.0                        5.0                 Merton   \n",
       "4                  1.0                        1.0                 Barnet   \n",
       "\n",
       "    latitude  longitude     room_type  accommodates  bedrooms  beds  \\\n",
       "0  51.597280  -0.139330  Private room             1       1.0   1.0   \n",
       "1  51.636518  -0.177475   Entire home             1       1.0   1.0   \n",
       "2  51.608180  -0.277400   Entire home             4       2.0   2.0   \n",
       "3  51.422310  -0.188410  Private room             1       1.0   1.0   \n",
       "4  51.602282  -0.193606   Entire home             2       1.0   1.0   \n",
       "\n",
       "                                           amenities  price  availability_90  \\\n",
       "0  [\"Iron\", \"Hangers\", \"Hair dryer\", \"Outdoor din...  100.0               90   \n",
       "1                                                 []   65.0               90   \n",
       "2  [\"Dining table\", \"Washer\", \"Outdoor furniture\"...  132.0               35   \n",
       "3  [\"Washer\", \"Iron\", \"Hangers\", \"Kitchen\", \"Smok...  100.0               90   \n",
       "4  [\"First aid kit\", \"Washer\", \"Fire extinguisher...  120.0               83   \n",
       "\n",
       "   minimum_nights  maximum_nights  instant_bookable  number_of_reviews  \\\n",
       "0               1             365             False                  0   \n",
       "1             180             365              True                  0   \n",
       "2               2              28              True                  0   \n",
       "3               5            1125             False                  4   \n",
       "4               5              90             False                  0   \n",
       "\n",
       "   number_of_reviews_ltm  number_of_reviews_l30d first_review last_review  \\\n",
       "0                      0                       0          NaN         NaN   \n",
       "1                      0                       0          NaN         NaN   \n",
       "2                      0                       0          NaN         NaN   \n",
       "3                      0                       0   2015-12-27  2016-07-11   \n",
       "4                      0                       0          NaN         NaN   \n",
       "\n",
       "   review_scores_rating  review_scores_accuracy  review_scores_cleanliness  \\\n",
       "0                   NaN                     NaN                        NaN   \n",
       "1                   NaN                     NaN                        NaN   \n",
       "2                   NaN                     NaN                        NaN   \n",
       "3                  3.67                     3.0                       4.33   \n",
       "4                   NaN                     NaN                        NaN   \n",
       "\n",
       "   review_scores_checkin  review_scores_communication  review_scores_location  \\\n",
       "0                    NaN                          NaN                     NaN   \n",
       "1                    NaN                          NaN                     NaN   \n",
       "2                    NaN                          NaN                     NaN   \n",
       "3                   4.67                          5.0                    3.67   \n",
       "4                    NaN                          NaN                     NaN   \n",
       "\n",
       "   review_scores_value  reviews_per_month  private_bath  wifi  \\\n",
       "0                  NaN                NaN         False     0   \n",
       "1                  NaN                NaN          True     0   \n",
       "2                  NaN                NaN          True     1   \n",
       "3                 3.67               0.05          True     1   \n",
       "4                  NaN                NaN          True     1   \n",
       "\n",
       "   long_term_stays_allowed  private_patio_or_balcony  private_entrance  \\\n",
       "0                        0                         0                 0   \n",
       "1                        0                         0                 0   \n",
       "2                        1                         1                 0   \n",
       "3                        0                         0                 0   \n",
       "4                        0                         0                 0   \n",
       "\n",
       "   pets_allowed  outdoor_dining_area  lockbox  kitchen  hair_dryer  \\\n",
       "0             0                    1        0        0           1   \n",
       "1             0                    0        0        0           0   \n",
       "2             0                    0        0        1           1   \n",
       "3             0                    0        0        1           0   \n",
       "4             0                    0        0        1           0   \n",
       "\n",
       "   free_street_parking  free_parking_on_premises  dedicated_workspace  \\\n",
       "0                    0                         0                    0   \n",
       "1                    0                         0                    0   \n",
       "2                    0                         1                    0   \n",
       "3                    0                         0                    1   \n",
       "4                    0                         1                    0   \n",
       "\n",
       "   coffee_  bed_linens  bathtub  \n",
       "0        0           0        0  \n",
       "1        0           0        0  \n",
       "2        0           1        1  \n",
       "3        0           0        0  \n",
       "4        0           0        0  "
      ]
     },
     "execution_count": 36,
     "metadata": {},
     "output_type": "execute_result"
    }
   ],
   "source": [
    "airbnb.head()"
   ]
  },
  {
   "cell_type": "markdown",
   "metadata": {},
   "source": [
    "## 3.Overpass Pipeline"
   ]
  },
  {
   "attachments": {},
   "cell_type": "markdown",
   "metadata": {},
   "source": [
    "### 3.1. Get the Data "
   ]
  },
  {
   "cell_type": "code",
   "execution_count": 37,
   "metadata": {},
   "outputs": [],
   "source": [
    "### Increase outside border of listings\n",
    "london_bbox = increase_bbox(listings)"
   ]
  },
  {
   "cell_type": "code",
   "execution_count": 38,
   "metadata": {},
   "outputs": [],
   "source": [
    "# Increasing the maxs by 0.01 and decreasing the mins by 0.01 \n",
    "# will shift the outline's border by a bit more than 1km in each direction.\n",
    "\n",
    "# See increase_bbox function in py_functions.py"
   ]
  },
  {
   "cell_type": "code",
   "execution_count": 39,
   "metadata": {},
   "outputs": [],
   "source": [
    "# (northern hemisphere)\n",
    "# latitude max = north\n",
    "# latitude min = south\n",
    "# longitude max = east\n",
    "# longitude min = west"
   ]
  },
  {
   "cell_type": "code",
   "execution_count": 40,
   "metadata": {},
   "outputs": [],
   "source": [
    "# read in data only once, then export and read csv file locally / via sql\n",
    "overpass_url = \"http://overpass-api.de/api/interpreter\"\n",
    "overpass_query = f\"\"\"\n",
    "[out:json];\n",
    "(\n",
    "    node[\"amenity\"=\"bar\"]({london_bbox[\"south_shifted\"]},{london_bbox[\"west_shifted\"]},{london_bbox[\"north_shifted\"]},{london_bbox[\"east_shifted\"]});\n",
    "    node[\"amenity\"=\"pub\"]({london_bbox[\"south_shifted\"]},{london_bbox[\"west_shifted\"]},{london_bbox[\"north_shifted\"]},{london_bbox[\"east_shifted\"]});\n",
    "    node[\"amenity\"=\"restaurant\"]({london_bbox[\"south_shifted\"]},{london_bbox[\"west_shifted\"]},{london_bbox[\"north_shifted\"]},{london_bbox[\"east_shifted\"]});\n",
    "    node[\"amenity\"=\"cafe\"]({london_bbox[\"south_shifted\"]},{london_bbox[\"west_shifted\"]},{london_bbox[\"north_shifted\"]},{london_bbox[\"east_shifted\"]});\n",
    "    node[\"amenity\"=\"fast_food\"]({london_bbox[\"south_shifted\"]},{london_bbox[\"west_shifted\"]},{london_bbox[\"north_shifted\"]},{london_bbox[\"east_shifted\"]});\n",
    "    node[\"railway\"=\"subway_entrance\"]({london_bbox[\"south_shifted\"]},{london_bbox[\"west_shifted\"]},{london_bbox[\"north_shifted\"]},{london_bbox[\"east_shifted\"]});\n",
    "    node[\"cuisine\"]({london_bbox[\"south_shifted\"]},{london_bbox[\"west_shifted\"]},{london_bbox[\"north_shifted\"]},{london_bbox[\"east_shifted\"]});\n",
    "\n",
    "    node[\"tourism\"=\"attraction\"]({london_bbox[\"south_shifted\"]},{london_bbox[\"west_shifted\"]},{london_bbox[\"north_shifted\"]},{london_bbox[\"east_shifted\"]});\n",
    "    node[\"tourism\"=\"artwork\"]({london_bbox[\"south_shifted\"]},{london_bbox[\"west_shifted\"]},{london_bbox[\"north_shifted\"]},{london_bbox[\"east_shifted\"]});\n",
    "    node[\"tourism\"=\"gallery\"]({london_bbox[\"south_shifted\"]},{london_bbox[\"west_shifted\"]},{london_bbox[\"north_shifted\"]},{london_bbox[\"east_shifted\"]});\n",
    "    node[\"tourism\"=\"museum\"]({london_bbox[\"south_shifted\"]},{london_bbox[\"west_shifted\"]},{london_bbox[\"north_shifted\"]},{london_bbox[\"east_shifted\"]});\n",
    "    node[\"shop\"=\"boutique\"]({london_bbox[\"south_shifted\"]},{london_bbox[\"west_shifted\"]},{london_bbox[\"north_shifted\"]},{london_bbox[\"east_shifted\"]});\n",
    "    node[\"shop\"=\"clothes\"]({london_bbox[\"south_shifted\"]},{london_bbox[\"west_shifted\"]},{london_bbox[\"north_shifted\"]},{london_bbox[\"east_shifted\"]});\n",
    "    node[\"leisure\"=\"park\"]({london_bbox[\"south_shifted\"]},{london_bbox[\"west_shifted\"]},{london_bbox[\"north_shifted\"]},{london_bbox[\"east_shifted\"]});\n",
    "\n",
    "    way[\"amenity\"=\"bar\"]({london_bbox[\"south_shifted\"]},{london_bbox[\"west_shifted\"]},{london_bbox[\"north_shifted\"]},{london_bbox[\"east_shifted\"]});\n",
    "    way[\"amenity\"=\"pub\"]({london_bbox[\"south_shifted\"]},{london_bbox[\"west_shifted\"]},{london_bbox[\"north_shifted\"]},{london_bbox[\"east_shifted\"]});\n",
    "    way[\"amenity\"=\"restaurant\"]({london_bbox[\"south_shifted\"]},{london_bbox[\"west_shifted\"]},{london_bbox[\"north_shifted\"]},{london_bbox[\"east_shifted\"]});\n",
    "    way[\"amenity\"=\"cafe\"]({london_bbox[\"south_shifted\"]},{london_bbox[\"west_shifted\"]},{london_bbox[\"north_shifted\"]},{london_bbox[\"east_shifted\"]});\n",
    "    way[\"amenity\"=\"fast_food\"]({london_bbox[\"south_shifted\"]},{london_bbox[\"west_shifted\"]},{london_bbox[\"north_shifted\"]},{london_bbox[\"east_shifted\"]});\n",
    "    way[\"railway\"=\"subway_entrance\"]({london_bbox[\"south_shifted\"]},{london_bbox[\"west_shifted\"]},{london_bbox[\"north_shifted\"]},{london_bbox[\"east_shifted\"]});\n",
    "    way[\"cuisine\"]({london_bbox[\"south_shifted\"]},{london_bbox[\"west_shifted\"]},{london_bbox[\"north_shifted\"]},{london_bbox[\"east_shifted\"]});\n",
    "\n",
    "    way[\"tourism\"=\"attraction\"]({london_bbox[\"south_shifted\"]},{london_bbox[\"west_shifted\"]},{london_bbox[\"north_shifted\"]},{london_bbox[\"east_shifted\"]});\n",
    "    way[\"tourism\"=\"artwork\"]({london_bbox[\"south_shifted\"]},{london_bbox[\"west_shifted\"]},{london_bbox[\"north_shifted\"]},{london_bbox[\"east_shifted\"]});\n",
    "    way[\"tourism\"=\"gallery\"]({london_bbox[\"south_shifted\"]},{london_bbox[\"west_shifted\"]},{london_bbox[\"north_shifted\"]},{london_bbox[\"east_shifted\"]});\n",
    "    way[\"tourism\"=\"museum\"]({london_bbox[\"south_shifted\"]},{london_bbox[\"west_shifted\"]},{london_bbox[\"north_shifted\"]},{london_bbox[\"east_shifted\"]});\n",
    "    way[\"shop\"=\"boutique\"]({london_bbox[\"south_shifted\"]},{london_bbox[\"west_shifted\"]},{london_bbox[\"north_shifted\"]},{london_bbox[\"east_shifted\"]});\n",
    "    way[\"shop\"=\"clothes\"]({london_bbox[\"south_shifted\"]},{london_bbox[\"west_shifted\"]},{london_bbox[\"north_shifted\"]},{london_bbox[\"east_shifted\"]});\n",
    "    way[\"leisure\"=\"park\"]({london_bbox[\"south_shifted\"]},{london_bbox[\"west_shifted\"]},{london_bbox[\"north_shifted\"]},{london_bbox[\"east_shifted\"]});\n",
    "\n",
    "    );\n",
    "    (._;>;);\n",
    "out center;\n",
    "\"\"\"\n",
    "response = requests.get(overpass_url,\n",
    "                        params={'data': overpass_query})\n",
    "data = response.json()\n",
    "\n",
    "osm = pd.json_normalize(data, record_path=\"elements\")"
   ]
  },
  {
   "cell_type": "code",
   "execution_count": null,
   "metadata": {},
   "outputs": [],
   "source": [
    "osm.shape"
   ]
  },
  {
   "cell_type": "code",
   "execution_count": null,
   "metadata": {},
   "outputs": [],
   "source": [
    "osm_copy = osm "
   ]
  },
  {
   "cell_type": "code",
   "execution_count": null,
   "metadata": {},
   "outputs": [],
   "source": [
    "osm.head(2)"
   ]
  },
  {
   "attachments": {},
   "cell_type": "markdown",
   "metadata": {},
   "source": [
    "### 3.2. Data Cleaning OSM"
   ]
  },
  {
   "cell_type": "code",
   "execution_count": null,
   "metadata": {},
   "outputs": [],
   "source": [
    "### clean column names \n",
    "osm.columns = osm.columns.str.replace(\".\", \"_\", regex=False)\n",
    "osm.columns = osm.columns.str.replace(\":\", \"_\", regex=False)\n"
   ]
  },
  {
   "cell_type": "code",
   "execution_count": null,
   "metadata": {},
   "outputs": [],
   "source": [
    "### drop all columns with no lat or lon values \n",
    "osm[\"lat\"] = np.where(osm[\"lat\"].isna(), osm[\"center_lat\"], osm['lat'])\n",
    "osm[\"lon\"] = np.where(osm[\"lon\"].isna(), osm[\"center_lon\"], osm['lon'])"
   ]
  },
  {
   "cell_type": "code",
   "execution_count": null,
   "metadata": {},
   "outputs": [],
   "source": [
    "### rename lat/lon to latitude/longitude \n",
    "osm = osm.rename(columns={\"lat\": \"latitude\", \"lon\": \"longitude\"})\n"
   ]
  },
  {
   "cell_type": "code",
   "execution_count": null,
   "metadata": {},
   "outputs": [],
   "source": [
    "### drop \"tags_\" in the column names \n",
    "osm.columns = osm.columns.str.replace('tags_' , '')"
   ]
  },
  {
   "cell_type": "code",
   "execution_count": null,
   "metadata": {},
   "outputs": [],
   "source": [
    "### select only desired columns\n",
    "osm_keepers = [\"id\",\n",
    "                     \"latitude\",\n",
    "                     \"longitude\",\n",
    "                     \"name\",\n",
    "                     \"amenity\",\n",
    "                     \"tourism\",\n",
    "                     \"shop\",\n",
    "                     \"railway\",\n",
    "                     \"leisure\",\n",
    "                     \"cuisine\",\n",
    "                     \"diet_vegetarian\",\n",
    "                     \"diet_vegan\"]"
   ]
  },
  {
   "attachments": {},
   "cell_type": "markdown",
   "metadata": {},
   "source": [
    "### 3.3. Data Cleaning OSM_SHORT"
   ]
  },
  {
   "cell_type": "code",
   "execution_count": null,
   "metadata": {},
   "outputs": [],
   "source": [
    "osm_short = osm[osm_keepers]"
   ]
  },
  {
   "cell_type": "code",
   "execution_count": null,
   "metadata": {},
   "outputs": [],
   "source": [
    "# drop all rows with no name AND no amenity \n",
    "osm_short = osm_short.drop(osm_short[(osm_short['name'].isna()) & (osm_short['amenity'].isna())].index)"
   ]
  },
  {
   "cell_type": "code",
   "execution_count": null,
   "metadata": {},
   "outputs": [],
   "source": [
    "# combine pub & bar in one column\n",
    "osm_short['amenity'] = osm_short['amenity'].str.replace('pub', 'bar')"
   ]
  },
  {
   "cell_type": "code",
   "execution_count": null,
   "metadata": {},
   "outputs": [],
   "source": [
    "# create a new column `gastronomy` wh\n",
    "osm_short['gastronomy'] = np.where(osm_short['amenity'].isin(['restaurant', 'fast_food']), True, False)"
   ]
  },
  {
   "cell_type": "code",
   "execution_count": null,
   "metadata": {},
   "outputs": [],
   "source": [
    "# create seperate df's for each POI-Type in order to filter only relevant values for each type \n",
    "df_amenity = osm_short[[\"id\", \"amenity\"]]\n",
    "df_tourism = osm_short[[\"id\", \"tourism\"]]\n",
    "df_shop = osm_short[[\"id\", \"shop\"]]\n",
    "df_railway = osm_short[[\"id\", \"railway\"]]\n",
    "df_leisure = osm_short[[\"id\", \"leisure\"]]"
   ]
  },
  {
   "cell_type": "code",
   "execution_count": null,
   "metadata": {},
   "outputs": [],
   "source": [
    "# filter only relevant values for each type \n",
    "# fyi: df's had to be split as otherwise, POIs with values in more than one column would have been deleted \n",
    "df_amenity = df_amenity[df_amenity['amenity'].isin(['bar', 'restaurant', np.nan, 'cafe', 'fast_food', 'bakery', 'food_court'])]\n",
    "df_tourism = df_tourism[df_tourism['tourism'].isin(['artwork', 'attraction', np.nan, 'gallery', 'museum'])]\n",
    "df_shop = df_shop[df_shop['shop'].isin(['clothes', np.nan])]\n",
    "df_railway = df_railway[df_railway['railway'].isin(['subway_entrance', np.nan])]\n",
    "df_leisure = df_leisure[df_leisure['leisure'].isin(['park', np.nan])]\n"
   ]
  },
  {
   "cell_type": "code",
   "execution_count": null,
   "metadata": {},
   "outputs": [],
   "source": [
    "# merge the splitted df's \n",
    "df_splitted = df_amenity.merge(df_leisure, on=\"id\", how=\"outer\")\n",
    "df_splitted = df_splitted.merge(df_railway, on=\"id\", how=\"outer\")\n",
    "df_splitted = df_splitted.merge(df_leisure, on=\"id\", how=\"outer\")\n",
    "df_splitted = df_splitted.merge(df_shop, on=\"id\", how=\"outer\")\n",
    "df_splitted = df_splitted.merge(df_tourism, on=\"id\", how=\"outer\")"
   ]
  },
  {
   "cell_type": "code",
   "execution_count": null,
   "metadata": {},
   "outputs": [],
   "source": [
    "# define \"keepers\" for merge \n",
    "keep = [\"id\", \"latitude\", \"longitude\", \"name\", \"cuisine\", \"diet_vegetarian\", \"diet_vegan\"]"
   ]
  },
  {
   "cell_type": "code",
   "execution_count": null,
   "metadata": {},
   "outputs": [],
   "source": [
    "# merge df \n",
    "df_splitted = df_splitted.merge(osm_short[keep], on=\"id\", how=\"outer\")"
   ]
  },
  {
   "cell_type": "code",
   "execution_count": null,
   "metadata": {},
   "outputs": [],
   "source": [
    "# rename new columns \n",
    "df_splitted.columns = df_splitted.columns.str.replace(\"_y\", \"\", regex=False)\n"
   ]
  },
  {
   "cell_type": "code",
   "execution_count": null,
   "metadata": {},
   "outputs": [],
   "source": [
    "df_splitted.head(2)"
   ]
  },
  {
   "cell_type": "code",
   "execution_count": null,
   "metadata": {},
   "outputs": [],
   "source": [
    "# assign df back to osm_short \n",
    "osm_short = df_splitted"
   ]
  },
  {
   "cell_type": "code",
   "execution_count": null,
   "metadata": {},
   "outputs": [],
   "source": [
    "# set True/False values for vegetarian/vegan columns \n",
    "osm_short['diet_vegetarian'] = np.where(osm_short['diet_vegetarian'].isin(['yes', 'only', 'limited']), True, osm_short['diet_vegetarian'])\n",
    "osm_short['diet_vegetarian'] = np.where(osm_short['diet_vegetarian'] == 'no', False, osm_short['diet_vegetarian'])\n",
    "osm_short['diet_vegan'] = np.where(osm_short['diet_vegan'].isin(['yes', 'only', 'limited']), True, osm_short['diet_vegan'])\n",
    "osm_short['diet_vegan'] = np.where(osm_short['diet_vegan'] == 'no', False, osm_short['diet_vegan'])"
   ]
  },
  {
   "cell_type": "code",
   "execution_count": null,
   "metadata": {},
   "outputs": [],
   "source": [
    "osm_short.head()"
   ]
  },
  {
   "cell_type": "code",
   "execution_count": null,
   "metadata": {},
   "outputs": [],
   "source": [
    "osm_short.shape"
   ]
  },
  {
   "cell_type": "code",
   "execution_count": null,
   "metadata": {},
   "outputs": [],
   "source": [
    "osm_short[\"tourism\"].count()"
   ]
  },
  {
   "cell_type": "code",
   "execution_count": null,
   "metadata": {},
   "outputs": [],
   "source": [
    "osm_short[\"amenity\"].value_counts()"
   ]
  },
  {
   "attachments": {},
   "cell_type": "markdown",
   "metadata": {},
   "source": [
    "### 3.4 Create new columns for cuisines"
   ]
  },
  {
   "cell_type": "code",
   "execution_count": null,
   "metadata": {},
   "outputs": [],
   "source": [
    "cuisine_test = osm_short.copy()"
   ]
  },
  {
   "cell_type": "code",
   "execution_count": null,
   "metadata": {},
   "outputs": [],
   "source": [
    "# convert Nullvalues to an empty string\n",
    "cuisine_test[\"cuisine\"] = cuisine_test[\"cuisine\"].replace(np.nan,' ',regex=True)"
   ]
  },
  {
   "cell_type": "code",
   "execution_count": null,
   "metadata": {},
   "outputs": [],
   "source": [
    "# convert items in \"cuisine\" to a list\n",
    "cuisine_test[\"cuisine\"] = cuisine_test[\"cuisine\"].str.lower().str.split(';')"
   ]
  },
  {
   "cell_type": "code",
   "execution_count": null,
   "metadata": {},
   "outputs": [],
   "source": [
    "# create new columns for each cuisine\n",
    "from sklearn.preprocessing import MultiLabelBinarizer\n",
    "mlb = MultiLabelBinarizer()\n",
    "cuisine_type = cuisine_test.join(pd.DataFrame(mlb.fit_transform(cuisine_test.pop('cuisine')),\n",
    "                          columns=mlb.classes_,\n",
    "                          index=cuisine_test.index))"
   ]
  },
  {
   "cell_type": "code",
   "execution_count": null,
   "metadata": {},
   "outputs": [],
   "source": [
    "# create a list of cuisine with fewer than 25% of listings\n",
    "infrequent_cuisine = []\n",
    "for col in cuisine_type.iloc[: , 500:].columns:\n",
    "    if cuisine_type[col].sum() < len(cuisine_type)/25:\n",
    "        infrequent_cuisine.append(col)\n",
    "\n",
    "# drop infrequent amenity features\n",
    "cuisine_type.drop(infrequent_cuisine, axis=1, inplace=True)"
   ]
  },
  {
   "cell_type": "code",
   "execution_count": null,
   "metadata": {},
   "outputs": [],
   "source": [
    "#let chatgpt sort cuisines & create cuisine_bins \n",
    "\n",
    "cuisine_type['asian_cuisine'] = (cuisine_type['japanese'] | \n",
    "                                 cuisine_type['malaysian'] | \n",
    "                                 cuisine_type['thai'] | \n",
    "                                 cuisine_type['bangladesh'] | \n",
    "                                 cuisine_type['bengali'] | \n",
    "                                 cuisine_type['biryani'] | \n",
    "                                 cuisine_type['asian fusion'] | \n",
    "                                 cuisine_type['cantonese'] | \n",
    "                                 cuisine_type['chinese'] | \n",
    "                                 cuisine_type['chinese seafood'] | \n",
    "                                 cuisine_type['chinese+indian'] | \n",
    "                                 cuisine_type['chinese_fish_and_chips'] | \n",
    "                                 cuisine_type['chinese_tea'] | \n",
    "                                 cuisine_type['dumplings'] | \n",
    "                                 cuisine_type['east_asian'] | \n",
    "                                 cuisine_type['filipino'] | \n",
    "                                 cuisine_type['gyoza'] | \n",
    "                                 cuisine_type['indian'] | \n",
    "                                 cuisine_type['indochina'] | \n",
    "                                 cuisine_type['indonesian'] | \n",
    "                                 cuisine_type['cambodian'] | \n",
    "                                 cuisine_type['japanese_tea'] | \n",
    "                                 cuisine_type['korean'] | \n",
    "                                 cuisine_type['laotian'] | \n",
    "                                 cuisine_type['malay'] | \n",
    "                                 cuisine_type['mongolian'] | \n",
    "                                 cuisine_type['nepalese'] | \n",
    "                                 cuisine_type['pan-asian'] | \n",
    "                                 cuisine_type['ramen'] | \n",
    "                                 cuisine_type['sichuan'] | \n",
    "                                 cuisine_type['singaporean'] | \n",
    "                                 cuisine_type['sri lankan'] | \n",
    "                                 cuisine_type['sri_lankan'] | \n",
    "                                 cuisine_type['sushi'] | \n",
    "                                 cuisine_type['taiwan'] | \n",
    "                                 cuisine_type['taiwanese'] | \n",
    "                                 cuisine_type['tandoori'] | \n",
    "                                 cuisine_type['thai'] | \n",
    "                                 cuisine_type['thailandese'] | \n",
    "                                 cuisine_type['vietnamese']).astype(bool)"
   ]
  },
  {
   "cell_type": "code",
   "execution_count": null,
   "metadata": {},
   "outputs": [],
   "source": [
    "cuisine_type['italian_cuisine'] = (cuisine_type['pizza'] | \n",
    "                                   cuisine_type['italian'] | \n",
    "                                   cuisine_type['italian_pizza'] | \n",
    "                                   cuisine_type['pasta']).astype(bool)"
   ]
  },
  {
   "cell_type": "code",
   "execution_count": null,
   "metadata": {},
   "outputs": [],
   "source": [
    "cuisine_type['british_cuisine'] = (cuisine_type['afternoon_tea'] | \n",
    "                                   cuisine_type['british'] | \n",
    "                                   cuisine_type['british_cafe'] | \n",
    "                                   cuisine_type['bubble tea'] | \n",
    "                                   cuisine_type['bubble_tea'] | \n",
    "                                   cuisine_type['bubbles'] | \n",
    "                                   cuisine_type['breakfast'] | \n",
    "                                   cuisine_type['brunch'] | \n",
    "                                   cuisine_type['carvery'] | \n",
    "                                   cuisine_type['chips'] | \n",
    "                                   cuisine_type['cornish'] | \n",
    "                                   cuisine_type['cornish_pasty'] | \n",
    "                                   cuisine_type['english'] | \n",
    "                                   cuisine_type['english breakfast'] | \n",
    "                                   cuisine_type['english_breakfast'] | \n",
    "                                   cuisine_type['fry_ups'] | \n",
    "                                   cuisine_type['grilled'] | \n",
    "                                   cuisine_type['grill'] | \n",
    "                                   cuisine_type['jerk_chicken'] | \n",
    "                                   cuisine_type['pie'] | \n",
    "                                   cuisine_type['pie & mash'] | \n",
    "                                   cuisine_type['pie&mash'] | \n",
    "                                   cuisine_type['pie_and_mash']| \n",
    "                                   cuisine_type['fish_and_chips']).astype(bool)"
   ]
  },
  {
   "cell_type": "code",
   "execution_count": null,
   "metadata": {},
   "outputs": [],
   "source": [
    "cuisine_type['african_cuisine'] = (cuisine_type['african'] | \n",
    "                                   cuisine_type['afro-caribbean'] | \n",
    "                                   cuisine_type['afro-carribbean'] | \n",
    "                                   cuisine_type['afro-carribean'] | \n",
    "                                   cuisine_type['afro_caribbean'] | \n",
    "                                   cuisine_type['algerian'] | \n",
    "                                   cuisine_type['ethiopean'] | \n",
    "                                   cuisine_type['ethiopian'] | \n",
    "                                   cuisine_type['ghanaian'] | \n",
    "                                   cuisine_type['libyan'] | \n",
    "                                   cuisine_type['mauritian'] | \n",
    "                                   cuisine_type['lebanese'] | \n",
    "                                   cuisine_type['moroccan'] | \n",
    "                                   cuisine_type['afghan'] | \n",
    "                                   cuisine_type['nigerian'] | \n",
    "                                   cuisine_type['nigerian_cuisines'] | \n",
    "                                   cuisine_type['somali'] | \n",
    "                                   cuisine_type['somalian'] | \n",
    "                                   cuisine_type['south_african']).astype(bool)"
   ]
  },
  {
   "cell_type": "code",
   "execution_count": null,
   "metadata": {},
   "outputs": [],
   "source": [
    "cuisine_type['arab_cuisine'] = (cuisine_type['arab'] | \n",
    "                                cuisine_type['arabic'] | \n",
    "                                cuisine_type['egyptian'] | \n",
    "                                cuisine_type['egyptian,arab,african'] | \n",
    "                                cuisine_type['iraqi'] | \n",
    "                                cuisine_type['israeli'] | \n",
    "                                cuisine_type['kuwaiti'] | \n",
    "                                cuisine_type['lebanese'] | \n",
    "                                cuisine_type['levantine'] | \n",
    "                                cuisine_type['palestinian'] | \n",
    "                                cuisine_type['persian'] | \n",
    "                                cuisine_type['syrian'] | \n",
    "                                cuisine_type['kebab'] | \n",
    "                                cuisine_type['shakshuka'] | \n",
    "                                cuisine_type['shawarma'] | \n",
    "                                cuisine_type['falafel']).astype(bool)"
   ]
  },
  {
   "cell_type": "code",
   "execution_count": null,
   "metadata": {},
   "outputs": [],
   "source": [
    "cuisine_type['yoghurt'] = (cuisine_type['yoghurt']).astype(bool)"
   ]
  },
  {
   "cell_type": "code",
   "execution_count": null,
   "metadata": {},
   "outputs": [],
   "source": [
    "#relevant columns: \n",
    "cuisine_keeper = ['id',\n",
    "                  'asian_cuisine',\n",
    "                  'italian_cuisine',\n",
    "                  'british_cuisine',\n",
    "                  'african_cuisine',\n",
    "                  'arab_cuisine',\n",
    "                  'yoghurt']"
   ]
  },
  {
   "cell_type": "code",
   "execution_count": null,
   "metadata": {},
   "outputs": [],
   "source": [
    "# keep only relevant columns \n",
    "cuisine_type_short = cuisine_type[cuisine_keeper]"
   ]
  },
  {
   "cell_type": "code",
   "execution_count": null,
   "metadata": {},
   "outputs": [],
   "source": [
    "# merge to one dataframe \n",
    "osm_short = osm_short.merge(cuisine_type_short, how=\"left\", on=\"id\")"
   ]
  },
  {
   "cell_type": "code",
   "execution_count": null,
   "metadata": {},
   "outputs": [],
   "source": [
    "#delete old cuisine-column\n",
    "del osm_short['cuisine']"
   ]
  },
  {
   "cell_type": "code",
   "execution_count": null,
   "metadata": {},
   "outputs": [],
   "source": [
    "#now 1/5 of our rows has a cuisine type\n",
    "osm_short.loc[(osm_short['italian_cuisine'] == True) | (osm_short['british_cuisine'] == True) | (osm_short['arab_cuisine'] == True) | (osm_short['african_cuisine'] == True) | (osm_short['asian_cuisine'] == True)]"
   ]
  },
  {
   "cell_type": "code",
   "execution_count": null,
   "metadata": {},
   "outputs": [],
   "source": [
    "osm_short[\"amenity\"].value_counts(dropna=False)"
   ]
  },
  {
   "cell_type": "code",
   "execution_count": null,
   "metadata": {},
   "outputs": [],
   "source": [
    "osm_short[\"leisure\"].value_counts(dropna=False)"
   ]
  },
  {
   "cell_type": "code",
   "execution_count": null,
   "metadata": {},
   "outputs": [],
   "source": [
    "osm_short.shape"
   ]
  },
  {
   "attachments": {},
   "cell_type": "markdown",
   "metadata": {},
   "source": [
    "### Add scraped review Data to OSM "
   ]
  },
  {
   "cell_type": "code",
   "execution_count": null,
   "metadata": {},
   "outputs": [],
   "source": [
    "osm_keepers = [\"id\",\n",
    "               \"name\",\n",
    "               \"latitude\",\n",
    "               \"longitude\",\n",
    "               \"leisure\",\n",
    "               \"shop\",\n",
    "               \"tourism\",\n",
    "               \"railway\",\n",
    "               \"amenity\"]\n"
   ]
  },
  {
   "cell_type": "code",
   "execution_count": null,
   "metadata": {},
   "outputs": [],
   "source": [
    "osm_tab = osm_short[osm_keepers]"
   ]
  },
  {
   "cell_type": "code",
   "execution_count": null,
   "metadata": {},
   "outputs": [],
   "source": [
    "# read in review data \n",
    "r_reviews = pd.read_csv(f\"data/london/g1_restaurant_reviews.csv\")"
   ]
  },
  {
   "cell_type": "code",
   "execution_count": null,
   "metadata": {},
   "outputs": [],
   "source": [
    "# merge to osm df \n",
    "osm_tab = osm_tab.merge(r_reviews[[\"id\", \"rating\", \"reviews\", \"price\", \"closed\", \"url\"]], on=\"id\", how=\"left\")\n"
   ]
  },
  {
   "cell_type": "code",
   "execution_count": null,
   "metadata": {},
   "outputs": [],
   "source": [
    "# drop all rows with closed restaurants \n",
    "osm_tab = osm_tab[(osm_tab[\"closed\"].isna()) | (osm_tab[\"closed\"] == False)]"
   ]
  },
  {
   "cell_type": "code",
   "execution_count": null,
   "metadata": {},
   "outputs": [],
   "source": [
    "# drop closed column\n",
    "osm_tab = osm_tab.drop(\"closed\", axis=1)"
   ]
  },
  {
   "cell_type": "code",
   "execution_count": null,
   "metadata": {},
   "outputs": [],
   "source": [
    "# replace € with int for further EDA \n",
    "osm_tab[\"price_cat\"] = osm_tab[\"price\"].replace({\"€\": 1, \"€€\": 2, \"€€€\": 3, \"€€€€\": 4, \"3-star hotel\": np.nan,\n",
    "                             \"4-star hotel\": np.nan, \"2-star hotel\": np.nan, \"-star hotel\": np.nan, \"5-star hotel\": np.nan})\n"
   ]
  },
  {
   "cell_type": "code",
   "execution_count": null,
   "metadata": {},
   "outputs": [],
   "source": [
    "# replace , and convert to float \n",
    "osm_tab[\"reviews\"] = osm_tab[\"reviews\"].str.replace(\",\", \"\").astype(float)"
   ]
  },
  {
   "cell_type": "code",
   "execution_count": null,
   "metadata": {},
   "outputs": [],
   "source": [
    "# export to csv for tableau \n",
    "osm_tab.to_csv(\"tab_export_osm.csv\")"
   ]
  },
  {
   "cell_type": "code",
   "execution_count": null,
   "metadata": {},
   "outputs": [],
   "source": [
    "osm_tab.head(2)"
   ]
  },
  {
   "cell_type": "code",
   "execution_count": null,
   "metadata": {},
   "outputs": [],
   "source": [
    "osm_tab[osm_tab[\"amenity\"] == \"restaurant\"].shape"
   ]
  },
  {
   "cell_type": "code",
   "execution_count": null,
   "metadata": {},
   "outputs": [],
   "source": [
    "osm_tab[osm_tab[\"amenity\"] == \"restaurant\"].isnull().sum()"
   ]
  },
  {
   "attachments": {},
   "cell_type": "markdown",
   "metadata": {},
   "source": [
    "## 4.Combine airbnb Dataframe with POI's (Gastro)\n",
    "\n",
    "The Number of POI's in a Distance of 500m has been calculated in Tableau* as listed below. After exporting it, it will now be merged into the `airbnb` Dataframe\n",
    "\n",
    "Tableau Code: \n",
    "```Tableau\n",
    "MAKEPOINT([Lat], [Lon])\n",
    " \n",
    "BUFFER(MAKEPOINT([Latitude], [Longitude]), 500, 'meters')\n",
    "```\n",
    "\n",
    "* as you will see in 11. Calculation in Python, the calculation of the distances in Python didn't match the calculated distances in Tableau, due to converting issues.\n",
    "Therefore we sticked with the Tableau calculation so that the distances match to the Dashboard"
   ]
  },
  {
   "cell_type": "code",
   "execution_count": null,
   "metadata": {},
   "outputs": [],
   "source": [
    "airbnb.head(2)"
   ]
  },
  {
   "cell_type": "code",
   "execution_count": null,
   "metadata": {},
   "outputs": [],
   "source": [
    "# read in table with number of POI in 500 meter radius. calculated in Tableau\n",
    "amenities_500 = pd.read_excel(f'data/london/number_amenities_per_airbnb_500.xlsx', skiprows=1)"
   ]
  },
  {
   "cell_type": "code",
   "execution_count": null,
   "metadata": {},
   "outputs": [],
   "source": [
    "poi_gastro = (\n",
    "    airbnb.merge(amenities_500, left_on=\"id\", right_on=\"Id\", how=\"left\")\n",
    "    .rename(columns={\"bar\": \"bar_500\", \"cafe\": \"cafe_500\", \"fast_food\": \"fast_food_500\", \"restaurant\": \"restaurant_500\"})\n",
    "    .drop(\"Id\", axis=1)\n",
    ")"
   ]
  },
  {
   "attachments": {},
   "cell_type": "markdown",
   "metadata": {},
   "source": [
    "## 5.Combine with remaining POI Themes\n",
    "\n",
    "Leisure / Railway / Shop / Tourism"
   ]
  },
  {
   "cell_type": "code",
   "execution_count": null,
   "metadata": {},
   "outputs": [],
   "source": [
    "# read in tables with number of POI in 500 meter radius. calculated in Tableau\n",
    "# fyi: after first analysis on gastro POI's, we decided to keep a radius of 500m only \n",
    "leisure_500 = pd.read_excel(f'data/london/pois_leisure_500.xlsx', skiprows=1)\n",
    "shop_500 = pd.read_excel(f'data/london/pois_shop_500.xlsx', skiprows=1)\n",
    "tourism_500 = pd.read_excel(f'data/london/pois_tourism_500.xlsx', skiprows=1)\n",
    "railway_500 = pd.read_excel(f'data/london/pois_railway_500.xlsx', skiprows=1)\n",
    "railway_200 = pd.read_excel(f'data/london/pois_railway_200.xlsx', skiprows=1)\n"
   ]
  },
  {
   "cell_type": "code",
   "execution_count": null,
   "metadata": {},
   "outputs": [],
   "source": [
    "# merge leisure\n",
    "poi = (\n",
    "    poi_gastro.merge(leisure_500, left_on=\"id\", right_on=\"Id\", how=\"outer\")\n",
    "    .drop([\"Id\", \"Listing Url\"], axis=1)\n",
    "    .rename(columns={\"park\": \"park_500\"})\n",
    ")"
   ]
  },
  {
   "cell_type": "code",
   "execution_count": null,
   "metadata": {},
   "outputs": [],
   "source": [
    "# merge shop\n",
    "poi = (\n",
    "    poi.merge(shop_500, left_on=\"id\", right_on=\"Id\", how=\"outer\")\n",
    "    .drop([\"Id\", \"Listing Url\"], axis=1)\n",
    "    .rename(columns={\"clothes\": \"clothes_shop_500\"})\n",
    ")"
   ]
  },
  {
   "cell_type": "code",
   "execution_count": null,
   "metadata": {},
   "outputs": [],
   "source": [
    "# merge tourism\n",
    "poi = (\n",
    "    poi.merge(tourism_500, left_on=\"id\", right_on=\"Id\", how=\"outer\")\n",
    "    .drop([\"Id\", \"Listing Url\", \"artwork\"], axis=1)\n",
    "    .rename(columns={\"attraction\": \"attraction_500\", \"gallery\": \"gallery_500\", \"museum\": \"museum_500\"})\n",
    ")\n",
    "poi.shape"
   ]
  },
  {
   "cell_type": "code",
   "execution_count": null,
   "metadata": {},
   "outputs": [],
   "source": [
    "# merge railway_500\n",
    "poi = (\n",
    "    poi.merge(railway_500, left_on=\"id\", right_on=\"Id\", how=\"outer\")\n",
    "    .drop([\"Id\", \"Listing Url\"], axis=1)\n",
    "    .rename(columns={\"subway_entrance\": \"subway_entrance_500\"})\n",
    ")\n",
    "poi.shape"
   ]
  },
  {
   "cell_type": "code",
   "execution_count": null,
   "metadata": {},
   "outputs": [],
   "source": [
    "# merge railway_200\n",
    "poi = (\n",
    "    poi.merge(railway_200, left_on=\"id\", right_on=\"Id\", how=\"outer\")\n",
    "    .drop([\"Id\", \"Listing Url\"], axis=1)\n",
    "    .rename(columns={\"subway_entrance\": \"subway_entrance_200\"})\n",
    ")\n",
    "poi.shape"
   ]
  },
  {
   "attachments": {},
   "cell_type": "markdown",
   "metadata": {},
   "source": [
    "## 6.Clean poi"
   ]
  },
  {
   "cell_type": "code",
   "execution_count": null,
   "metadata": {},
   "outputs": [],
   "source": [
    "# fill NaN values with 0 for reviews_per_month & poi cols\n",
    "nan_cols = ['bar_500', 'cafe_500', 'fast_food_500', 'restaurant_500','attraction_500', 'gallery_500', 'museum_500', 'reviews_per_month', 'park_500', 'clothes_shop_500']\n",
    "\n",
    "poi[nan_cols] = poi[nan_cols].fillna(0)"
   ]
  },
  {
   "attachments": {},
   "cell_type": "markdown",
   "metadata": {},
   "source": [
    "### new column: gastro_500\n",
    "\n",
    "all bars, cafes, restaurants + fast_food POI's"
   ]
  },
  {
   "cell_type": "code",
   "execution_count": null,
   "metadata": {},
   "outputs": [],
   "source": [
    "# calculate a new field with all gastronomy POI's in a radius of 500 m\n",
    "poi['gastro_500'] = poi['bar_500'] + poi['cafe_500'] + poi['restaurant_500'] + poi['fast_food_500']"
   ]
  },
  {
   "attachments": {},
   "cell_type": "markdown",
   "metadata": {},
   "source": [
    "### new column: art_500 "
   ]
  },
  {
   "cell_type": "code",
   "execution_count": null,
   "metadata": {},
   "outputs": [],
   "source": [
    "# calculate a new field with all museums & galleries combined \n",
    "poi['art_500'] = poi['gallery_500'] + poi['museum_500']"
   ]
  },
  {
   "attachments": {},
   "cell_type": "markdown",
   "metadata": {},
   "source": [
    "### new column: price_category"
   ]
  },
  {
   "cell_type": "code",
   "execution_count": null,
   "metadata": {},
   "outputs": [],
   "source": [
    "# check distribution\n",
    "poi[\"price\"].describe(percentiles=[.01, .25, .50, .75, .90])"
   ]
  },
  {
   "cell_type": "code",
   "execution_count": null,
   "metadata": {},
   "outputs": [],
   "source": [
    "# 0-19 - 0 \n",
    "# 20-60 - 1 = low-budget\n",
    "# 61-100 - 2 = budget\n",
    "# 101-180 - 3 = standard\n",
    "# 181+ - 4 = luxury \n",
    "\n",
    "# set conditions & values for each price category:\n",
    "conditions = [\n",
    "    (poi[\"price\"] == 0),\n",
    "    (poi[\"price\"] > 0) & (poi[\"price\"] <= 60),\n",
    "    (poi[\"price\"] > 60) & (poi[\"price\"] <= 100),\n",
    "    (poi[\"price\"] > 100) & (poi[\"price\"] <= 180),\n",
    "    (poi[\"price\"] > 180)\n",
    "]\n",
    "\n",
    "values = [0, 1, 2, 3, 4]\n",
    "\n",
    "# create new column\n",
    "poi[\"price_category\"] = np.select(conditions, values)"
   ]
  },
  {
   "attachments": {},
   "cell_type": "markdown",
   "metadata": {},
   "source": [
    "### new column: \"roomtype_int\"  "
   ]
  },
  {
   "cell_type": "code",
   "execution_count": null,
   "metadata": {},
   "outputs": [],
   "source": [
    "# Shared room = 1\n",
    "# Private room = 2\n",
    "# Hotel room = 3\n",
    "# Entire home = 4 \n",
    "\n",
    "# set conditions & values for each price category:\n",
    "conditions = [poi[\"room_type\"] == \"Shared room\", \n",
    "              poi[\"room_type\"] == \"Private room\", \n",
    "              poi[\"room_type\"] == \"Hotel room\", \n",
    "              poi[\"room_type\"] == \"Entire home\"\n",
    "              ]\n",
    "\n",
    "values = (1,2,3,4)\n",
    "\n",
    "# create new column\n",
    "poi[\"room_type_int\"] = np.select(conditions, values)\n"
   ]
  },
  {
   "attachments": {},
   "cell_type": "markdown",
   "metadata": {},
   "source": [
    "### convert subway_entrance_xy to bool"
   ]
  },
  {
   "cell_type": "code",
   "execution_count": null,
   "metadata": {},
   "outputs": [],
   "source": [
    "# Convert columns to boolean values\n",
    "poi['subway_entrance_500'] = poi['subway_entrance_500'].astype(bool)\n",
    "poi['subway_entrance_200'] = poi['subway_entrance_200'].astype(bool)"
   ]
  },
  {
   "attachments": {},
   "cell_type": "markdown",
   "metadata": {},
   "source": [
    "### re-order columns in a suitable way"
   ]
  },
  {
   "cell_type": "code",
   "execution_count": null,
   "metadata": {},
   "outputs": [],
   "source": [
    "print([f\"{col}\" for col in poi.columns])\n"
   ]
  },
  {
   "cell_type": "code",
   "execution_count": null,
   "metadata": {},
   "outputs": [],
   "source": [
    "# shorten neighbourhood column-name \n",
    "poi = poi.rename(columns={\"neighbourhood_cleansed\": \"neighbourhood\"})"
   ]
  },
  {
   "cell_type": "code",
   "execution_count": null,
   "metadata": {},
   "outputs": [],
   "source": [
    "# shorten _coffee column-name \n",
    "poi = poi.rename(columns={\"coffee_\": \"coffee\"})"
   ]
  },
  {
   "cell_type": "code",
   "execution_count": null,
   "metadata": {},
   "outputs": [],
   "source": [
    "# specify needed columns in new order\n",
    "new_col_order = ['id', 'listing_url', 'name', 'picture_url',                                                            #basics\n",
    "                 'host_id', 'host_response_rate', 'host_acceptance_rate',                                               #host\n",
    "                 'host_is_superhost', 'host_listings_count', 'host_total_listings_count', \n",
    "                 'neighbourhood', 'latitude', 'longitude',                                                              #location\n",
    "                 'room_type', 'room_type_int', 'accommodates', 'bedrooms', 'beds',                                      #type of accommodation\n",
    "                 'price', 'price_category', 'availability_90',                                                          # price\n",
    "                 'number_of_reviews', 'reviews_per_month', 'number_of_reviews_ltm',                                     #reviews\n",
    "                 'review_scores_rating', 'review_scores_accuracy', 'review_scores_cleanliness', 'review_scores_checkin', \n",
    "                 'review_scores_communication', 'review_scores_location', 'review_scores_value', \n",
    "                 'long_term_stays_allowed', 'pets_allowed',                                                             #amenities               \n",
    "                 'private_bath', 'bathtub', 'private_patio_or_balcony', 'private_entrance', 'outdoor_dining_area', \n",
    "                 'wifi', 'lockbox', 'kitchen', 'hair_dryer', 'coffee', 'bed_linens', \n",
    "                 'free_street_parking', 'free_parking_on_premises', 'dedicated_workspace', \n",
    "                 'bar_500','cafe_500', 'fast_food_500', 'restaurant_500', 'gastro_500',                                 #POI's\n",
    "                 'park_500', \n",
    "                 'clothes_shop_500', \n",
    "                 'attraction_500', 'gallery_500', 'museum_500', 'art_500','subway_entrance_500', 'subway_entrance_200']\n"
   ]
  },
  {
   "cell_type": "code",
   "execution_count": null,
   "metadata": {},
   "outputs": [],
   "source": [
    "tab = ['id', 'listing_url', 'name', 'neighbourhood', 'latitude', 'longitude', \n",
    "       'room_type','accommodates', 'price', 'price_category', 'number_of_reviews','review_scores_rating' , \n",
    "       'private_bath', 'pets_allowed', 'private_patio_or_balcony' ]"
   ]
  },
  {
   "cell_type": "code",
   "execution_count": null,
   "metadata": {},
   "outputs": [],
   "source": [
    "poi[tab].to_csv(\"tab_export_airbnb.csv\")"
   ]
  },
  {
   "cell_type": "code",
   "execution_count": null,
   "metadata": {},
   "outputs": [],
   "source": [
    "poi[tab].shape"
   ]
  },
  {
   "cell_type": "code",
   "execution_count": null,
   "metadata": {},
   "outputs": [],
   "source": [
    "# assign back to poi\n",
    "poi = poi[new_col_order]"
   ]
  },
  {
   "attachments": {},
   "cell_type": "markdown",
   "metadata": {},
   "source": [
    "## 7.Add Average House-Prices for each Neighbourhood "
   ]
  },
  {
   "cell_type": "code",
   "execution_count": null,
   "metadata": {},
   "outputs": [],
   "source": [
    "borough_prices = pd.read_csv(f'data/london/borough_costs_2022.csv')\n",
    "borough_prices.head()\n"
   ]
  },
  {
   "cell_type": "code",
   "execution_count": null,
   "metadata": {},
   "outputs": [],
   "source": [
    "borough_prices.info()"
   ]
  },
  {
   "cell_type": "code",
   "execution_count": null,
   "metadata": {},
   "outputs": [],
   "source": [
    "# drop old values & difference \n",
    "del borough_prices['December 2021']\n",
    "del borough_prices['Difference']"
   ]
  },
  {
   "cell_type": "code",
   "execution_count": null,
   "metadata": {},
   "outputs": [],
   "source": [
    "# convert prices to int \n",
    "borough_prices['December 2022'] = borough_prices['December 2022'].str[1:]\n",
    "borough_prices['December 2022'] = borough_prices['December 2022'].str.replace(',','')\n",
    "borough_prices['December 2022'] = borough_prices['December 2022'].astype(\"int\")\n"
   ]
  },
  {
   "cell_type": "code",
   "execution_count": null,
   "metadata": {},
   "outputs": [],
   "source": [
    "# apply snakecase & rename \n",
    "borough_prices = borough_prices.rename({'London borough': 'neighbourhood', 'December 2022': 'avg_housing_price_22'}, axis=1)\n"
   ]
  },
  {
   "cell_type": "code",
   "execution_count": null,
   "metadata": {},
   "outputs": [],
   "source": [
    "# rename westminster\n",
    "borough_prices['neighbourhood'] = borough_prices['neighbourhood'].str.replace('City of Westminster', 'Westminster')\n"
   ]
  },
  {
   "cell_type": "code",
   "execution_count": null,
   "metadata": {},
   "outputs": [],
   "source": [
    "poi = poi.merge(borough_prices, on=\"neighbourhood\", how=\"left\")"
   ]
  },
  {
   "attachments": {},
   "cell_type": "markdown",
   "metadata": {},
   "source": [
    "### add review data"
   ]
  },
  {
   "cell_type": "code",
   "execution_count": null,
   "metadata": {},
   "outputs": [],
   "source": [
    "# import xlsx file, calculated in tableau\n",
    "rating_bars = pd.read_excel(f\"data/london/avg_pricecat_rating_bars_500.xlsx\")\n",
    "# rename columns \n",
    "rating_bars = rating_bars.rename(columns={\"Id\": \"id\", \"Avg. Price Cat\": \"price_cat_bar\", \"Unnamed: 2\": \"rating_bar\"})\n",
    "\n",
    "rating_restaurant = pd.read_excel(f\"data/london/avg_pricecat_rating_restaurants_500.xlsx\")\n",
    "rating_restaurant = rating_restaurant.rename(columns={\"Id\": \"id\", \"Avg. Price Cat\": \"price_cat_restaurant\", \"Unnamed: 2\": \"rating_restaurant\"})\n",
    "\n",
    "# merge \n",
    "ratings = rating_restaurant.merge(rating_bars, on=\"id\", how=\"outer\")"
   ]
  },
  {
   "cell_type": "code",
   "execution_count": null,
   "metadata": {},
   "outputs": [],
   "source": [
    "# merge to cleaned poi\n",
    "poi = poi.merge(ratings, on=\"id\", how=\"left\")"
   ]
  },
  {
   "cell_type": "code",
   "execution_count": null,
   "metadata": {},
   "outputs": [],
   "source": [
    "# specify needed columns in new order\n",
    "new_col_order = ['id', 'listing_url', 'name', 'picture_url',                                                            #basics\n",
    "                 'host_id', 'host_response_rate', 'host_acceptance_rate',                                               #host\n",
    "                 'host_is_superhost', 'host_listings_count', 'host_total_listings_count', \n",
    "                 'neighbourhood', 'avg_housing_price_22', 'latitude', 'longitude',                                      #location\n",
    "                 'room_type', 'room_type_int', 'accommodates', 'bedrooms', 'beds',                                      #type of accommodation\n",
    "                 'price', 'price_category', 'availability_90',                                                           # price\n",
    "                 'number_of_reviews', 'reviews_per_month', 'number_of_reviews_ltm',                                     #reviews\n",
    "                 'review_scores_rating', 'review_scores_accuracy', 'review_scores_cleanliness', 'review_scores_checkin', \n",
    "                 'review_scores_communication', 'review_scores_location', 'review_scores_value', \n",
    "                 'long_term_stays_allowed', 'pets_allowed',                                                             #amenities               \n",
    "                 'private_bath', 'bathtub', 'private_patio_or_balcony', 'private_entrance', 'outdoor_dining_area', \n",
    "                 'wifi', 'lockbox', 'kitchen', 'hair_dryer', 'coffee', 'bed_linens', \n",
    "                 'free_street_parking', 'free_parking_on_premises', 'dedicated_workspace', \n",
    "                 'bar_500', 'price_cat_bar', 'rating_bar', 'cafe_500', 'fast_food_500',                                 #POI's \n",
    "                 'restaurant_500', 'price_cat_restaurant' , 'rating_restaurant', 'gastro_500', 'park_500', \n",
    "                 'clothes_shop_500', \n",
    "                 'attraction_500', 'gallery_500', 'museum_500', 'art_500','subway_entrance_500', 'subway_entrance_200']"
   ]
  },
  {
   "cell_type": "code",
   "execution_count": null,
   "metadata": {},
   "outputs": [],
   "source": [
    "poi = poi[new_col_order]"
   ]
  },
  {
   "cell_type": "code",
   "execution_count": null,
   "metadata": {},
   "outputs": [],
   "source": [
    "# convert price categories into float\n",
    "poi['price_cat_bar'] = poi['price_cat_bar'].str.replace(',','')\n",
    "poi['price_cat_bar'] = poi['price_cat_bar'].astype(\"float\")\n",
    "\n",
    "poi['price_cat_restaurant'] = poi['price_cat_restaurant'].str.replace(',','')\n",
    "poi['price_cat_restaurant'] = poi['price_cat_restaurant'].astype(\"float\")"
   ]
  },
  {
   "cell_type": "code",
   "execution_count": null,
   "metadata": {},
   "outputs": [],
   "source": [
    "poi.head(2)"
   ]
  },
  {
   "cell_type": "code",
   "execution_count": null,
   "metadata": {},
   "outputs": [],
   "source": [
    "poi.columns"
   ]
  },
  {
   "attachments": {},
   "cell_type": "markdown",
   "metadata": {},
   "source": [
    "## 8.Price prediction"
   ]
  },
  {
   "attachments": {},
   "cell_type": "markdown",
   "metadata": {},
   "source": [
    "### data preparation"
   ]
  },
  {
   "cell_type": "code",
   "execution_count": null,
   "metadata": {},
   "outputs": [],
   "source": [
    "# create a new column: accommodates_per_bedroom\n",
    "poi[\"accommodates_per_bedroom\"] = poi[\"bedrooms\"] / poi[\"accommodates\"]"
   ]
  },
  {
   "cell_type": "code",
   "execution_count": null,
   "metadata": {},
   "outputs": [],
   "source": [
    "# specify needed columns for prediction\n",
    "reg_cols = ['id',                                                                                                           \n",
    "                 'host_is_superhost', 'host_listings_count', 'host_total_listings_count', \n",
    "                 'neighbourhood', 'avg_housing_price_22',                                      \n",
    "                 'room_type', 'accommodates_per_bedroom', 'bedrooms',                                     \n",
    "                 'price', 'price_category', 'availability_90',                                                           \n",
    "                 'number_of_reviews', 'reviews_per_month', 'number_of_reviews_ltm',                                    \n",
    "                 'review_scores_rating',\n",
    "                 'long_term_stays_allowed', 'pets_allowed',                                                                           \n",
    "                 'private_bath', 'bathtub', 'private_patio_or_balcony', 'private_entrance', 'outdoor_dining_area', \n",
    "                 'wifi', 'lockbox', 'kitchen', 'hair_dryer', 'coffee', 'bed_linens', \n",
    "                 'free_street_parking', 'free_parking_on_premises', 'dedicated_workspace', \n",
    "                 'bar_500', 'price_cat_bar', 'rating_bar',                                 \n",
    "                 'restaurant_500', 'price_cat_restaurant' , 'rating_restaurant', 'gastro_500', 'park_500', \n",
    "                 'clothes_shop_500', \n",
    "                 'attraction_500', 'art_500', 'subway_entrance_200']"
   ]
  },
  {
   "cell_type": "code",
   "execution_count": null,
   "metadata": {},
   "outputs": [],
   "source": [
    "df = poi[reg_cols]"
   ]
  },
  {
   "cell_type": "code",
   "execution_count": null,
   "metadata": {},
   "outputs": [],
   "source": [
    "# set categorical values for average housing price \n",
    "\n",
    "# define the conditions and categories\n",
    "conditions = [\n",
    "    df[\"avg_housing_price_22\"] < 400000,\n",
    "    (df[\"avg_housing_price_22\"] >= 400000) & (df[\"avg_housing_price_22\"] < 500000),\n",
    "    (df[\"avg_housing_price_22\"] >= 500000) & (df[\"avg_housing_price_22\"] < 600000),\n",
    "    (df[\"avg_housing_price_22\"] >= 600000) & (df[\"avg_housing_price_22\"] < 750000),\n",
    "    df[\"avg_housing_price_22\"] >= 750000\n",
    "]\n",
    "categories = [\n",
    "    \"very_low\",\n",
    "    \"low\",\n",
    "    \"medium\",\n",
    "    \"high\",\n",
    "    \"very_high\"\n",
    "]\n",
    "\n",
    "# create the new column based on the conditions and categories\n",
    "df[\"housing_price_cat\"] = np.select(conditions, categories)"
   ]
  },
  {
   "cell_type": "code",
   "execution_count": null,
   "metadata": {},
   "outputs": [],
   "source": [
    "# convert bool columns to int\n",
    "df[[\"private_bath\", \"host_is_superhost\", \"subway_entrance_200\"]] = df[[\"private_bath\", \"host_is_superhost\", \"subway_entrance_200\"]].astype(int)"
   ]
  },
  {
   "cell_type": "code",
   "execution_count": null,
   "metadata": {},
   "outputs": [],
   "source": [
    "# convert price categories into float\n",
    "df['price_cat_bar'] = df['price_cat_bar'].str.replace(',','')\n",
    "df['price_cat_bar'] = df['price_cat_bar'].astype(\"float\")\n",
    "\n",
    "df['price_cat_restaurant'] = df['price_cat_restaurant'].str.replace(',','')\n",
    "df['price_cat_restaurant'] = df['price_cat_restaurant'].astype(\"float\")"
   ]
  },
  {
   "cell_type": "code",
   "execution_count": null,
   "metadata": {},
   "outputs": [],
   "source": [
    "# set nan's for review_scores_rating to 0 \n",
    "df['review_scores_rating'] = df['review_scores_rating'].fillna(0)"
   ]
  },
  {
   "cell_type": "code",
   "execution_count": null,
   "metadata": {},
   "outputs": [],
   "source": [
    "# remove outliers from price \n",
    "from scipy import stats\n",
    "\n",
    "# Calculate the z-scores for poi[price] and filter the df\n",
    "z_scores = np.abs(stats.zscore(df['price']))\n",
    "threshold = 3\n",
    "df = df[z_scores < threshold]"
   ]
  },
  {
   "cell_type": "code",
   "execution_count": null,
   "metadata": {},
   "outputs": [],
   "source": [
    "# remove all rows where room type is \"shared room\" or \"hotel room\", also rows with price = 0 \n",
    "df = df[(df[\"room_type\"] == \"Entire home\") | (df[\"room_type\"] == \"Private room\")]\n",
    "df = df[~df[\"price\"].isnull()]\n"
   ]
  },
  {
   "cell_type": "code",
   "execution_count": null,
   "metadata": {},
   "outputs": [],
   "source": [
    "# One-hot encode categorical variables\n",
    "df = pd.get_dummies(df, columns=[\"room_type\", \"neighbourhood\", \"housing_price_cat\"])"
   ]
  },
  {
   "cell_type": "code",
   "execution_count": null,
   "metadata": {},
   "outputs": [],
   "source": [
    "# set nan's for remaining columns with nan to median \n",
    "foo = [\"rating_bar\", \"price_cat_bar\", \"price_cat_restaurant\", \"rating_restaurant\"]\n",
    "\n",
    "for x in foo: \n",
    "    df[x] = df[x].fillna(df[x].mean())"
   ]
  },
  {
   "cell_type": "code",
   "execution_count": null,
   "metadata": {},
   "outputs": [],
   "source": [
    "df[\"price\"].max()"
   ]
  },
  {
   "attachments": {},
   "cell_type": "markdown",
   "metadata": {},
   "source": [
    "### check for correlation"
   ]
  },
  {
   "cell_type": "code",
   "execution_count": null,
   "metadata": {},
   "outputs": [],
   "source": [
    "import re \n",
    "# define a function to convert a string to snake_case\n",
    "def to_snake_case(string):\n",
    "    s0 = re.sub('\\s+', '_', string)  # replace whitespace with underscores\n",
    "    s1 = re.sub('(.)([A-Z][a-z]+)', r'\\1_\\2', s0)\n",
    "    s2 = re.sub('([a-z0-9])([A-Z])', r'\\1_\\2', s1).lower()\n",
    "    s3 = re.sub('^_+|_+$', '', s2)  # remove leading/trailing underscores\n",
    "    return re.sub('_+', '_', s3)  # remove consecutive underscores\n",
    "\n",
    "# rename columns to snake_case\n",
    "df.columns = [to_snake_case(col) for col in df.columns]\n"
   ]
  },
  {
   "cell_type": "code",
   "execution_count": null,
   "metadata": {},
   "outputs": [],
   "source": [
    "df_basic = df[[\"price\", \"host_is_superhost\", \"host_listings_count\", \"host_total_listings_count\", \n",
    "              \"accommodates_per_bedroom\", \"bedrooms\", \"availability_90\", \"number_of_reviews\", \n",
    "              \"reviews_per_month\", \"number_of_reviews_ltm\", \"review_scores_rating\", \n",
    "              \"room_type_entire_home\" , \"room_type_private_room\", \"housing_price_cat_high\", \n",
    "              \"housing_price_cat_low\", \"housing_price_cat_medium\", \"housing_price_cat_very_high\", \"housing_price_cat_very_low\"]]"
   ]
  },
  {
   "cell_type": "code",
   "execution_count": null,
   "metadata": {},
   "outputs": [],
   "source": [
    "df_amm = df[[\"price\", \"long_term_stays_allowed\", \"pets_allowed\", \"private_bath\", \"bathtub\", \n",
    "             \"private_patio_or_balcony\", \"private_entrance\", \"outdoor_dining_area\", \n",
    "             \"wifi\", \"lockbox\", \"kitchen\", \"hair_dryer\", \"coffee\", \"bed_linens\", \n",
    "             \"free_street_parking\", \"free_parking_on_premises\" , \"dedicated_workspace\"]]"
   ]
  },
  {
   "cell_type": "code",
   "execution_count": null,
   "metadata": {},
   "outputs": [],
   "source": [
    "df_poi = df[[\"price\", \"bar_500\", \"price_cat_bar\", \"rating_bar\", \"restaurant_500\", \n",
    "             \"price_cat_restaurant\", \"rating_restaurant\",\"gastro_500\", \n",
    "             \"park_500\", \"clothes_shop_500\", \"attraction_500\", \"art_500\", \"subway_entrance_200\"]]"
   ]
  },
  {
   "cell_type": "code",
   "execution_count": null,
   "metadata": {},
   "outputs": [],
   "source": [
    "df_borough = df[[\"price\", \"neighbourhood_barking_and_dagenham\", \"neighbourhood_barnet\", \"neighbourhood_bexley\", \n",
    "                 \"neighbourhood_brent\", \"neighbourhood_bromley\", \"neighbourhood_camden\", \"neighbourhood_city_of_london\",  \n",
    "                 \"neighbourhood_croydon\", \"neighbourhood_ealing\", \"neighbourhood_enfield\", \"neighbourhood_greenwich\", \n",
    "                 \"neighbourhood_hackney\", \"neighbourhood_hammersmith_and_fulham\", \"neighbourhood_haringey\", \"neighbourhood_harrow\",\n",
    "                 \"neighbourhood_havering\", \"neighbourhood_hillingdon\", \"neighbourhood_hounslow\", \"neighbourhood_islington\", \n",
    "                 \"neighbourhood_kensington_and_chelsea\", \"neighbourhood_kingston_upon_thames\", \"neighbourhood_lambeth\", \"neighbourhood_lewisham\", \"neighbourhood_merton\", \n",
    "                 \"neighbourhood_newham\", \"neighbourhood_redbridge\", \"neighbourhood_richmond_upon_thames\", \"neighbourhood_southwark\", \"neighbourhood_sutton\", \n",
    "                 \"neighbourhood_tower_hamlets\", \"neighbourhood_waltham_forest\", \"neighbourhood_wandsworth\", \"neighbourhood_westminster\"\n",
    "                       ]]"
   ]
  },
  {
   "cell_type": "code",
   "execution_count": null,
   "metadata": {},
   "outputs": [],
   "source": [
    "corr = round(df_borough.corr(numeric_only=True),2)\n",
    "\n",
    "sns.set(rc={\"figure.figsize\":(32, 25)})\n",
    "\n",
    "# getting the upper triangle of the co-relation matrix\n",
    "matrix = np.triu(corr)\n",
    "\n",
    "# using the upper triangle matrix as mask \n",
    "sns.heatmap(corr, annot=True, mask=matrix)"
   ]
  },
  {
   "cell_type": "code",
   "execution_count": null,
   "metadata": {},
   "outputs": [],
   "source": [
    "corr = round(df_poi.corr(numeric_only=True),2)\n",
    "\n",
    "sns.set(rc={\"figure.figsize\":(32, 25)})\n",
    "\n",
    "# getting the upper triangle of the co-relation matrix\n",
    "matrix = np.triu(corr)\n",
    "\n",
    "# using the upper triangle matrix as mask \n",
    "sns.heatmap(corr, annot=True, mask=matrix)"
   ]
  },
  {
   "cell_type": "code",
   "execution_count": null,
   "metadata": {},
   "outputs": [],
   "source": [
    "corr = round(df_amm.corr(numeric_only=True),2)\n",
    "\n",
    "sns.set(rc={\"figure.figsize\":(32, 25)})\n",
    "\n",
    "# getting the upper triangle of the co-relation matrix\n",
    "matrix = np.triu(corr)\n",
    "\n",
    "# using the upper triangle matrix as mask \n",
    "sns.heatmap(corr, annot=True, mask=matrix)"
   ]
  },
  {
   "cell_type": "code",
   "execution_count": null,
   "metadata": {},
   "outputs": [],
   "source": [
    "corr = round(df_basic.corr(numeric_only=True),2)\n",
    "\n",
    "sns.set(rc={\"figure.figsize\":(32, 25)})\n",
    "\n",
    "# getting the upper triangle of the co-relation matrix\n",
    "matrix = np.triu(corr)\n",
    "\n",
    "# using the upper triangle matrix as mask \n",
    "sns.heatmap(corr, annot=True, mask=matrix)"
   ]
  },
  {
   "attachments": {},
   "cell_type": "markdown",
   "metadata": {},
   "source": [
    "### define predicted columns"
   ]
  },
  {
   "cell_type": "code",
   "execution_count": null,
   "metadata": {},
   "outputs": [],
   "source": [
    "pred = [\"id\", \"price\",\n",
    "        \"private_bath\",\n",
    "        \"host_listings_count\",\n",
    "        \"review_scores_rating\",\n",
    "        \"bedrooms\",\n",
    "        \"accommodates_per_bedroom\",\n",
    "        \"availability_90\",\n",
    "        \"bathtub\",\n",
    "        \"room_type_private_room\",\n",
    "        \"restaurant_500\",\n",
    "        \"price_cat_restaurant\",\n",
    "        \"clothes_shop_500\",\n",
    "        \"attraction_500\",\n",
    "        \"subway_entrance_200\",\n",
    "        \"art_500\",\n",
    "        \"housing_price_cat_very_high\",\n",
    "        \"housing_price_cat_low\"]\n",
    "\n",
    "df_pred = df[pred]\n"
   ]
  },
  {
   "cell_type": "code",
   "execution_count": null,
   "metadata": {},
   "outputs": [],
   "source": [
    "corr = round(df_pred.corr(numeric_only=True),2)\n",
    "\n",
    "sns.set(rc={\"figure.figsize\":(32, 25)})\n",
    "\n",
    "# getting the upper triangle of the co-relation matrix\n",
    "matrix = np.triu(corr)\n",
    "\n",
    "# using the upper triangle matrix as mask \n",
    "sns.heatmap(corr, annot=True, mask=matrix)"
   ]
  },
  {
   "cell_type": "code",
   "execution_count": null,
   "metadata": {},
   "outputs": [],
   "source": [
    "from sklearn.compose import ColumnTransformer\n",
    "from sklearn.preprocessing import OneHotEncoder, StandardScaler\n",
    "from sklearn.impute import SimpleImputer\n",
    "from sklearn.model_selection import train_test_split\n",
    "from sklearn.linear_model import LinearRegression\n",
    "from sklearn.neighbors import KNeighborsRegressor\n",
    "from sklearn.metrics import mean_squared_error, mean_absolute_error, r2_score"
   ]
  },
  {
   "attachments": {},
   "cell_type": "markdown",
   "metadata": {},
   "source": [
    "### define X & y // Split Dataframe // Scale all numerical features"
   ]
  },
  {
   "cell_type": "code",
   "execution_count": null,
   "metadata": {},
   "outputs": [],
   "source": [
    "df_pred.describe()"
   ]
  },
  {
   "cell_type": "code",
   "execution_count": null,
   "metadata": {},
   "outputs": [],
   "source": [
    "X = df_pred.drop([\"id\", \"price\"], axis=1)\n",
    "y = df_pred[\"price\"]\n",
    "\n",
    "# Identify numeric columns\n",
    "numeric_cols = X.select_dtypes(include=np.number).columns\n",
    "\n",
    "# Scale numeric columns\n",
    "scaler = StandardScaler()\n",
    "X[numeric_cols] = scaler.fit_transform(X[numeric_cols])\n",
    "\n",
    "# Split the data into training and test sets\n",
    "X_train, X_test, y_train, y_test = train_test_split(X, y, test_size=0.2, random_state=42)\n"
   ]
  },
  {
   "attachments": {},
   "cell_type": "markdown",
   "metadata": {},
   "source": [
    "### targeting multicollinearity"
   ]
  },
  {
   "cell_type": "code",
   "execution_count": null,
   "metadata": {},
   "outputs": [],
   "source": [
    "from statsmodels.stats.outliers_influence import variance_inflation_factor\n",
    "\n",
    "# create a new dataframe with only the predictor variables\n",
    "#X = df_pred[columns_to_calc]\n",
    "X = df_pred.drop([\"id\", \"price\"], axis=1)\n",
    "\n",
    "# calculate VIF for each predictor variable\n",
    "vif = pd.DataFrame()\n",
    "vif[\"VIF Factor\"] = [variance_inflation_factor(X.values, i) for i in range(X.shape[1])]\n",
    "vif[\"predictor\"] = X.columns\n",
    "\n",
    "print(vif)\n"
   ]
  },
  {
   "attachments": {},
   "cell_type": "markdown",
   "metadata": {},
   "source": [
    "### linear regression"
   ]
  },
  {
   "cell_type": "code",
   "execution_count": null,
   "metadata": {},
   "outputs": [],
   "source": [
    "# Import the statsmodels module\n",
    "import statsmodels.api as sm\n",
    "\n",
    "# Choose the predictor X and add a constant term\n",
    "X2 = df_pred.drop([\"id\", \"price\"], axis=1)\n",
    "X2 = sm.add_constant(X)\n",
    "# Define dependent variable\n",
    "y = df_pred[\"price\"]\n",
    "\n",
    "# fit model and get model summery in one step\n",
    "sm.OLS(y, X2).fit().summary()\n"
   ]
  },
  {
   "cell_type": "code",
   "execution_count": null,
   "metadata": {},
   "outputs": [],
   "source": [
    "# Build the linear regression model\n",
    "lr = LinearRegression()\n",
    "lr.fit(X_train, y_train)\n",
    "\n",
    "# Make predictions on the test set\n",
    "y_pred_lr = lr.predict(X_test)\n",
    "\n",
    "# Evaluate the performance of the linear regression model\n",
    "print('Linear Regression:')\n",
    "print('Mean Squared Error:', mean_squared_error(y_test, y_pred_lr))\n",
    "print('Mean Absolute Error:', mean_absolute_error(y_test, y_pred_lr))\n",
    "print('R-squared:', r2_score(y_test, y_pred_lr))"
   ]
  },
  {
   "attachments": {},
   "cell_type": "markdown",
   "metadata": {},
   "source": [
    "### knn model"
   ]
  },
  {
   "cell_type": "code",
   "execution_count": null,
   "metadata": {},
   "outputs": [],
   "source": [
    "# Build the KNN model\n",
    "knn = KNeighborsRegressor()\n",
    "knn.fit(X_train, y_train)\n",
    "\n",
    "# Make predictions on the test set\n",
    "y_pred_knn = knn.predict(X_test)\n",
    "\n",
    "# Evaluate the performance of the KNN model\n",
    "print('KNN:')\n",
    "print('Mean Squared Error:', mean_squared_error(y_test, y_pred_knn))\n",
    "print('Mean Absolute Error:', mean_absolute_error(y_test, y_pred_knn))\n",
    "print('R-squared:', r2_score(y_test, y_pred_knn))"
   ]
  },
  {
   "attachments": {},
   "cell_type": "markdown",
   "metadata": {},
   "source": [
    "### random forest"
   ]
  },
  {
   "cell_type": "code",
   "execution_count": null,
   "metadata": {},
   "outputs": [],
   "source": [
    "# Import the required libraries\n",
    "from sklearn.ensemble import RandomForestRegressor\n",
    "\n",
    "# Build the Random Forest model\n",
    "rf = RandomForestRegressor(n_estimators=100, random_state=42)\n",
    "rf.fit(X_train, y_train)\n",
    "\n",
    "# Make predictions on the test set\n",
    "y_pred_rf = rf.predict(X_test)\n",
    "\n",
    "# Evaluate the performance of the Random Forest model\n",
    "print('Random Forest:')\n",
    "print('Mean Squared Error:', mean_squared_error(y_test, y_pred_rf))\n",
    "print('Mean Absolute Error:', mean_absolute_error(y_test, y_pred_rf))\n",
    "print('R-squared:', r2_score(y_test, y_pred_rf))"
   ]
  },
  {
   "attachments": {},
   "cell_type": "markdown",
   "metadata": {},
   "source": [
    "### random forest on whole df"
   ]
  },
  {
   "cell_type": "code",
   "execution_count": null,
   "metadata": {},
   "outputs": [],
   "source": [
    "# Import the required libraries\n",
    "from sklearn.ensemble import RandomForestRegressor\n",
    "from sklearn.preprocessing import StandardScaler\n",
    "import numpy as np\n",
    "\n",
    "# Split the data into X (independent variables) and y (dependent variable)\n",
    "X = df_pred.drop([\"id\", \"price\"], axis=1)\n",
    "y = df_pred[\"price\"]\n",
    "\n",
    "# Identify numeric columns\n",
    "numeric_cols = X.select_dtypes(include=np.number).columns\n",
    "\n",
    "# Scale numeric columns\n",
    "scaler = StandardScaler()\n",
    "X[numeric_cols] = scaler.fit_transform(X[numeric_cols])\n",
    "\n",
    "# Build the Random Forest model\n",
    "rf = RandomForestRegressor(n_estimators=100, random_state=42)\n",
    "rf.fit(X, y)\n",
    "\n",
    "# Make predictions on the whole dataset\n",
    "y_pred_rf = rf.predict(X)\n",
    "\n",
    "# Create a new dataframe with the predicted values and the same index as df_pred\n",
    "df_pred_pred = pd.DataFrame({'id': df_pred['id'], 'pred_price': y_pred_rf}, index=df_pred.index)\n",
    "\n",
    "# Merge df_pred and df_pred_pred on the 'id' column\n",
    "df_pred_with_pred = pd.merge(df_pred, df_pred_pred, on='id')\n",
    "\n",
    "# Update df_pred to include the predicted values\n",
    "df_pred = df_pred_with_pred\n"
   ]
  },
  {
   "attachments": {},
   "cell_type": "markdown",
   "metadata": {},
   "source": [
    "### 8.1.Add Predicted Price Column to Airbnb Dataframe"
   ]
  },
  {
   "cell_type": "code",
   "execution_count": null,
   "metadata": {},
   "outputs": [],
   "source": [
    "df_pred[\"pred_price\"] = round(df_pred[\"pred_price\"],2)"
   ]
  },
  {
   "cell_type": "code",
   "execution_count": null,
   "metadata": {},
   "outputs": [],
   "source": [
    "# calculate a new column to determine if the price is fair \n",
    "df_pred[\"fair_price\"] = df_pred.apply(lambda x: \"no\" if x[\"pred_price\"] < (\n",
    "    x[\"price\"] - 26) else (\"yes\" if x[\"pred_price\"] > (x[\"price\"] + 26) else \"probably\"), axis=1)\n"
   ]
  },
  {
   "cell_type": "code",
   "execution_count": null,
   "metadata": {},
   "outputs": [],
   "source": [
    "df_pred[\"fair_price\"].value_counts()"
   ]
  },
  {
   "cell_type": "code",
   "execution_count": null,
   "metadata": {},
   "outputs": [],
   "source": [
    "airbnb[airbnb[\"id\"] == 42708163]"
   ]
  },
  {
   "cell_type": "code",
   "execution_count": null,
   "metadata": {},
   "outputs": [],
   "source": [
    "df_pred[[\"id\",\"price\", \"pred_price\", \"fair_price\"]].sample(20)"
   ]
  },
  {
   "attachments": {},
   "cell_type": "markdown",
   "metadata": {},
   "source": [
    "### merge to old df & export for Tableau"
   ]
  },
  {
   "cell_type": "code",
   "execution_count": null,
   "metadata": {},
   "outputs": [],
   "source": [
    "# filter only relevant columns to merge\n",
    "price_predicted = df_pred[[\"id\", \"pred_price\", \"fair_price\"]]"
   ]
  },
  {
   "cell_type": "code",
   "execution_count": null,
   "metadata": {},
   "outputs": [],
   "source": [
    "airbnb_predicted = poi[tab]"
   ]
  },
  {
   "cell_type": "code",
   "execution_count": null,
   "metadata": {},
   "outputs": [],
   "source": [
    "airbnb_predicted.shape"
   ]
  },
  {
   "cell_type": "code",
   "execution_count": null,
   "metadata": {},
   "outputs": [],
   "source": [
    "# merge to airbnb df \n",
    "airbnb_predicted = airbnb_predicted.merge(price_predicted, on=\"id\")"
   ]
  },
  {
   "cell_type": "code",
   "execution_count": null,
   "metadata": {},
   "outputs": [],
   "source": [
    "poi[tab].head(2)"
   ]
  },
  {
   "cell_type": "code",
   "execution_count": null,
   "metadata": {},
   "outputs": [],
   "source": [
    "airbnb_predicted.head(2)"
   ]
  },
  {
   "cell_type": "code",
   "execution_count": null,
   "metadata": {},
   "outputs": [],
   "source": [
    "# export to csv \n",
    "airbnb_predicted.to_csv(\"g1_airbnb_tab.csv\")"
   ]
  },
  {
   "cell_type": "code",
   "execution_count": null,
   "metadata": {},
   "outputs": [],
   "source": [
    "# check for best parameters \n",
    "# (runs 100min!!)\n",
    "from sklearn.ensemble import RandomForestRegressor\n",
    "from sklearn.model_selection import GridSearchCV\n",
    "\n",
    "# define the parameter grid for hyperparameter tuning\n",
    "param_grid = {\n",
    "    'n_estimators': [100, 200, 500],\n",
    "    'max_depth': [5, 10, 20],\n",
    "    'max_features': ['sqrt', 'log2', None]\n",
    "}\n",
    "\n",
    "# create a random forest regressor\n",
    "rf = RandomForestRegressor()\n",
    "\n",
    "# perform grid search with cross-validation\n",
    "grid_search = GridSearchCV(estimator=rf, param_grid=param_grid, cv=5)\n",
    "grid_search.fit(X_train, y_train)\n",
    "\n",
    "# get the best hyperparameters\n",
    "best_params = grid_search.best_params_\n",
    "print(\"Best hyperparameters:\", best_params)\n",
    "\n",
    "# train a random forest regressor with the best hyperparameters\n",
    "best_rf = RandomForestRegressor(n_estimators=best_params['n_estimators'], \n",
    "                                 max_depth=best_params['max_depth'], \n",
    "                                 max_features=best_params['max_features'])\n",
    "best_rf.fit(X_train, y_train)\n",
    "\n",
    "# evaluate the performance of the best random forest regressor on the test set\n",
    "test_score = best_rf.score(X_test, y_test)\n",
    "print(\"Test set score:\", test_score)\n"
   ]
  },
  {
   "attachments": {},
   "cell_type": "markdown",
   "metadata": {},
   "source": [
    "### gradient boosting "
   ]
  },
  {
   "cell_type": "code",
   "execution_count": null,
   "metadata": {},
   "outputs": [],
   "source": [
    "# Import the required libraries\n",
    "from sklearn.ensemble import GradientBoostingRegressor\n",
    "\n",
    "# Build the Gradient Boosting model\n",
    "gbr = GradientBoostingRegressor(random_state=42)\n",
    "gbr.fit(X_train, y_train)\n",
    "\n",
    "# Make predictions on the test set\n",
    "y_pred_gbr = gbr.predict(X_test)\n",
    "\n",
    "# Evaluate the performance of the Gradient Boosting model\n",
    "print('Gradient Boosting:')\n",
    "print('Mean Squared Error:', mean_squared_error(y_test, y_pred_gbr))\n",
    "print('Mean Absolute Error:', mean_absolute_error(y_test, y_pred_gbr))\n",
    "print('R-squared:', r2_score(y_test, y_pred_gbr))\n"
   ]
  },
  {
   "cell_type": "code",
   "execution_count": null,
   "metadata": {},
   "outputs": [],
   "source": [
    "# Check MAE and R2 for each individual column in random forest model\n",
    "# # Iterate over the columns of X\n",
    "# for col in X.columns:\n",
    "#     # Select the current column and the target variable\n",
    "#     X_col = X[[col]]\n",
    "#     y = df_pred[\"price\"]\n",
    "\n",
    "#     # Scale the current column\n",
    "#     scaler = StandardScaler()\n",
    "#     X_col = scaler.fit_transform(X_col)\n",
    "\n",
    "#     # Split the data into training and test sets\n",
    "#     X_train, X_test, y_train, y_test = train_test_split(X_col, y, test_size=0.2, random_state=42)\n",
    "\n",
    "#     # Build the Random Forest model\n",
    "#     rf = RandomForestRegressor(n_estimators=100, random_state=42)\n",
    "#     rf.fit(X_train, y_train)\n",
    "\n",
    "#     # Make predictions on the test set\n",
    "#     y_pred_rf = rf.predict(X_test)\n",
    "\n",
    "#     # Evaluate the performance of the Random Forest model\n",
    "#     print(f'Column {col}:')\n",
    "#     print('Mean Absolute Error:', mean_absolute_error(y_test, y_pred_rf))\n",
    "#     print('R-squared:', r2_score(y_test, y_pred_rf))\n",
    "#     print()\n"
   ]
  },
  {
   "attachments": {},
   "cell_type": "markdown",
   "metadata": {},
   "source": [
    "## 9.EDA Customer oriented"
   ]
  },
  {
   "attachments": {},
   "cell_type": "markdown",
   "metadata": {},
   "source": [
    "###  #1: Budget Traveller: \n",
    "\n",
    "* Where can i find cheap Airbnb's with good (and cheap) Infrastructure?\n",
    "* Only Price Category 1\n",
    "* Number of POI's above average \n",
    "* Only restaurants with price category below average \n"
   ]
  },
  {
   "cell_type": "code",
   "execution_count": null,
   "metadata": {},
   "outputs": [],
   "source": [
    "poi.shape"
   ]
  },
  {
   "cell_type": "code",
   "execution_count": null,
   "metadata": {},
   "outputs": [],
   "source": [
    "poi_cols = ['bar_500','cafe_500', 'fast_food_500', 'restaurant_500', 'gastro_500','park_500',  'clothes_shop_500', \n",
    "        'attraction_500', 'gallery_500', 'museum_500', 'art_500','subway_entrance_500', 'subway_entrance_200']"
   ]
  },
  {
   "cell_type": "code",
   "execution_count": null,
   "metadata": {},
   "outputs": [],
   "source": [
    "# Filter only Airbnb's where the amount of POI's is above the average + for 4 people with 2 bedrooms + \n",
    "# the Price Category of the Airnbnb is 1 + the Price Category of Restaurants is below average\n",
    "\n",
    "# Filter out rows where price_cat_restaurant is NaN\n",
    "budget_poi = poi[~poi['price_cat_restaurant'].isna()]\n",
    "\n",
    "high_cols = ['clothes_shop_500', 'cafe_500', 'gallery_500', 'museum_500', 'art_500']\n",
    "\n",
    "high_mask = budget_poi[high_cols].apply(lambda x: x >= x.quantile(0.50)).all(axis=1)\n",
    "price_mask = budget_poi[\"price_category\"] <= 2 \n",
    "p_rest_mask = budget_poi['price_cat_restaurant'] < budget_poi['price_cat_restaurant'].mean()\n",
    "acc_mask = budget_poi['accommodates'] >= 4\n",
    "bed_mask = budget_poi['bedrooms'] >= 2\n",
    "\n",
    "budget_poi = budget_poi[high_mask & price_mask & p_rest_mask & acc_mask & bed_mask]"
   ]
  },
  {
   "cell_type": "code",
   "execution_count": null,
   "metadata": {},
   "outputs": [],
   "source": [
    "# # Filter only Airbnb's where the amount of POI's is above the average +\n",
    "# # the Price Category of the Airnbnb is 1 + the Price Category of Restaurants is below average\n",
    "\n",
    "# # Filter out rows where price_cat_restaurant is NaN\n",
    "# budget_poi = poi[~poi['price_cat_restaurant'].isna()]\n",
    "\n",
    "# # calculate the mean of each column\n",
    "# mean_values = budget_poi[['bar_500', 'cafe_500', 'fast_food_500', 'restaurant_500', 'gastro_500', 'park_500',\n",
    "#                           'clothes_shop_500', 'attraction_500', 'gallery_500', 'museum_500', 'art_500']].mean()\n",
    "\n",
    "# # calculate the 75th percentile of each column\n",
    "# percentile_values = budget_poi[['bar_500', 'cafe_500', 'fast_food_500', 'restaurant_500', 'gastro_500', 'park_500',\n",
    "#                                 'clothes_shop_500', 'attraction_500', 'gallery_500', 'museum_500', 'art_500']].quantile(0.75)\n",
    "\n",
    "# # create a boolean mask based on the mean values and the price category conditions\n",
    "# mask = ((budget_poi[['bar_500', 'cafe_500', 'fast_food_500', 'restaurant_500', 'gastro_500', 'park_500',\n",
    "#                      'clothes_shop_500', 'attraction_500', 'gallery_500', 'museum_500', 'art_500']] > mean_values).any(axis=1)) & \\\n",
    "#     (budget_poi['price_category'] <= 2) & \\\n",
    "#     (budget_poi['price_cat_restaurant'] < budget_poi['price_cat_restaurant'].mean()) & \\\n",
    "#     (budget_poi['accommodates'] >= 4) & \\\n",
    "#     (budget_poi['bedrooms'] >= 2)\n",
    "\n",
    "# # filter the dataframe using the boolean mask\n",
    "# budget_poi = budget_poi.loc[mask]\n"
   ]
  },
  {
   "cell_type": "code",
   "execution_count": null,
   "metadata": {},
   "outputs": [],
   "source": [
    "budget_poi[['clothes_shop_500', 'cafe_500', 'gallery_500', 'museum_500', 'art_500']].describe()"
   ]
  },
  {
   "cell_type": "code",
   "execution_count": null,
   "metadata": {},
   "outputs": [],
   "source": [
    "poi[['bar_500', 'cafe_500', 'fast_food_500', 'restaurant_500', \n",
    "           'gastro_500', 'park_500', 'clothes_shop_500', 'attraction_500', \n",
    "           'gallery_500', 'museum_500', 'art_500']].describe()"
   ]
  },
  {
   "cell_type": "code",
   "execution_count": null,
   "metadata": {},
   "outputs": [],
   "source": [
    "# group by neighbourhood and calculate the mean number of POI's + Total Number of Airbnb's  \n",
    "budget_grouped = budget_poi.groupby(by=\"neighbourhood\").agg(count=(\"id\", \"size\"),\n",
    "                                                       gastro_mean=(\"gastro_500\", \"mean\"),\n",
    "                                                       price_cat_restaurant_mean=(\"price_cat_restaurant\", \"mean\"),\n",
    "                                                       clothes_shop_mean=(\"clothes_shop_500\", \"mean\"),\n",
    "                                                       attraction_mean=(\"attraction_500\", \"mean\"),\n",
    "                                                       art_mean=(\"art_500\", \"mean\")).reset_index(level=None)\n"
   ]
  },
  {
   "cell_type": "code",
   "execution_count": null,
   "metadata": {},
   "outputs": [],
   "source": [
    "# calculate the same for all Airbnb's, in order to then calculate the % of Budget friendly Airbnbs \n",
    "grouped = poi.groupby(by=\"neighbourhood\").agg(count=(\"id\", \"size\"),\n",
    "                                               gastro_mean=(\"gastro_500\", \"mean\"),\n",
    "                                               price_cat_restaurant_mean=(\"price_cat_restaurant\", \"mean\"),\n",
    "                                               clothes_shop_mean=(\"clothes_shop_500\", \"mean\"),\n",
    "                                               attraction_mean=(\"attraction_500\", \"mean\"),\n",
    "                                               art_mean=(\"art_500\", \"mean\")).reset_index(level=None)\n"
   ]
  },
  {
   "cell_type": "code",
   "execution_count": null,
   "metadata": {},
   "outputs": [],
   "source": [
    "# Calculate percentage of count\n",
    "budget_grouped['count_percentage'] = budget_grouped['count'] / grouped.loc[grouped['neighbourhood'].isin(budget_grouped['neighbourhood']), 'count'].values * 100\n",
    "# round \n",
    "budget_grouped['count_percentage'] = round(budget_grouped['count_percentage'],1)\n",
    "\n",
    "# Select only 'count' and 'count_percentage' columns\n",
    "count_df = budget_grouped[['count', 'count_percentage']]\n",
    "\n",
    "# Concatenate the two dataframes vertically\n",
    "budget_result = pd.concat([count_df, budget_grouped.drop(\n",
    "    columns=['count', 'count_percentage'])], axis=1)\n",
    "budget_result = budget_result[['neighbourhood', 'count', 'count_percentage', 'gastro_mean',\n",
    "                 'price_cat_restaurant_mean', 'clothes_shop_mean', 'attraction_mean', 'art_mean']].sort_values(by=\"count\", ascending=False)\n"
   ]
  },
  {
   "cell_type": "code",
   "execution_count": null,
   "metadata": {},
   "outputs": [],
   "source": [
    "# create a DataFrame with all the desired rows and the corresponding budget values\n",
    "desired_rows = [\"City of London\", \"Westminster\", \"Camden\", \"Kensington and Chelsea\", \"Tower Hamlets\", \"Islington\", \"Hackney\", \"Southwark\"]\n",
    "budget_result_desired = pd.DataFrame({\"neighbourhood\": desired_rows})\n",
    "budget_result_desired = budget_result_desired.merge(budget_result, on=\"neighbourhood\", how=\"left\")\n",
    "\n",
    "# select the desired rows in the desired order\n",
    "budget_result_desired = budget_result_desired.set_index(\"neighbourhood\").loc[desired_rows, :].reset_index()\n",
    "\n",
    "budget_result_desired\n"
   ]
  },
  {
   "cell_type": "code",
   "execution_count": null,
   "metadata": {},
   "outputs": [],
   "source": [
    "budget_result_desired = budget_result_desired.fillna(\"0\")\n",
    "budget_result_desired[\"count\"] = budget_result_desired[\"count\"].astype(\"int\")\n",
    "budget_result_desired[\"count_percentage\"] = budget_result_desired[\"count_percentage\"].astype(\"float\")"
   ]
  },
  {
   "cell_type": "code",
   "execution_count": null,
   "metadata": {},
   "outputs": [],
   "source": [
    "# create a df to plot only the neighbourhoods with the most Airbnbs for this filter, and only the number of of Airbnbs + % \n",
    "plotting = budget_result_desired[[\"neighbourhood\", \"count\", \"count_percentage\"]].head(11)\n",
    "# Set the neighbourhood column as the index\n",
    "plotting = plotting.set_index('neighbourhood')\n"
   ]
  },
  {
   "cell_type": "code",
   "execution_count": null,
   "metadata": {},
   "outputs": [],
   "source": [
    "# set colors for graphs\n",
    "r = \"#FF5A5F\"\n",
    "b = \"#25328C\"\n",
    "w = \"#FFFEF6\""
   ]
  },
  {
   "cell_type": "code",
   "execution_count": null,
   "metadata": {},
   "outputs": [],
   "source": [
    "import matplotlib.pyplot as plt\n",
    "\n",
    "plt.rcParams[\"axes.grid\"] = False\n",
    "\n",
    "# Create figure and axis objects\n",
    "fig, ax1 = plt.subplots(figsize=(12, 8))\n",
    "\n",
    "plt.style.use(['default'])\n",
    "fig.set_facecolor(w)\n",
    "\n",
    "# Create bar chart for count column\n",
    "ax1.bar(plotting.index, plotting['count'], color=[b, b, b, b ,b, b, r,b])\n",
    "ax1.set_ylabel('Count')\n",
    "ax1.set_xticklabels(plotting.index, rotation=45, ha=\"right\")\n",
    "ax1.get_yaxis().set_visible(False)\n",
    "\n",
    "# # Create secondary axis for count_percentage column\n",
    "# ax2 = ax1.twinx()\n",
    "# ax2.plot(plotting.index, plotting['count_percentage'], color='red', marker='o')\n",
    "# ax2.set_ylim(0, 100)\n",
    "# ax2.set_ylabel('Count Percentage')\n",
    "# ax2.get_yaxis().set_visible(False)\n",
    "\n",
    "# Add count values inside bars\n",
    "for i, val in enumerate(plotting['count']):\n",
    "    ax1.text(i, val, str(val), ha='center', va='bottom', fontweight='bold')\n",
    "\n",
    "# # Add count_percentage values inside line plot\n",
    "# for i, val in enumerate(plotting['count_percentage']):\n",
    "#     ax2.text(i, val, f\"{val:.1f}%\", ha='center', va='top', fontweight='bold')\n",
    "\n",
    "# Rotate x-axis labels for better readability\n",
    "plt.xticks(rotation=45)\n",
    "\n",
    "plt.title(\"Amount of Airbnb's for Active Budget Families\")\n",
    "# Show the plot\n",
    "plt.show();\n"
   ]
  },
  {
   "attachments": {},
   "cell_type": "markdown",
   "metadata": {},
   "source": [
    "### #2 Luxury Traveller\n",
    "\n",
    "Where can i find the \"best\" Airbnb's: \n",
    "* high price-category (3+4)\n",
    "* high rating: 4,5+ \n",
    "* more than average poi's "
   ]
  },
  {
   "cell_type": "code",
   "execution_count": null,
   "metadata": {},
   "outputs": [],
   "source": [
    "# Filter only Airbnb's where the amount of POI's is above the average +\n",
    "# the Price Category of the Airnbnb is 3 or 4 + the Price Category of Restaurants is above average + \n",
    "# rating of airbnb is 4.5+ \n",
    "\n",
    "# Filter out rows where price_cat_restaurant or review_scores_rating is NaN\n",
    "luxury_poi = poi[~poi['price_cat_restaurant'].isna()]\n",
    "luxury_poi = poi[~poi['review_scores_rating'].isna()]\n",
    "\n",
    "# calculate the mean of each column\n",
    "mean_values = luxury_poi[['bar_500', 'cafe_500', 'fast_food_500', 'restaurant_500', 'gastro_500', 'park_500',\n",
    "                   'clothes_shop_500', 'attraction_500', 'gallery_500', 'museum_500', 'art_500']].mean()\n",
    "\n",
    "# create a boolean mask based on the mean values and the price category conditions\n",
    "mask = ((luxury_poi[['bar_500', 'cafe_500', 'fast_food_500', 'restaurant_500', 'gastro_500', 'park_500',\n",
    "              'clothes_shop_500', 'attraction_500', 'gallery_500', 'museum_500', 'art_500']] > mean_values).any(axis=1)) & \\\n",
    "    (luxury_poi['price_category'] >= 4) & \\\n",
    "    (luxury_poi['price_cat_restaurant'] > luxury_poi['price_cat_restaurant'].mean()) & \\\n",
    "    (luxury_poi['rating_restaurant'] > 4.3)  & \\\n",
    "    (luxury_poi['review_scores_rating'] > 4.5)\n",
    "\n",
    "# filter the dataframe using the boolean mask\n",
    "luxury_poi = luxury_poi.loc[mask]"
   ]
  },
  {
   "cell_type": "code",
   "execution_count": null,
   "metadata": {},
   "outputs": [],
   "source": [
    "luxury_poi.shape"
   ]
  },
  {
   "cell_type": "code",
   "execution_count": null,
   "metadata": {},
   "outputs": [],
   "source": [
    "# group by neighbourhood and calculate the mean number of POI's + Total Number of Airbnb's  \n",
    "luxury_grouped = luxury_poi.groupby(by=\"neighbourhood\").agg(count=(\"id\", \"size\"),\n",
    "                                                       gastro_mean=(\"gastro_500\", \"mean\"),\n",
    "                                                       price_cat_restaurant_mean=(\"price_cat_restaurant\", \"mean\"),\n",
    "                                                       clothes_shop_mean=(\"clothes_shop_500\", \"mean\"),\n",
    "                                                       attraction_mean=(\"attraction_500\", \"mean\"),\n",
    "                                                       art_mean=(\"art_500\", \"mean\")).reset_index(level=None)\n"
   ]
  },
  {
   "cell_type": "code",
   "execution_count": null,
   "metadata": {},
   "outputs": [],
   "source": [
    "# Calculate percentage of count\n",
    "luxury_grouped['count_percentage'] = luxury_grouped['count'] / grouped.loc[grouped['neighbourhood'].isin(luxury_grouped['neighbourhood']), 'count'].values * 100\n",
    "\n",
    "luxury_grouped['count_percentage'] = round(luxury_grouped['count_percentage'],1)\n",
    "\n",
    "# Select only 'count' and 'count_percentage' columns\n",
    "count_df = luxury_grouped[['count', 'count_percentage']]\n",
    "\n",
    "# Concatenate the two dataframes vertically\n",
    "luxury_result = pd.concat([count_df, luxury_grouped.drop(\n",
    "    columns=['count', 'count_percentage'])], axis=1)\n",
    "luxury_result = luxury_result[['neighbourhood', 'count', 'count_percentage', 'gastro_mean',\n",
    "                 'price_cat_restaurant_mean', 'clothes_shop_mean', 'attraction_mean', 'art_mean']].sort_values(by=\"count\", ascending=False)"
   ]
  },
  {
   "cell_type": "code",
   "execution_count": null,
   "metadata": {},
   "outputs": [],
   "source": [
    "# the desired order of rows\n",
    "desired_rows = [\"City of London\", \"Westminster\", \"Camden\", \"Kensington and Chelsea\", \"Tower Hamlets\", \"Islington\", \"Hackney\", \"Southwark\"]\n",
    "\n",
    "# select the desired rows in the desired order\n",
    "luxury_result = luxury_result.loc[luxury_result[\"neighbourhood\"].isin(desired_rows), :]\n",
    "luxury_result = luxury_result.loc[luxury_result[\"neighbourhood\"].isin(desired_rows), :]\n",
    "luxury_result = luxury_result.set_index(\"neighbourhood\").loc[desired_rows, :].reset_index()\n",
    "\n",
    "luxury_result"
   ]
  },
  {
   "cell_type": "code",
   "execution_count": null,
   "metadata": {},
   "outputs": [],
   "source": [
    "# create a df to plot only the neighbourhoods with the most Airbnbs for this filter, and only the number of of Airbnbs + % \n",
    "plotting_lux = luxury_result[[\"neighbourhood\", \"count\", \"count_percentage\"]].head(11)\n",
    "# Set the neighbourhood column as the index\n",
    "plotting_lux = plotting_lux.set_index('neighbourhood')"
   ]
  },
  {
   "cell_type": "code",
   "execution_count": null,
   "metadata": {},
   "outputs": [],
   "source": [
    "# Create figure and axis objects\n",
    "fig, ax1 = plt.subplots(figsize=(12, 8))\n",
    "\n",
    "plt.style.use(['default'])\n",
    "fig.set_facecolor(w)\n",
    "\n",
    "# Create bar chart for count column\n",
    "ax1.bar(plotting_lux.index, plotting_lux['count'], color=[b,r, r,r,b,b,b,b])\n",
    "ax1.set_ylabel('Count')\n",
    "ax1.set_xticklabels(plotting_lux.index, rotation=45, ha=\"right\")\n",
    "ax1.get_yaxis().set_visible(False)\n",
    "\n",
    "# # Create secondary axis for count_percentage column\n",
    "# ax2 = ax1.twinx()\n",
    "# ax2.plot(plotting_lux.index, plotting_lux['count_percentage'], color='red', marker='o')\n",
    "# ax2.set_ylim(0, 100)\n",
    "# ax2.set_ylabel('Count Percentage')\n",
    "# ax2.get_yaxis().set_visible(False)\n",
    "\n",
    "# Add count values inside bars\n",
    "for i, val in enumerate(plotting_lux['count']):\n",
    "    ax1.text(i, val, str(val), ha='center', va='bottom', fontweight='bold')\n",
    "\n",
    "# # Add count_percentage values inside line plot\n",
    "# for i, val in enumerate(plotting_lux['count_percentage']):\n",
    "#     ax2.text(i, val, f\"{val:.1f}%\", ha='center', va='top', fontweight='bold')\n",
    "\n",
    "# Rotate x-axis labels for better readability\n",
    "plt.xticks(rotation=45)\n",
    "\n",
    "\n",
    "plt.title(\"Amount of good-rated-luxury Airbnb's with decent amount of POI's, good & high-priced Restaurants\")\n",
    "# Show the plot\n",
    "plt.show();\n"
   ]
  },
  {
   "attachments": {},
   "cell_type": "markdown",
   "metadata": {},
   "source": [
    "### #3 \"Green City Explorer\"\n",
    "\n",
    "* Where can i find good Airbnb's in quiet Areas with less POI's. Lots of Parks and good public transport"
   ]
  },
  {
   "cell_type": "code",
   "execution_count": null,
   "metadata": {},
   "outputs": [],
   "source": [
    "poi.head(2)"
   ]
  },
  {
   "cell_type": "code",
   "execution_count": null,
   "metadata": {},
   "outputs": [],
   "source": [
    "# Filter only Airbnb's where the amount of POI's is below the average +\n",
    "# rating of airbnb is 4+ plus access to subway\n",
    "\n",
    "q25_cols = ['bar_500',  \n",
    "            'clothes_shop_500', 'gallery_500', 'museum_500', 'art_500']\n",
    "park_col = 'park_500'\n",
    "subway_col = 'subway_entrance_500'\n",
    "rating_col = 'review_scores_rating'\n",
    "\n",
    "q25_mask = poi[q25_cols].apply(lambda x: x <= x.quantile(0.45)).all(axis=1)\n",
    "park_mask = poi[park_col] >= poi[park_col].quantile(0.60)\n",
    "subway_mask = poi[subway_col] == True\n",
    "rating_mask = poi[rating_col] > 4.0\n",
    "balcony_mask = poi[\"private_patio_or_balcony\"] == 1 \n",
    "\n",
    "green_poi = poi[q25_mask & park_mask & rating_mask & balcony_mask]"
   ]
  },
  {
   "cell_type": "code",
   "execution_count": null,
   "metadata": {},
   "outputs": [],
   "source": [
    "green_poi[['bar_500', 'clothes_shop_500', 'gallery_500', 'museum_500', 'art_500', 'park_500']].describe()"
   ]
  },
  {
   "cell_type": "code",
   "execution_count": null,
   "metadata": {},
   "outputs": [],
   "source": [
    "green_poi.shape"
   ]
  },
  {
   "cell_type": "code",
   "execution_count": null,
   "metadata": {},
   "outputs": [],
   "source": [
    "# group by neighbourhood and calculate the mean number of POI's + Total Number of Airbnb's  \n",
    "green_grouped = green_poi.groupby(by=\"neighbourhood\").agg(count=(\"id\", \"size\"),\n",
    "                                                       park_mean=(\"park_500\", \"mean\")).reset_index(level=None)\n"
   ]
  },
  {
   "cell_type": "code",
   "execution_count": null,
   "metadata": {},
   "outputs": [],
   "source": [
    "# Calculate percentage of count\n",
    "green_grouped['count_percentage'] = green_grouped['count'] / grouped.loc[grouped['neighbourhood'].isin(green_grouped['neighbourhood']), 'count'].values * 100\n",
    "\n",
    "green_grouped['count_percentage'] = round(green_grouped['count_percentage'],1)\n",
    "\n",
    "# Select only 'count' and 'count_percentage' columns\n",
    "count_df = green_grouped[['count', 'count_percentage']]\n",
    "\n",
    "# Concatenate the two dataframes vertically\n",
    "green_result = pd.concat([count_df, green_grouped.drop(\n",
    "    columns=['count', 'count_percentage'])], axis=1)\n",
    "green_result = green_result[['neighbourhood', 'count', 'count_percentage', 'park_mean']].sort_values(by=\"count\", ascending=False)"
   ]
  },
  {
   "cell_type": "code",
   "execution_count": null,
   "metadata": {},
   "outputs": [],
   "source": [
    "green_result.head(8)"
   ]
  },
  {
   "cell_type": "code",
   "execution_count": null,
   "metadata": {},
   "outputs": [],
   "source": [
    "# create a DataFrame with all the desired rows and the corresponding budget values\n",
    "desired_rows = [\"City of London\", \"Westminster\", \"Camden\", \"Kensington and Chelsea\", \"Tower Hamlets\", \"Islington\", \"Hackney\", \"Southwark\"]\n",
    "green_result_2 = pd.DataFrame({\"neighbourhood\": desired_rows})\n",
    "green_result_2 = green_result_2.merge(green_result, on=\"neighbourhood\", how=\"left\")\n",
    "\n",
    "# select the desired rows in the desired order\n",
    "green_result_2 = green_result_2.set_index(\"neighbourhood\").loc[desired_rows, :].reset_index()\n",
    "\n",
    "green_result_2"
   ]
  },
  {
   "cell_type": "code",
   "execution_count": null,
   "metadata": {},
   "outputs": [],
   "source": [
    "green_result_2 = green_result_2.fillna(\"0\")\n",
    "green_result_2[\"count\"] = green_result_2[\"count\"].astype(\"int\")\n",
    "green_result_2[\"count_percentage\"] = green_result_2[\"count_percentage\"].astype(\"float\")"
   ]
  },
  {
   "cell_type": "code",
   "execution_count": null,
   "metadata": {},
   "outputs": [],
   "source": [
    "# create a df to plot only the neighbourhoods with the most Airbnbs for this filter, and only the number of of Airbnbs + % \n",
    "plotting_green = green_result_2[[\"neighbourhood\", \"count\", \"count_percentage\"]].head(8)\n",
    "# Set the neighbourhood column as the index\n",
    "plotting_green = plotting_green.set_index('neighbourhood')"
   ]
  },
  {
   "cell_type": "code",
   "execution_count": null,
   "metadata": {},
   "outputs": [],
   "source": [
    "plotting_green"
   ]
  },
  {
   "cell_type": "code",
   "execution_count": null,
   "metadata": {},
   "outputs": [],
   "source": [
    "import matplotlib.pyplot as plt\n",
    "\n",
    "# Create figure and axis objects\n",
    "fig, ax1 = plt.subplots(figsize=(12, 8))\n",
    "\n",
    "plt.style.use(['default'])\n",
    "fig.set_facecolor(w)\n",
    "\n",
    "# Create bar chart for count column\n",
    "ax1.bar(plotting_green.index, plotting_green['count'], color=[b,b, b,b,r,b,b,b])\n",
    "ax1.set_ylabel('Count')\n",
    "ax1.set_xticklabels(plotting_green.index, rotation=45, ha=\"right\")\n",
    "ax1.get_yaxis().set_visible(False)\n",
    "\n",
    "#props = dict(boxstyle='round', facecolor='wheat', alpha=0.5)\n",
    "#ax1.text(6, 190,\"Test\", verticalalignment='top', bbox=props)\n",
    "\n",
    "# # Create secondary axis for count_percentage column\n",
    "# ax2 = ax1.twinx()\n",
    "# ax2.plot(plotting_green.index, plotting_green['count_percentage'], color='red', marker='o')\n",
    "# ax2.set_ylim(0, 100)\n",
    "# ax2.set_ylabel('Count Percentage')\n",
    "# ax2.get_yaxis().set_visible(False)\n",
    "\n",
    "# Add count values inside bars\n",
    "for i, val in enumerate(plotting_green['count']):\n",
    "    ax1.text(i, val, str(val), ha='center', va='bottom', fontweight='bold')\n",
    "\n",
    "# # Add count_percentage values inside line plot\n",
    "# for i, val in enumerate(plotting_green['count_percentage']):\n",
    "#     ax2.text(i, val, f\"{val:.1f}%\", ha='center', va='top', fontweight='bold')\n",
    "\n",
    "# Rotate x-axis labels for better readability\n",
    "plt.xticks(rotation=45)\n",
    "\n",
    "\n",
    "plt.title(\"Amount of Airbnb's for Green City Explorer\")\n",
    "# Show the plot\n",
    "plt.show();\n"
   ]
  },
  {
   "cell_type": "code",
   "execution_count": null,
   "metadata": {},
   "outputs": [],
   "source": [
    "# # the desired order of rows\n",
    "# desired_rows = [\"City of London\", \"Westminster\", \"Camden\", \"Kensington and Chelsea\", \"Tower Hamlets\", \"Islington\", \"Hackney\", \"Southwark\"]\n",
    "\n",
    "# # select the desired rows in the desired order\n",
    "# green_result = green_result.loc[green_result[\"neighbourhood\"].isin(desired_rows), :]\n",
    "# green_result = green_result.loc[green_result[\"neighbourhood\"].isin(desired_rows), :]\n",
    "# green_result = green_result.set_index(\"neighbourhood\").loc[desired_rows, :].reset_index()\n",
    "\n",
    "# green_result"
   ]
  },
  {
   "cell_type": "code",
   "execution_count": null,
   "metadata": {},
   "outputs": [],
   "source": []
  },
  {
   "attachments": {},
   "cell_type": "markdown",
   "metadata": {},
   "source": [
    "### #4 Which Neighbourhood is good for: \n",
    "\n",
    "* going out \n",
    "* foodies \n",
    "* shopping \n",
    "* culture "
   ]
  },
  {
   "cell_type": "code",
   "execution_count": null,
   "metadata": {},
   "outputs": [],
   "source": [
    "# create new columns for culture & for going out \n",
    "poi[\"culture_500\"] = poi[\"art_500\"] + poi[\"attraction_500\"]\n",
    "poi[\"going_out_500\"] = poi[\"bar_500\"] + poi[\"cafe_500\"]"
   ]
  },
  {
   "cell_type": "code",
   "execution_count": null,
   "metadata": {},
   "outputs": [],
   "source": [
    "# calculate the same for all Airbnb's, in order to then calculate the % of Budget friendly Airbnbs \n",
    "grouped_3 = poi.groupby(by=\"neighbourhood\").agg(count=(\"id\", \"size\"),\n",
    "                                                restaurant_mean=(\"restaurant_500\", \"mean\"),\n",
    "                                                clothes_shop_mean=(\"clothes_shop_500\", \"mean\"),\n",
    "                                                culture_mean=(\"culture_500\", \"mean\"),\n",
    "                                                going_out_mean=(\"going_out_500\", \"mean\")).reset_index(level=None)\n"
   ]
  },
  {
   "cell_type": "code",
   "execution_count": null,
   "metadata": {},
   "outputs": [],
   "source": [
    "grouped_3[\"total_mean\"] = grouped_3[\"restaurant_mean\"] + grouped_3[\"clothes_shop_mean\"]\t+ grouped_3[\"culture_mean\"] + grouped_3[\"going_out_mean\"]"
   ]
  },
  {
   "cell_type": "code",
   "execution_count": null,
   "metadata": {},
   "outputs": [],
   "source": [
    "plot_theme = grouped_3.sort_values(by=\"total_mean\", ascending=False).reset_index().head(8)"
   ]
  },
  {
   "cell_type": "code",
   "execution_count": null,
   "metadata": {},
   "outputs": [],
   "source": [
    "plot_theme[['restaurant_mean', 'clothes_shop_mean', 'culture_mean', 'going_out_mean', 'total_mean']] = plot_theme[['restaurant_mean', 'clothes_shop_mean', 'culture_mean', 'going_out_mean', 'total_mean']].astype(int)"
   ]
  },
  {
   "cell_type": "code",
   "execution_count": null,
   "metadata": {},
   "outputs": [],
   "source": [
    "plot_theme[['restaurant_mean',\n",
    "            'clothes_shop_mean', 'culture_mean', 'going_out_mean', 'total_mean']] = round(plot_theme[['restaurant_mean',\n",
    "                                                                                                      'clothes_shop_mean', 'culture_mean', 'going_out_mean', 'total_mean']], 0)\n"
   ]
  },
  {
   "cell_type": "code",
   "execution_count": null,
   "metadata": {},
   "outputs": [],
   "source": [
    "plot_theme"
   ]
  },
  {
   "cell_type": "code",
   "execution_count": null,
   "metadata": {},
   "outputs": [],
   "source": [
    "import matplotlib.pyplot as plt\n",
    "\n",
    "# define the figure size\n",
    "fig, axs = plt.subplots(figsize=(18, 10), nrows=2, ncols=2)\n",
    "\n",
    "plt.style.use(['default'])\n",
    "fig.set_facecolor(w)\n",
    "\n",
    "# create the first barplot in the upper left corner\n",
    "axs[0, 0].bar(plot_theme['neighbourhood'], plot_theme['restaurant_mean'], color=[r,r, b,b,b,b,b,b])\n",
    "axs[0, 0].set_title('Restaurants')\n",
    "#axs[0, 0].tick_params(axis='x', rotation=45, ha=\"right\")\n",
    "axs[0, 0].set_xticklabels(plot_theme['neighbourhood'], rotation=45, ha=\"right\")\n",
    "axs[0, 0].tick_params(axis='y', labelleft=False)\n",
    "\n",
    "\n",
    "# add values in the bars\n",
    "for i, v in enumerate(plot_theme['restaurant_mean']):\n",
    "    axs[0, 0].text(i, v, str(v), color='black', ha='center', va='bottom')\n",
    "\n",
    "# create the second barplot in the upper right corner\n",
    "axs[0, 1].bar(plot_theme['neighbourhood'], plot_theme['clothes_shop_mean'], color=[b,r, b,r,b,b,b,b])\n",
    "axs[0, 1].set_title('Shopping')\n",
    "axs[0, 1].set_xticklabels(plot_theme['neighbourhood'], rotation=45, ha=\"right\")\n",
    "axs[0, 1].tick_params(axis='y', labelleft=False)\n",
    "\n",
    "# add values in the bars\n",
    "for i, v in enumerate(plot_theme['clothes_shop_mean']):\n",
    "    axs[0, 1].text(i, v, str(v), color='black', ha='center', va='bottom')\n",
    "\n",
    "# create the third barplot in the lower left corner\n",
    "axs[1, 0].bar(plot_theme['neighbourhood'], plot_theme['culture_mean'], color=[r,r, r,r,b,b,b,b])\n",
    "axs[1, 0].set_title('Culture')\n",
    "axs[1, 0].set_xticklabels(plot_theme['neighbourhood'], rotation=45, ha=\"right\")\n",
    "axs[1, 0].tick_params(axis='y', labelleft=False)\n",
    "\n",
    "# add values in the bars\n",
    "for i, v in enumerate(plot_theme['culture_mean']):\n",
    "    axs[1, 0].text(i, v, str(v), color='black', ha='center', va='bottom')\n",
    "\n",
    "# create the fourth barplot in the lower right corner\n",
    "axs[1, 1].bar(plot_theme['neighbourhood'], plot_theme['going_out_mean'], color=[r,b, b,b,b,b,b,b])\n",
    "axs[1, 1].set_title('Going Out')\n",
    "axs[1, 1].set_xticklabels(plot_theme['neighbourhood'], rotation=45, ha=\"right\")\n",
    "axs[1, 1].tick_params(axis='y', labelleft=False)\n",
    "\n",
    "# add values in the bars\n",
    "for i, v in enumerate(plot_theme['going_out_mean']):\n",
    "    axs[1, 1].text(i, v, str(v), color='black', ha='center', va='bottom')\n",
    "\n",
    "# adjust the spacing between the subplots\n",
    "plt.subplots_adjust(hspace=0.6)\n",
    "\n",
    "# add a title for the whole figure\n",
    "plt.suptitle(\"Average Count of POI's per Category\")\n",
    "\n",
    "# display the plot\n",
    "plt.show()\n",
    "\n"
   ]
  },
  {
   "cell_type": "code",
   "execution_count": null,
   "metadata": {},
   "outputs": [],
   "source": [
    "import matplotlib.pyplot as plt\n",
    "\n",
    "# define the figure size\n",
    "plt.figure(figsize=(18, 10))\n",
    "\n",
    "plt.style.use(['default'])\n",
    "#fig.set_facecolor(w)\n",
    "\n",
    "# create the first barplot in the upper left corner\n",
    "plt.subplot(2, 2, 1)\n",
    "plt.bar(plot_theme['neighbourhood'], plot_theme['restaurant_mean'], color=[r,r, b,b,b,b,b,b])\n",
    "plt.title('Restaurants')\n",
    "plt.xticks(rotation=45, ha=\"right\")\n",
    "plt.yticks([])\n",
    "\n",
    "# add values in the bars\n",
    "for i, v in enumerate(plot_theme['restaurant_mean']):\n",
    "    plt.text(i, v, str(v), color='black', ha='center', va='bottom')\n",
    "\n",
    "# create the second barplot in the upper right corner\n",
    "plt.subplot(2, 2, 2)\n",
    "plt.bar(plot_theme['neighbourhood'], plot_theme['clothes_shop_mean'], color=[b,r, b,r,b,b,b,b])\n",
    "plt.title('Shopping')\n",
    "plt.xticks(rotation=45, ha=\"right\")\n",
    "plt.yticks([])\n",
    "\n",
    "# add values in the bars\n",
    "for i, v in enumerate(plot_theme['clothes_shop_mean']):\n",
    "    plt.text(i, v, str(v), color='black', ha='center', va='bottom')\n",
    "\n",
    "# create the third barplot in the lower left corner\n",
    "plt.subplot(2, 2, 3)\n",
    "plt.bar(plot_theme['neighbourhood'], plot_theme['culture_mean'], color=[r,r, r,r,b,b,b,b])\n",
    "plt.title('Culture')\n",
    "plt.xticks(rotation=45, ha=\"right\")\n",
    "plt.yticks([])\n",
    "\n",
    "# add values in the bars\n",
    "for i, v in enumerate(plot_theme['culture_mean']):\n",
    "    plt.text(i, v, str(v), color='black', ha='center', va='bottom')\n",
    "\n",
    "# create the fourth barplot in the lower right corner\n",
    "plt.subplot(2, 2, 4)\n",
    "plt.bar(plot_theme['neighbourhood'], plot_theme['going_out_mean'], color=[r,b, b,b,b,b,b,b])\n",
    "plt.title('Going Out')\n",
    "plt.xticks(rotation=45, ha=\"right\")\n",
    "plt.yticks([])\n",
    "\n",
    "# add values in the bars\n",
    "for i, v in enumerate(plot_theme['going_out_mean']):\n",
    "    plt.text(i, v, str(v), color='black', ha='center', va='bottom')\n",
    "\n",
    "# adjust the spacing between the subplots\n",
    "plt.subplots_adjust(hspace=0.6)\n",
    "\n",
    "# add a title for the whole figure\n",
    "plt.suptitle(\"Average Count of POI's per Category\")\n",
    "\n",
    "# display the plot\n",
    "plt.show()\n",
    "\n"
   ]
  },
  {
   "attachments": {},
   "cell_type": "markdown",
   "metadata": {},
   "source": [
    "### correlation of agglomeration of POI's + Airbnbs"
   ]
  },
  {
   "cell_type": "code",
   "execution_count": null,
   "metadata": {},
   "outputs": [],
   "source": [
    "result.corr()[\"count\"].tail(5)"
   ]
  },
  {
   "cell_type": "code",
   "execution_count": null,
   "metadata": {},
   "outputs": [],
   "source": [
    "result.corr()[\"count\"].tail(5).plot(kind=\"bar\")\n",
    "\n",
    "plt.xticks(rotation=45)\n",
    "plt.yticks(rotation=0)\n",
    "plt.title(\"Generall correlation of POI's to Number of Airbnbs in all Neighbourhoods\")\n",
    "plt.show()"
   ]
  },
  {
   "attachments": {},
   "cell_type": "markdown",
   "metadata": {},
   "source": [
    "## 10.EDA: poi (gastro)"
   ]
  },
  {
   "attachments": {},
   "cell_type": "markdown",
   "metadata": {},
   "source": [
    "### Heatmap"
   ]
  },
  {
   "cell_type": "code",
   "execution_count": null,
   "metadata": {},
   "outputs": [],
   "source": [
    "# set relevant columns for hypothesis \n",
    "heat = poi[[\"price\", \n",
    "                     \"price_category\", \n",
    "                     \"number_of_reviews\", \n",
    "                     \"number_of_reviews_ltm\", \n",
    "                     \"reviews_per_month\", \n",
    "                     \"review_scores_rating\",\n",
    "                     \"room_type\", \n",
    "                     \"room_type_int\", \n",
    "                     \"restaurant_500\", \n",
    "                     \"fast_food_500\", \n",
    "                     \"bar_500\", \n",
    "                     \"cafe_500\", \n",
    "                     \"gastro_500\"]]"
   ]
  },
  {
   "cell_type": "code",
   "execution_count": null,
   "metadata": {},
   "outputs": [],
   "source": [
    "corr = heat.corr(numeric_only=True)\n",
    "\n",
    "sns.set(rc={\"figure.figsize\":(16, 12)})\n",
    "\n",
    "# getting the upper triangle of the co-relation matrix\n",
    "matrix = np.triu(corr)\n",
    "\n",
    "# using the upper triangle matrix as mask \n",
    "sns.heatmap(corr, annot=True, mask=matrix)"
   ]
  },
  {
   "attachments": {},
   "cell_type": "markdown",
   "metadata": {},
   "source": [
    "### Hypothesis: In Area's with lot's of POI's, there are less Airbnb's which offer Entire Homes"
   ]
  },
  {
   "cell_type": "code",
   "execution_count": null,
   "metadata": {},
   "outputs": [],
   "source": [
    "# group by room_type_int and calculate the mean value \n",
    "poi.groupby(by=\"room_type_int\").agg({\"gastro_500\": \"mean\", \n",
    "                                             \"restaurant_500\": \"mean\",\n",
    "                                             \"fast_food_500\": \"mean\",\n",
    "                                             \"cafe_500\": \"mean\",\n",
    "                                             \"bar_500\": \"mean\",\n",
    "                                             \"id\": \"size\"})[[\"gastro_500\",\"restaurant_500\",\"fast_food_500\",\"cafe_500\", \"bar_500\", \"id\"]]"
   ]
  },
  {
   "cell_type": "code",
   "execution_count": null,
   "metadata": {},
   "outputs": [],
   "source": [
    "# plot without category \"hotel room(3)\" or \"shared room (1)\"\n",
    "poi[(poi[\"room_type_int\"] != 1) & (poi[\"room_type_int\"] != 3)].groupby(by=\"room_type_int\").agg({\"gastro_500\": \"mean\", \n",
    "                                             \"restaurant_500\": \"mean\",\n",
    "                                             \"fast_food_500\": \"mean\",\n",
    "                                             \"cafe_500\": \"mean\",\n",
    "                                             \"bar_500\": \"mean\"})[[\"restaurant_500\",\"fast_food_500\",\"cafe_500\", \"bar_500\", \"gastro_500\"]].plot(kind=\"bar\")\n",
    "plt.xticks([0, 1], [\"Private Room\", \"Entire Home\"], rotation=360)\n",
    "plt.title(\"Average # of POI's per Room Type\")\n",
    "plt.show()"
   ]
  },
  {
   "attachments": {},
   "cell_type": "markdown",
   "metadata": {},
   "source": [
    "### Hypothesis: POI's have direct impact on Price & Demand of Airbnb's"
   ]
  },
  {
   "cell_type": "code",
   "execution_count": null,
   "metadata": {},
   "outputs": [],
   "source": [
    "# group by price category and calculate the mean value \n",
    "poi.groupby(by=\"price_category\").agg({\"gastro_500\": \"mean\", \n",
    "                                             \"restaurant_500\": \"mean\",\n",
    "                                             \"fast_food_500\": \"mean\",\n",
    "                                             \"cafe_500\": \"mean\",\n",
    "                                             \"bar_500\": \"mean\",\n",
    "                                             \"id\": \"size\"})[[\"gastro_500\",\"restaurant_500\",\"fast_food_500\",\"cafe_500\", \"bar_500\", \"id\"]]"
   ]
  },
  {
   "cell_type": "code",
   "execution_count": null,
   "metadata": {},
   "outputs": [],
   "source": [
    "# plot without category 0 \n",
    "poi[poi[\"price_category\"] != 0].groupby(by=\"price_category\").agg({\"gastro_500\": \"mean\", \n",
    "                                             \"restaurant_500\": \"mean\",\n",
    "                                             \"fast_food_500\": \"mean\",\n",
    "                                             \"cafe_500\": \"mean\",\n",
    "                                             \"bar_500\": \"mean\"})[[\"restaurant_500\",\"fast_food_500\",\"cafe_500\", \"bar_500\", \"gastro_500\"]].plot(kind=\"bar\")\n",
    "\n",
    "plt.xticks([0, 1, 2, 3], [\"<60\", \"61-100\", \"101-180\", \">180\"], rotation=360)\n",
    "plt.title(\"Average # of POI's in each Airbnb-Price Category\")\n",
    "plt.show()"
   ]
  },
  {
   "attachments": {},
   "cell_type": "markdown",
   "metadata": {},
   "source": [
    "### Hypothesis: More POI's == better reviews (for location & general)"
   ]
  },
  {
   "attachments": {},
   "cell_type": "markdown",
   "metadata": {},
   "source": [
    "### Rating vs. Gastro POI's vs. Price Category"
   ]
  },
  {
   "cell_type": "code",
   "execution_count": null,
   "metadata": {},
   "outputs": [],
   "source": [
    "sns.set(rc={\"figure.figsize\":(16, 12)})\n",
    "\n",
    "# Filter only Reviews with > 0 Reviews per Month, without Category 0\n",
    "poi_gastro_filtered = poi[(poi[\"reviews_per_month\"] > 0) & (poi[\"price_category\"] > 0)]\n",
    "\n",
    "# Define the red-green color palette\n",
    "custom_palette = sns.color_palette(\"RdYlGn\", as_cmap=True)\n",
    "\n",
    "# Create the scatter plot with hue based on review_scores_rating\n",
    "ax = sns.scatterplot(x=\"reviews_per_month\", y=\"gastro_500\", hue=\"price_category\", data=poi_gastro_filtered, palette=custom_palette)\n",
    "\n",
    "# Rename the x-axis and y-axis labels\n",
    "ax.set_xlabel(\"Number of Reviews per Month\")\n",
    "ax.set_ylabel(\"Number of Gastronomy POIs\")\n",
    "\n",
    "plt.title(\"Number of Reviews vs. Number of Gastronomy-POI's vs. Price Category\")\n",
    "plt.show()"
   ]
  },
  {
   "cell_type": "code",
   "execution_count": null,
   "metadata": {},
   "outputs": [],
   "source": [
    "sns.set(rc={\"figure.figsize\":(16, 12)})\n",
    "\n",
    "# Filter only Reviews with > 0 Reviews per Month, without Category 0, and without outliers\n",
    "poi_gastro_filtered = poi[(poi[\"reviews_per_month\"] > 0) & (poi[\"reviews_per_month\"] < 10) & (poi[\"price_category\"] > 0)]\n",
    "\n",
    "# Define the red-green color palette\n",
    "custom_palette = sns.color_palette(\"RdYlGn\", as_cmap=True)\n",
    "\n",
    "# Create the scatter plot with hue based on review_scores_rating\n",
    "ax = sns.scatterplot(x=\"reviews_per_month\", y=\"gastro_500\", hue=\"price_category\", data=poi_gastro_filtered, palette=custom_palette)\n",
    "\n",
    "# Rename the x-axis and y-axis labels\n",
    "ax.set_xlabel(\"Number of Reviews per Month\")\n",
    "ax.set_ylabel(\"Number of Gastronomy POIs\")\n",
    "\n",
    "plt.title(\"Number of Reviews vs. Number of Gastronomy-POI's vs. Price Category \\n Without Outliers \")\n",
    "plt.show()"
   ]
  },
  {
   "attachments": {},
   "cell_type": "markdown",
   "metadata": {},
   "source": [
    "### Hypothesis: Certain Amenities have direct impact on Price & Demand of Airbnb's"
   ]
  },
  {
   "cell_type": "code",
   "execution_count": null,
   "metadata": {},
   "outputs": [],
   "source": [
    "#Correlation between price & amenities \n",
    "\n",
    "columns = ['private_bath', 'wifi', 'long_term_stays_allowed',\n",
    "       'private_patio_or_balcony', 'private_entrance', 'pets_allowed',\n",
    "       'outdoor_dining_area', 'lockbox', 'kitchen', 'hair_dryer',\n",
    "       'free_street_parking', 'free_parking_on_premises',\n",
    "       'dedicated_workspace', 'coffee', 'bed_linens',\n",
    "       'bathtub']\n",
    "\n",
    "\n",
    "selected_columns = poi[columns]\n",
    "corr = selected_columns.corrwith(poi[\"price_category\"]).sort_values(ascending=False)\n",
    "\n",
    "print(corr)"
   ]
  },
  {
   "cell_type": "code",
   "execution_count": null,
   "metadata": {},
   "outputs": [],
   "source": [
    "plt.figure(figsize=(8, 6))\n",
    "\n",
    "corr.plot(kind=\"bar\")\n",
    "plt.title(\"Correlation Amenities vs. Price \")\n",
    "\n",
    "plt.ylim(-0.1, 0.5)"
   ]
  },
  {
   "cell_type": "code",
   "execution_count": null,
   "metadata": {},
   "outputs": [],
   "source": [
    "#Correlation between amenities & reviews \n",
    "\n",
    "columns = ['private_bath', 'wifi', 'long_term_stays_allowed',\n",
    "       'private_patio_or_balcony', 'private_entrance', 'pets_allowed',\n",
    "       'outdoor_dining_area', 'lockbox', 'kitchen', 'hair_dryer',\n",
    "       'free_street_parking', 'free_parking_on_premises',\n",
    "       'dedicated_workspace', 'coffee', 'bed_linens',\n",
    "       'bathtub']\n",
    "\n",
    "\n",
    "selected_columns = poi[columns]\n",
    "corr = selected_columns.corrwith(poi[\"review_scores_rating\"]).sort_values(ascending=False)\n",
    "\n",
    "print(corr)"
   ]
  },
  {
   "cell_type": "code",
   "execution_count": null,
   "metadata": {},
   "outputs": [],
   "source": [
    "plt.figure(figsize=(8, 6))\n",
    "\n",
    "corr.plot(kind=\"bar\")\n",
    "plt.title(\"Correlation Amenities vs. Review Score\")\n",
    "\n",
    "plt.ylim(-0.1, 0.5)"
   ]
  },
  {
   "attachments": {},
   "cell_type": "markdown",
   "metadata": {},
   "source": [
    "## 11.Calculation in Python\n",
    "\n",
    "the calculation of the distances below didnt match the calculated distances in Tableau. Therefore we sticked with the Tableau calculations."
   ]
  },
  {
   "attachments": {},
   "cell_type": "markdown",
   "metadata": {},
   "source": [
    "### POI in Area"
   ]
  },
  {
   "cell_type": "code",
   "execution_count": null,
   "metadata": {},
   "outputs": [],
   "source": [
    "# ### subset's of df's for each amenity \n",
    "# restaurant = osm_short[osm_short[\"amenity\"] == \"restaurant\"][['id', 'latitude', 'longitude', 'name', 'amenity']]\n",
    "# fast_food = osm_short[osm_short[\"amenity\"] == \"fast_food\"][['id', 'latitude', 'longitude', 'name', 'amenity']]\n",
    "# cafe = osm_short[osm_short[\"amenity\"] == \"cafe\"][['id', 'latitude', 'longitude', 'name', 'amenity']]\n",
    "# bar = osm_short[osm_short[\"amenity\"] == \"bar\"][['id', 'latitude', 'longitude', 'name', 'amenity']]\n",
    "# subway = osm_short[osm_short[\"railway\"] == \"subway_entrance\"][['id', 'latitude', 'longitude', 'name', 'railway']]\n",
    "\n",
    "# street_test = osm_short[[\"id\", \"latitude\", \"longitude\", \"amenity\"]]"
   ]
  },
  {
   "cell_type": "code",
   "execution_count": null,
   "metadata": {},
   "outputs": [],
   "source": [
    "# airbnb_short = airbnb[['id', 'latitude', 'longitude']]"
   ]
  },
  {
   "attachments": {},
   "cell_type": "markdown",
   "metadata": {},
   "source": [
    "#### Function meters_to_degrees"
   ]
  },
  {
   "cell_type": "code",
   "execution_count": null,
   "metadata": {},
   "outputs": [],
   "source": [
    "# # Define the conversion factor from meters to degrees based on the latitude\n",
    "# def meters_to_degrees(meters, latitude):\n",
    "#     proj_meters = pyproj.CRS(\"EPSG:3857\")  # meters\n",
    "#     proj_latlon = pyproj.CRS(\"EPSG:4326\")  # degrees\n",
    "#     transformer = pyproj.Transformer.from_crs(\n",
    "#         proj_meters, proj_latlon, always_xy=True)\n",
    "#     lon, lat = transformer.transform(meters, 0)\n",
    "\n",
    "#     # Calculate the distance per degree of latitude\n",
    "#     lat_dist_per_deg = 111132.954 - 559.822 * math.cos(2 * math.radians(latitude)) + 1.175 * math.cos(\n",
    "#         4 * math.radians(latitude)) - 0.0023 * math.cos(6 * math.radians(latitude))\n",
    "\n",
    "#     # Calculate the distance per degree of longitude\n",
    "#     lon_dist_per_deg = math.pi / 180 * 6378137 * \\\n",
    "#         math.cos(math.radians(latitude))\n",
    "\n",
    "#     lat_degrees = meters / lat_dist_per_deg\n",
    "#     lon_degrees = meters / lon_dist_per_deg\n",
    "#     return lat_degrees, lon_degrees"
   ]
  },
  {
   "attachments": {},
   "cell_type": "markdown",
   "metadata": {},
   "source": [
    "### 100 Meter"
   ]
  },
  {
   "cell_type": "code",
   "execution_count": null,
   "metadata": {},
   "outputs": [],
   "source": [
    "# # ignore seetingswithcopy only for this cell. will be set back to warn at the end of the code\n",
    "# pd.options.mode.chained_assignment = None\n",
    "\n",
    "# # Convert the airbnb_short DataFrame to a GeoDataFrame with a Point geometry column\n",
    "# airbnb_geo = gpd.GeoDataFrame(airbnb_short, geometry=gpd.points_from_xy( airbnb_short[\"longitude\"], airbnb_short[\"latitude\"]))\n",
    "\n",
    "# # Convert the street_test DataFrame to a GeoDataFrame with a Point geometry column\n",
    "# street_test_geo = gpd.GeoDataFrame(street_test, geometry=gpd.points_from_xy(street_test[\"longitude\"], street_test[\"latitude\"]))\n",
    "\n",
    "# # Create an array of coordinates for the street_test GeoDataFrame\n",
    "# X = np.column_stack((street_test_geo[\"longitude\"].values, street_test_geo[\"latitude\"].values))\n",
    "\n",
    "# # Create a BallTree spatial index for the street_test GeoDataFrame\n",
    "# tree = BallTree(X, leaf_size=40)\n",
    "\n",
    "# # Define the radius of the search in meters\n",
    "# radius_meters = 100\n",
    "\n",
    "# # Loop through each row in airbnb_geo\n",
    "# for index, row in airbnb_geo.iterrows():\n",
    "#     # Convert the radius from meters to degrees based on the latitude\n",
    "#     lat, lon = row[\"latitude\"], row[\"longitude\"]\n",
    "#     lat_deg, lon_deg = meters_to_degrees(radius_meters, lat)\n",
    "\n",
    "#     # Use the BallTree spatial index to find the street_test rows within the search radius\n",
    "#     indices = tree.query_radius([[row[\"longitude\"], row[\"latitude\"]]], r=lon_deg)[0]\n",
    "\n",
    "#     # Filter the street_test rows to only those within the search radius\n",
    "#     candidate_rows = street_test_geo.iloc[indices]\n",
    "\n",
    "#     # Count the occurrences of each amenity in the candidate rows\n",
    "#     counts = candidate_rows[\"amenity\"].value_counts().to_dict()\n",
    "\n",
    "#     # Add the counts as new columns in the airbnb_short DataFrame\n",
    "#     for amenity_type, count in counts.items():\n",
    "#         airbnb_short.at[index, amenity_type] = count\n",
    "\n",
    "# #    # Add the list of ids as a new column in the airbnb_short\n",
    "# #    airbnb_short.at[index, \"street_test_ids\"] = str(candidate_rows[\"id\"].tolist())\n",
    "\n",
    "#     # If there are no amenities in the given radius, append \"no amenities\" in the list of ids\n",
    "# #    if not candidate_rows[\"id\"].tolist():\n",
    "# #        airbnb_short.at[index, \"street_test_ids\"] = \"no amenities\"\n",
    "\n",
    "#     # Print progress\n",
    "#     if index % 10000 == 0:\n",
    "#         print(f\"Processed {index} rows\")\n",
    "\n",
    "# # Replace NaN values with 0\n",
    "# airbnb_short.fillna(value=0, inplace=True)\n",
    "\n",
    "# pd.options.mode.chained_assignment = 'warn'"
   ]
  },
  {
   "attachments": {},
   "cell_type": "markdown",
   "metadata": {},
   "source": [
    "### Nearest distance "
   ]
  },
  {
   "cell_type": "code",
   "execution_count": null,
   "metadata": {},
   "outputs": [],
   "source": [
    "# ### is calculating values, but they seem to small\n",
    "# from scipy.spatial import cKDTree\n",
    "\n",
    "# # Import the radians function from numpy\n",
    "# from numpy import radians\n",
    "\n",
    "# # Convert the latitude and longitude columns in both dataframes to radians\n",
    "# airbnb[['latitude', 'longitude']] = radians(airbnb[['latitude', 'longitude']])\n",
    "# subway[['latitude', 'longitude']] = radians(subway[['latitude', 'longitude']])\n",
    "\n",
    "# # Build the KDTree index using the radians converted latitude and longitude columns in the subway dataframe\n",
    "# subway_tree = cKDTree(subway[['latitude', 'longitude']])\n",
    "\n",
    "# # Query the KDTree index for the nearest subway station to each airbnb location\n",
    "# distances, indices = subway_tree.query(airbnb[['latitude', 'longitude']], k=1)\n",
    "\n",
    "# # Convert the distance from radians to meters\n",
    "# earth_radius = 6371000  # radius of the Earth in meters\n",
    "# distances_meters = distances * earth_radius\n",
    "\n",
    "# # Add the nearest subway station distance to each airbnb row\n",
    "# airbnb['nearest_subway_distance'] = distances_meters\n",
    "\n"
   ]
  },
  {
   "cell_type": "code",
   "execution_count": null,
   "metadata": {},
   "outputs": [],
   "source": [
    "#airbnb['nearest_subway_distance'].describe()"
   ]
  },
  {
   "attachments": {},
   "cell_type": "markdown",
   "metadata": {},
   "source": [
    "## Old Versions"
   ]
  },
  {
   "cell_type": "code",
   "execution_count": null,
   "metadata": {},
   "outputs": [],
   "source": [
    "# ### runs, but with too smal results \n",
    "\n",
    "# # ignore seetingswithcopy only for this cell. will be set back to warn at the end of the code \n",
    "# pd.options.mode.chained_assignment = None\n",
    "\n",
    "# # Define the conversion factor from meters to degrees based on the latitude\n",
    "# def meters_to_degrees(meters, latitude):\n",
    "#     proj_meters = pyproj.CRS(\"EPSG:3857\")  # meters\n",
    "#     proj_latlon = pyproj.CRS(\"EPSG:4326\")  # degrees\n",
    "#     transformer = pyproj.Transformer.from_crs(proj_meters, proj_latlon, always_xy=True)\n",
    "#     lon, lat = transformer.transform(meters, 0)\n",
    "#     lat_dist_per_deg = 111132.954 - 559.822 * math.cos(2 * math.radians(latitude)) + 1.175 * math.cos(4 * math.radians(latitude))\n",
    "#     lon_dist_per_deg = 111412.84 * math.cos(math.radians(latitude))\n",
    "#     lat_degrees = meters / lat_dist_per_deg\n",
    "#     lon_degrees = meters / lon_dist_per_deg\n",
    "#     return lat_degrees, lon_degrees\n",
    "\n",
    "\n",
    "# airbnb_test[\"closest_amenity\"] = \"\"\n",
    "\n",
    "\n",
    "# # Convert the airbnb_test DataFrame to a GeoDataFrame with a Point geometry column\n",
    "# airbnb_test_geo = gpd.GeoDataFrame(airbnb_test, geometry=gpd.points_from_xy(airbnb_test[\"longitude\"], airbnb_test[\"latitude\"]))\n",
    "\n",
    "# # Convert the street_test DataFrame to a GeoDataFrame with a Point geometry column\n",
    "# street_test_geo = gpd.GeoDataFrame(street_test, geometry=gpd.points_from_xy(street_test[\"longitude\"], street_test[\"latitude\"]))\n",
    "\n",
    "# # Create an R-tree spatial index for the street_test GeoDataFrame\n",
    "# street_test_sindex = street_test_geo.sindex\n",
    "\n",
    "# # Define the radius of the search in meters\n",
    "# radius_meters = 1_000\n",
    "\n",
    "# # Loop through each row in airbnb_test_geo\n",
    "# for index, row in airbnb_test_geo.iterrows():\n",
    "#     # Convert the radius from meters to degrees based on the latitude\n",
    "#     lat, lon = row[\"latitude\"], row[\"longitude\"]\n",
    "#     lat_deg, lon_deg = meters_to_degrees(radius_meters, lat)\n",
    "    \n",
    "#     # Use the R-tree spatial index to find the street_test rows within the search radius\n",
    "#     candidate_indices = list(street_test_sindex.intersection(row.geometry.buffer(lon_deg).bounds))\n",
    "\n",
    "#     # Filter the street_test rows to only those within the search radius\n",
    "#     candidate_rows = street_test_geo.iloc[candidate_indices]\n",
    "# #\n",
    "#     if len(candidate_rows) == 0:\n",
    "#         # No amenities within the search radius\n",
    "#         closest_amenity_distance = np.nan\n",
    "#     else:\n",
    "#         # Calculate the distances from the current Airbnb location to all the amenities in the search radius\n",
    "#         candidate_rows[\"distance\"] = candidate_rows.geometry.distance(row.geometry)\n",
    "\n",
    "#         # Sort the candidate rows by distance\n",
    "#         candidate_rows = candidate_rows.sort_values(\"distance\")\n",
    "\n",
    "#         # Find the closest amenity and its distance\n",
    "#         closest_amenity = candidate_rows[\"amenity\"].iloc[0]\n",
    "#         closest_amenity_distance = candidate_rows[\"distance\"].iloc[0]\n",
    "\n",
    "#     # Add the closest amenity and its distance as new columns in the airbnb_test DataFrame\n",
    "#     airbnb_test.at[index, \"closest_amenity\"] = closest_amenity\n",
    "#     airbnb_test.at[index, \"closest_amenity_distance_m\"] = closest_amenity_distance\n",
    "\n",
    "#     # Print progress\n",
    "#     if index % 10000 == 0:\n",
    "#         print(f\"Processed {index} rows\")\n",
    "\n",
    "# # set seetingswithcopy back only for this cell. will be set back to warn at the end of the code \n",
    "# pd.options.mode.chained_assignment = 'warn'\n"
   ]
  },
  {
   "cell_type": "code",
   "execution_count": null,
   "metadata": {},
   "outputs": [],
   "source": [
    "#airbnb_test.describe()"
   ]
  },
  {
   "cell_type": "code",
   "execution_count": null,
   "metadata": {},
   "outputs": [],
   "source": [
    "# ### runs, but with less accurate results, than in 4.1.\n",
    "\n",
    "# ### Number of amenities + liste \n",
    "\n",
    "# import geopandas as gpd\n",
    "# from shapely.geometry import Point\n",
    "# from shapely.ops import transform\n",
    "# from functools import partial\n",
    "# import pyproj\n",
    "# import math\n",
    "\n",
    "# # Define the conversion factor from meters to degrees based on the latitude\n",
    "# def meters_to_degrees(meters, latitude):\n",
    "#     proj_meters = pyproj.CRS(\"EPSG:3857\")  # meters\n",
    "#     proj_latlon = pyproj.CRS(\"EPSG:4326\")  # degrees\n",
    "#     transformer = pyproj.Transformer.from_crs(\n",
    "#         proj_meters, proj_latlon, always_xy=True)\n",
    "#     lon, lat = transformer.transform(meters, 0)\n",
    "\n",
    "#     # Calculate the distance per degree of latitude\n",
    "#     lat_dist_per_deg = 111132.954 - 559.822 * math.cos(2 * math.radians(latitude)) + 1.175 * math.cos(\n",
    "#         4 * math.radians(latitude)) - 0.0023 * math.cos(6 * math.radians(latitude))\n",
    "\n",
    "#     # Calculate the distance per degree of longitude\n",
    "#     lon_dist_per_deg = math.pi / 180 * 6378137 * \\\n",
    "#         math.cos(math.radians(latitude))\n",
    "\n",
    "#     lat_degrees = meters / lat_dist_per_deg\n",
    "#     lon_degrees = meters / lon_dist_per_deg\n",
    "#     return lat_degrees, lon_degrees\n",
    "\n",
    "\n",
    "# # Convert the airbnb_test DataFrame to a GeoDataFrame with a Point geometry column\n",
    "# airbnb_test_geo = gpd.GeoDataFrame(airbnb_test, geometry=gpd.points_from_xy(airbnb_test[\"longitude\"], airbnb_test[\"latitude\"]))\n",
    "\n",
    "# # Convert the street_test DataFrame to a GeoDataFrame with a Point geometry column\n",
    "# street_test_geo = gpd.GeoDataFrame(street_test, geometry=gpd.points_from_xy(street_test[\"longitude\"], street_test[\"latitude\"]))\n",
    "\n",
    "# # Create an R-tree spatial index for the street_test GeoDataFrame\n",
    "# street_test_sindex = street_test_geo.sindex\n",
    "\n",
    "# # Define the radius of the search in meters\n",
    "# radius_meters = 200\n",
    "\n",
    "# # Loop through each row in airbnb_test_geo\n",
    "# for index, row in airbnb_test_geo.iterrows():\n",
    "#     # Convert the radius from meters to degrees based on the latitude\n",
    "#     lat, lon = row[\"latitude\"], row[\"longitude\"]\n",
    "#     lat_deg, lon_deg = meters_to_degrees(radius_meters, lat)\n",
    "    \n",
    "#     # Use the R-tree spatial index to find the street_test rows within the search radius\n",
    "#     candidate_indices = list(street_test_sindex.intersection(row.geometry.buffer(lon_deg).bounds))\n",
    "\n",
    "#     # Filter the street_test rows to only those within the search radius\n",
    "#     candidate_rows = street_test_geo.iloc[candidate_indices]\n",
    "\n",
    "#     # Create an empty list to store the id's of street_test rows\n",
    "#     ids = []\n",
    "\n",
    "#     # Group the candidate rows by amenity and count the occurrences\n",
    "#     counts = candidate_rows.groupby(\"amenity\").size().to_dict()\n",
    "\n",
    "#     # Add the counts as new columns in the airbnb_test DataFrame\n",
    "#     for amenity_type, count in counts.items():\n",
    "#         airbnb_test.at[index, amenity_type] = count\n",
    "#         ids.extend(candidate_rows[candidate_rows[\"amenity\"] == amenity_type][\"id\"].tolist())\n",
    "\n",
    "#     # If there are no amenities in the given radius, append \"no amenities\" in the list of ids\n",
    "#     if not ids:\n",
    "#         ids.append(\"no amenities\")\n",
    "        \n",
    "#     # Add the list of ids as a new column in the airbnb_test DataFrame\n",
    "#     airbnb_test.at[index, \"street_test_ids\"] = str(ids)\n",
    "\n",
    "#     # Print progress\n",
    "#     if index % 10000 == 0:\n",
    "#         print(f\"Processed {index} rows\")\n",
    "\n",
    "# # Replace NaN values with 0\n",
    "# airbnb_test.fillna(value=0, inplace=True)\n",
    "\n"
   ]
  },
  {
   "cell_type": "code",
   "execution_count": null,
   "metadata": {},
   "outputs": [],
   "source": [
    "# ### Calculation of POI's in Area with Balltree (old, not working properly)\n",
    "\n",
    "# # Calculate the needed radius when converted to unit sphere.\n",
    "# distance_in_meter = 200\n",
    "# earth_radius_in_meter = 6_371_000\n",
    "\n",
    "# radius = distance_in_meter / earth_radius_in_meter\n",
    "\n",
    "# # Convert the latitude and longitude columns to radians\n",
    "# airbnb_test = airbnb_test.copy()\n",
    "# airbnb_test.loc[:, 'lat_rad'] = np.radians(airbnb_test['latitude'])\n",
    "# airbnb_test.loc[:, 'lon_rad'] = np.radians(airbnb_test['longitude'])\n",
    "# street_test = street_test.copy()\n",
    "# street_test.loc[:, 'lat_rad'] = np.radians(street_test['latitude'])\n",
    "# street_test.loc[:, 'lon_rad'] = np.radians(street_test['longitude'])\n",
    "\n",
    "# # Create a BallTree object with the latitude and longitude columns\n",
    "# tree = BallTree(street_test[['lat_rad', 'lon_rad']],\n",
    "#                 leaf_size=15, metric='haversine')\n",
    "\n",
    "# # Find the indices of all neighbors within a radius of 500 meters\n",
    "# # for each row in list_test\n",
    "# indices = tree.query_radius(\n",
    "#     airbnb_test[['lat_rad', 'lon_rad']], r=radius, count_only=False)\n",
    "\n",
    "# # Calculate the number of neighbors for each amenity type\n",
    "# amenity_types = street_test['amenity'].unique()\n",
    "# amenity_counts = np.zeros((airbnb_test.shape[0], amenity_types.shape[0]))\n",
    "# for i, amenity in enumerate(amenity_types):\n",
    "#     street_indices = street_test[street_test['amenity'] == amenity].index\n",
    "#     intersection_counts = np.array(\n",
    "#         [np.intersect1d(street_indices, idx).size for idx in indices])\n",
    "#     amenity_counts[:, i] = intersection_counts\n",
    "\n",
    "# # Add the new columns to list_test\n",
    "# list_test = pd.concat([airbnb_test, pd.DataFrame(amenity_counts, columns=[\n",
    "#                       f'num_neighbors_{amenity}' for amenity in amenity_types])], axis=1)\n",
    "\n",
    "# # Calculate the number of neighbors for each railway type\n",
    "# railway_types = street_test['railway'].unique()\n",
    "# railway_counts = np.zeros((list_test.shape[0], railway_types.shape[0]))\n",
    "# for i, railway in enumerate(railway_types):\n",
    "#     street_indices = street_test[street_test['railway'] == railway].index\n",
    "#     intersection_counts = np.array(\n",
    "#         [np.intersect1d(street_indices, idx).size for idx in indices])\n",
    "#     railway_counts[:, i] = intersection_counts\n",
    "\n",
    "# # Add the new columns to list_test\n",
    "# list_test = pd.concat([list_test, pd.DataFrame(railway_counts, columns=[\n",
    "#                       f'num_neighbors_{railway}' for railway in railway_types])], axis=1)\n",
    "\n",
    "\n",
    "# # Remove the temporary columns\n",
    "# list_test.drop(columns=['lat_rad', 'lon_rad'], inplace=True)\n",
    "# street_test.drop(columns=['lat_rad', 'lon_rad'], inplace=True)\n"
   ]
  }
 ],
 "metadata": {
  "kernelspec": {
   "display_name": "nf_base",
   "language": "python",
   "name": "python3"
  },
  "language_info": {
   "codemirror_mode": {
    "name": "ipython",
    "version": 3
   },
   "file_extension": ".py",
   "mimetype": "text/x-python",
   "name": "python",
   "nbconvert_exporter": "python",
   "pygments_lexer": "ipython3",
   "version": "3.9.16"
  },
  "orig_nbformat": 4,
  "vscode": {
   "interpreter": {
    "hash": "ab3d85a18739f6fff6a9c8c504adc2ff9340867b576dede986e2ee74c099e4e5"
   }
  }
 },
 "nbformat": 4,
 "nbformat_minor": 2
}
