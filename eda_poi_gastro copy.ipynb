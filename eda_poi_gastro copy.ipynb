{
 "cells": [
  {
   "attachments": {},
   "cell_type": "markdown",
   "metadata": {},
   "source": [
    "# Airbnb Capstone Project"
   ]
  },
  {
   "attachments": {},
   "cell_type": "markdown",
   "metadata": {},
   "source": [
    "## 1.Import all Libraries"
   ]
  },
  {
   "cell_type": "code",
   "execution_count": 67,
   "metadata": {},
   "outputs": [],
   "source": [
    "### import all libraries and set settings \n",
    "import pandas as pd\n",
    "import numpy as np\n",
    "import geopandas as gpd\n",
    "import matplotlib.pyplot as plt\n",
    "import seaborn as sns\n",
    "\n",
    "import requests\n",
    "import json\n",
    "import gzip\n",
    "import pyproj\n",
    "import math\n",
    "\n",
    "from py_functions import increase_bbox \n",
    "from sklearn.neighbors import BallTree\n",
    "from scipy.spatial import cKDTree\n",
    "from shapely.geometry import Point\n",
    "from shapely.ops import transform\n",
    "from functools import partial\n",
    "\n",
    "pd.set_option('display.max_columns', None) # show all columns  "
   ]
  },
  {
   "attachments": {},
   "cell_type": "markdown",
   "metadata": {},
   "source": [
    "## 2.Inside Airbnb pipeline"
   ]
  },
  {
   "cell_type": "code",
   "execution_count": 68,
   "metadata": {},
   "outputs": [],
   "source": [
    "### Define path, .gz archive file name, country and city for url\n",
    "path ='data/'\n",
    "gz_file = \"listings.csv.gz\"\n",
    "country = \"united-kingdom\"\n",
    "state = \"england\"\n",
    "city = \"london\"\n",
    "url = f\"http://data.insideairbnb.com/{country}/{state}/{city}/2023-03-14/data/{gz_file}\""
   ]
  },
  {
   "cell_type": "code",
   "execution_count": 69,
   "metadata": {},
   "outputs": [
    {
     "name": "stdout",
     "output_type": "stream",
     "text": [
      "mkdir: data/london: File exists\n"
     ]
    }
   ],
   "source": [
    "### Create new directory for city\n",
    "!mkdir {path}{city}"
   ]
  },
  {
   "cell_type": "code",
   "execution_count": 70,
   "metadata": {},
   "outputs": [],
   "source": [
    "### Download the .gz file\n",
    "r = requests.get(url)\n",
    "with open(path+city+'/'+gz_file, 'wb') as f:\n",
    "    f.write(r.content)"
   ]
  },
  {
   "cell_type": "code",
   "execution_count": 71,
   "metadata": {},
   "outputs": [],
   "source": [
    "### Unzip the .gz file and save the content as pd.DataFrame via read_csv\n",
    "with gzip.open(path+city+'/'+gz_file) as f:\n",
    "    listings = pd.read_csv(f)\n"
   ]
  },
  {
   "cell_type": "code",
   "execution_count": 72,
   "metadata": {},
   "outputs": [],
   "source": [
    "### select only desired columns \n",
    "columns_keeper = ([\"id\",\n",
    "                   \"listing_url\",\n",
    "                   \"name\",\n",
    "                   \"picture_url\",\n",
    "                   \"host_id\",\n",
    "                   \"host_response_rate\",\n",
    "                   \"host_acceptance_rate\",\n",
    "                   \"host_is_superhost\",\n",
    "                   \"host_listings_count\",\n",
    "                   \"host_total_listings_count\",\n",
    "                   \"neighbourhood_cleansed\",\n",
    "                   \"latitude\",\n",
    "                   \"longitude\",\n",
    "                   \"room_type\",\n",
    "                   \"accommodates\",\n",
    "                   \"bathrooms_text\",\n",
    "                   \"bedrooms\",\n",
    "                   \"beds\",\n",
    "                   \"amenities\",\n",
    "                   \"price\",\n",
    "                   \"minimum_nights\",\n",
    "                   \"maximum_nights\",\n",
    "                   \"instant_bookable\",\n",
    "                   \"number_of_reviews\",\n",
    "                   \"number_of_reviews_ltm\",\n",
    "                   \"number_of_reviews_l30d\",\n",
    "                   \"first_review\",\n",
    "                   \"last_review\",\n",
    "                   \"review_scores_rating\",\n",
    "                   \"review_scores_accuracy\",\n",
    "                   \"review_scores_cleanliness\",\n",
    "                   \"review_scores_checkin\",\n",
    "                   \"review_scores_communication\",\n",
    "                   \"review_scores_location\",\n",
    "                   \"review_scores_value\",\n",
    "                   \"reviews_per_month\"]\n",
    "                  )"
   ]
  },
  {
   "cell_type": "code",
   "execution_count": 73,
   "metadata": {},
   "outputs": [],
   "source": [
    "### filter columns \n",
    "listings_short = listings[columns_keeper]"
   ]
  },
  {
   "attachments": {},
   "cell_type": "markdown",
   "metadata": {},
   "source": [
    "### 2.2.First Look - Airbnb Data"
   ]
  },
  {
   "cell_type": "code",
   "execution_count": 74,
   "metadata": {},
   "outputs": [
    {
     "data": {
      "text/html": [
       "<div>\n",
       "<style scoped>\n",
       "    .dataframe tbody tr th:only-of-type {\n",
       "        vertical-align: middle;\n",
       "    }\n",
       "\n",
       "    .dataframe tbody tr th {\n",
       "        vertical-align: top;\n",
       "    }\n",
       "\n",
       "    .dataframe thead th {\n",
       "        text-align: right;\n",
       "    }\n",
       "</style>\n",
       "<table border=\"1\" class=\"dataframe\">\n",
       "  <thead>\n",
       "    <tr style=\"text-align: right;\">\n",
       "      <th></th>\n",
       "      <th>id</th>\n",
       "      <th>listing_url</th>\n",
       "      <th>name</th>\n",
       "      <th>picture_url</th>\n",
       "      <th>host_id</th>\n",
       "      <th>host_response_rate</th>\n",
       "      <th>host_acceptance_rate</th>\n",
       "      <th>host_is_superhost</th>\n",
       "      <th>host_listings_count</th>\n",
       "      <th>host_total_listings_count</th>\n",
       "      <th>neighbourhood_cleansed</th>\n",
       "      <th>latitude</th>\n",
       "      <th>longitude</th>\n",
       "      <th>room_type</th>\n",
       "      <th>accommodates</th>\n",
       "      <th>bathrooms_text</th>\n",
       "      <th>bedrooms</th>\n",
       "      <th>beds</th>\n",
       "      <th>amenities</th>\n",
       "      <th>price</th>\n",
       "      <th>minimum_nights</th>\n",
       "      <th>maximum_nights</th>\n",
       "      <th>instant_bookable</th>\n",
       "      <th>number_of_reviews</th>\n",
       "      <th>number_of_reviews_ltm</th>\n",
       "      <th>number_of_reviews_l30d</th>\n",
       "      <th>first_review</th>\n",
       "      <th>last_review</th>\n",
       "      <th>review_scores_rating</th>\n",
       "      <th>review_scores_accuracy</th>\n",
       "      <th>review_scores_cleanliness</th>\n",
       "      <th>review_scores_checkin</th>\n",
       "      <th>review_scores_communication</th>\n",
       "      <th>review_scores_location</th>\n",
       "      <th>review_scores_value</th>\n",
       "      <th>reviews_per_month</th>\n",
       "    </tr>\n",
       "  </thead>\n",
       "  <tbody>\n",
       "    <tr>\n",
       "      <th>0</th>\n",
       "      <td>714569379355913481</td>\n",
       "      <td>https://www.airbnb.com/rooms/714569379355913481</td>\n",
       "      <td>Lovely private bedroom in Muswell Hill.</td>\n",
       "      <td>https://a0.muscache.com/pictures/miso/Hosting-...</td>\n",
       "      <td>39009854</td>\n",
       "      <td>NaN</td>\n",
       "      <td>NaN</td>\n",
       "      <td>f</td>\n",
       "      <td>1.0</td>\n",
       "      <td>1.0</td>\n",
       "      <td>Haringey</td>\n",
       "      <td>51.597280</td>\n",
       "      <td>-0.139330</td>\n",
       "      <td>Private room</td>\n",
       "      <td>1</td>\n",
       "      <td>1 shared bath</td>\n",
       "      <td>1.0</td>\n",
       "      <td>1.0</td>\n",
       "      <td>[\"Iron\", \"Hangers\", \"Hair dryer\", \"Outdoor din...</td>\n",
       "      <td>$100.00</td>\n",
       "      <td>1</td>\n",
       "      <td>365</td>\n",
       "      <td>f</td>\n",
       "      <td>0</td>\n",
       "      <td>0</td>\n",
       "      <td>0</td>\n",
       "      <td>NaN</td>\n",
       "      <td>NaN</td>\n",
       "      <td>NaN</td>\n",
       "      <td>NaN</td>\n",
       "      <td>NaN</td>\n",
       "      <td>NaN</td>\n",
       "      <td>NaN</td>\n",
       "      <td>NaN</td>\n",
       "      <td>NaN</td>\n",
       "      <td>NaN</td>\n",
       "    </tr>\n",
       "    <tr>\n",
       "      <th>1</th>\n",
       "      <td>808038970516277767</td>\n",
       "      <td>https://www.airbnb.com/rooms/808038970516277767</td>\n",
       "      <td>Studio Flat  Franklin London</td>\n",
       "      <td>https://a0.muscache.com/pictures/miso/Hosting-...</td>\n",
       "      <td>495977998</td>\n",
       "      <td>100%</td>\n",
       "      <td>100%</td>\n",
       "      <td>f</td>\n",
       "      <td>14.0</td>\n",
       "      <td>31.0</td>\n",
       "      <td>Barnet</td>\n",
       "      <td>51.636518</td>\n",
       "      <td>-0.177475</td>\n",
       "      <td>Entire home/apt</td>\n",
       "      <td>1</td>\n",
       "      <td>1 bath</td>\n",
       "      <td>1.0</td>\n",
       "      <td>1.0</td>\n",
       "      <td>[]</td>\n",
       "      <td>$65.00</td>\n",
       "      <td>180</td>\n",
       "      <td>365</td>\n",
       "      <td>t</td>\n",
       "      <td>0</td>\n",
       "      <td>0</td>\n",
       "      <td>0</td>\n",
       "      <td>NaN</td>\n",
       "      <td>NaN</td>\n",
       "      <td>NaN</td>\n",
       "      <td>NaN</td>\n",
       "      <td>NaN</td>\n",
       "      <td>NaN</td>\n",
       "      <td>NaN</td>\n",
       "      <td>NaN</td>\n",
       "      <td>NaN</td>\n",
       "      <td>NaN</td>\n",
       "    </tr>\n",
       "    <tr>\n",
       "      <th>2</th>\n",
       "      <td>822557738577472503</td>\n",
       "      <td>https://www.airbnb.com/rooms/822557738577472503</td>\n",
       "      <td>PropertyPlug - 2Bed Flat in Edgware SmartTV WiFi</td>\n",
       "      <td>https://a0.muscache.com/pictures/d77957d5-695a...</td>\n",
       "      <td>325629338</td>\n",
       "      <td>100%</td>\n",
       "      <td>91%</td>\n",
       "      <td>t</td>\n",
       "      <td>4.0</td>\n",
       "      <td>8.0</td>\n",
       "      <td>Harrow</td>\n",
       "      <td>51.608180</td>\n",
       "      <td>-0.277400</td>\n",
       "      <td>Entire home/apt</td>\n",
       "      <td>4</td>\n",
       "      <td>2 baths</td>\n",
       "      <td>2.0</td>\n",
       "      <td>2.0</td>\n",
       "      <td>[\"Dining table\", \"Washer\", \"Outdoor furniture\"...</td>\n",
       "      <td>$132.00</td>\n",
       "      <td>2</td>\n",
       "      <td>28</td>\n",
       "      <td>t</td>\n",
       "      <td>0</td>\n",
       "      <td>0</td>\n",
       "      <td>0</td>\n",
       "      <td>NaN</td>\n",
       "      <td>NaN</td>\n",
       "      <td>NaN</td>\n",
       "      <td>NaN</td>\n",
       "      <td>NaN</td>\n",
       "      <td>NaN</td>\n",
       "      <td>NaN</td>\n",
       "      <td>NaN</td>\n",
       "      <td>NaN</td>\n",
       "      <td>NaN</td>\n",
       "    </tr>\n",
       "    <tr>\n",
       "      <th>3</th>\n",
       "      <td>3518856</td>\n",
       "      <td>https://www.airbnb.com/rooms/3518856</td>\n",
       "      <td>Wimbledon Double Bedroom Ensuite</td>\n",
       "      <td>https://a0.muscache.com/pictures/23a18442-fc1d...</td>\n",
       "      <td>187811</td>\n",
       "      <td>NaN</td>\n",
       "      <td>100%</td>\n",
       "      <td>f</td>\n",
       "      <td>2.0</td>\n",
       "      <td>5.0</td>\n",
       "      <td>Merton</td>\n",
       "      <td>51.422310</td>\n",
       "      <td>-0.188410</td>\n",
       "      <td>Private room</td>\n",
       "      <td>1</td>\n",
       "      <td>1 private bath</td>\n",
       "      <td>1.0</td>\n",
       "      <td>1.0</td>\n",
       "      <td>[\"Washer\", \"Iron\", \"Hangers\", \"Kitchen\", \"Smok...</td>\n",
       "      <td>$100.00</td>\n",
       "      <td>5</td>\n",
       "      <td>1125</td>\n",
       "      <td>f</td>\n",
       "      <td>4</td>\n",
       "      <td>0</td>\n",
       "      <td>0</td>\n",
       "      <td>2015-12-27</td>\n",
       "      <td>2016-07-11</td>\n",
       "      <td>3.67</td>\n",
       "      <td>3.0</td>\n",
       "      <td>4.33</td>\n",
       "      <td>4.67</td>\n",
       "      <td>5.0</td>\n",
       "      <td>3.67</td>\n",
       "      <td>3.67</td>\n",
       "      <td>0.05</td>\n",
       "    </tr>\n",
       "    <tr>\n",
       "      <th>4</th>\n",
       "      <td>4876550</td>\n",
       "      <td>https://www.airbnb.com/rooms/4876550</td>\n",
       "      <td>Stunning Apartment 2 minutes walk to Tube Station</td>\n",
       "      <td>https://a0.muscache.com/pictures/miso/Hosting-...</td>\n",
       "      <td>25087384</td>\n",
       "      <td>75%</td>\n",
       "      <td>46%</td>\n",
       "      <td>f</td>\n",
       "      <td>1.0</td>\n",
       "      <td>1.0</td>\n",
       "      <td>Barnet</td>\n",
       "      <td>51.602282</td>\n",
       "      <td>-0.193606</td>\n",
       "      <td>Entire home/apt</td>\n",
       "      <td>2</td>\n",
       "      <td>1 bath</td>\n",
       "      <td>1.0</td>\n",
       "      <td>1.0</td>\n",
       "      <td>[\"First aid kit\", \"Washer\", \"Fire extinguisher...</td>\n",
       "      <td>$120.00</td>\n",
       "      <td>5</td>\n",
       "      <td>90</td>\n",
       "      <td>f</td>\n",
       "      <td>0</td>\n",
       "      <td>0</td>\n",
       "      <td>0</td>\n",
       "      <td>NaN</td>\n",
       "      <td>NaN</td>\n",
       "      <td>NaN</td>\n",
       "      <td>NaN</td>\n",
       "      <td>NaN</td>\n",
       "      <td>NaN</td>\n",
       "      <td>NaN</td>\n",
       "      <td>NaN</td>\n",
       "      <td>NaN</td>\n",
       "      <td>NaN</td>\n",
       "    </tr>\n",
       "  </tbody>\n",
       "</table>\n",
       "</div>"
      ],
      "text/plain": [
       "                   id                                      listing_url  \\\n",
       "0  714569379355913481  https://www.airbnb.com/rooms/714569379355913481   \n",
       "1  808038970516277767  https://www.airbnb.com/rooms/808038970516277767   \n",
       "2  822557738577472503  https://www.airbnb.com/rooms/822557738577472503   \n",
       "3             3518856             https://www.airbnb.com/rooms/3518856   \n",
       "4             4876550             https://www.airbnb.com/rooms/4876550   \n",
       "\n",
       "                                                name  \\\n",
       "0            Lovely private bedroom in Muswell Hill.   \n",
       "1                       Studio Flat  Franklin London   \n",
       "2   PropertyPlug - 2Bed Flat in Edgware SmartTV WiFi   \n",
       "3                   Wimbledon Double Bedroom Ensuite   \n",
       "4  Stunning Apartment 2 minutes walk to Tube Station   \n",
       "\n",
       "                                         picture_url    host_id  \\\n",
       "0  https://a0.muscache.com/pictures/miso/Hosting-...   39009854   \n",
       "1  https://a0.muscache.com/pictures/miso/Hosting-...  495977998   \n",
       "2  https://a0.muscache.com/pictures/d77957d5-695a...  325629338   \n",
       "3  https://a0.muscache.com/pictures/23a18442-fc1d...     187811   \n",
       "4  https://a0.muscache.com/pictures/miso/Hosting-...   25087384   \n",
       "\n",
       "  host_response_rate host_acceptance_rate host_is_superhost  \\\n",
       "0                NaN                  NaN                 f   \n",
       "1               100%                 100%                 f   \n",
       "2               100%                  91%                 t   \n",
       "3                NaN                 100%                 f   \n",
       "4                75%                  46%                 f   \n",
       "\n",
       "   host_listings_count  host_total_listings_count neighbourhood_cleansed  \\\n",
       "0                  1.0                        1.0               Haringey   \n",
       "1                 14.0                       31.0                 Barnet   \n",
       "2                  4.0                        8.0                 Harrow   \n",
       "3                  2.0                        5.0                 Merton   \n",
       "4                  1.0                        1.0                 Barnet   \n",
       "\n",
       "    latitude  longitude        room_type  accommodates  bathrooms_text  \\\n",
       "0  51.597280  -0.139330     Private room             1   1 shared bath   \n",
       "1  51.636518  -0.177475  Entire home/apt             1          1 bath   \n",
       "2  51.608180  -0.277400  Entire home/apt             4         2 baths   \n",
       "3  51.422310  -0.188410     Private room             1  1 private bath   \n",
       "4  51.602282  -0.193606  Entire home/apt             2          1 bath   \n",
       "\n",
       "   bedrooms  beds                                          amenities    price  \\\n",
       "0       1.0   1.0  [\"Iron\", \"Hangers\", \"Hair dryer\", \"Outdoor din...  $100.00   \n",
       "1       1.0   1.0                                                 []   $65.00   \n",
       "2       2.0   2.0  [\"Dining table\", \"Washer\", \"Outdoor furniture\"...  $132.00   \n",
       "3       1.0   1.0  [\"Washer\", \"Iron\", \"Hangers\", \"Kitchen\", \"Smok...  $100.00   \n",
       "4       1.0   1.0  [\"First aid kit\", \"Washer\", \"Fire extinguisher...  $120.00   \n",
       "\n",
       "   minimum_nights  maximum_nights instant_bookable  number_of_reviews  \\\n",
       "0               1             365                f                  0   \n",
       "1             180             365                t                  0   \n",
       "2               2              28                t                  0   \n",
       "3               5            1125                f                  4   \n",
       "4               5              90                f                  0   \n",
       "\n",
       "   number_of_reviews_ltm  number_of_reviews_l30d first_review last_review  \\\n",
       "0                      0                       0          NaN         NaN   \n",
       "1                      0                       0          NaN         NaN   \n",
       "2                      0                       0          NaN         NaN   \n",
       "3                      0                       0   2015-12-27  2016-07-11   \n",
       "4                      0                       0          NaN         NaN   \n",
       "\n",
       "   review_scores_rating  review_scores_accuracy  review_scores_cleanliness  \\\n",
       "0                   NaN                     NaN                        NaN   \n",
       "1                   NaN                     NaN                        NaN   \n",
       "2                   NaN                     NaN                        NaN   \n",
       "3                  3.67                     3.0                       4.33   \n",
       "4                   NaN                     NaN                        NaN   \n",
       "\n",
       "   review_scores_checkin  review_scores_communication  review_scores_location  \\\n",
       "0                    NaN                          NaN                     NaN   \n",
       "1                    NaN                          NaN                     NaN   \n",
       "2                    NaN                          NaN                     NaN   \n",
       "3                   4.67                          5.0                    3.67   \n",
       "4                    NaN                          NaN                     NaN   \n",
       "\n",
       "   review_scores_value  reviews_per_month  \n",
       "0                  NaN                NaN  \n",
       "1                  NaN                NaN  \n",
       "2                  NaN                NaN  \n",
       "3                 3.67               0.05  \n",
       "4                  NaN                NaN  "
      ]
     },
     "execution_count": 74,
     "metadata": {},
     "output_type": "execute_result"
    }
   ],
   "source": [
    "listings_short.head()"
   ]
  },
  {
   "cell_type": "code",
   "execution_count": 75,
   "metadata": {},
   "outputs": [
    {
     "name": "stdout",
     "output_type": "stream",
     "text": [
      "<class 'pandas.core.frame.DataFrame'>\n",
      "RangeIndex: 75241 entries, 0 to 75240\n",
      "Data columns (total 36 columns):\n",
      " #   Column                       Non-Null Count  Dtype  \n",
      "---  ------                       --------------  -----  \n",
      " 0   id                           75241 non-null  int64  \n",
      " 1   listing_url                  75241 non-null  object \n",
      " 2   name                         75210 non-null  object \n",
      " 3   picture_url                  75241 non-null  object \n",
      " 4   host_id                      75241 non-null  int64  \n",
      " 5   host_response_rate           46285 non-null  object \n",
      " 6   host_acceptance_rate         51028 non-null  object \n",
      " 7   host_is_superhost            75223 non-null  object \n",
      " 8   host_listings_count          75236 non-null  float64\n",
      " 9   host_total_listings_count    75236 non-null  float64\n",
      " 10  neighbourhood_cleansed       75241 non-null  object \n",
      " 11  latitude                     75241 non-null  float64\n",
      " 12  longitude                    75241 non-null  float64\n",
      " 13  room_type                    75241 non-null  object \n",
      " 14  accommodates                 75241 non-null  int64  \n",
      " 15  bathrooms_text               75117 non-null  object \n",
      " 16  bedrooms                     71768 non-null  float64\n",
      " 17  beds                         74135 non-null  float64\n",
      " 18  amenities                    75241 non-null  object \n",
      " 19  price                        75241 non-null  object \n",
      " 20  minimum_nights               75241 non-null  int64  \n",
      " 21  maximum_nights               75241 non-null  int64  \n",
      " 22  instant_bookable             75241 non-null  object \n",
      " 23  number_of_reviews            75241 non-null  int64  \n",
      " 24  number_of_reviews_ltm        75241 non-null  int64  \n",
      " 25  number_of_reviews_l30d       75241 non-null  int64  \n",
      " 26  first_review                 56548 non-null  object \n",
      " 27  last_review                  56548 non-null  object \n",
      " 28  review_scores_rating         56548 non-null  float64\n",
      " 29  review_scores_accuracy       55595 non-null  float64\n",
      " 30  review_scores_cleanliness    55606 non-null  float64\n",
      " 31  review_scores_checkin        55564 non-null  float64\n",
      " 32  review_scores_communication  55592 non-null  float64\n",
      " 33  review_scores_location       55565 non-null  float64\n",
      " 34  review_scores_value          55562 non-null  float64\n",
      " 35  reviews_per_month            56548 non-null  float64\n",
      "dtypes: float64(14), int64(8), object(14)\n",
      "memory usage: 20.7+ MB\n"
     ]
    }
   ],
   "source": [
    "listings_short.info()"
   ]
  },
  {
   "cell_type": "code",
   "execution_count": 76,
   "metadata": {},
   "outputs": [
    {
     "data": {
      "text/html": [
       "<div>\n",
       "<style scoped>\n",
       "    .dataframe tbody tr th:only-of-type {\n",
       "        vertical-align: middle;\n",
       "    }\n",
       "\n",
       "    .dataframe tbody tr th {\n",
       "        vertical-align: top;\n",
       "    }\n",
       "\n",
       "    .dataframe thead th {\n",
       "        text-align: right;\n",
       "    }\n",
       "</style>\n",
       "<table border=\"1\" class=\"dataframe\">\n",
       "  <thead>\n",
       "    <tr style=\"text-align: right;\">\n",
       "      <th></th>\n",
       "      <th>id</th>\n",
       "      <th>host_id</th>\n",
       "      <th>host_listings_count</th>\n",
       "      <th>host_total_listings_count</th>\n",
       "      <th>latitude</th>\n",
       "      <th>longitude</th>\n",
       "      <th>accommodates</th>\n",
       "      <th>bedrooms</th>\n",
       "      <th>beds</th>\n",
       "      <th>minimum_nights</th>\n",
       "      <th>maximum_nights</th>\n",
       "      <th>number_of_reviews</th>\n",
       "      <th>number_of_reviews_ltm</th>\n",
       "      <th>number_of_reviews_l30d</th>\n",
       "      <th>review_scores_rating</th>\n",
       "      <th>review_scores_accuracy</th>\n",
       "      <th>review_scores_cleanliness</th>\n",
       "      <th>review_scores_checkin</th>\n",
       "      <th>review_scores_communication</th>\n",
       "      <th>review_scores_location</th>\n",
       "      <th>review_scores_value</th>\n",
       "      <th>reviews_per_month</th>\n",
       "    </tr>\n",
       "  </thead>\n",
       "  <tbody>\n",
       "    <tr>\n",
       "      <th>count</th>\n",
       "      <td>7.524100e+04</td>\n",
       "      <td>7.524100e+04</td>\n",
       "      <td>75236.000000</td>\n",
       "      <td>75236.000000</td>\n",
       "      <td>75241.000000</td>\n",
       "      <td>75241.000000</td>\n",
       "      <td>75241.000000</td>\n",
       "      <td>71768.000000</td>\n",
       "      <td>74135.000000</td>\n",
       "      <td>75241.000000</td>\n",
       "      <td>7.524100e+04</td>\n",
       "      <td>75241.000000</td>\n",
       "      <td>75241.000000</td>\n",
       "      <td>75241.000000</td>\n",
       "      <td>56548.000000</td>\n",
       "      <td>55595.000000</td>\n",
       "      <td>55606.000000</td>\n",
       "      <td>55564.000000</td>\n",
       "      <td>55592.000000</td>\n",
       "      <td>55565.000000</td>\n",
       "      <td>55562.000000</td>\n",
       "      <td>56548.000000</td>\n",
       "    </tr>\n",
       "    <tr>\n",
       "      <th>mean</th>\n",
       "      <td>2.368628e+17</td>\n",
       "      <td>1.390765e+08</td>\n",
       "      <td>39.525958</td>\n",
       "      <td>71.379100</td>\n",
       "      <td>51.509708</td>\n",
       "      <td>-0.128108</td>\n",
       "      <td>3.105793</td>\n",
       "      <td>1.513153</td>\n",
       "      <td>1.772833</td>\n",
       "      <td>5.750748</td>\n",
       "      <td>7.790300e+03</td>\n",
       "      <td>17.974668</td>\n",
       "      <td>5.736301</td>\n",
       "      <td>0.456467</td>\n",
       "      <td>4.588159</td>\n",
       "      <td>4.723349</td>\n",
       "      <td>4.623915</td>\n",
       "      <td>4.783393</td>\n",
       "      <td>4.801027</td>\n",
       "      <td>4.729358</td>\n",
       "      <td>4.607755</td>\n",
       "      <td>0.877064</td>\n",
       "    </tr>\n",
       "    <tr>\n",
       "      <th>std</th>\n",
       "      <td>3.425911e+17</td>\n",
       "      <td>1.529621e+08</td>\n",
       "      <td>222.170789</td>\n",
       "      <td>420.039233</td>\n",
       "      <td>0.048369</td>\n",
       "      <td>0.099341</td>\n",
       "      <td>1.936972</td>\n",
       "      <td>0.885015</td>\n",
       "      <td>1.228013</td>\n",
       "      <td>24.240947</td>\n",
       "      <td>1.914055e+06</td>\n",
       "      <td>41.984021</td>\n",
       "      <td>12.991805</td>\n",
       "      <td>1.277612</td>\n",
       "      <td>0.779083</td>\n",
       "      <td>0.489328</td>\n",
       "      <td>0.550721</td>\n",
       "      <td>0.453835</td>\n",
       "      <td>0.448759</td>\n",
       "      <td>0.418873</td>\n",
       "      <td>0.521839</td>\n",
       "      <td>1.234003</td>\n",
       "    </tr>\n",
       "    <tr>\n",
       "      <th>min</th>\n",
       "      <td>1.391300e+04</td>\n",
       "      <td>2.594000e+03</td>\n",
       "      <td>1.000000</td>\n",
       "      <td>1.000000</td>\n",
       "      <td>51.295937</td>\n",
       "      <td>-0.497800</td>\n",
       "      <td>0.000000</td>\n",
       "      <td>1.000000</td>\n",
       "      <td>1.000000</td>\n",
       "      <td>1.000000</td>\n",
       "      <td>1.000000e+00</td>\n",
       "      <td>0.000000</td>\n",
       "      <td>0.000000</td>\n",
       "      <td>0.000000</td>\n",
       "      <td>0.000000</td>\n",
       "      <td>0.000000</td>\n",
       "      <td>0.000000</td>\n",
       "      <td>0.000000</td>\n",
       "      <td>0.000000</td>\n",
       "      <td>0.000000</td>\n",
       "      <td>0.000000</td>\n",
       "      <td>0.010000</td>\n",
       "    </tr>\n",
       "    <tr>\n",
       "      <th>25%</th>\n",
       "      <td>1.981740e+07</td>\n",
       "      <td>1.995923e+07</td>\n",
       "      <td>1.000000</td>\n",
       "      <td>1.000000</td>\n",
       "      <td>51.483540</td>\n",
       "      <td>-0.189390</td>\n",
       "      <td>2.000000</td>\n",
       "      <td>1.000000</td>\n",
       "      <td>1.000000</td>\n",
       "      <td>1.000000</td>\n",
       "      <td>4.200000e+01</td>\n",
       "      <td>1.000000</td>\n",
       "      <td>0.000000</td>\n",
       "      <td>0.000000</td>\n",
       "      <td>4.500000</td>\n",
       "      <td>4.670000</td>\n",
       "      <td>4.500000</td>\n",
       "      <td>4.750000</td>\n",
       "      <td>4.790000</td>\n",
       "      <td>4.640000</td>\n",
       "      <td>4.500000</td>\n",
       "      <td>0.130000</td>\n",
       "    </tr>\n",
       "    <tr>\n",
       "      <th>50%</th>\n",
       "      <td>3.933875e+07</td>\n",
       "      <td>6.745519e+07</td>\n",
       "      <td>2.000000</td>\n",
       "      <td>2.000000</td>\n",
       "      <td>51.513840</td>\n",
       "      <td>-0.126280</td>\n",
       "      <td>2.000000</td>\n",
       "      <td>1.000000</td>\n",
       "      <td>1.000000</td>\n",
       "      <td>2.000000</td>\n",
       "      <td>3.650000e+02</td>\n",
       "      <td>4.000000</td>\n",
       "      <td>0.000000</td>\n",
       "      <td>0.000000</td>\n",
       "      <td>4.820000</td>\n",
       "      <td>4.890000</td>\n",
       "      <td>4.800000</td>\n",
       "      <td>4.940000</td>\n",
       "      <td>4.970000</td>\n",
       "      <td>4.850000</td>\n",
       "      <td>4.750000</td>\n",
       "      <td>0.450000</td>\n",
       "    </tr>\n",
       "    <tr>\n",
       "      <th>75%</th>\n",
       "      <td>6.562985e+17</td>\n",
       "      <td>2.248670e+08</td>\n",
       "      <td>5.000000</td>\n",
       "      <td>8.000000</td>\n",
       "      <td>51.539450</td>\n",
       "      <td>-0.068460</td>\n",
       "      <td>4.000000</td>\n",
       "      <td>2.000000</td>\n",
       "      <td>2.000000</td>\n",
       "      <td>4.000000</td>\n",
       "      <td>1.125000e+03</td>\n",
       "      <td>17.000000</td>\n",
       "      <td>6.000000</td>\n",
       "      <td>0.000000</td>\n",
       "      <td>5.000000</td>\n",
       "      <td>5.000000</td>\n",
       "      <td>5.000000</td>\n",
       "      <td>5.000000</td>\n",
       "      <td>5.000000</td>\n",
       "      <td>5.000000</td>\n",
       "      <td>4.970000</td>\n",
       "      <td>1.090000</td>\n",
       "    </tr>\n",
       "    <tr>\n",
       "      <th>max</th>\n",
       "      <td>8.463271e+17</td>\n",
       "      <td>5.050400e+08</td>\n",
       "      <td>2138.000000</td>\n",
       "      <td>24047.000000</td>\n",
       "      <td>51.681142</td>\n",
       "      <td>0.288570</td>\n",
       "      <td>16.000000</td>\n",
       "      <td>22.000000</td>\n",
       "      <td>38.000000</td>\n",
       "      <td>1125.000000</td>\n",
       "      <td>5.248556e+08</td>\n",
       "      <td>1328.000000</td>\n",
       "      <td>564.000000</td>\n",
       "      <td>68.000000</td>\n",
       "      <td>5.000000</td>\n",
       "      <td>5.000000</td>\n",
       "      <td>5.000000</td>\n",
       "      <td>5.000000</td>\n",
       "      <td>5.000000</td>\n",
       "      <td>5.000000</td>\n",
       "      <td>5.000000</td>\n",
       "      <td>51.050000</td>\n",
       "    </tr>\n",
       "  </tbody>\n",
       "</table>\n",
       "</div>"
      ],
      "text/plain": [
       "                 id       host_id  host_listings_count  \\\n",
       "count  7.524100e+04  7.524100e+04         75236.000000   \n",
       "mean   2.368628e+17  1.390765e+08            39.525958   \n",
       "std    3.425911e+17  1.529621e+08           222.170789   \n",
       "min    1.391300e+04  2.594000e+03             1.000000   \n",
       "25%    1.981740e+07  1.995923e+07             1.000000   \n",
       "50%    3.933875e+07  6.745519e+07             2.000000   \n",
       "75%    6.562985e+17  2.248670e+08             5.000000   \n",
       "max    8.463271e+17  5.050400e+08          2138.000000   \n",
       "\n",
       "       host_total_listings_count      latitude     longitude  accommodates  \\\n",
       "count               75236.000000  75241.000000  75241.000000  75241.000000   \n",
       "mean                   71.379100     51.509708     -0.128108      3.105793   \n",
       "std                   420.039233      0.048369      0.099341      1.936972   \n",
       "min                     1.000000     51.295937     -0.497800      0.000000   \n",
       "25%                     1.000000     51.483540     -0.189390      2.000000   \n",
       "50%                     2.000000     51.513840     -0.126280      2.000000   \n",
       "75%                     8.000000     51.539450     -0.068460      4.000000   \n",
       "max                 24047.000000     51.681142      0.288570     16.000000   \n",
       "\n",
       "           bedrooms          beds  minimum_nights  maximum_nights  \\\n",
       "count  71768.000000  74135.000000    75241.000000    7.524100e+04   \n",
       "mean       1.513153      1.772833        5.750748    7.790300e+03   \n",
       "std        0.885015      1.228013       24.240947    1.914055e+06   \n",
       "min        1.000000      1.000000        1.000000    1.000000e+00   \n",
       "25%        1.000000      1.000000        1.000000    4.200000e+01   \n",
       "50%        1.000000      1.000000        2.000000    3.650000e+02   \n",
       "75%        2.000000      2.000000        4.000000    1.125000e+03   \n",
       "max       22.000000     38.000000     1125.000000    5.248556e+08   \n",
       "\n",
       "       number_of_reviews  number_of_reviews_ltm  number_of_reviews_l30d  \\\n",
       "count       75241.000000           75241.000000            75241.000000   \n",
       "mean           17.974668               5.736301                0.456467   \n",
       "std            41.984021              12.991805                1.277612   \n",
       "min             0.000000               0.000000                0.000000   \n",
       "25%             1.000000               0.000000                0.000000   \n",
       "50%             4.000000               0.000000                0.000000   \n",
       "75%            17.000000               6.000000                0.000000   \n",
       "max          1328.000000             564.000000               68.000000   \n",
       "\n",
       "       review_scores_rating  review_scores_accuracy  \\\n",
       "count          56548.000000            55595.000000   \n",
       "mean               4.588159                4.723349   \n",
       "std                0.779083                0.489328   \n",
       "min                0.000000                0.000000   \n",
       "25%                4.500000                4.670000   \n",
       "50%                4.820000                4.890000   \n",
       "75%                5.000000                5.000000   \n",
       "max                5.000000                5.000000   \n",
       "\n",
       "       review_scores_cleanliness  review_scores_checkin  \\\n",
       "count               55606.000000           55564.000000   \n",
       "mean                    4.623915               4.783393   \n",
       "std                     0.550721               0.453835   \n",
       "min                     0.000000               0.000000   \n",
       "25%                     4.500000               4.750000   \n",
       "50%                     4.800000               4.940000   \n",
       "75%                     5.000000               5.000000   \n",
       "max                     5.000000               5.000000   \n",
       "\n",
       "       review_scores_communication  review_scores_location  \\\n",
       "count                 55592.000000            55565.000000   \n",
       "mean                      4.801027                4.729358   \n",
       "std                       0.448759                0.418873   \n",
       "min                       0.000000                0.000000   \n",
       "25%                       4.790000                4.640000   \n",
       "50%                       4.970000                4.850000   \n",
       "75%                       5.000000                5.000000   \n",
       "max                       5.000000                5.000000   \n",
       "\n",
       "       review_scores_value  reviews_per_month  \n",
       "count         55562.000000       56548.000000  \n",
       "mean              4.607755           0.877064  \n",
       "std               0.521839           1.234003  \n",
       "min               0.000000           0.010000  \n",
       "25%               4.500000           0.130000  \n",
       "50%               4.750000           0.450000  \n",
       "75%               4.970000           1.090000  \n",
       "max               5.000000          51.050000  "
      ]
     },
     "execution_count": 76,
     "metadata": {},
     "output_type": "execute_result"
    }
   ],
   "source": [
    "listings_short.describe()"
   ]
  },
  {
   "attachments": {},
   "cell_type": "markdown",
   "metadata": {},
   "source": [
    "## 2.3. Clean Airbnb "
   ]
  },
  {
   "attachments": {},
   "cell_type": "markdown",
   "metadata": {},
   "source": [
    "### 2.3.1. Handling Missing Data "
   ]
  },
  {
   "cell_type": "code",
   "execution_count": 77,
   "metadata": {},
   "outputs": [
    {
     "data": {
      "text/plain": [
       "(75241, 36)"
      ]
     },
     "execution_count": 77,
     "metadata": {},
     "output_type": "execute_result"
    }
   ],
   "source": [
    "listings_short.shape"
   ]
  },
  {
   "cell_type": "code",
   "execution_count": 78,
   "metadata": {},
   "outputs": [
    {
     "data": {
      "text/plain": [
       "id                                 0\n",
       "listing_url                        0\n",
       "name                              31\n",
       "picture_url                        0\n",
       "host_id                            0\n",
       "host_response_rate             28956\n",
       "host_acceptance_rate           24213\n",
       "host_is_superhost                 18\n",
       "host_listings_count                5\n",
       "host_total_listings_count          5\n",
       "neighbourhood_cleansed             0\n",
       "latitude                           0\n",
       "longitude                          0\n",
       "room_type                          0\n",
       "accommodates                       0\n",
       "bathrooms_text                   124\n",
       "bedrooms                        3473\n",
       "beds                            1106\n",
       "amenities                          0\n",
       "price                              0\n",
       "minimum_nights                     0\n",
       "maximum_nights                     0\n",
       "instant_bookable                   0\n",
       "number_of_reviews                  0\n",
       "number_of_reviews_ltm              0\n",
       "number_of_reviews_l30d             0\n",
       "first_review                   18693\n",
       "last_review                    18693\n",
       "review_scores_rating           18693\n",
       "review_scores_accuracy         19646\n",
       "review_scores_cleanliness      19635\n",
       "review_scores_checkin          19677\n",
       "review_scores_communication    19649\n",
       "review_scores_location         19676\n",
       "review_scores_value            19679\n",
       "reviews_per_month              18693\n",
       "dtype: int64"
      ]
     },
     "execution_count": 78,
     "metadata": {},
     "output_type": "execute_result"
    }
   ],
   "source": [
    "listings_short.isnull().sum()"
   ]
  },
  {
   "attachments": {},
   "cell_type": "markdown",
   "metadata": {},
   "source": [
    "**host_is_superhost**"
   ]
  },
  {
   "cell_type": "code",
   "execution_count": 79,
   "metadata": {},
   "outputs": [
    {
     "data": {
      "text/plain": [
       "f      64574\n",
       "t      10649\n",
       "NaN       18\n",
       "Name: host_is_superhost, dtype: int64"
      ]
     },
     "execution_count": 79,
     "metadata": {},
     "output_type": "execute_result"
    }
   ],
   "source": [
    "# check the different values of \"host_is_superhost\"\n",
    "listings_short[\"host_is_superhost\"].value_counts(dropna=False)"
   ]
  },
  {
   "cell_type": "code",
   "execution_count": 80,
   "metadata": {},
   "outputs": [
    {
     "data": {
      "text/plain": [
       "5.0     4\n",
       "2.0     3\n",
       "6.0     2\n",
       "10.0    2\n",
       "7.0     2\n",
       "4.0     2\n",
       "26.0    2\n",
       "1.0     1\n",
       "Name: host_total_listings_count, dtype: int64"
      ]
     },
     "execution_count": 80,
     "metadata": {},
     "output_type": "execute_result"
    }
   ],
   "source": [
    "# check how many listings the hosts with nan value for \"host_is_superhost\" have: \n",
    "listings_short[listings_short['host_is_superhost'].isna()][\"host_total_listings_count\"].value_counts()"
   ]
  },
  {
   "cell_type": "code",
   "execution_count": 81,
   "metadata": {},
   "outputs": [
    {
     "name": "stderr",
     "output_type": "stream",
     "text": [
      "/var/folders/rg/dp45d7gx32z2qsqz6czrtwrh0000gn/T/ipykernel_24535/3651527053.py:2: SettingWithCopyWarning: \n",
      "A value is trying to be set on a copy of a slice from a DataFrame.\n",
      "Try using .loc[row_indexer,col_indexer] = value instead\n",
      "\n",
      "See the caveats in the documentation: https://pandas.pydata.org/pandas-docs/stable/user_guide/indexing.html#returning-a-view-versus-a-copy\n",
      "  listings_short[\"host_is_superhost\"] = listings_short[\"host_is_superhost\"].fillna(\"f\")\n"
     ]
    }
   ],
   "source": [
    "# we can fill values with \"f\" for false \n",
    "listings_short[\"host_is_superhost\"] = listings_short[\"host_is_superhost\"].fillna(\"f\")"
   ]
  },
  {
   "cell_type": "code",
   "execution_count": 82,
   "metadata": {},
   "outputs": [
    {
     "name": "stderr",
     "output_type": "stream",
     "text": [
      "/var/folders/rg/dp45d7gx32z2qsqz6czrtwrh0000gn/T/ipykernel_24535/3052865995.py:2: SettingWithCopyWarning: \n",
      "A value is trying to be set on a copy of a slice from a DataFrame.\n",
      "Try using .loc[row_indexer,col_indexer] = value instead\n",
      "\n",
      "See the caveats in the documentation: https://pandas.pydata.org/pandas-docs/stable/user_guide/indexing.html#returning-a-view-versus-a-copy\n",
      "  listings_short[[\"name\", \"host_response_rate\",\n"
     ]
    }
   ],
   "source": [
    "# renaming Rows with NaN to \"Unknown\"\n",
    "listings_short[[\"name\", \"host_response_rate\",\n",
    "                \"host_acceptance_rate\"]] = listings_short[[\"name\", \"host_response_rate\",\n",
    "                                                           \"host_acceptance_rate\"]].fillna(\"Unknown\")\n"
   ]
  },
  {
   "attachments": {},
   "cell_type": "markdown",
   "metadata": {},
   "source": [
    "**host_listings_count & host_total_listings_count**"
   ]
  },
  {
   "cell_type": "code",
   "execution_count": 83,
   "metadata": {},
   "outputs": [
    {
     "name": "stderr",
     "output_type": "stream",
     "text": [
      "/var/folders/rg/dp45d7gx32z2qsqz6czrtwrh0000gn/T/ipykernel_24535/859434433.py:2: SettingWithCopyWarning: \n",
      "A value is trying to be set on a copy of a slice from a DataFrame\n",
      "\n",
      "See the caveats in the documentation: https://pandas.pydata.org/pandas-docs/stable/user_guide/indexing.html#returning-a-view-versus-a-copy\n",
      "  listings_short[\"host_listings_count\"].fillna(listings_short[\"host_listings_count\"].mode()[0], inplace=True)\n",
      "/var/folders/rg/dp45d7gx32z2qsqz6czrtwrh0000gn/T/ipykernel_24535/859434433.py:4: SettingWithCopyWarning: \n",
      "A value is trying to be set on a copy of a slice from a DataFrame\n",
      "\n",
      "See the caveats in the documentation: https://pandas.pydata.org/pandas-docs/stable/user_guide/indexing.html#returning-a-view-versus-a-copy\n",
      "  listings_short[\"host_total_listings_count\"].fillna(listings_short[\"host_total_listings_count\"].mode()[0], inplace=True)\n"
     ]
    }
   ],
   "source": [
    "# set the mode for host_listings_count & host_total_listings_count\n",
    "listings_short[\"host_listings_count\"].fillna(listings_short[\"host_listings_count\"].mode()[0], inplace=True)\n",
    "\n",
    "listings_short[\"host_total_listings_count\"].fillna(listings_short[\"host_total_listings_count\"].mode()[0], inplace=True)"
   ]
  },
  {
   "attachments": {},
   "cell_type": "markdown",
   "metadata": {},
   "source": [
    "**bedrooms , beds & bathrooms_text**"
   ]
  },
  {
   "cell_type": "code",
   "execution_count": 84,
   "metadata": {},
   "outputs": [
    {
     "name": "stderr",
     "output_type": "stream",
     "text": [
      "/var/folders/rg/dp45d7gx32z2qsqz6czrtwrh0000gn/T/ipykernel_24535/1250815054.py:2: SettingWithCopyWarning: \n",
      "A value is trying to be set on a copy of a slice from a DataFrame\n",
      "\n",
      "See the caveats in the documentation: https://pandas.pydata.org/pandas-docs/stable/user_guide/indexing.html#returning-a-view-versus-a-copy\n",
      "  listings_short[\"bathrooms_text\"].fillna(listings_short[\"bathrooms_text\"].mode()[0], inplace=True)\n",
      "/var/folders/rg/dp45d7gx32z2qsqz6czrtwrh0000gn/T/ipykernel_24535/1250815054.py:4: SettingWithCopyWarning: \n",
      "A value is trying to be set on a copy of a slice from a DataFrame\n",
      "\n",
      "See the caveats in the documentation: https://pandas.pydata.org/pandas-docs/stable/user_guide/indexing.html#returning-a-view-versus-a-copy\n",
      "  listings_short[\"bedrooms\"].fillna(listings_short[\"bedrooms\"].mode()[0], inplace=True)\n",
      "/var/folders/rg/dp45d7gx32z2qsqz6czrtwrh0000gn/T/ipykernel_24535/1250815054.py:6: SettingWithCopyWarning: \n",
      "A value is trying to be set on a copy of a slice from a DataFrame\n",
      "\n",
      "See the caveats in the documentation: https://pandas.pydata.org/pandas-docs/stable/user_guide/indexing.html#returning-a-view-versus-a-copy\n",
      "  listings_short[\"beds\"].fillna(listings_short[\"beds\"].mode()[0], inplace=True)\n"
     ]
    }
   ],
   "source": [
    "# set the mode for above columns\n",
    "listings_short[\"bathrooms_text\"].fillna(listings_short[\"bathrooms_text\"].mode()[0], inplace=True)\n",
    "\n",
    "listings_short[\"bedrooms\"].fillna(listings_short[\"bedrooms\"].mode()[0], inplace=True)\n",
    "\n",
    "listings_short[\"beds\"].fillna(listings_short[\"beds\"].mode()[0], inplace=True)"
   ]
  },
  {
   "attachments": {},
   "cell_type": "markdown",
   "metadata": {},
   "source": [
    "**Convert host_response_rate & host_acceptance_rate**"
   ]
  },
  {
   "cell_type": "code",
   "execution_count": 85,
   "metadata": {},
   "outputs": [
    {
     "name": "stderr",
     "output_type": "stream",
     "text": [
      "/var/folders/rg/dp45d7gx32z2qsqz6czrtwrh0000gn/T/ipykernel_24535/4137212484.py:2: SettingWithCopyWarning: \n",
      "A value is trying to be set on a copy of a slice from a DataFrame.\n",
      "Try using .loc[row_indexer,col_indexer] = value instead\n",
      "\n",
      "See the caveats in the documentation: https://pandas.pydata.org/pandas-docs/stable/user_guide/indexing.html#returning-a-view-versus-a-copy\n",
      "  listings_short[\"host_acceptance_rate_int\"] = listings_short[\"host_acceptance_rate\"].str[:-1]\n",
      "/var/folders/rg/dp45d7gx32z2qsqz6czrtwrh0000gn/T/ipykernel_24535/4137212484.py:3: SettingWithCopyWarning: \n",
      "A value is trying to be set on a copy of a slice from a DataFrame.\n",
      "Try using .loc[row_indexer,col_indexer] = value instead\n",
      "\n",
      "See the caveats in the documentation: https://pandas.pydata.org/pandas-docs/stable/user_guide/indexing.html#returning-a-view-versus-a-copy\n",
      "  listings_short[\"host_acceptance_rate_int\"] = listings_short[\"host_acceptance_rate_int\"].replace('Unknow', np.nan)\n",
      "/var/folders/rg/dp45d7gx32z2qsqz6czrtwrh0000gn/T/ipykernel_24535/4137212484.py:4: SettingWithCopyWarning: \n",
      "A value is trying to be set on a copy of a slice from a DataFrame.\n",
      "Try using .loc[row_indexer,col_indexer] = value instead\n",
      "\n",
      "See the caveats in the documentation: https://pandas.pydata.org/pandas-docs/stable/user_guide/indexing.html#returning-a-view-versus-a-copy\n",
      "  listings_short[\"host_acceptance_rate_int\"] = listings_short[\"host_acceptance_rate_int\"].astype(\"float64\")\n",
      "/var/folders/rg/dp45d7gx32z2qsqz6czrtwrh0000gn/T/ipykernel_24535/4137212484.py:5: SettingWithCopyWarning: \n",
      "A value is trying to be set on a copy of a slice from a DataFrame.\n",
      "Try using .loc[row_indexer,col_indexer] = value instead\n",
      "\n",
      "See the caveats in the documentation: https://pandas.pydata.org/pandas-docs/stable/user_guide/indexing.html#returning-a-view-versus-a-copy\n",
      "  listings_short[\"host_acceptance_rate\"] = listings_short[\"host_acceptance_rate_int\"]\n",
      "/var/folders/rg/dp45d7gx32z2qsqz6czrtwrh0000gn/T/ipykernel_24535/4137212484.py:6: SettingWithCopyWarning: \n",
      "A value is trying to be set on a copy of a slice from a DataFrame\n",
      "\n",
      "See the caveats in the documentation: https://pandas.pydata.org/pandas-docs/stable/user_guide/indexing.html#returning-a-view-versus-a-copy\n",
      "  listings_short.drop(\"host_acceptance_rate_int\", axis=1, inplace = True)\n"
     ]
    }
   ],
   "source": [
    "## Convert response rate/acceptance rate from % in integer\n",
    "listings_short[\"host_acceptance_rate_int\"] = listings_short[\"host_acceptance_rate\"].str[:-1]\n",
    "listings_short[\"host_acceptance_rate_int\"] = listings_short[\"host_acceptance_rate_int\"].replace('Unknow', np.nan)\n",
    "listings_short[\"host_acceptance_rate_int\"] = listings_short[\"host_acceptance_rate_int\"].astype(\"float64\")\n",
    "listings_short[\"host_acceptance_rate\"] = listings_short[\"host_acceptance_rate_int\"]\n",
    "listings_short.drop(\"host_acceptance_rate_int\", axis=1, inplace = True)"
   ]
  },
  {
   "cell_type": "code",
   "execution_count": 86,
   "metadata": {},
   "outputs": [
    {
     "name": "stderr",
     "output_type": "stream",
     "text": [
      "/var/folders/rg/dp45d7gx32z2qsqz6czrtwrh0000gn/T/ipykernel_24535/3075004784.py:3: SettingWithCopyWarning: \n",
      "A value is trying to be set on a copy of a slice from a DataFrame.\n",
      "Try using .loc[row_indexer,col_indexer] = value instead\n",
      "\n",
      "See the caveats in the documentation: https://pandas.pydata.org/pandas-docs/stable/user_guide/indexing.html#returning-a-view-versus-a-copy\n",
      "  listings_short[\"host_response_rate_int\"] = listings_short[\"host_response_rate\"].str[:-1]\n",
      "/var/folders/rg/dp45d7gx32z2qsqz6czrtwrh0000gn/T/ipykernel_24535/3075004784.py:4: SettingWithCopyWarning: \n",
      "A value is trying to be set on a copy of a slice from a DataFrame.\n",
      "Try using .loc[row_indexer,col_indexer] = value instead\n",
      "\n",
      "See the caveats in the documentation: https://pandas.pydata.org/pandas-docs/stable/user_guide/indexing.html#returning-a-view-versus-a-copy\n",
      "  listings_short[\"host_response_rate_int\"] = listings_short[\"host_response_rate_int\"].replace('Unknow', np.nan)\n",
      "/var/folders/rg/dp45d7gx32z2qsqz6czrtwrh0000gn/T/ipykernel_24535/3075004784.py:5: SettingWithCopyWarning: \n",
      "A value is trying to be set on a copy of a slice from a DataFrame.\n",
      "Try using .loc[row_indexer,col_indexer] = value instead\n",
      "\n",
      "See the caveats in the documentation: https://pandas.pydata.org/pandas-docs/stable/user_guide/indexing.html#returning-a-view-versus-a-copy\n",
      "  listings_short[\"host_response_rate\"] = listings_short[\"host_response_rate_int\"].astype(\"float64\")\n",
      "/var/folders/rg/dp45d7gx32z2qsqz6czrtwrh0000gn/T/ipykernel_24535/3075004784.py:6: SettingWithCopyWarning: \n",
      "A value is trying to be set on a copy of a slice from a DataFrame\n",
      "\n",
      "See the caveats in the documentation: https://pandas.pydata.org/pandas-docs/stable/user_guide/indexing.html#returning-a-view-versus-a-copy\n",
      "  listings_short.drop(\"host_response_rate_int\", axis=1, inplace = True)\n"
     ]
    }
   ],
   "source": [
    "#same for host_acceptance_rate \n",
    "\n",
    "listings_short[\"host_response_rate_int\"] = listings_short[\"host_response_rate\"].str[:-1]\n",
    "listings_short[\"host_response_rate_int\"] = listings_short[\"host_response_rate_int\"].replace('Unknow', np.nan)\n",
    "listings_short[\"host_response_rate\"] = listings_short[\"host_response_rate_int\"].astype(\"float64\")\n",
    "listings_short.drop(\"host_response_rate_int\", axis=1, inplace = True)"
   ]
  },
  {
   "attachments": {},
   "cell_type": "markdown",
   "metadata": {},
   "source": [
    "**price**"
   ]
  },
  {
   "cell_type": "code",
   "execution_count": 87,
   "metadata": {},
   "outputs": [
    {
     "name": "stderr",
     "output_type": "stream",
     "text": [
      "/var/folders/rg/dp45d7gx32z2qsqz6czrtwrh0000gn/T/ipykernel_24535/4083807180.py:3: SettingWithCopyWarning: \n",
      "A value is trying to be set on a copy of a slice from a DataFrame.\n",
      "Try using .loc[row_indexer,col_indexer] = value instead\n",
      "\n",
      "See the caveats in the documentation: https://pandas.pydata.org/pandas-docs/stable/user_guide/indexing.html#returning-a-view-versus-a-copy\n",
      "  listings_short[\"price\"] = listings_short[\"price\"].str[1:]\n",
      "/var/folders/rg/dp45d7gx32z2qsqz6czrtwrh0000gn/T/ipykernel_24535/4083807180.py:4: SettingWithCopyWarning: \n",
      "A value is trying to be set on a copy of a slice from a DataFrame.\n",
      "Try using .loc[row_indexer,col_indexer] = value instead\n",
      "\n",
      "See the caveats in the documentation: https://pandas.pydata.org/pandas-docs/stable/user_guide/indexing.html#returning-a-view-versus-a-copy\n",
      "  listings_short[\"price\"] = listings_short[\"price\"].str.replace(\",\", \"\")\n",
      "/var/folders/rg/dp45d7gx32z2qsqz6czrtwrh0000gn/T/ipykernel_24535/4083807180.py:5: SettingWithCopyWarning: \n",
      "A value is trying to be set on a copy of a slice from a DataFrame.\n",
      "Try using .loc[row_indexer,col_indexer] = value instead\n",
      "\n",
      "See the caveats in the documentation: https://pandas.pydata.org/pandas-docs/stable/user_guide/indexing.html#returning-a-view-versus-a-copy\n",
      "  listings_short[\"price\"] = listings_short[\"price\"].astype(\"float64\")\n"
     ]
    }
   ],
   "source": [
    "#convert Price in Integer\n",
    "\n",
    "listings_short[\"price\"] = listings_short[\"price\"].str[1:]\n",
    "listings_short[\"price\"] = listings_short[\"price\"].str.replace(\",\", \"\")\n",
    "listings_short[\"price\"] = listings_short[\"price\"].astype(\"float64\")"
   ]
  },
  {
   "attachments": {},
   "cell_type": "markdown",
   "metadata": {},
   "source": [
    "**Bathroom_text & private_bath**"
   ]
  },
  {
   "cell_type": "code",
   "execution_count": 88,
   "metadata": {},
   "outputs": [
    {
     "name": "stderr",
     "output_type": "stream",
     "text": [
      "/var/folders/rg/dp45d7gx32z2qsqz6czrtwrh0000gn/T/ipykernel_24535/2776869170.py:2: SettingWithCopyWarning: \n",
      "A value is trying to be set on a copy of a slice from a DataFrame.\n",
      "Try using .loc[row_indexer,col_indexer] = value instead\n",
      "\n",
      "See the caveats in the documentation: https://pandas.pydata.org/pandas-docs/stable/user_guide/indexing.html#returning-a-view-versus-a-copy\n",
      "  listings_short['private_bath'] = ~listings_short['bathrooms_text'].str.contains('shared|Shared')\n",
      "/var/folders/rg/dp45d7gx32z2qsqz6czrtwrh0000gn/T/ipykernel_24535/2776869170.py:3: SettingWithCopyWarning: \n",
      "A value is trying to be set on a copy of a slice from a DataFrame\n",
      "\n",
      "See the caveats in the documentation: https://pandas.pydata.org/pandas-docs/stable/user_guide/indexing.html#returning-a-view-versus-a-copy\n",
      "  listings_short.drop('bathrooms_text', inplace = True, axis = 1)\n"
     ]
    }
   ],
   "source": [
    "#convert bathroom text top bool ('private_bath)\n",
    "listings_short['private_bath'] = ~listings_short['bathrooms_text'].str.contains('shared|Shared')\n",
    "listings_short.drop('bathrooms_text', inplace = True, axis = 1)"
   ]
  },
  {
   "cell_type": "code",
   "execution_count": 89,
   "metadata": {},
   "outputs": [
    {
     "data": {
      "text/html": [
       "<div>\n",
       "<style scoped>\n",
       "    .dataframe tbody tr th:only-of-type {\n",
       "        vertical-align: middle;\n",
       "    }\n",
       "\n",
       "    .dataframe tbody tr th {\n",
       "        vertical-align: top;\n",
       "    }\n",
       "\n",
       "    .dataframe thead th {\n",
       "        text-align: right;\n",
       "    }\n",
       "</style>\n",
       "<table border=\"1\" class=\"dataframe\">\n",
       "  <thead>\n",
       "    <tr style=\"text-align: right;\">\n",
       "      <th></th>\n",
       "      <th>id</th>\n",
       "      <th>listing_url</th>\n",
       "      <th>name</th>\n",
       "      <th>picture_url</th>\n",
       "      <th>host_id</th>\n",
       "      <th>host_response_rate</th>\n",
       "      <th>host_acceptance_rate</th>\n",
       "      <th>host_is_superhost</th>\n",
       "      <th>host_listings_count</th>\n",
       "      <th>host_total_listings_count</th>\n",
       "      <th>neighbourhood_cleansed</th>\n",
       "      <th>latitude</th>\n",
       "      <th>longitude</th>\n",
       "      <th>room_type</th>\n",
       "      <th>accommodates</th>\n",
       "      <th>bedrooms</th>\n",
       "      <th>beds</th>\n",
       "      <th>amenities</th>\n",
       "      <th>price</th>\n",
       "      <th>minimum_nights</th>\n",
       "      <th>maximum_nights</th>\n",
       "      <th>instant_bookable</th>\n",
       "      <th>number_of_reviews</th>\n",
       "      <th>number_of_reviews_ltm</th>\n",
       "      <th>number_of_reviews_l30d</th>\n",
       "      <th>first_review</th>\n",
       "      <th>last_review</th>\n",
       "      <th>review_scores_rating</th>\n",
       "      <th>review_scores_accuracy</th>\n",
       "      <th>review_scores_cleanliness</th>\n",
       "      <th>review_scores_checkin</th>\n",
       "      <th>review_scores_communication</th>\n",
       "      <th>review_scores_location</th>\n",
       "      <th>review_scores_value</th>\n",
       "      <th>reviews_per_month</th>\n",
       "      <th>private_bath</th>\n",
       "    </tr>\n",
       "  </thead>\n",
       "  <tbody>\n",
       "    <tr>\n",
       "      <th>0</th>\n",
       "      <td>714569379355913481</td>\n",
       "      <td>https://www.airbnb.com/rooms/714569379355913481</td>\n",
       "      <td>Lovely private bedroom in Muswell Hill.</td>\n",
       "      <td>https://a0.muscache.com/pictures/miso/Hosting-...</td>\n",
       "      <td>39009854</td>\n",
       "      <td>NaN</td>\n",
       "      <td>NaN</td>\n",
       "      <td>f</td>\n",
       "      <td>1.0</td>\n",
       "      <td>1.0</td>\n",
       "      <td>Haringey</td>\n",
       "      <td>51.597280</td>\n",
       "      <td>-0.139330</td>\n",
       "      <td>Private room</td>\n",
       "      <td>1</td>\n",
       "      <td>1.0</td>\n",
       "      <td>1.0</td>\n",
       "      <td>[\"Iron\", \"Hangers\", \"Hair dryer\", \"Outdoor din...</td>\n",
       "      <td>100.0</td>\n",
       "      <td>1</td>\n",
       "      <td>365</td>\n",
       "      <td>f</td>\n",
       "      <td>0</td>\n",
       "      <td>0</td>\n",
       "      <td>0</td>\n",
       "      <td>NaN</td>\n",
       "      <td>NaN</td>\n",
       "      <td>NaN</td>\n",
       "      <td>NaN</td>\n",
       "      <td>NaN</td>\n",
       "      <td>NaN</td>\n",
       "      <td>NaN</td>\n",
       "      <td>NaN</td>\n",
       "      <td>NaN</td>\n",
       "      <td>NaN</td>\n",
       "      <td>False</td>\n",
       "    </tr>\n",
       "    <tr>\n",
       "      <th>1</th>\n",
       "      <td>808038970516277767</td>\n",
       "      <td>https://www.airbnb.com/rooms/808038970516277767</td>\n",
       "      <td>Studio Flat  Franklin London</td>\n",
       "      <td>https://a0.muscache.com/pictures/miso/Hosting-...</td>\n",
       "      <td>495977998</td>\n",
       "      <td>100.0</td>\n",
       "      <td>100.0</td>\n",
       "      <td>f</td>\n",
       "      <td>14.0</td>\n",
       "      <td>31.0</td>\n",
       "      <td>Barnet</td>\n",
       "      <td>51.636518</td>\n",
       "      <td>-0.177475</td>\n",
       "      <td>Entire home/apt</td>\n",
       "      <td>1</td>\n",
       "      <td>1.0</td>\n",
       "      <td>1.0</td>\n",
       "      <td>[]</td>\n",
       "      <td>65.0</td>\n",
       "      <td>180</td>\n",
       "      <td>365</td>\n",
       "      <td>t</td>\n",
       "      <td>0</td>\n",
       "      <td>0</td>\n",
       "      <td>0</td>\n",
       "      <td>NaN</td>\n",
       "      <td>NaN</td>\n",
       "      <td>NaN</td>\n",
       "      <td>NaN</td>\n",
       "      <td>NaN</td>\n",
       "      <td>NaN</td>\n",
       "      <td>NaN</td>\n",
       "      <td>NaN</td>\n",
       "      <td>NaN</td>\n",
       "      <td>NaN</td>\n",
       "      <td>True</td>\n",
       "    </tr>\n",
       "  </tbody>\n",
       "</table>\n",
       "</div>"
      ],
      "text/plain": [
       "                   id                                      listing_url  \\\n",
       "0  714569379355913481  https://www.airbnb.com/rooms/714569379355913481   \n",
       "1  808038970516277767  https://www.airbnb.com/rooms/808038970516277767   \n",
       "\n",
       "                                      name  \\\n",
       "0  Lovely private bedroom in Muswell Hill.   \n",
       "1             Studio Flat  Franklin London   \n",
       "\n",
       "                                         picture_url    host_id  \\\n",
       "0  https://a0.muscache.com/pictures/miso/Hosting-...   39009854   \n",
       "1  https://a0.muscache.com/pictures/miso/Hosting-...  495977998   \n",
       "\n",
       "   host_response_rate  host_acceptance_rate host_is_superhost  \\\n",
       "0                 NaN                   NaN                 f   \n",
       "1               100.0                 100.0                 f   \n",
       "\n",
       "   host_listings_count  host_total_listings_count neighbourhood_cleansed  \\\n",
       "0                  1.0                        1.0               Haringey   \n",
       "1                 14.0                       31.0                 Barnet   \n",
       "\n",
       "    latitude  longitude        room_type  accommodates  bedrooms  beds  \\\n",
       "0  51.597280  -0.139330     Private room             1       1.0   1.0   \n",
       "1  51.636518  -0.177475  Entire home/apt             1       1.0   1.0   \n",
       "\n",
       "                                           amenities  price  minimum_nights  \\\n",
       "0  [\"Iron\", \"Hangers\", \"Hair dryer\", \"Outdoor din...  100.0               1   \n",
       "1                                                 []   65.0             180   \n",
       "\n",
       "   maximum_nights instant_bookable  number_of_reviews  number_of_reviews_ltm  \\\n",
       "0             365                f                  0                      0   \n",
       "1             365                t                  0                      0   \n",
       "\n",
       "   number_of_reviews_l30d first_review last_review  review_scores_rating  \\\n",
       "0                       0          NaN         NaN                   NaN   \n",
       "1                       0          NaN         NaN                   NaN   \n",
       "\n",
       "   review_scores_accuracy  review_scores_cleanliness  review_scores_checkin  \\\n",
       "0                     NaN                        NaN                    NaN   \n",
       "1                     NaN                        NaN                    NaN   \n",
       "\n",
       "   review_scores_communication  review_scores_location  review_scores_value  \\\n",
       "0                          NaN                     NaN                  NaN   \n",
       "1                          NaN                     NaN                  NaN   \n",
       "\n",
       "   reviews_per_month  private_bath  \n",
       "0                NaN         False  \n",
       "1                NaN          True  "
      ]
     },
     "execution_count": 89,
     "metadata": {},
     "output_type": "execute_result"
    }
   ],
   "source": [
    "listings_short.head(2)"
   ]
  },
  {
   "attachments": {},
   "cell_type": "markdown",
   "metadata": {},
   "source": [
    "**room_type**"
   ]
  },
  {
   "cell_type": "code",
   "execution_count": 90,
   "metadata": {},
   "outputs": [
    {
     "name": "stderr",
     "output_type": "stream",
     "text": [
      "/var/folders/rg/dp45d7gx32z2qsqz6czrtwrh0000gn/T/ipykernel_24535/1045346324.py:2: SettingWithCopyWarning: \n",
      "A value is trying to be set on a copy of a slice from a DataFrame.\n",
      "Try using .loc[row_indexer,col_indexer] = value instead\n",
      "\n",
      "See the caveats in the documentation: https://pandas.pydata.org/pandas-docs/stable/user_guide/indexing.html#returning-a-view-versus-a-copy\n",
      "  listings_short[\"room_type\"] = listings_short[\"room_type\"].str.replace(\"Entire home/apt\", \"Entire home\")\n"
     ]
    }
   ],
   "source": [
    "#renaming the values \n",
    "listings_short[\"room_type\"] = listings_short[\"room_type\"].str.replace(\"Entire home/apt\", \"Entire home\")"
   ]
  },
  {
   "attachments": {},
   "cell_type": "markdown",
   "metadata": {},
   "source": [
    "**Instant_bookable and Host_is_superhost as bool**"
   ]
  },
  {
   "cell_type": "code",
   "execution_count": 91,
   "metadata": {},
   "outputs": [
    {
     "name": "stderr",
     "output_type": "stream",
     "text": [
      "/var/folders/rg/dp45d7gx32z2qsqz6czrtwrh0000gn/T/ipykernel_24535/831478609.py:1: SettingWithCopyWarning: \n",
      "A value is trying to be set on a copy of a slice from a DataFrame.\n",
      "Try using .loc[row_indexer,col_indexer] = value instead\n",
      "\n",
      "See the caveats in the documentation: https://pandas.pydata.org/pandas-docs/stable/user_guide/indexing.html#returning-a-view-versus-a-copy\n",
      "  listings_short['instant_bookable'] = listings_short['instant_bookable'].map({'f': False, 't': True})\n",
      "/var/folders/rg/dp45d7gx32z2qsqz6czrtwrh0000gn/T/ipykernel_24535/831478609.py:2: SettingWithCopyWarning: \n",
      "A value is trying to be set on a copy of a slice from a DataFrame.\n",
      "Try using .loc[row_indexer,col_indexer] = value instead\n",
      "\n",
      "See the caveats in the documentation: https://pandas.pydata.org/pandas-docs/stable/user_guide/indexing.html#returning-a-view-versus-a-copy\n",
      "  listings_short['host_is_superhost'] = listings_short['host_is_superhost'].map({'f': False, 't': True})\n"
     ]
    }
   ],
   "source": [
    "listings_short['instant_bookable'] = listings_short['instant_bookable'].map({'f': False, 't': True})\n",
    "listings_short['host_is_superhost'] = listings_short['host_is_superhost'].map({'f': False, 't': True})"
   ]
  },
  {
   "attachments": {},
   "cell_type": "markdown",
   "metadata": {},
   "source": [
    "**amenities**"
   ]
  },
  {
   "cell_type": "code",
   "execution_count": 92,
   "metadata": {},
   "outputs": [],
   "source": [
    "test = listings_short.copy()"
   ]
  },
  {
   "cell_type": "code",
   "execution_count": 93,
   "metadata": {},
   "outputs": [
    {
     "name": "stderr",
     "output_type": "stream",
     "text": [
      "/var/folders/rg/dp45d7gx32z2qsqz6czrtwrh0000gn/T/ipykernel_24535/1066789727.py:2: FutureWarning: The default value of regex will change from True to False in a future version. In addition, single character regular expressions will *not* be treated as literal strings when regex=True.\n",
      "  test[\"amenities\"] = test[\"amenities\"].str.lower().str.replace('[','').str.replace(']','').str.replace('\"','').str.replace(' ','_').str.split(',')\n"
     ]
    }
   ],
   "source": [
    "# convert items in \"amenities\" to a list\n",
    "test[\"amenities\"] = test[\"amenities\"].str.lower().str.replace('[','').str.replace(']','').str.replace('\"','').str.replace(' ','_').str.split(',')\n"
   ]
  },
  {
   "cell_type": "code",
   "execution_count": 94,
   "metadata": {},
   "outputs": [],
   "source": [
    "# create new columns for each amenity \n",
    "from sklearn.preprocessing import MultiLabelBinarizer\n",
    "mlb = MultiLabelBinarizer()\n",
    "amenities = test.join(pd.DataFrame(mlb.fit_transform(test.pop('amenities')),\n",
    "                          columns=mlb.classes_,\n",
    "                          index=test.index))"
   ]
  },
  {
   "cell_type": "code",
   "execution_count": 95,
   "metadata": {},
   "outputs": [],
   "source": [
    "# create a list of amenity with fewer than 10% of listings\n",
    "infrequent_amenities = []\n",
    "for col in amenities.iloc[: , 35:].columns:\n",
    "    if amenities[col].sum() < len(amenities)/10:\n",
    "        infrequent_amenities.append(col)\n",
    "\n",
    "# drop infrequent amenity features\n",
    "amenities.drop(infrequent_amenities, axis=1, inplace=True)\n"
   ]
  },
  {
   "cell_type": "code",
   "execution_count": 96,
   "metadata": {},
   "outputs": [],
   "source": [
    "# combine _coffee & _coffe_maker to one column\n",
    "amenities['_coffee_'] = (amenities['_coffee_maker'] | amenities['_coffee']).astype(int)\n"
   ]
  },
  {
   "cell_type": "code",
   "execution_count": 97,
   "metadata": {},
   "outputs": [],
   "source": [
    "# focus on relevant columns\n",
    "amenity_keeper = [\"id\",\n",
    "                  \"_wifi\",\n",
    "                  \"_long_term_stays_allowed\",\n",
    "                  \"_private_patio_or_balcony\",\n",
    "                  \"_private_entrance\",\n",
    "                  \"_pets_allowed\",\n",
    "                  \"_outdoor_dining_area\",\n",
    "                  \"_lockbox\",\n",
    "                  \"_kitchen\",\n",
    "                  \"_hair_dryer\",\n",
    "                  \"_free_street_parking\",\n",
    "                  \"_free_parking_on_premises\",\n",
    "                  \"_dedicated_workspace\",\n",
    "                  \"_coffee_maker\",\n",
    "                  \"_coffee\",\n",
    "                  \"_bed_linens\",\n",
    "                  \"_bathtub\"]\n"
   ]
  },
  {
   "cell_type": "code",
   "execution_count": 98,
   "metadata": {},
   "outputs": [],
   "source": [
    "# keep only relevant columns \n",
    "amenities_short = amenities[amenity_keeper]"
   ]
  },
  {
   "cell_type": "code",
   "execution_count": 99,
   "metadata": {},
   "outputs": [],
   "source": [
    "# get rid of first \"_\"\n",
    "amenities_short.columns = amenities_short.columns.str.replace('_','', 1)\n"
   ]
  },
  {
   "cell_type": "code",
   "execution_count": 100,
   "metadata": {},
   "outputs": [],
   "source": [
    "# merge to one dataframe \n",
    "airbnb = listings_short.merge(amenities_short, how=\"left\", on=\"id\")"
   ]
  },
  {
   "cell_type": "code",
   "execution_count": 101,
   "metadata": {},
   "outputs": [
    {
     "data": {
      "text/plain": [
       "(75241, 52)"
      ]
     },
     "execution_count": 101,
     "metadata": {},
     "output_type": "execute_result"
    }
   ],
   "source": [
    "airbnb.shape"
   ]
  },
  {
   "cell_type": "code",
   "execution_count": 102,
   "metadata": {},
   "outputs": [
    {
     "data": {
      "text/html": [
       "<div>\n",
       "<style scoped>\n",
       "    .dataframe tbody tr th:only-of-type {\n",
       "        vertical-align: middle;\n",
       "    }\n",
       "\n",
       "    .dataframe tbody tr th {\n",
       "        vertical-align: top;\n",
       "    }\n",
       "\n",
       "    .dataframe thead th {\n",
       "        text-align: right;\n",
       "    }\n",
       "</style>\n",
       "<table border=\"1\" class=\"dataframe\">\n",
       "  <thead>\n",
       "    <tr style=\"text-align: right;\">\n",
       "      <th></th>\n",
       "      <th>id</th>\n",
       "      <th>listing_url</th>\n",
       "      <th>name</th>\n",
       "      <th>picture_url</th>\n",
       "      <th>host_id</th>\n",
       "      <th>host_response_rate</th>\n",
       "      <th>host_acceptance_rate</th>\n",
       "      <th>host_is_superhost</th>\n",
       "      <th>host_listings_count</th>\n",
       "      <th>host_total_listings_count</th>\n",
       "      <th>neighbourhood_cleansed</th>\n",
       "      <th>latitude</th>\n",
       "      <th>longitude</th>\n",
       "      <th>room_type</th>\n",
       "      <th>accommodates</th>\n",
       "      <th>bedrooms</th>\n",
       "      <th>beds</th>\n",
       "      <th>amenities</th>\n",
       "      <th>price</th>\n",
       "      <th>minimum_nights</th>\n",
       "      <th>maximum_nights</th>\n",
       "      <th>instant_bookable</th>\n",
       "      <th>number_of_reviews</th>\n",
       "      <th>number_of_reviews_ltm</th>\n",
       "      <th>number_of_reviews_l30d</th>\n",
       "      <th>first_review</th>\n",
       "      <th>last_review</th>\n",
       "      <th>review_scores_rating</th>\n",
       "      <th>review_scores_accuracy</th>\n",
       "      <th>review_scores_cleanliness</th>\n",
       "      <th>review_scores_checkin</th>\n",
       "      <th>review_scores_communication</th>\n",
       "      <th>review_scores_location</th>\n",
       "      <th>review_scores_value</th>\n",
       "      <th>reviews_per_month</th>\n",
       "      <th>private_bath</th>\n",
       "      <th>wifi</th>\n",
       "      <th>long_term_stays_allowed</th>\n",
       "      <th>private_patio_or_balcony</th>\n",
       "      <th>private_entrance</th>\n",
       "      <th>pets_allowed</th>\n",
       "      <th>outdoor_dining_area</th>\n",
       "      <th>lockbox</th>\n",
       "      <th>kitchen</th>\n",
       "      <th>hair_dryer</th>\n",
       "      <th>free_street_parking</th>\n",
       "      <th>free_parking_on_premises</th>\n",
       "      <th>dedicated_workspace</th>\n",
       "      <th>coffee_maker</th>\n",
       "      <th>coffee</th>\n",
       "      <th>bed_linens</th>\n",
       "      <th>bathtub</th>\n",
       "    </tr>\n",
       "  </thead>\n",
       "  <tbody>\n",
       "    <tr>\n",
       "      <th>0</th>\n",
       "      <td>714569379355913481</td>\n",
       "      <td>https://www.airbnb.com/rooms/714569379355913481</td>\n",
       "      <td>Lovely private bedroom in Muswell Hill.</td>\n",
       "      <td>https://a0.muscache.com/pictures/miso/Hosting-...</td>\n",
       "      <td>39009854</td>\n",
       "      <td>NaN</td>\n",
       "      <td>NaN</td>\n",
       "      <td>False</td>\n",
       "      <td>1.0</td>\n",
       "      <td>1.0</td>\n",
       "      <td>Haringey</td>\n",
       "      <td>51.597280</td>\n",
       "      <td>-0.139330</td>\n",
       "      <td>Private room</td>\n",
       "      <td>1</td>\n",
       "      <td>1.0</td>\n",
       "      <td>1.0</td>\n",
       "      <td>[\"Iron\", \"Hangers\", \"Hair dryer\", \"Outdoor din...</td>\n",
       "      <td>100.0</td>\n",
       "      <td>1</td>\n",
       "      <td>365</td>\n",
       "      <td>False</td>\n",
       "      <td>0</td>\n",
       "      <td>0</td>\n",
       "      <td>0</td>\n",
       "      <td>NaN</td>\n",
       "      <td>NaN</td>\n",
       "      <td>NaN</td>\n",
       "      <td>NaN</td>\n",
       "      <td>NaN</td>\n",
       "      <td>NaN</td>\n",
       "      <td>NaN</td>\n",
       "      <td>NaN</td>\n",
       "      <td>NaN</td>\n",
       "      <td>NaN</td>\n",
       "      <td>False</td>\n",
       "      <td>0</td>\n",
       "      <td>0</td>\n",
       "      <td>0</td>\n",
       "      <td>0</td>\n",
       "      <td>0</td>\n",
       "      <td>1</td>\n",
       "      <td>0</td>\n",
       "      <td>0</td>\n",
       "      <td>1</td>\n",
       "      <td>0</td>\n",
       "      <td>0</td>\n",
       "      <td>0</td>\n",
       "      <td>0</td>\n",
       "      <td>0</td>\n",
       "      <td>0</td>\n",
       "      <td>0</td>\n",
       "    </tr>\n",
       "    <tr>\n",
       "      <th>1</th>\n",
       "      <td>808038970516277767</td>\n",
       "      <td>https://www.airbnb.com/rooms/808038970516277767</td>\n",
       "      <td>Studio Flat  Franklin London</td>\n",
       "      <td>https://a0.muscache.com/pictures/miso/Hosting-...</td>\n",
       "      <td>495977998</td>\n",
       "      <td>100.0</td>\n",
       "      <td>100.0</td>\n",
       "      <td>False</td>\n",
       "      <td>14.0</td>\n",
       "      <td>31.0</td>\n",
       "      <td>Barnet</td>\n",
       "      <td>51.636518</td>\n",
       "      <td>-0.177475</td>\n",
       "      <td>Entire home</td>\n",
       "      <td>1</td>\n",
       "      <td>1.0</td>\n",
       "      <td>1.0</td>\n",
       "      <td>[]</td>\n",
       "      <td>65.0</td>\n",
       "      <td>180</td>\n",
       "      <td>365</td>\n",
       "      <td>True</td>\n",
       "      <td>0</td>\n",
       "      <td>0</td>\n",
       "      <td>0</td>\n",
       "      <td>NaN</td>\n",
       "      <td>NaN</td>\n",
       "      <td>NaN</td>\n",
       "      <td>NaN</td>\n",
       "      <td>NaN</td>\n",
       "      <td>NaN</td>\n",
       "      <td>NaN</td>\n",
       "      <td>NaN</td>\n",
       "      <td>NaN</td>\n",
       "      <td>NaN</td>\n",
       "      <td>True</td>\n",
       "      <td>0</td>\n",
       "      <td>0</td>\n",
       "      <td>0</td>\n",
       "      <td>0</td>\n",
       "      <td>0</td>\n",
       "      <td>0</td>\n",
       "      <td>0</td>\n",
       "      <td>0</td>\n",
       "      <td>0</td>\n",
       "      <td>0</td>\n",
       "      <td>0</td>\n",
       "      <td>0</td>\n",
       "      <td>0</td>\n",
       "      <td>0</td>\n",
       "      <td>0</td>\n",
       "      <td>0</td>\n",
       "    </tr>\n",
       "    <tr>\n",
       "      <th>2</th>\n",
       "      <td>822557738577472503</td>\n",
       "      <td>https://www.airbnb.com/rooms/822557738577472503</td>\n",
       "      <td>PropertyPlug - 2Bed Flat in Edgware SmartTV WiFi</td>\n",
       "      <td>https://a0.muscache.com/pictures/d77957d5-695a...</td>\n",
       "      <td>325629338</td>\n",
       "      <td>100.0</td>\n",
       "      <td>91.0</td>\n",
       "      <td>True</td>\n",
       "      <td>4.0</td>\n",
       "      <td>8.0</td>\n",
       "      <td>Harrow</td>\n",
       "      <td>51.608180</td>\n",
       "      <td>-0.277400</td>\n",
       "      <td>Entire home</td>\n",
       "      <td>4</td>\n",
       "      <td>2.0</td>\n",
       "      <td>2.0</td>\n",
       "      <td>[\"Dining table\", \"Washer\", \"Outdoor furniture\"...</td>\n",
       "      <td>132.0</td>\n",
       "      <td>2</td>\n",
       "      <td>28</td>\n",
       "      <td>True</td>\n",
       "      <td>0</td>\n",
       "      <td>0</td>\n",
       "      <td>0</td>\n",
       "      <td>NaN</td>\n",
       "      <td>NaN</td>\n",
       "      <td>NaN</td>\n",
       "      <td>NaN</td>\n",
       "      <td>NaN</td>\n",
       "      <td>NaN</td>\n",
       "      <td>NaN</td>\n",
       "      <td>NaN</td>\n",
       "      <td>NaN</td>\n",
       "      <td>NaN</td>\n",
       "      <td>True</td>\n",
       "      <td>1</td>\n",
       "      <td>1</td>\n",
       "      <td>1</td>\n",
       "      <td>0</td>\n",
       "      <td>0</td>\n",
       "      <td>0</td>\n",
       "      <td>0</td>\n",
       "      <td>1</td>\n",
       "      <td>1</td>\n",
       "      <td>0</td>\n",
       "      <td>1</td>\n",
       "      <td>0</td>\n",
       "      <td>0</td>\n",
       "      <td>0</td>\n",
       "      <td>1</td>\n",
       "      <td>1</td>\n",
       "    </tr>\n",
       "    <tr>\n",
       "      <th>3</th>\n",
       "      <td>3518856</td>\n",
       "      <td>https://www.airbnb.com/rooms/3518856</td>\n",
       "      <td>Wimbledon Double Bedroom Ensuite</td>\n",
       "      <td>https://a0.muscache.com/pictures/23a18442-fc1d...</td>\n",
       "      <td>187811</td>\n",
       "      <td>NaN</td>\n",
       "      <td>100.0</td>\n",
       "      <td>False</td>\n",
       "      <td>2.0</td>\n",
       "      <td>5.0</td>\n",
       "      <td>Merton</td>\n",
       "      <td>51.422310</td>\n",
       "      <td>-0.188410</td>\n",
       "      <td>Private room</td>\n",
       "      <td>1</td>\n",
       "      <td>1.0</td>\n",
       "      <td>1.0</td>\n",
       "      <td>[\"Washer\", \"Iron\", \"Hangers\", \"Kitchen\", \"Smok...</td>\n",
       "      <td>100.0</td>\n",
       "      <td>5</td>\n",
       "      <td>1125</td>\n",
       "      <td>False</td>\n",
       "      <td>4</td>\n",
       "      <td>0</td>\n",
       "      <td>0</td>\n",
       "      <td>2015-12-27</td>\n",
       "      <td>2016-07-11</td>\n",
       "      <td>3.67</td>\n",
       "      <td>3.0</td>\n",
       "      <td>4.33</td>\n",
       "      <td>4.67</td>\n",
       "      <td>5.0</td>\n",
       "      <td>3.67</td>\n",
       "      <td>3.67</td>\n",
       "      <td>0.05</td>\n",
       "      <td>True</td>\n",
       "      <td>1</td>\n",
       "      <td>0</td>\n",
       "      <td>0</td>\n",
       "      <td>0</td>\n",
       "      <td>0</td>\n",
       "      <td>0</td>\n",
       "      <td>0</td>\n",
       "      <td>1</td>\n",
       "      <td>0</td>\n",
       "      <td>0</td>\n",
       "      <td>0</td>\n",
       "      <td>1</td>\n",
       "      <td>0</td>\n",
       "      <td>0</td>\n",
       "      <td>0</td>\n",
       "      <td>0</td>\n",
       "    </tr>\n",
       "    <tr>\n",
       "      <th>4</th>\n",
       "      <td>4876550</td>\n",
       "      <td>https://www.airbnb.com/rooms/4876550</td>\n",
       "      <td>Stunning Apartment 2 minutes walk to Tube Station</td>\n",
       "      <td>https://a0.muscache.com/pictures/miso/Hosting-...</td>\n",
       "      <td>25087384</td>\n",
       "      <td>75.0</td>\n",
       "      <td>46.0</td>\n",
       "      <td>False</td>\n",
       "      <td>1.0</td>\n",
       "      <td>1.0</td>\n",
       "      <td>Barnet</td>\n",
       "      <td>51.602282</td>\n",
       "      <td>-0.193606</td>\n",
       "      <td>Entire home</td>\n",
       "      <td>2</td>\n",
       "      <td>1.0</td>\n",
       "      <td>1.0</td>\n",
       "      <td>[\"First aid kit\", \"Washer\", \"Fire extinguisher...</td>\n",
       "      <td>120.0</td>\n",
       "      <td>5</td>\n",
       "      <td>90</td>\n",
       "      <td>False</td>\n",
       "      <td>0</td>\n",
       "      <td>0</td>\n",
       "      <td>0</td>\n",
       "      <td>NaN</td>\n",
       "      <td>NaN</td>\n",
       "      <td>NaN</td>\n",
       "      <td>NaN</td>\n",
       "      <td>NaN</td>\n",
       "      <td>NaN</td>\n",
       "      <td>NaN</td>\n",
       "      <td>NaN</td>\n",
       "      <td>NaN</td>\n",
       "      <td>NaN</td>\n",
       "      <td>True</td>\n",
       "      <td>1</td>\n",
       "      <td>0</td>\n",
       "      <td>0</td>\n",
       "      <td>0</td>\n",
       "      <td>0</td>\n",
       "      <td>0</td>\n",
       "      <td>0</td>\n",
       "      <td>1</td>\n",
       "      <td>0</td>\n",
       "      <td>0</td>\n",
       "      <td>1</td>\n",
       "      <td>0</td>\n",
       "      <td>0</td>\n",
       "      <td>0</td>\n",
       "      <td>0</td>\n",
       "      <td>0</td>\n",
       "    </tr>\n",
       "  </tbody>\n",
       "</table>\n",
       "</div>"
      ],
      "text/plain": [
       "                   id                                      listing_url  \\\n",
       "0  714569379355913481  https://www.airbnb.com/rooms/714569379355913481   \n",
       "1  808038970516277767  https://www.airbnb.com/rooms/808038970516277767   \n",
       "2  822557738577472503  https://www.airbnb.com/rooms/822557738577472503   \n",
       "3             3518856             https://www.airbnb.com/rooms/3518856   \n",
       "4             4876550             https://www.airbnb.com/rooms/4876550   \n",
       "\n",
       "                                                name  \\\n",
       "0            Lovely private bedroom in Muswell Hill.   \n",
       "1                       Studio Flat  Franklin London   \n",
       "2   PropertyPlug - 2Bed Flat in Edgware SmartTV WiFi   \n",
       "3                   Wimbledon Double Bedroom Ensuite   \n",
       "4  Stunning Apartment 2 minutes walk to Tube Station   \n",
       "\n",
       "                                         picture_url    host_id  \\\n",
       "0  https://a0.muscache.com/pictures/miso/Hosting-...   39009854   \n",
       "1  https://a0.muscache.com/pictures/miso/Hosting-...  495977998   \n",
       "2  https://a0.muscache.com/pictures/d77957d5-695a...  325629338   \n",
       "3  https://a0.muscache.com/pictures/23a18442-fc1d...     187811   \n",
       "4  https://a0.muscache.com/pictures/miso/Hosting-...   25087384   \n",
       "\n",
       "   host_response_rate  host_acceptance_rate  host_is_superhost  \\\n",
       "0                 NaN                   NaN              False   \n",
       "1               100.0                 100.0              False   \n",
       "2               100.0                  91.0               True   \n",
       "3                 NaN                 100.0              False   \n",
       "4                75.0                  46.0              False   \n",
       "\n",
       "   host_listings_count  host_total_listings_count neighbourhood_cleansed  \\\n",
       "0                  1.0                        1.0               Haringey   \n",
       "1                 14.0                       31.0                 Barnet   \n",
       "2                  4.0                        8.0                 Harrow   \n",
       "3                  2.0                        5.0                 Merton   \n",
       "4                  1.0                        1.0                 Barnet   \n",
       "\n",
       "    latitude  longitude     room_type  accommodates  bedrooms  beds  \\\n",
       "0  51.597280  -0.139330  Private room             1       1.0   1.0   \n",
       "1  51.636518  -0.177475   Entire home             1       1.0   1.0   \n",
       "2  51.608180  -0.277400   Entire home             4       2.0   2.0   \n",
       "3  51.422310  -0.188410  Private room             1       1.0   1.0   \n",
       "4  51.602282  -0.193606   Entire home             2       1.0   1.0   \n",
       "\n",
       "                                           amenities  price  minimum_nights  \\\n",
       "0  [\"Iron\", \"Hangers\", \"Hair dryer\", \"Outdoor din...  100.0               1   \n",
       "1                                                 []   65.0             180   \n",
       "2  [\"Dining table\", \"Washer\", \"Outdoor furniture\"...  132.0               2   \n",
       "3  [\"Washer\", \"Iron\", \"Hangers\", \"Kitchen\", \"Smok...  100.0               5   \n",
       "4  [\"First aid kit\", \"Washer\", \"Fire extinguisher...  120.0               5   \n",
       "\n",
       "   maximum_nights  instant_bookable  number_of_reviews  number_of_reviews_ltm  \\\n",
       "0             365             False                  0                      0   \n",
       "1             365              True                  0                      0   \n",
       "2              28              True                  0                      0   \n",
       "3            1125             False                  4                      0   \n",
       "4              90             False                  0                      0   \n",
       "\n",
       "   number_of_reviews_l30d first_review last_review  review_scores_rating  \\\n",
       "0                       0          NaN         NaN                   NaN   \n",
       "1                       0          NaN         NaN                   NaN   \n",
       "2                       0          NaN         NaN                   NaN   \n",
       "3                       0   2015-12-27  2016-07-11                  3.67   \n",
       "4                       0          NaN         NaN                   NaN   \n",
       "\n",
       "   review_scores_accuracy  review_scores_cleanliness  review_scores_checkin  \\\n",
       "0                     NaN                        NaN                    NaN   \n",
       "1                     NaN                        NaN                    NaN   \n",
       "2                     NaN                        NaN                    NaN   \n",
       "3                     3.0                       4.33                   4.67   \n",
       "4                     NaN                        NaN                    NaN   \n",
       "\n",
       "   review_scores_communication  review_scores_location  review_scores_value  \\\n",
       "0                          NaN                     NaN                  NaN   \n",
       "1                          NaN                     NaN                  NaN   \n",
       "2                          NaN                     NaN                  NaN   \n",
       "3                          5.0                    3.67                 3.67   \n",
       "4                          NaN                     NaN                  NaN   \n",
       "\n",
       "   reviews_per_month  private_bath  wifi  long_term_stays_allowed  \\\n",
       "0                NaN         False     0                        0   \n",
       "1                NaN          True     0                        0   \n",
       "2                NaN          True     1                        1   \n",
       "3               0.05          True     1                        0   \n",
       "4                NaN          True     1                        0   \n",
       "\n",
       "   private_patio_or_balcony  private_entrance  pets_allowed  \\\n",
       "0                         0                 0             0   \n",
       "1                         0                 0             0   \n",
       "2                         1                 0             0   \n",
       "3                         0                 0             0   \n",
       "4                         0                 0             0   \n",
       "\n",
       "   outdoor_dining_area  lockbox  kitchen  hair_dryer  free_street_parking  \\\n",
       "0                    1        0        0           1                    0   \n",
       "1                    0        0        0           0                    0   \n",
       "2                    0        0        1           1                    0   \n",
       "3                    0        0        1           0                    0   \n",
       "4                    0        0        1           0                    0   \n",
       "\n",
       "   free_parking_on_premises  dedicated_workspace  coffee_maker  coffee  \\\n",
       "0                         0                    0             0       0   \n",
       "1                         0                    0             0       0   \n",
       "2                         1                    0             0       0   \n",
       "3                         0                    1             0       0   \n",
       "4                         1                    0             0       0   \n",
       "\n",
       "   bed_linens  bathtub  \n",
       "0           0        0  \n",
       "1           0        0  \n",
       "2           1        1  \n",
       "3           0        0  \n",
       "4           0        0  "
      ]
     },
     "execution_count": 102,
     "metadata": {},
     "output_type": "execute_result"
    }
   ],
   "source": [
    "airbnb.head()"
   ]
  },
  {
   "cell_type": "code",
   "execution_count": 103,
   "metadata": {},
   "outputs": [],
   "source": [
    "airbnb_keepers = ['id', 'listing_url', 'name', 'neighbourhood_cleansed', 'latitude', 'longitude', 'room_type', 'accommodates', 'price', 'number_of_reviews', 'review_scores_rating']"
   ]
  },
  {
   "cell_type": "code",
   "execution_count": 104,
   "metadata": {},
   "outputs": [],
   "source": [
    "airbnb_small = airbnb[airbnb_keepers]"
   ]
  },
  {
   "cell_type": "code",
   "execution_count": 105,
   "metadata": {},
   "outputs": [
    {
     "data": {
      "text/plain": [
       "(75241, 11)"
      ]
     },
     "execution_count": 105,
     "metadata": {},
     "output_type": "execute_result"
    }
   ],
   "source": [
    "airbnb_small.shape"
   ]
  },
  {
   "cell_type": "markdown",
   "metadata": {},
   "source": [
    "## 3.Overpass Pipeline"
   ]
  },
  {
   "attachments": {},
   "cell_type": "markdown",
   "metadata": {},
   "source": [
    "### 3.1. Get the Data "
   ]
  },
  {
   "cell_type": "code",
   "execution_count": 107,
   "metadata": {},
   "outputs": [],
   "source": [
    "### Increase outside border of listings\n",
    "london_bbox = increase_bbox(listings)"
   ]
  },
  {
   "cell_type": "code",
   "execution_count": null,
   "metadata": {},
   "outputs": [],
   "source": [
    "# Increasing the maxs by 0.01 and decreasing the mins by 0.01 \n",
    "# will shift the outline's border by a bit more than 1km in each direction.\n",
    "\n",
    "# See increase_bbox function in py_functions.py"
   ]
  },
  {
   "cell_type": "code",
   "execution_count": null,
   "metadata": {},
   "outputs": [],
   "source": [
    "# (northern hemisphere)\n",
    "# latitude max = north\n",
    "# latitude min = south\n",
    "# longitude max = east\n",
    "# longitude min = west"
   ]
  },
  {
   "cell_type": "code",
   "execution_count": null,
   "metadata": {},
   "outputs": [],
   "source": [
    "# ### Get OSM data for slightly bigger bbox\n",
    "# overpass_url = \"http://overpass-api.de/api/interpreter\"\n",
    "# overpass_query = f\"\"\"\n",
    "# [out:json];\n",
    "# (\n",
    "#     node[\"amenity\"=\"restaurant\"]({london_bbox[\"south_shifted\"]},{london_bbox[\"west_shifted\"]},{london_bbox[\"north_shifted\"]},{london_bbox[\"east_shifted\"]});\n",
    "#     way[\"amenity\"=\"restaurant\"]({london_bbox[\"south_shifted\"]},{london_bbox[\"west_shifted\"]},{london_bbox[\"north_shifted\"]},{london_bbox[\"east_shifted\"]});\n",
    "#     node[\"amenity\"=\"bar\"]({london_bbox[\"south_shifted\"]},{london_bbox[\"west_shifted\"]},{london_bbox[\"north_shifted\"]},{london_bbox[\"east_shifted\"]});\n",
    "#     node[\"amenity\"=\"pub\"]({london_bbox[\"south_shifted\"]},{london_bbox[\"west_shifted\"]},{london_bbox[\"north_shifted\"]},{london_bbox[\"east_shifted\"]});\n",
    "#     );\n",
    "#     (._;>;);\n",
    "# out center;\n",
    "# \"\"\"\n",
    "# response = requests.get(overpass_url,\n",
    "#                         params={'data': overpass_query})\n",
    "# data = response.json()\n",
    "\n",
    "# osm = pd.json_normalize(data, record_path=\"elements\")\n"
   ]
  },
  {
   "cell_type": "code",
   "execution_count": 108,
   "metadata": {},
   "outputs": [
    {
     "ename": "KeyboardInterrupt",
     "evalue": "",
     "output_type": "error",
     "traceback": [
      "\u001b[0;31m---------------------------------------------------------------------------\u001b[0m",
      "\u001b[0;31mKeyboardInterrupt\u001b[0m                         Traceback (most recent call last)",
      "Cell \u001b[0;32mIn[108], line 46\u001b[0m\n\u001b[1;32m     42\u001b[0m response \u001b[39m=\u001b[39m requests\u001b[39m.\u001b[39mget(overpass_url,\n\u001b[1;32m     43\u001b[0m                         params\u001b[39m=\u001b[39m{\u001b[39m'\u001b[39m\u001b[39mdata\u001b[39m\u001b[39m'\u001b[39m: overpass_query})\n\u001b[1;32m     44\u001b[0m data \u001b[39m=\u001b[39m response\u001b[39m.\u001b[39mjson()\n\u001b[0;32m---> 46\u001b[0m osm \u001b[39m=\u001b[39m pd\u001b[39m.\u001b[39;49mjson_normalize(data, record_path\u001b[39m=\u001b[39;49m\u001b[39m\"\u001b[39;49m\u001b[39melements\u001b[39;49m\u001b[39m\"\u001b[39;49m)\n",
      "File \u001b[0;32m/opt/homebrew/Caskroom/miniconda/base/envs/nf_base/lib/python3.9/site-packages/pandas/io/json/_normalize.py:520\u001b[0m, in \u001b[0;36m_json_normalize\u001b[0;34m(data, record_path, meta, meta_prefix, record_prefix, errors, sep, max_level)\u001b[0m\n\u001b[1;32m    516\u001b[0m             records\u001b[39m.\u001b[39mextend(recs)\n\u001b[1;32m    518\u001b[0m _recursive_extract(data, record_path, {}, level\u001b[39m=\u001b[39m\u001b[39m0\u001b[39m)\n\u001b[0;32m--> 520\u001b[0m result \u001b[39m=\u001b[39m DataFrame(records)\n\u001b[1;32m    522\u001b[0m \u001b[39mif\u001b[39;00m record_prefix \u001b[39mis\u001b[39;00m \u001b[39mnot\u001b[39;00m \u001b[39mNone\u001b[39;00m:\n\u001b[1;32m    523\u001b[0m     result \u001b[39m=\u001b[39m result\u001b[39m.\u001b[39mrename(columns\u001b[39m=\u001b[39m\u001b[39mlambda\u001b[39;00m x: \u001b[39mf\u001b[39m\u001b[39m\"\u001b[39m\u001b[39m{\u001b[39;00mrecord_prefix\u001b[39m}\u001b[39;00m\u001b[39m{\u001b[39;00mx\u001b[39m}\u001b[39;00m\u001b[39m\"\u001b[39m)\n",
      "File \u001b[0;32m/opt/homebrew/Caskroom/miniconda/base/envs/nf_base/lib/python3.9/site-packages/pandas/core/frame.py:745\u001b[0m, in \u001b[0;36mDataFrame.__init__\u001b[0;34m(self, data, index, columns, dtype, copy)\u001b[0m\n\u001b[1;32m    743\u001b[0m     \u001b[39mif\u001b[39;00m columns \u001b[39mis\u001b[39;00m \u001b[39mnot\u001b[39;00m \u001b[39mNone\u001b[39;00m:\n\u001b[1;32m    744\u001b[0m         columns \u001b[39m=\u001b[39m ensure_index(columns)\n\u001b[0;32m--> 745\u001b[0m     arrays, columns, index \u001b[39m=\u001b[39m nested_data_to_arrays(\n\u001b[1;32m    746\u001b[0m         \u001b[39m# error: Argument 3 to \"nested_data_to_arrays\" has incompatible\u001b[39;49;00m\n\u001b[1;32m    747\u001b[0m         \u001b[39m# type \"Optional[Collection[Any]]\"; expected \"Optional[Index]\"\u001b[39;49;00m\n\u001b[1;32m    748\u001b[0m         data,\n\u001b[1;32m    749\u001b[0m         columns,\n\u001b[1;32m    750\u001b[0m         index,  \u001b[39m# type: ignore[arg-type]\u001b[39;49;00m\n\u001b[1;32m    751\u001b[0m         dtype,\n\u001b[1;32m    752\u001b[0m     )\n\u001b[1;32m    753\u001b[0m     mgr \u001b[39m=\u001b[39m arrays_to_mgr(\n\u001b[1;32m    754\u001b[0m         arrays,\n\u001b[1;32m    755\u001b[0m         columns,\n\u001b[0;32m   (...)\u001b[0m\n\u001b[1;32m    758\u001b[0m         typ\u001b[39m=\u001b[39mmanager,\n\u001b[1;32m    759\u001b[0m     )\n\u001b[1;32m    760\u001b[0m \u001b[39melse\u001b[39;00m:\n",
      "File \u001b[0;32m/opt/homebrew/Caskroom/miniconda/base/envs/nf_base/lib/python3.9/site-packages/pandas/core/internals/construction.py:510\u001b[0m, in \u001b[0;36mnested_data_to_arrays\u001b[0;34m(data, columns, index, dtype)\u001b[0m\n\u001b[1;32m    507\u001b[0m \u001b[39mif\u001b[39;00m is_named_tuple(data[\u001b[39m0\u001b[39m]) \u001b[39mand\u001b[39;00m columns \u001b[39mis\u001b[39;00m \u001b[39mNone\u001b[39;00m:\n\u001b[1;32m    508\u001b[0m     columns \u001b[39m=\u001b[39m ensure_index(data[\u001b[39m0\u001b[39m]\u001b[39m.\u001b[39m_fields)\n\u001b[0;32m--> 510\u001b[0m arrays, columns \u001b[39m=\u001b[39m to_arrays(data, columns, dtype\u001b[39m=\u001b[39;49mdtype)\n\u001b[1;32m    511\u001b[0m columns \u001b[39m=\u001b[39m ensure_index(columns)\n\u001b[1;32m    513\u001b[0m \u001b[39mif\u001b[39;00m index \u001b[39mis\u001b[39;00m \u001b[39mNone\u001b[39;00m:\n",
      "File \u001b[0;32m/opt/homebrew/Caskroom/miniconda/base/envs/nf_base/lib/python3.9/site-packages/pandas/core/internals/construction.py:867\u001b[0m, in \u001b[0;36mto_arrays\u001b[0;34m(data, columns, dtype)\u001b[0m\n\u001b[1;32m    865\u001b[0m     arr \u001b[39m=\u001b[39m _list_to_arrays(data)\n\u001b[1;32m    866\u001b[0m \u001b[39melif\u001b[39;00m \u001b[39misinstance\u001b[39m(data[\u001b[39m0\u001b[39m], abc\u001b[39m.\u001b[39mMapping):\n\u001b[0;32m--> 867\u001b[0m     arr, columns \u001b[39m=\u001b[39m _list_of_dict_to_arrays(data, columns)\n\u001b[1;32m    868\u001b[0m \u001b[39melif\u001b[39;00m \u001b[39misinstance\u001b[39m(data[\u001b[39m0\u001b[39m], ABCSeries):\n\u001b[1;32m    869\u001b[0m     arr, columns \u001b[39m=\u001b[39m _list_of_series_to_arrays(data, columns)\n",
      "File \u001b[0;32m/opt/homebrew/Caskroom/miniconda/base/envs/nf_base/lib/python3.9/site-packages/pandas/core/internals/construction.py:954\u001b[0m, in \u001b[0;36m_list_of_dict_to_arrays\u001b[0;34m(data, columns)\u001b[0m\n\u001b[1;32m    950\u001b[0m \u001b[39m# assure that they are of the base dict class and not of derived\u001b[39;00m\n\u001b[1;32m    951\u001b[0m \u001b[39m# classes\u001b[39;00m\n\u001b[1;32m    952\u001b[0m data \u001b[39m=\u001b[39m [d \u001b[39mif\u001b[39;00m \u001b[39mtype\u001b[39m(d) \u001b[39mis\u001b[39;00m \u001b[39mdict\u001b[39m \u001b[39melse\u001b[39;00m \u001b[39mdict\u001b[39m(d) \u001b[39mfor\u001b[39;00m d \u001b[39min\u001b[39;00m data]\n\u001b[0;32m--> 954\u001b[0m content \u001b[39m=\u001b[39m lib\u001b[39m.\u001b[39;49mdicts_to_array(data, \u001b[39mlist\u001b[39;49m(columns))\n\u001b[1;32m    955\u001b[0m \u001b[39mreturn\u001b[39;00m content, columns\n",
      "\u001b[0;31mKeyboardInterrupt\u001b[0m: "
     ]
    }
   ],
   "source": [
    "### Get OSM data for slightly bigger bbox\n",
    "overpass_url = \"http://overpass-api.de/api/interpreter\"\n",
    "overpass_query = f\"\"\"\n",
    "[out:json];\n",
    "(\n",
    "    node[\"amenity\"=\"bar\"]({london_bbox[\"south_shifted\"]},{london_bbox[\"west_shifted\"]},{london_bbox[\"north_shifted\"]},{london_bbox[\"east_shifted\"]});\n",
    "    node[\"amenity\"=\"pub\"]({london_bbox[\"south_shifted\"]},{london_bbox[\"west_shifted\"]},{london_bbox[\"north_shifted\"]},{london_bbox[\"east_shifted\"]});\n",
    "    node[\"amenity\"=\"restaurant\"]({london_bbox[\"south_shifted\"]},{london_bbox[\"west_shifted\"]},{london_bbox[\"north_shifted\"]},{london_bbox[\"east_shifted\"]});\n",
    "    node[\"amenity\"=\"cafe\"]({london_bbox[\"south_shifted\"]},{london_bbox[\"west_shifted\"]},{london_bbox[\"north_shifted\"]},{london_bbox[\"east_shifted\"]});\n",
    "    node[\"amenity\"=\"fast_food\"]({london_bbox[\"south_shifted\"]},{london_bbox[\"west_shifted\"]},{london_bbox[\"north_shifted\"]},{london_bbox[\"east_shifted\"]});\n",
    "    node[\"railway\"=\"subway_entrance\"]({london_bbox[\"south_shifted\"]},{london_bbox[\"west_shifted\"]},{london_bbox[\"north_shifted\"]},{london_bbox[\"east_shifted\"]});\n",
    "    node[\"cuisine\"]({london_bbox[\"south_shifted\"]},{london_bbox[\"west_shifted\"]},{london_bbox[\"north_shifted\"]},{london_bbox[\"east_shifted\"]});\n",
    "\n",
    "    node[\"tourism\"=\"attraction\"]({london_bbox[\"south_shifted\"]},{london_bbox[\"west_shifted\"]},{london_bbox[\"north_shifted\"]},{london_bbox[\"east_shifted\"]});\n",
    "    node[\"tourism\"=\"artwork\"]({london_bbox[\"south_shifted\"]},{london_bbox[\"west_shifted\"]},{london_bbox[\"north_shifted\"]},{london_bbox[\"east_shifted\"]});\n",
    "    node[\"tourism\"=\"gallery\"]({london_bbox[\"south_shifted\"]},{london_bbox[\"west_shifted\"]},{london_bbox[\"north_shifted\"]},{london_bbox[\"east_shifted\"]});\n",
    "    node[\"tourism\"=\"museum\"]({london_bbox[\"south_shifted\"]},{london_bbox[\"west_shifted\"]},{london_bbox[\"north_shifted\"]},{london_bbox[\"east_shifted\"]});\n",
    "    node[\"shop\"=\"boutique\"]({london_bbox[\"south_shifted\"]},{london_bbox[\"west_shifted\"]},{london_bbox[\"north_shifted\"]},{london_bbox[\"east_shifted\"]});\n",
    "    node[\"shop\"=\"clothes\"]({london_bbox[\"south_shifted\"]},{london_bbox[\"west_shifted\"]},{london_bbox[\"north_shifted\"]},{london_bbox[\"east_shifted\"]});\n",
    "    node[\"leisure\"=\"park\"]({london_bbox[\"south_shifted\"]},{london_bbox[\"west_shifted\"]},{london_bbox[\"north_shifted\"]},{london_bbox[\"east_shifted\"]});\n",
    "\n",
    "    way[\"amenity\"=\"bar\"]({london_bbox[\"south_shifted\"]},{london_bbox[\"west_shifted\"]},{london_bbox[\"north_shifted\"]},{london_bbox[\"east_shifted\"]});\n",
    "    way[\"amenity\"=\"pub\"]({london_bbox[\"south_shifted\"]},{london_bbox[\"west_shifted\"]},{london_bbox[\"north_shifted\"]},{london_bbox[\"east_shifted\"]});\n",
    "    way[\"amenity\"=\"restaurant\"]({london_bbox[\"south_shifted\"]},{london_bbox[\"west_shifted\"]},{london_bbox[\"north_shifted\"]},{london_bbox[\"east_shifted\"]});\n",
    "    way[\"amenity\"=\"cafe\"]({london_bbox[\"south_shifted\"]},{london_bbox[\"west_shifted\"]},{london_bbox[\"north_shifted\"]},{london_bbox[\"east_shifted\"]});\n",
    "    way[\"amenity\"=\"fast_food\"]({london_bbox[\"south_shifted\"]},{london_bbox[\"west_shifted\"]},{london_bbox[\"north_shifted\"]},{london_bbox[\"east_shifted\"]});\n",
    "    way[\"railway\"=\"subway_entrance\"]({london_bbox[\"south_shifted\"]},{london_bbox[\"west_shifted\"]},{london_bbox[\"north_shifted\"]},{london_bbox[\"east_shifted\"]});\n",
    "    way[\"cuisine\"]({london_bbox[\"south_shifted\"]},{london_bbox[\"west_shifted\"]},{london_bbox[\"north_shifted\"]},{london_bbox[\"east_shifted\"]});\n",
    "\n",
    "    way[\"tourism\"=\"attraction\"]({london_bbox[\"south_shifted\"]},{london_bbox[\"west_shifted\"]},{london_bbox[\"north_shifted\"]},{london_bbox[\"east_shifted\"]});\n",
    "    way[\"tourism\"=\"artwork\"]({london_bbox[\"south_shifted\"]},{london_bbox[\"west_shifted\"]},{london_bbox[\"north_shifted\"]},{london_bbox[\"east_shifted\"]});\n",
    "    way[\"tourism\"=\"gallery\"]({london_bbox[\"south_shifted\"]},{london_bbox[\"west_shifted\"]},{london_bbox[\"north_shifted\"]},{london_bbox[\"east_shifted\"]});\n",
    "    way[\"tourism\"=\"museum\"]({london_bbox[\"south_shifted\"]},{london_bbox[\"west_shifted\"]},{london_bbox[\"north_shifted\"]},{london_bbox[\"east_shifted\"]});\n",
    "    way[\"shop\"=\"boutique\"]({london_bbox[\"south_shifted\"]},{london_bbox[\"west_shifted\"]},{london_bbox[\"north_shifted\"]},{london_bbox[\"east_shifted\"]});\n",
    "    way[\"shop\"=\"clothes\"]({london_bbox[\"south_shifted\"]},{london_bbox[\"west_shifted\"]},{london_bbox[\"north_shifted\"]},{london_bbox[\"east_shifted\"]});\n",
    "    way[\"leisure\"=\"park\"]({london_bbox[\"south_shifted\"]},{london_bbox[\"west_shifted\"]},{london_bbox[\"north_shifted\"]},{london_bbox[\"east_shifted\"]});\n",
    "\n",
    "    );\n",
    "    (._;>;);\n",
    "out center;\n",
    "\"\"\"\n",
    "response = requests.get(overpass_url,\n",
    "                        params={'data': overpass_query})\n",
    "data = response.json()\n",
    "\n",
    "osm = pd.json_normalize(data, record_path=\"elements\")"
   ]
  },
  {
   "cell_type": "code",
   "execution_count": null,
   "metadata": {},
   "outputs": [],
   "source": [
    "osm.to_csv('osm_all.csv')"
   ]
  },
  {
   "cell_type": "code",
   "execution_count": 109,
   "metadata": {},
   "outputs": [],
   "source": [
    "### Get OSM data for slightly bigger bbox\n",
    "overpass_url = \"http://overpass-api.de/api/interpreter\"\n",
    "overpass_query = f\"\"\"\n",
    "[out:json];\n",
    "(\n",
    "    node[\"amenity\"=\"bar\"]({london_bbox[\"south_shifted\"]},{london_bbox[\"west_shifted\"]},{london_bbox[\"north_shifted\"]},{london_bbox[\"east_shifted\"]});\n",
    "    node[\"amenity\"=\"pub\"]({london_bbox[\"south_shifted\"]},{london_bbox[\"west_shifted\"]},{london_bbox[\"north_shifted\"]},{london_bbox[\"east_shifted\"]});\n",
    "    node[\"amenity\"=\"restaurant\"]({london_bbox[\"south_shifted\"]},{london_bbox[\"west_shifted\"]},{london_bbox[\"north_shifted\"]},{london_bbox[\"east_shifted\"]});\n",
    "    node[\"amenity\"=\"cafe\"]({london_bbox[\"south_shifted\"]},{london_bbox[\"west_shifted\"]},{london_bbox[\"north_shifted\"]},{london_bbox[\"east_shifted\"]});\n",
    "    node[\"amenity\"=\"fast_food\"]({london_bbox[\"south_shifted\"]},{london_bbox[\"west_shifted\"]},{london_bbox[\"north_shifted\"]},{london_bbox[\"east_shifted\"]});\n",
    "    node[\"railway\"=\"subway_entrance\"]({london_bbox[\"south_shifted\"]},{london_bbox[\"west_shifted\"]},{london_bbox[\"north_shifted\"]},{london_bbox[\"east_shifted\"]});\n",
    "    node[\"cuisine\"]({london_bbox[\"south_shifted\"]},{london_bbox[\"west_shifted\"]},{london_bbox[\"north_shifted\"]},{london_bbox[\"east_shifted\"]});\n",
    "    way[\"amenity\"=\"bar\"]({london_bbox[\"south_shifted\"]},{london_bbox[\"west_shifted\"]},{london_bbox[\"north_shifted\"]},{london_bbox[\"east_shifted\"]});\n",
    "    way[\"amenity\"=\"pub\"]({london_bbox[\"south_shifted\"]},{london_bbox[\"west_shifted\"]},{london_bbox[\"north_shifted\"]},{london_bbox[\"east_shifted\"]});\n",
    "    way[\"amenity\"=\"restaurant\"]({london_bbox[\"south_shifted\"]},{london_bbox[\"west_shifted\"]},{london_bbox[\"north_shifted\"]},{london_bbox[\"east_shifted\"]});\n",
    "    way[\"amenity\"=\"cafe\"]({london_bbox[\"south_shifted\"]},{london_bbox[\"west_shifted\"]},{london_bbox[\"north_shifted\"]},{london_bbox[\"east_shifted\"]});\n",
    "    way[\"amenity\"=\"fast_food\"]({london_bbox[\"south_shifted\"]},{london_bbox[\"west_shifted\"]},{london_bbox[\"north_shifted\"]},{london_bbox[\"east_shifted\"]});\n",
    "    way[\"railway\"=\"subway_entrance\"]({london_bbox[\"south_shifted\"]},{london_bbox[\"west_shifted\"]},{london_bbox[\"north_shifted\"]},{london_bbox[\"east_shifted\"]});\n",
    "    way[\"cuisine\"]({london_bbox[\"south_shifted\"]},{london_bbox[\"west_shifted\"]},{london_bbox[\"north_shifted\"]},{london_bbox[\"east_shifted\"]});\n",
    "\n",
    "    );\n",
    "    (._;>;);\n",
    "out center;\n",
    "\"\"\"\n",
    "response = requests.get(overpass_url,\n",
    "                        params={'data': overpass_query})\n",
    "data = response.json()\n",
    "\n",
    "osm = pd.json_normalize(data, record_path=\"elements\")\n"
   ]
  },
  {
   "cell_type": "code",
   "execution_count": 110,
   "metadata": {},
   "outputs": [
    {
     "data": {
      "text/plain": [
       "(86988, 739)"
      ]
     },
     "execution_count": 110,
     "metadata": {},
     "output_type": "execute_result"
    }
   ],
   "source": [
    "osm.shape"
   ]
  },
  {
   "cell_type": "code",
   "execution_count": null,
   "metadata": {},
   "outputs": [],
   "source": [
    "osm.head()"
   ]
  },
  {
   "attachments": {},
   "cell_type": "markdown",
   "metadata": {},
   "source": [
    "### 3.2. Data Cleaning OSM"
   ]
  },
  {
   "cell_type": "code",
   "execution_count": 111,
   "metadata": {},
   "outputs": [],
   "source": [
    "### clean column names \n",
    "osm.columns = osm.columns.str.replace(\".\", \"_\", regex=False)\n",
    "osm.columns = osm.columns.str.replace(\":\", \"_\", regex=False)\n"
   ]
  },
  {
   "cell_type": "code",
   "execution_count": 137,
   "metadata": {},
   "outputs": [
    {
     "ename": "KeyError",
     "evalue": "'lat'",
     "output_type": "error",
     "traceback": [
      "\u001b[0;31m---------------------------------------------------------------------------\u001b[0m",
      "\u001b[0;31mKeyError\u001b[0m                                  Traceback (most recent call last)",
      "File \u001b[0;32m/opt/homebrew/Caskroom/miniconda/base/envs/nf_base/lib/python3.9/site-packages/pandas/core/indexes/base.py:3803\u001b[0m, in \u001b[0;36mIndex.get_loc\u001b[0;34m(self, key, method, tolerance)\u001b[0m\n\u001b[1;32m   3802\u001b[0m \u001b[39mtry\u001b[39;00m:\n\u001b[0;32m-> 3803\u001b[0m     \u001b[39mreturn\u001b[39;00m \u001b[39mself\u001b[39;49m\u001b[39m.\u001b[39;49m_engine\u001b[39m.\u001b[39;49mget_loc(casted_key)\n\u001b[1;32m   3804\u001b[0m \u001b[39mexcept\u001b[39;00m \u001b[39mKeyError\u001b[39;00m \u001b[39mas\u001b[39;00m err:\n",
      "File \u001b[0;32m/opt/homebrew/Caskroom/miniconda/base/envs/nf_base/lib/python3.9/site-packages/pandas/_libs/index.pyx:138\u001b[0m, in \u001b[0;36mpandas._libs.index.IndexEngine.get_loc\u001b[0;34m()\u001b[0m\n",
      "File \u001b[0;32m/opt/homebrew/Caskroom/miniconda/base/envs/nf_base/lib/python3.9/site-packages/pandas/_libs/index.pyx:162\u001b[0m, in \u001b[0;36mpandas._libs.index.IndexEngine.get_loc\u001b[0;34m()\u001b[0m\n",
      "File \u001b[0;32m/opt/homebrew/Caskroom/miniconda/base/envs/nf_base/lib/python3.9/site-packages/pandas/_libs/index.pyx:203\u001b[0m, in \u001b[0;36mpandas._libs.index.IndexEngine._get_loc_duplicates\u001b[0;34m()\u001b[0m\n",
      "File \u001b[0;32m/opt/homebrew/Caskroom/miniconda/base/envs/nf_base/lib/python3.9/site-packages/pandas/_libs/index.pyx:211\u001b[0m, in \u001b[0;36mpandas._libs.index.IndexEngine._maybe_get_bool_indexer\u001b[0;34m()\u001b[0m\n",
      "File \u001b[0;32m/opt/homebrew/Caskroom/miniconda/base/envs/nf_base/lib/python3.9/site-packages/pandas/_libs/index.pyx:107\u001b[0m, in \u001b[0;36mpandas._libs.index._unpack_bool_indexer\u001b[0;34m()\u001b[0m\n",
      "\u001b[0;31mKeyError\u001b[0m: 'lat'",
      "\nThe above exception was the direct cause of the following exception:\n",
      "\u001b[0;31mKeyError\u001b[0m                                  Traceback (most recent call last)",
      "Cell \u001b[0;32mIn[137], line 2\u001b[0m\n\u001b[1;32m      1\u001b[0m \u001b[39m### drop all columns with no lat or lon values \u001b[39;00m\n\u001b[0;32m----> 2\u001b[0m osm[\u001b[39m\"\u001b[39m\u001b[39mlat\u001b[39m\u001b[39m\"\u001b[39m] \u001b[39m=\u001b[39m np\u001b[39m.\u001b[39mwhere(osm[\u001b[39m\"\u001b[39;49m\u001b[39mlat\u001b[39;49m\u001b[39m\"\u001b[39;49m]\u001b[39m.\u001b[39misna(), osm[\u001b[39m\"\u001b[39m\u001b[39mcenter_lat\u001b[39m\u001b[39m\"\u001b[39m], osm[\u001b[39m'\u001b[39m\u001b[39mlat\u001b[39m\u001b[39m'\u001b[39m])\n\u001b[1;32m      3\u001b[0m osm[\u001b[39m\"\u001b[39m\u001b[39mlon\u001b[39m\u001b[39m\"\u001b[39m] \u001b[39m=\u001b[39m np\u001b[39m.\u001b[39mwhere(osm[\u001b[39m\"\u001b[39m\u001b[39mlon\u001b[39m\u001b[39m\"\u001b[39m]\u001b[39m.\u001b[39misna(), osm[\u001b[39m\"\u001b[39m\u001b[39mcenter_lon\u001b[39m\u001b[39m\"\u001b[39m], osm[\u001b[39m'\u001b[39m\u001b[39mlon\u001b[39m\u001b[39m'\u001b[39m])\n",
      "File \u001b[0;32m/opt/homebrew/Caskroom/miniconda/base/envs/nf_base/lib/python3.9/site-packages/pandas/core/frame.py:3805\u001b[0m, in \u001b[0;36mDataFrame.__getitem__\u001b[0;34m(self, key)\u001b[0m\n\u001b[1;32m   3803\u001b[0m \u001b[39mif\u001b[39;00m \u001b[39mself\u001b[39m\u001b[39m.\u001b[39mcolumns\u001b[39m.\u001b[39mnlevels \u001b[39m>\u001b[39m \u001b[39m1\u001b[39m:\n\u001b[1;32m   3804\u001b[0m     \u001b[39mreturn\u001b[39;00m \u001b[39mself\u001b[39m\u001b[39m.\u001b[39m_getitem_multilevel(key)\n\u001b[0;32m-> 3805\u001b[0m indexer \u001b[39m=\u001b[39m \u001b[39mself\u001b[39;49m\u001b[39m.\u001b[39;49mcolumns\u001b[39m.\u001b[39;49mget_loc(key)\n\u001b[1;32m   3806\u001b[0m \u001b[39mif\u001b[39;00m is_integer(indexer):\n\u001b[1;32m   3807\u001b[0m     indexer \u001b[39m=\u001b[39m [indexer]\n",
      "File \u001b[0;32m/opt/homebrew/Caskroom/miniconda/base/envs/nf_base/lib/python3.9/site-packages/pandas/core/indexes/base.py:3805\u001b[0m, in \u001b[0;36mIndex.get_loc\u001b[0;34m(self, key, method, tolerance)\u001b[0m\n\u001b[1;32m   3803\u001b[0m     \u001b[39mreturn\u001b[39;00m \u001b[39mself\u001b[39m\u001b[39m.\u001b[39m_engine\u001b[39m.\u001b[39mget_loc(casted_key)\n\u001b[1;32m   3804\u001b[0m \u001b[39mexcept\u001b[39;00m \u001b[39mKeyError\u001b[39;00m \u001b[39mas\u001b[39;00m err:\n\u001b[0;32m-> 3805\u001b[0m     \u001b[39mraise\u001b[39;00m \u001b[39mKeyError\u001b[39;00m(key) \u001b[39mfrom\u001b[39;00m \u001b[39merr\u001b[39;00m\n\u001b[1;32m   3806\u001b[0m \u001b[39mexcept\u001b[39;00m \u001b[39mTypeError\u001b[39;00m:\n\u001b[1;32m   3807\u001b[0m     \u001b[39m# If we have a listlike key, _check_indexing_error will raise\u001b[39;00m\n\u001b[1;32m   3808\u001b[0m     \u001b[39m#  InvalidIndexError. Otherwise we fall through and re-raise\u001b[39;00m\n\u001b[1;32m   3809\u001b[0m     \u001b[39m#  the TypeError.\u001b[39;00m\n\u001b[1;32m   3810\u001b[0m     \u001b[39mself\u001b[39m\u001b[39m.\u001b[39m_check_indexing_error(key)\n",
      "\u001b[0;31mKeyError\u001b[0m: 'lat'"
     ]
    }
   ],
   "source": [
    "### drop all columns with no lat or lon values \n",
    "osm[\"lat\"] = np.where(osm[\"lat\"].isna(), osm[\"center_lat\"], osm['lat'])\n",
    "osm[\"lon\"] = np.where(osm[\"lon\"].isna(), osm[\"center_lon\"], osm['lon'])"
   ]
  },
  {
   "cell_type": "code",
   "execution_count": 138,
   "metadata": {},
   "outputs": [],
   "source": [
    "### rename lat/lon to latitude/longitude \n",
    "osm = osm.rename(columns={\"lat\": \"latitude\", \"lon\": \"longitude\"})\n"
   ]
  },
  {
   "cell_type": "code",
   "execution_count": 139,
   "metadata": {},
   "outputs": [],
   "source": [
    "### drop \"tags_\" in the column names \n",
    "osm.columns = osm.columns.str.replace('tags_' , '')"
   ]
  },
  {
   "cell_type": "code",
   "execution_count": 146,
   "metadata": {},
   "outputs": [],
   "source": [
    "### select only desired columns\n",
    "osm_keepers = [\"id\",\n",
    "                     \"latitude\",\n",
    "                     \"longitude\",\n",
    "                     \"name\",\n",
    "                     \"amenity\"]"
   ]
  },
  {
   "attachments": {},
   "cell_type": "markdown",
   "metadata": {},
   "source": [
    "### 3.3. Data Cleaning OSM_SHORT"
   ]
  },
  {
   "cell_type": "code",
   "execution_count": 147,
   "metadata": {},
   "outputs": [],
   "source": [
    "osm_very_short = osm[osm_keepers]"
   ]
  },
  {
   "cell_type": "code",
   "execution_count": null,
   "metadata": {},
   "outputs": [],
   "source": [
    "osm_very_short.to_csv('osm_very_short_vienna.csv')"
   ]
  },
  {
   "cell_type": "code",
   "execution_count": 142,
   "metadata": {},
   "outputs": [],
   "source": [
    "### drop all rows with no lat/lon\n",
    "osm_very_short = osm.dropna(subset=['latitude'])\n"
   ]
  },
  {
   "cell_type": "code",
   "execution_count": 143,
   "metadata": {},
   "outputs": [],
   "source": [
    "osm_very_short = osm.drop(osm[(osm['name'].isna()) & (osm['amenity'].isna())].index)"
   ]
  },
  {
   "cell_type": "code",
   "execution_count": 144,
   "metadata": {},
   "outputs": [],
   "source": [
    "osm_very_short['amenity'] = osm['amenity'].str.replace('pub', 'bar')"
   ]
  },
  {
   "cell_type": "code",
   "execution_count": null,
   "metadata": {},
   "outputs": [],
   "source": [
    "#osm_short['gastronomy'] = np.where(osm_short['amenity'].isin(['restaurant', 'fast_food']), True, False)"
   ]
  },
  {
   "cell_type": "code",
   "execution_count": 145,
   "metadata": {},
   "outputs": [],
   "source": [
    "osm_very_short = osm[osm['amenity'].isin(['bar', 'restaurant', np.nan, 'cafe', 'fast_food', 'bakery', 'food_court'])]"
   ]
  },
  {
   "cell_type": "code",
   "execution_count": null,
   "metadata": {},
   "outputs": [],
   "source": [
    "osm_short['diet_vegetarian'] = np.where(osm_short['diet_vegetarian'].isin(['yes', 'only', 'limited']), True, osm_short['diet_vegetarian'])\n",
    "osm_short['diet_vegetarian'] = np.where(osm_short['diet_vegetarian'] == 'no', False, osm_short['diet_vegetarian'])\n",
    "osm_short['diet_vegan'] = np.where(osm_short['diet_vegan'].isin(['yes', 'only', 'limited']), True, osm_short['diet_vegan'])\n",
    "osm_short['diet_vegan'] = np.where(osm_short['diet_vegan'] == 'no', False, osm_short['diet_vegan'])"
   ]
  },
  {
   "cell_type": "code",
   "execution_count": null,
   "metadata": {},
   "outputs": [],
   "source": [
    "osm_short.head()"
   ]
  },
  {
   "cell_type": "code",
   "execution_count": null,
   "metadata": {},
   "outputs": [],
   "source": [
    "osm_short.shape"
   ]
  },
  {
   "attachments": {},
   "cell_type": "markdown",
   "metadata": {},
   "source": [
    "## 4.Combine airbnb Dataframe with POI's (Gastro) in 100/250/500 Meter\n",
    "\n",
    "this has been calculated in Tableau and will now be merged into `airbnb` Dataframe"
   ]
  },
  {
   "cell_type": "code",
   "execution_count": null,
   "metadata": {},
   "outputs": [],
   "source": [
    "airbnb.head(2)"
   ]
  },
  {
   "cell_type": "code",
   "execution_count": null,
   "metadata": {},
   "outputs": [],
   "source": [
    "amenities_100 = pd.read_excel(f'data/london/number_amenities_per_airbnb_100.xlsx', skiprows=1)"
   ]
  },
  {
   "cell_type": "code",
   "execution_count": null,
   "metadata": {},
   "outputs": [],
   "source": [
    "amenities_100.head()"
   ]
  },
  {
   "cell_type": "code",
   "execution_count": null,
   "metadata": {},
   "outputs": [],
   "source": [
    "amenities_250 = pd.read_excel(f'data/london/number_amenities_per_airbnb_250.xlsx', skiprows=1)"
   ]
  },
  {
   "cell_type": "code",
   "execution_count": null,
   "metadata": {},
   "outputs": [],
   "source": [
    "amenities_500 = pd.read_excel(f'data/london/number_amenities_per_airbnb_500.xlsx', skiprows=1)"
   ]
  },
  {
   "cell_type": "code",
   "execution_count": null,
   "metadata": {},
   "outputs": [],
   "source": [
    "poi_100 = airbnb.merge(amenities_100, left_on=\"id\", right_on=\"Id\", how=\"left\", suffixes=(None, \"_100\")).rename(\n",
    "    columns={\"bar\": \"bar_100\", \"cafe\": \"cafe_100\", \"fast_food\": \"fast_food_100\", \"restaurant\": \"restaurant_100\"})\n"
   ]
  },
  {
   "cell_type": "code",
   "execution_count": null,
   "metadata": {},
   "outputs": [],
   "source": [
    "poi_250 = poi_100.merge(amenities_250, left_on=\"id\", right_on=\"Id\", how=\"left\", suffixes=(None, \"_250\")).rename(\n",
    "    columns={\"bar\": \"bar_250\", \"cafe\": \"cafe_250\", \"fast_food\": \"fast_food_250\", \"restaurant\": \"restaurant_250\"})"
   ]
  },
  {
   "cell_type": "code",
   "execution_count": null,
   "metadata": {},
   "outputs": [],
   "source": [
    "poi_gastro = poi_250.merge(amenities_500, left_on=\"id\", right_on=\"Id\", how=\"left\", suffixes=(None, \"_500\")).rename(\n",
    "    columns={\"bar\": \"bar_500\", \"cafe\": \"cafe_500\", \"fast_food\": \"fast_food_500\", \"restaurant\": \"restaurant_500\"})"
   ]
  },
  {
   "cell_type": "code",
   "execution_count": null,
   "metadata": {},
   "outputs": [],
   "source": [
    "poi_gastro = poi_gastro.drop(columns=[\"Id\", \"Id_250\", \"Id_500\"])"
   ]
  },
  {
   "attachments": {},
   "cell_type": "markdown",
   "metadata": {},
   "source": [
    "## EDA: poi_gastro"
   ]
  },
  {
   "cell_type": "code",
   "execution_count": null,
   "metadata": {},
   "outputs": [],
   "source": [
    "poi_gastro.head(2)"
   ]
  },
  {
   "cell_type": "code",
   "execution_count": null,
   "metadata": {},
   "outputs": [],
   "source": [
    "poi_gastro.info()"
   ]
  },
  {
   "attachments": {},
   "cell_type": "markdown",
   "metadata": {},
   "source": [
    "### Clean NaN Values in _100 _250 _500 columns\n",
    "\n"
   ]
  },
  {
   "cell_type": "code",
   "execution_count": null,
   "metadata": {},
   "outputs": [],
   "source": [
    "gastro_cols = ['bar_100', 'cafe_100', 'fast_food_100', 'restaurant_100', \n",
    "               'bar_250', 'cafe_250', 'fast_food_250', 'restaurant_250', 'bar_500',\n",
    "               'cafe_500', 'fast_food_500', 'restaurant_500', 'reviews_per_month']"
   ]
  },
  {
   "cell_type": "code",
   "execution_count": null,
   "metadata": {},
   "outputs": [],
   "source": [
    "# fill NaN values with 0 for reviews_per_month & gastro cols \n",
    "poi_gastro[gastro_cols] = poi_gastro[gastro_cols].fillna(0)"
   ]
  },
  {
   "cell_type": "code",
   "execution_count": null,
   "metadata": {},
   "outputs": [],
   "source": [
    "# calculate a new field with all gastronomy POI's in a radius of 500 m\n",
    "poi_gastro['gastro_500'] = poi_gastro['bar_500'] + poi_gastro['cafe_500'] + poi_gastro['restaurant_500'] + poi_gastro['fast_food_500']"
   ]
  },
  {
   "attachments": {},
   "cell_type": "markdown",
   "metadata": {},
   "source": [
    "### Create new column: price_category\n",
    "\n",
    "0-19 - 0 \n",
    "\n",
    "20-60 - 1 = low-budget\n",
    "\n",
    "61-100 - 2 = budget\n",
    "\n",
    "101-180 - 3 = standard\n",
    "\n",
    "181+ - 4 = luxury "
   ]
  },
  {
   "cell_type": "code",
   "execution_count": null,
   "metadata": {},
   "outputs": [],
   "source": [
    "poi_gastro[\"price\"].describe(percentiles=[.01, .25, .50, .75, .90])"
   ]
  },
  {
   "cell_type": "code",
   "execution_count": null,
   "metadata": {},
   "outputs": [],
   "source": [
    "# set conditions & values for each price category\n",
    "conditions = [\n",
    "    (poi_gastro[\"price\"] == 0),\n",
    "    (poi_gastro[\"price\"] > 0) & (poi_gastro[\"price\"] <= 60),\n",
    "    (poi_gastro[\"price\"] > 60) & (poi_gastro[\"price\"] <= 100),\n",
    "    (poi_gastro[\"price\"] > 100) & (poi_gastro[\"price\"] <= 180),\n",
    "    (poi_gastro[\"price\"] > 180)\n",
    "]\n",
    "\n",
    "values = [0, 1, 2, 3, 4]\n",
    "\n",
    "# create new column\n",
    "poi_gastro[\"price_category\"] = np.select(conditions, values)\n"
   ]
  },
  {
   "cell_type": "code",
   "execution_count": null,
   "metadata": {},
   "outputs": [],
   "source": [
    "# check values\n",
    "poi_gastro[\"price_category\"].value_counts()"
   ]
  },
  {
   "cell_type": "code",
   "execution_count": null,
   "metadata": {},
   "outputs": [],
   "source": [
    "# check new column\n",
    "poi_gastro.sample(5)[[\"price\", \"price_category\"]]"
   ]
  },
  {
   "attachments": {},
   "cell_type": "markdown",
   "metadata": {},
   "source": [
    "### Create new column: \"roomtype_int\" \n",
    "\n",
    "Shared room = 1\n",
    "\n",
    "Private room = 2\n",
    "\n",
    "Hotel room = 3\n",
    "\n",
    "Entire home = 4 "
   ]
  },
  {
   "cell_type": "code",
   "execution_count": null,
   "metadata": {},
   "outputs": [],
   "source": [
    "# set conditions & values for each price category\n",
    "conditions = [poi_gastro[\"room_type\"] == \"Shared room\", \n",
    "              poi_gastro[\"room_type\"] == \"Private room\", \n",
    "              poi_gastro[\"room_type\"] == \"Hotel room\", \n",
    "              poi_gastro[\"room_type\"] == \"Entire home\"\n",
    "              ]\n",
    "\n",
    "values = (1,2,3,4)\n",
    "\n",
    "# create new column\n",
    "poi_gastro[\"room_type_int\"] = np.select(conditions, values)\n"
   ]
  },
  {
   "cell_type": "code",
   "execution_count": null,
   "metadata": {},
   "outputs": [],
   "source": [
    "# check values\n",
    "poi_gastro.room_type_int.value_counts()"
   ]
  },
  {
   "cell_type": "code",
   "execution_count": null,
   "metadata": {},
   "outputs": [],
   "source": [
    "# check new column\n",
    "poi_gastro.sample(5)[[\"room_type\", \"room_type_int\"]]"
   ]
  },
  {
   "attachments": {},
   "cell_type": "markdown",
   "metadata": {},
   "source": [
    "### Heatmap"
   ]
  },
  {
   "cell_type": "code",
   "execution_count": null,
   "metadata": {},
   "outputs": [],
   "source": [
    "# set relevant columns for hypothesis \n",
    "heat = poi_gastro[[\"price\", \n",
    "                     \"price_category\", \n",
    "                     \"number_of_reviews\", \n",
    "                     \"number_of_reviews_ltm\", \n",
    "                     \"reviews_per_month\", \n",
    "                     \"review_scores_rating\",\n",
    "                     \"room_type\", \n",
    "                     \"room_type_int\", \n",
    "                     \"restaurant_500\", \n",
    "                     \"fast_food_500\", \n",
    "                     \"bar_500\", \n",
    "                     \"cafe_500\", \n",
    "                     \"gastro_500\"]]"
   ]
  },
  {
   "cell_type": "code",
   "execution_count": null,
   "metadata": {},
   "outputs": [],
   "source": [
    "corr = heat.corr(numeric_only=True)\n",
    "\n",
    "sns.set(rc={\"figure.figsize\":(16, 12)})\n",
    "\n",
    "# getting the upper triangle of the co-relation matrix\n",
    "matrix = np.triu(corr)\n",
    "\n",
    "# using the upper triangle matrix as mask \n",
    "sns.heatmap(corr, annot=True, mask=matrix)"
   ]
  },
  {
   "attachments": {},
   "cell_type": "markdown",
   "metadata": {},
   "source": [
    "### Hypothesis: In Area's with lot's of POI's, there are less Airbnb's which offer Entire Homes"
   ]
  },
  {
   "cell_type": "code",
   "execution_count": null,
   "metadata": {},
   "outputs": [],
   "source": [
    "# group by room_type_int and calculate the mean value \n",
    "poi_gastro.groupby(by=\"room_type_int\").agg({\"gastro_500\": \"mean\", \n",
    "                                             \"restaurant_500\": \"mean\",\n",
    "                                             \"fast_food_500\": \"mean\",\n",
    "                                             \"cafe_500\": \"mean\",\n",
    "                                             \"bar_500\": \"mean\",\n",
    "                                             \"id\": \"size\"})[[\"gastro_500\",\"restaurant_500\",\"fast_food_500\",\"cafe_500\", \"bar_500\", \"id\"]]"
   ]
  },
  {
   "cell_type": "code",
   "execution_count": null,
   "metadata": {},
   "outputs": [],
   "source": [
    "# plot without category \"hotel room(3)\" or \"shared room (1)\"\n",
    "poi_gastro[(poi_gastro[\"room_type_int\"] != 1) & (poi_gastro[\"room_type_int\"] != 3)].groupby(by=\"room_type_int\").agg({\"gastro_500\": \"mean\", \n",
    "                                             \"restaurant_500\": \"mean\",\n",
    "                                             \"fast_food_500\": \"mean\",\n",
    "                                             \"cafe_500\": \"mean\",\n",
    "                                             \"bar_500\": \"mean\"})[[\"restaurant_500\",\"fast_food_500\",\"cafe_500\", \"bar_500\", \"gastro_500\"]].plot(kind=\"bar\")\n",
    "plt.xticks([0, 1], [\"Private Room\", \"Entire Home\"], rotation=360)\n",
    "plt.title(\"Average # of POI's per Room Type\")\n",
    "plt.show()"
   ]
  },
  {
   "attachments": {},
   "cell_type": "markdown",
   "metadata": {},
   "source": [
    "### Hypothesis: POI's have direct impact on Price & Demand of Airbnb's"
   ]
  },
  {
   "cell_type": "code",
   "execution_count": null,
   "metadata": {},
   "outputs": [],
   "source": [
    "# group by price category and calculate the mean value \n",
    "poi_gastro.groupby(by=\"price_category\").agg({\"gastro_500\": \"mean\", \n",
    "                                             \"restaurant_500\": \"mean\",\n",
    "                                             \"fast_food_500\": \"mean\",\n",
    "                                             \"cafe_500\": \"mean\",\n",
    "                                             \"bar_500\": \"mean\",\n",
    "                                             \"id\": \"size\"})[[\"gastro_500\",\"restaurant_500\",\"fast_food_500\",\"cafe_500\", \"bar_500\", \"id\"]]"
   ]
  },
  {
   "cell_type": "code",
   "execution_count": null,
   "metadata": {},
   "outputs": [],
   "source": [
    "# plot without category 0 \n",
    "poi_gastro[poi_gastro[\"price_category\"] != 0].groupby(by=\"price_category\").agg({\"gastro_500\": \"mean\", \n",
    "                                             \"restaurant_500\": \"mean\",\n",
    "                                             \"fast_food_500\": \"mean\",\n",
    "                                             \"cafe_500\": \"mean\",\n",
    "                                             \"bar_500\": \"mean\"})[[\"restaurant_500\",\"fast_food_500\",\"cafe_500\", \"bar_500\", \"gastro_500\"]].plot(kind=\"bar\")\n",
    "\n",
    "plt.xticks([0, 1, 2, 3], [\"<60\", \"61-100\", \"101-180\", \">180\"], rotation=360)\n",
    "plt.title(\"Average # of POI's in each Airbnb-Price Category\")\n",
    "plt.show()"
   ]
  },
  {
   "attachments": {},
   "cell_type": "markdown",
   "metadata": {},
   "source": [
    "### Hypothesis: More POI's == better reviews (for location & general)"
   ]
  },
  {
   "cell_type": "code",
   "execution_count": null,
   "metadata": {},
   "outputs": [],
   "source": [
    "# Hypo: LESS Poi's => worse reviews\n",
    "sns.set(rc={\"figure.figsize\":(16, 12)})\n",
    "\n",
    "poi_gastro.plot(x=\"review_scores_location\", y=\"gastro_500\", kind=\"scatter\")\n",
    "\n",
    "plt.title(\" Airbnb Location-Ratings vs. Number of Gastronomy-POI's\")\n",
    "plt.show()"
   ]
  },
  {
   "attachments": {},
   "cell_type": "markdown",
   "metadata": {},
   "source": [
    "Plot for each Price Category"
   ]
  },
  {
   "cell_type": "code",
   "execution_count": null,
   "metadata": {},
   "outputs": [],
   "source": [
    "sns.set(rc={\"figure.figsize\":(6, 4)})\n",
    "\n",
    "poi_gastro[poi_gastro[\"price_category\"] == 1].plot(x=\"review_scores_location\", y=\"gastro_500\", kind=\"scatter\")"
   ]
  },
  {
   "cell_type": "code",
   "execution_count": null,
   "metadata": {},
   "outputs": [],
   "source": [
    "poi_gastro[poi_gastro[\"price_category\"] == 2].plot(x=\"review_scores_location\", y=\"gastro_500\", kind=\"scatter\")"
   ]
  },
  {
   "cell_type": "code",
   "execution_count": null,
   "metadata": {},
   "outputs": [],
   "source": [
    "poi_gastro[poi_gastro[\"price_category\"] == 3].plot(x=\"review_scores_location\", y=\"gastro_500\", kind=\"scatter\")"
   ]
  },
  {
   "cell_type": "code",
   "execution_count": null,
   "metadata": {},
   "outputs": [],
   "source": [
    "poi_gastro[poi_gastro[\"price_category\"] == 4].plot(x=\"review_scores_location\", y=\"gastro_500\", kind=\"scatter\")"
   ]
  },
  {
   "attachments": {},
   "cell_type": "markdown",
   "metadata": {},
   "source": [
    "### Hypothesis: Certain Amenities have direct impact on Price & Demand of Airbnb's"
   ]
  },
  {
   "cell_type": "code",
   "execution_count": null,
   "metadata": {},
   "outputs": [],
   "source": [
    "#Correlation between price & amenities \n",
    "\n",
    "columns = ['private_bath', 'wifi', 'long_term_stays_allowed',\n",
    "       'private_patio_or_balcony', 'private_entrance', 'pets_allowed',\n",
    "       'outdoor_dining_area', 'lockbox', 'kitchen', 'hair_dryer',\n",
    "       'free_street_parking', 'free_parking_on_premises',\n",
    "       'dedicated_workspace', 'coffee_maker', 'coffee', 'bed_linens',\n",
    "       'bathtub']\n",
    "\n",
    "\n",
    "selected_columns = poi_gastro[columns]\n",
    "corr = selected_columns.corrwith(poi_gastro[\"price_category\"]).sort_values(ascending=False)\n",
    "\n",
    "print(corr)"
   ]
  },
  {
   "cell_type": "code",
   "execution_count": null,
   "metadata": {},
   "outputs": [],
   "source": [
    "corr.plot(kind=\"bar\")"
   ]
  },
  {
   "cell_type": "code",
   "execution_count": null,
   "metadata": {},
   "outputs": [],
   "source": [
    "#Correlation between amenities & reviews \n",
    "\n",
    "columns = ['private_bath', 'wifi', 'long_term_stays_allowed',\n",
    "       'private_patio_or_balcony', 'private_entrance', 'pets_allowed',\n",
    "       'outdoor_dining_area', 'lockbox', 'kitchen', 'hair_dryer',\n",
    "       'free_street_parking', 'free_parking_on_premises',\n",
    "       'dedicated_workspace', 'coffee_maker', 'coffee', 'bed_linens',\n",
    "       'bathtub']\n",
    "\n",
    "\n",
    "selected_columns = poi_gastro[columns]\n",
    "corr = selected_columns.corrwith(poi_gastro[\"review_scores_rating\"]).sort_values(ascending=False)\n",
    "\n",
    "print(corr)"
   ]
  },
  {
   "cell_type": "code",
   "execution_count": null,
   "metadata": {},
   "outputs": [],
   "source": [
    "corr.plot(kind=\"bar\")"
   ]
  },
  {
   "attachments": {},
   "cell_type": "markdown",
   "metadata": {},
   "source": [
    "## Calculation in Python\n",
    "\n",
    "didnt work properly. still has to be checked"
   ]
  },
  {
   "attachments": {},
   "cell_type": "markdown",
   "metadata": {},
   "source": [
    "### POI in Area"
   ]
  },
  {
   "cell_type": "code",
   "execution_count": null,
   "metadata": {},
   "outputs": [],
   "source": [
    "# ### subset's of df's for each amenity \n",
    "# restaurant = osm_short[osm_short[\"amenity\"] == \"restaurant\"][['id', 'latitude', 'longitude', 'name', 'amenity']]\n",
    "# fast_food = osm_short[osm_short[\"amenity\"] == \"fast_food\"][['id', 'latitude', 'longitude', 'name', 'amenity']]\n",
    "# cafe = osm_short[osm_short[\"amenity\"] == \"cafe\"][['id', 'latitude', 'longitude', 'name', 'amenity']]\n",
    "# bar = osm_short[osm_short[\"amenity\"] == \"bar\"][['id', 'latitude', 'longitude', 'name', 'amenity']]\n",
    "# subway = osm_short[osm_short[\"railway\"] == \"subway_entrance\"][['id', 'latitude', 'longitude', 'name', 'railway']]\n",
    "\n",
    "# street_test = osm_short[[\"id\", \"latitude\", \"longitude\", \"amenity\"]]"
   ]
  },
  {
   "cell_type": "code",
   "execution_count": null,
   "metadata": {},
   "outputs": [],
   "source": [
    "# airbnb_short = airbnb[['id', 'latitude', 'longitude']]"
   ]
  },
  {
   "cell_type": "code",
   "execution_count": null,
   "metadata": {},
   "outputs": [],
   "source": []
  },
  {
   "attachments": {},
   "cell_type": "markdown",
   "metadata": {},
   "source": [
    "#### Function meters_to_degrees"
   ]
  },
  {
   "cell_type": "code",
   "execution_count": null,
   "metadata": {},
   "outputs": [],
   "source": [
    "# # Define the conversion factor from meters to degrees based on the latitude\n",
    "# def meters_to_degrees(meters, latitude):\n",
    "#     proj_meters = pyproj.CRS(\"EPSG:3857\")  # meters\n",
    "#     proj_latlon = pyproj.CRS(\"EPSG:4326\")  # degrees\n",
    "#     transformer = pyproj.Transformer.from_crs(\n",
    "#         proj_meters, proj_latlon, always_xy=True)\n",
    "#     lon, lat = transformer.transform(meters, 0)\n",
    "\n",
    "#     # Calculate the distance per degree of latitude\n",
    "#     lat_dist_per_deg = 111132.954 - 559.822 * math.cos(2 * math.radians(latitude)) + 1.175 * math.cos(\n",
    "#         4 * math.radians(latitude)) - 0.0023 * math.cos(6 * math.radians(latitude))\n",
    "\n",
    "#     # Calculate the distance per degree of longitude\n",
    "#     lon_dist_per_deg = math.pi / 180 * 6378137 * \\\n",
    "#         math.cos(math.radians(latitude))\n",
    "\n",
    "#     lat_degrees = meters / lat_dist_per_deg\n",
    "#     lon_degrees = meters / lon_dist_per_deg\n",
    "#     return lat_degrees, lon_degrees"
   ]
  },
  {
   "attachments": {},
   "cell_type": "markdown",
   "metadata": {},
   "source": [
    "### 100 Meter"
   ]
  },
  {
   "cell_type": "code",
   "execution_count": null,
   "metadata": {},
   "outputs": [],
   "source": [
    "# # ignore seetingswithcopy only for this cell. will be set back to warn at the end of the code\n",
    "# pd.options.mode.chained_assignment = None\n",
    "\n",
    "# # Convert the airbnb_short DataFrame to a GeoDataFrame with a Point geometry column\n",
    "# airbnb_geo = gpd.GeoDataFrame(airbnb_short, geometry=gpd.points_from_xy( airbnb_short[\"longitude\"], airbnb_short[\"latitude\"]))\n",
    "\n",
    "# # Convert the street_test DataFrame to a GeoDataFrame with a Point geometry column\n",
    "# street_test_geo = gpd.GeoDataFrame(street_test, geometry=gpd.points_from_xy(street_test[\"longitude\"], street_test[\"latitude\"]))\n",
    "\n",
    "# # Create an array of coordinates for the street_test GeoDataFrame\n",
    "# X = np.column_stack((street_test_geo[\"longitude\"].values, street_test_geo[\"latitude\"].values))\n",
    "\n",
    "# # Create a BallTree spatial index for the street_test GeoDataFrame\n",
    "# tree = BallTree(X, leaf_size=40)\n",
    "\n",
    "# # Define the radius of the search in meters\n",
    "# radius_meters = 100\n",
    "\n",
    "# # Loop through each row in airbnb_geo\n",
    "# for index, row in airbnb_geo.iterrows():\n",
    "#     # Convert the radius from meters to degrees based on the latitude\n",
    "#     lat, lon = row[\"latitude\"], row[\"longitude\"]\n",
    "#     lat_deg, lon_deg = meters_to_degrees(radius_meters, lat)\n",
    "\n",
    "#     # Use the BallTree spatial index to find the street_test rows within the search radius\n",
    "#     indices = tree.query_radius([[row[\"longitude\"], row[\"latitude\"]]], r=lon_deg)[0]\n",
    "\n",
    "#     # Filter the street_test rows to only those within the search radius\n",
    "#     candidate_rows = street_test_geo.iloc[indices]\n",
    "\n",
    "#     # Count the occurrences of each amenity in the candidate rows\n",
    "#     counts = candidate_rows[\"amenity\"].value_counts().to_dict()\n",
    "\n",
    "#     # Add the counts as new columns in the airbnb_short DataFrame\n",
    "#     for amenity_type, count in counts.items():\n",
    "#         airbnb_short.at[index, amenity_type] = count\n",
    "\n",
    "# #    # Add the list of ids as a new column in the airbnb_short\n",
    "# #    airbnb_short.at[index, \"street_test_ids\"] = str(candidate_rows[\"id\"].tolist())\n",
    "\n",
    "#     # If there are no amenities in the given radius, append \"no amenities\" in the list of ids\n",
    "# #    if not candidate_rows[\"id\"].tolist():\n",
    "# #        airbnb_short.at[index, \"street_test_ids\"] = \"no amenities\"\n",
    "\n",
    "#     # Print progress\n",
    "#     if index % 10000 == 0:\n",
    "#         print(f\"Processed {index} rows\")\n",
    "\n",
    "# # Replace NaN values with 0\n",
    "# airbnb_short.fillna(value=0, inplace=True)\n",
    "\n",
    "# pd.options.mode.chained_assignment = 'warn'"
   ]
  },
  {
   "attachments": {},
   "cell_type": "markdown",
   "metadata": {},
   "source": [
    "### Nearest distance "
   ]
  },
  {
   "cell_type": "code",
   "execution_count": null,
   "metadata": {},
   "outputs": [],
   "source": [
    "# ### is calculating values, but they seem to small\n",
    "# from scipy.spatial import cKDTree\n",
    "\n",
    "# # Import the radians function from numpy\n",
    "# from numpy import radians\n",
    "\n",
    "# # Convert the latitude and longitude columns in both dataframes to radians\n",
    "# airbnb[['latitude', 'longitude']] = radians(airbnb[['latitude', 'longitude']])\n",
    "# subway[['latitude', 'longitude']] = radians(subway[['latitude', 'longitude']])\n",
    "\n",
    "# # Build the KDTree index using the radians converted latitude and longitude columns in the subway dataframe\n",
    "# subway_tree = cKDTree(subway[['latitude', 'longitude']])\n",
    "\n",
    "# # Query the KDTree index for the nearest subway station to each airbnb location\n",
    "# distances, indices = subway_tree.query(airbnb[['latitude', 'longitude']], k=1)\n",
    "\n",
    "# # Convert the distance from radians to meters\n",
    "# earth_radius = 6371000  # radius of the Earth in meters\n",
    "# distances_meters = distances * earth_radius\n",
    "\n",
    "# # Add the nearest subway station distance to each airbnb row\n",
    "# airbnb['nearest_subway_distance'] = distances_meters\n",
    "\n"
   ]
  },
  {
   "cell_type": "code",
   "execution_count": null,
   "metadata": {},
   "outputs": [],
   "source": [
    "airbnb['nearest_subway_distance'].describe()"
   ]
  },
  {
   "attachments": {},
   "cell_type": "markdown",
   "metadata": {},
   "source": [
    "## Old"
   ]
  },
  {
   "cell_type": "code",
   "execution_count": null,
   "metadata": {},
   "outputs": [],
   "source": [
    "# ### runs, but with too smal results \n",
    "\n",
    "# # ignore seetingswithcopy only for this cell. will be set back to warn at the end of the code \n",
    "# pd.options.mode.chained_assignment = None\n",
    "\n",
    "# # Define the conversion factor from meters to degrees based on the latitude\n",
    "# def meters_to_degrees(meters, latitude):\n",
    "#     proj_meters = pyproj.CRS(\"EPSG:3857\")  # meters\n",
    "#     proj_latlon = pyproj.CRS(\"EPSG:4326\")  # degrees\n",
    "#     transformer = pyproj.Transformer.from_crs(proj_meters, proj_latlon, always_xy=True)\n",
    "#     lon, lat = transformer.transform(meters, 0)\n",
    "#     lat_dist_per_deg = 111132.954 - 559.822 * math.cos(2 * math.radians(latitude)) + 1.175 * math.cos(4 * math.radians(latitude))\n",
    "#     lon_dist_per_deg = 111412.84 * math.cos(math.radians(latitude))\n",
    "#     lat_degrees = meters / lat_dist_per_deg\n",
    "#     lon_degrees = meters / lon_dist_per_deg\n",
    "#     return lat_degrees, lon_degrees\n",
    "\n",
    "\n",
    "# airbnb_test[\"closest_amenity\"] = \"\"\n",
    "\n",
    "\n",
    "# # Convert the airbnb_test DataFrame to a GeoDataFrame with a Point geometry column\n",
    "# airbnb_test_geo = gpd.GeoDataFrame(airbnb_test, geometry=gpd.points_from_xy(airbnb_test[\"longitude\"], airbnb_test[\"latitude\"]))\n",
    "\n",
    "# # Convert the street_test DataFrame to a GeoDataFrame with a Point geometry column\n",
    "# street_test_geo = gpd.GeoDataFrame(street_test, geometry=gpd.points_from_xy(street_test[\"longitude\"], street_test[\"latitude\"]))\n",
    "\n",
    "# # Create an R-tree spatial index for the street_test GeoDataFrame\n",
    "# street_test_sindex = street_test_geo.sindex\n",
    "\n",
    "# # Define the radius of the search in meters\n",
    "# radius_meters = 1_000\n",
    "\n",
    "# # Loop through each row in airbnb_test_geo\n",
    "# for index, row in airbnb_test_geo.iterrows():\n",
    "#     # Convert the radius from meters to degrees based on the latitude\n",
    "#     lat, lon = row[\"latitude\"], row[\"longitude\"]\n",
    "#     lat_deg, lon_deg = meters_to_degrees(radius_meters, lat)\n",
    "    \n",
    "#     # Use the R-tree spatial index to find the street_test rows within the search radius\n",
    "#     candidate_indices = list(street_test_sindex.intersection(row.geometry.buffer(lon_deg).bounds))\n",
    "\n",
    "#     # Filter the street_test rows to only those within the search radius\n",
    "#     candidate_rows = street_test_geo.iloc[candidate_indices]\n",
    "# #\n",
    "#     if len(candidate_rows) == 0:\n",
    "#         # No amenities within the search radius\n",
    "#         closest_amenity_distance = np.nan\n",
    "#     else:\n",
    "#         # Calculate the distances from the current Airbnb location to all the amenities in the search radius\n",
    "#         candidate_rows[\"distance\"] = candidate_rows.geometry.distance(row.geometry)\n",
    "\n",
    "#         # Sort the candidate rows by distance\n",
    "#         candidate_rows = candidate_rows.sort_values(\"distance\")\n",
    "\n",
    "#         # Find the closest amenity and its distance\n",
    "#         closest_amenity = candidate_rows[\"amenity\"].iloc[0]\n",
    "#         closest_amenity_distance = candidate_rows[\"distance\"].iloc[0]\n",
    "\n",
    "#     # Add the closest amenity and its distance as new columns in the airbnb_test DataFrame\n",
    "#     airbnb_test.at[index, \"closest_amenity\"] = closest_amenity\n",
    "#     airbnb_test.at[index, \"closest_amenity_distance_m\"] = closest_amenity_distance\n",
    "\n",
    "#     # Print progress\n",
    "#     if index % 10000 == 0:\n",
    "#         print(f\"Processed {index} rows\")\n",
    "\n",
    "# # set seetingswithcopy back only for this cell. will be set back to warn at the end of the code \n",
    "# pd.options.mode.chained_assignment = 'warn'\n"
   ]
  },
  {
   "cell_type": "code",
   "execution_count": null,
   "metadata": {},
   "outputs": [],
   "source": [
    "#airbnb_test.describe()"
   ]
  },
  {
   "cell_type": "code",
   "execution_count": null,
   "metadata": {},
   "outputs": [],
   "source": [
    "# ### runs, but with less accurate results, than in 4.1.\n",
    "\n",
    "# ### Number of amenities + liste \n",
    "\n",
    "# import geopandas as gpd\n",
    "# from shapely.geometry import Point\n",
    "# from shapely.ops import transform\n",
    "# from functools import partial\n",
    "# import pyproj\n",
    "# import math\n",
    "\n",
    "# # Define the conversion factor from meters to degrees based on the latitude\n",
    "# def meters_to_degrees(meters, latitude):\n",
    "#     proj_meters = pyproj.CRS(\"EPSG:3857\")  # meters\n",
    "#     proj_latlon = pyproj.CRS(\"EPSG:4326\")  # degrees\n",
    "#     transformer = pyproj.Transformer.from_crs(\n",
    "#         proj_meters, proj_latlon, always_xy=True)\n",
    "#     lon, lat = transformer.transform(meters, 0)\n",
    "\n",
    "#     # Calculate the distance per degree of latitude\n",
    "#     lat_dist_per_deg = 111132.954 - 559.822 * math.cos(2 * math.radians(latitude)) + 1.175 * math.cos(\n",
    "#         4 * math.radians(latitude)) - 0.0023 * math.cos(6 * math.radians(latitude))\n",
    "\n",
    "#     # Calculate the distance per degree of longitude\n",
    "#     lon_dist_per_deg = math.pi / 180 * 6378137 * \\\n",
    "#         math.cos(math.radians(latitude))\n",
    "\n",
    "#     lat_degrees = meters / lat_dist_per_deg\n",
    "#     lon_degrees = meters / lon_dist_per_deg\n",
    "#     return lat_degrees, lon_degrees\n",
    "\n",
    "\n",
    "# # Convert the airbnb_test DataFrame to a GeoDataFrame with a Point geometry column\n",
    "# airbnb_test_geo = gpd.GeoDataFrame(airbnb_test, geometry=gpd.points_from_xy(airbnb_test[\"longitude\"], airbnb_test[\"latitude\"]))\n",
    "\n",
    "# # Convert the street_test DataFrame to a GeoDataFrame with a Point geometry column\n",
    "# street_test_geo = gpd.GeoDataFrame(street_test, geometry=gpd.points_from_xy(street_test[\"longitude\"], street_test[\"latitude\"]))\n",
    "\n",
    "# # Create an R-tree spatial index for the street_test GeoDataFrame\n",
    "# street_test_sindex = street_test_geo.sindex\n",
    "\n",
    "# # Define the radius of the search in meters\n",
    "# radius_meters = 200\n",
    "\n",
    "# # Loop through each row in airbnb_test_geo\n",
    "# for index, row in airbnb_test_geo.iterrows():\n",
    "#     # Convert the radius from meters to degrees based on the latitude\n",
    "#     lat, lon = row[\"latitude\"], row[\"longitude\"]\n",
    "#     lat_deg, lon_deg = meters_to_degrees(radius_meters, lat)\n",
    "    \n",
    "#     # Use the R-tree spatial index to find the street_test rows within the search radius\n",
    "#     candidate_indices = list(street_test_sindex.intersection(row.geometry.buffer(lon_deg).bounds))\n",
    "\n",
    "#     # Filter the street_test rows to only those within the search radius\n",
    "#     candidate_rows = street_test_geo.iloc[candidate_indices]\n",
    "\n",
    "#     # Create an empty list to store the id's of street_test rows\n",
    "#     ids = []\n",
    "\n",
    "#     # Group the candidate rows by amenity and count the occurrences\n",
    "#     counts = candidate_rows.groupby(\"amenity\").size().to_dict()\n",
    "\n",
    "#     # Add the counts as new columns in the airbnb_test DataFrame\n",
    "#     for amenity_type, count in counts.items():\n",
    "#         airbnb_test.at[index, amenity_type] = count\n",
    "#         ids.extend(candidate_rows[candidate_rows[\"amenity\"] == amenity_type][\"id\"].tolist())\n",
    "\n",
    "#     # If there are no amenities in the given radius, append \"no amenities\" in the list of ids\n",
    "#     if not ids:\n",
    "#         ids.append(\"no amenities\")\n",
    "        \n",
    "#     # Add the list of ids as a new column in the airbnb_test DataFrame\n",
    "#     airbnb_test.at[index, \"street_test_ids\"] = str(ids)\n",
    "\n",
    "#     # Print progress\n",
    "#     if index % 10000 == 0:\n",
    "#         print(f\"Processed {index} rows\")\n",
    "\n",
    "# # Replace NaN values with 0\n",
    "# airbnb_test.fillna(value=0, inplace=True)\n",
    "\n"
   ]
  },
  {
   "cell_type": "code",
   "execution_count": null,
   "metadata": {},
   "outputs": [],
   "source": [
    "# ### Calculation of POI's in Area with Balltree (old, not working properly)\n",
    "\n",
    "# # Calculate the needed radius when converted to unit sphere.\n",
    "# distance_in_meter = 200\n",
    "# earth_radius_in_meter = 6_371_000\n",
    "\n",
    "# radius = distance_in_meter / earth_radius_in_meter\n",
    "\n",
    "# # Convert the latitude and longitude columns to radians\n",
    "# airbnb_test = airbnb_test.copy()\n",
    "# airbnb_test.loc[:, 'lat_rad'] = np.radians(airbnb_test['latitude'])\n",
    "# airbnb_test.loc[:, 'lon_rad'] = np.radians(airbnb_test['longitude'])\n",
    "# street_test = street_test.copy()\n",
    "# street_test.loc[:, 'lat_rad'] = np.radians(street_test['latitude'])\n",
    "# street_test.loc[:, 'lon_rad'] = np.radians(street_test['longitude'])\n",
    "\n",
    "# # Create a BallTree object with the latitude and longitude columns\n",
    "# tree = BallTree(street_test[['lat_rad', 'lon_rad']],\n",
    "#                 leaf_size=15, metric='haversine')\n",
    "\n",
    "# # Find the indices of all neighbors within a radius of 500 meters\n",
    "# # for each row in list_test\n",
    "# indices = tree.query_radius(\n",
    "#     airbnb_test[['lat_rad', 'lon_rad']], r=radius, count_only=False)\n",
    "\n",
    "# # Calculate the number of neighbors for each amenity type\n",
    "# amenity_types = street_test['amenity'].unique()\n",
    "# amenity_counts = np.zeros((airbnb_test.shape[0], amenity_types.shape[0]))\n",
    "# for i, amenity in enumerate(amenity_types):\n",
    "#     street_indices = street_test[street_test['amenity'] == amenity].index\n",
    "#     intersection_counts = np.array(\n",
    "#         [np.intersect1d(street_indices, idx).size for idx in indices])\n",
    "#     amenity_counts[:, i] = intersection_counts\n",
    "\n",
    "# # Add the new columns to list_test\n",
    "# list_test = pd.concat([airbnb_test, pd.DataFrame(amenity_counts, columns=[\n",
    "#                       f'num_neighbors_{amenity}' for amenity in amenity_types])], axis=1)\n",
    "\n",
    "# # Calculate the number of neighbors for each railway type\n",
    "# railway_types = street_test['railway'].unique()\n",
    "# railway_counts = np.zeros((list_test.shape[0], railway_types.shape[0]))\n",
    "# for i, railway in enumerate(railway_types):\n",
    "#     street_indices = street_test[street_test['railway'] == railway].index\n",
    "#     intersection_counts = np.array(\n",
    "#         [np.intersect1d(street_indices, idx).size for idx in indices])\n",
    "#     railway_counts[:, i] = intersection_counts\n",
    "\n",
    "# # Add the new columns to list_test\n",
    "# list_test = pd.concat([list_test, pd.DataFrame(railway_counts, columns=[\n",
    "#                       f'num_neighbors_{railway}' for railway in railway_types])], axis=1)\n",
    "\n",
    "\n",
    "# # Remove the temporary columns\n",
    "# list_test.drop(columns=['lat_rad', 'lon_rad'], inplace=True)\n",
    "# street_test.drop(columns=['lat_rad', 'lon_rad'], inplace=True)\n"
   ]
  },
  {
   "attachments": {},
   "cell_type": "markdown",
   "metadata": {},
   "source": [
    "### Nearest Station-old"
   ]
  },
  {
   "cell_type": "code",
   "execution_count": null,
   "metadata": {},
   "outputs": [],
   "source": [
    "# from haversine import haversine, Unit\n",
    "\n",
    "# # define a function to calculate distance between two points\n",
    "# def calc_distance(lat1, lon1, lat2, lon2):\n",
    "#     return haversine((lat1, lon1), (lat2, lon2), unit=Unit.METERS)\n",
    "\n",
    "# # get all unique values in \"tags.railway\" that are present in airbnb\n",
    "# railway_tags = airbnb[\"railway\"].unique()\n",
    "\n",
    "# # loop through each row in airbnb and calculate the minimum distance\n",
    "# # for each value in airbnb[\"railway\"]\n",
    "# for tag in railway_tags:\n",
    "#     distances = []\n",
    "#     for _, row in airbnb[airbnb[\"railway\"] == tag].iterrows():\n",
    "#         min_distance = None\n",
    "#         for _, sm_row in osm_short[osm_short[\"railway\"] == tag].iterrows():\n",
    "#             distance = calc_distance(row[\"latitude\"], row[\"longitude\"], sm_row[\"latitude\"], sm_row[\"longitude\"])\n",
    "#             if min_distance is None or distance < min_distance:\n",
    "#                 min_distance = distance\n",
    "#         distances.append(min_distance)\n",
    "\n",
    "#     # add the calculated minimum distances as a new column in airbnb\n",
    "#     col_name = \"min_distance_{}\".format(tag)\n",
    "#     airbnb.loc[airbnb[\"railway\"] == tag, col_name] = distances\n"
   ]
  },
  {
   "cell_type": "code",
   "execution_count": null,
   "metadata": {},
   "outputs": [],
   "source": [
    "from haversine import haversine, Unit\n",
    "\n",
    "# define a function to calculate distance between two points\n",
    "def calc_distance(lat1, lon1, lat2, lon2):\n",
    "    return haversine((lat1, lon1), (lat2, lon2), unit=Unit.METERS)\n",
    "\n",
    "# only one value in \"tags.railway\", so use it directly in the loop\n",
    "tag = \"restaurant\"\n",
    "\n",
    "distances = []\n",
    "for _, row in airbnb.iterrows():\n",
    "    min_distance = None\n",
    "    for _, sm_row in osm_short[osm_short[\"amenity\"] == tag].iterrows():\n",
    "        distance = calc_distance(row[\"latitude\"], row[\"longitude\"], sm_row[\"latitude\"], sm_row[\"longitude\"])\n",
    "        if min_distance is None or distance < min_distance:\n",
    "            min_distance = distance\n",
    "    distances.append(min_distance)\n",
    "\n",
    "# add the calculated minimum distances as a new column in airbnb\n",
    "col_name = \"min_distance_{}\".format(tag)\n",
    "airbnb[col_name] = distances\n"
   ]
  },
  {
   "attachments": {},
   "cell_type": "markdown",
   "metadata": {},
   "source": [
    "## Merging the google reviews"
   ]
  },
  {
   "cell_type": "code",
   "execution_count": 176,
   "metadata": {},
   "outputs": [],
   "source": [
    "from dotenv import dotenv_values\n",
    "from py_functions import get_dataframe\n",
    "from py_functions import get_engine\n",
    "import pandas as pd\n",
    "import sqlalchemy\n",
    "import psycopg2"
   ]
  },
  {
   "cell_type": "code",
   "execution_count": 177,
   "metadata": {},
   "outputs": [],
   "source": [
    "schema = 'hh_analytics_23_1'\n",
    "sql_query = f'select * from {schema}.g1_bar_reviews;'\n",
    "sql_query = f'select * from {schema}.g1_restaurant_reviews;'"
   ]
  },
  {
   "cell_type": "code",
   "execution_count": 3,
   "metadata": {},
   "outputs": [],
   "source": [
    "g1_bar_reviews = get_dataframe(sql_query)"
   ]
  },
  {
   "cell_type": "code",
   "execution_count": 4,
   "metadata": {},
   "outputs": [
    {
     "data": {
      "text/html": [
       "<div>\n",
       "<style scoped>\n",
       "    .dataframe tbody tr th:only-of-type {\n",
       "        vertical-align: middle;\n",
       "    }\n",
       "\n",
       "    .dataframe tbody tr th {\n",
       "        vertical-align: top;\n",
       "    }\n",
       "\n",
       "    .dataframe thead th {\n",
       "        text-align: right;\n",
       "    }\n",
       "</style>\n",
       "<table border=\"1\" class=\"dataframe\">\n",
       "  <thead>\n",
       "    <tr style=\"text-align: right;\">\n",
       "      <th></th>\n",
       "      <th>id</th>\n",
       "      <th>name</th>\n",
       "      <th>rating</th>\n",
       "      <th>reviews</th>\n",
       "      <th>price</th>\n",
       "      <th>closed</th>\n",
       "      <th>url</th>\n",
       "    </tr>\n",
       "  </thead>\n",
       "  <tbody>\n",
       "    <tr>\n",
       "      <th>0</th>\n",
       "      <td>451152</td>\n",
       "      <td>King of Prussia</td>\n",
       "      <td>4.5</td>\n",
       "      <td>291</td>\n",
       "      <td>None</td>\n",
       "      <td>false</td>\n",
       "      <td>http://maps.google.com/?q=King of Prussia+363 ...</td>\n",
       "    </tr>\n",
       "    <tr>\n",
       "      <th>1</th>\n",
       "      <td>451154</td>\n",
       "      <td>The Catcher in the Rye</td>\n",
       "      <td>4.2</td>\n",
       "      <td>811</td>\n",
       "      <td>€€</td>\n",
       "      <td>false</td>\n",
       "      <td>http://maps.google.com/?q=The Catcher in the R...</td>\n",
       "    </tr>\n",
       "    <tr>\n",
       "      <th>2</th>\n",
       "      <td>451271</td>\n",
       "      <td>The Tally Ho</td>\n",
       "      <td>4.0</td>\n",
       "      <td>1,330</td>\n",
       "      <td>€</td>\n",
       "      <td>false</td>\n",
       "      <td>http://maps.google.com/?q=The Tally Ho+749 Hig...</td>\n",
       "    </tr>\n",
       "    <tr>\n",
       "      <th>3</th>\n",
       "      <td>12243302</td>\n",
       "      <td>The George</td>\n",
       "      <td>4.1</td>\n",
       "      <td>1,678</td>\n",
       "      <td>€</td>\n",
       "      <td>false</td>\n",
       "      <td>http://maps.google.com/?q=The George+ High Str...</td>\n",
       "    </tr>\n",
       "    <tr>\n",
       "      <th>4</th>\n",
       "      <td>15262028</td>\n",
       "      <td>The Monkey Puzzle</td>\n",
       "      <td>4.5</td>\n",
       "      <td>1,502</td>\n",
       "      <td>€€</td>\n",
       "      <td>false</td>\n",
       "      <td>http://maps.google.com/?q=The Monkey Puzzle+30...</td>\n",
       "    </tr>\n",
       "  </tbody>\n",
       "</table>\n",
       "</div>"
      ],
      "text/plain": [
       "         id                    name rating reviews price closed  \\\n",
       "0    451152         King of Prussia    4.5     291  None  false   \n",
       "1    451154  The Catcher in the Rye    4.2     811    €€  false   \n",
       "2    451271            The Tally Ho    4.0   1,330     €  false   \n",
       "3  12243302              The George    4.1   1,678     €  false   \n",
       "4  15262028       The Monkey Puzzle    4.5   1,502    €€  false   \n",
       "\n",
       "                                                 url  \n",
       "0  http://maps.google.com/?q=King of Prussia+363 ...  \n",
       "1  http://maps.google.com/?q=The Catcher in the R...  \n",
       "2  http://maps.google.com/?q=The Tally Ho+749 Hig...  \n",
       "3  http://maps.google.com/?q=The George+ High Str...  \n",
       "4  http://maps.google.com/?q=The Monkey Puzzle+30...  "
      ]
     },
     "execution_count": 4,
     "metadata": {},
     "output_type": "execute_result"
    }
   ],
   "source": [
    "g1_bar_reviews.head()"
   ]
  },
  {
   "cell_type": "code",
   "execution_count": 151,
   "metadata": {},
   "outputs": [],
   "source": [
    "osm_vs_reviews = osm_very_short.merge(g1_bar_reviews[['rating', 'reviews', 'price', 'closed', 'id']], on='id', how='left')"
   ]
  },
  {
   "cell_type": "code",
   "execution_count": 164,
   "metadata": {},
   "outputs": [
    {
     "data": {
      "text/html": [
       "<div>\n",
       "<style scoped>\n",
       "    .dataframe tbody tr th:only-of-type {\n",
       "        vertical-align: middle;\n",
       "    }\n",
       "\n",
       "    .dataframe tbody tr th {\n",
       "        vertical-align: top;\n",
       "    }\n",
       "\n",
       "    .dataframe thead th {\n",
       "        text-align: right;\n",
       "    }\n",
       "</style>\n",
       "<table border=\"1\" class=\"dataframe\">\n",
       "  <thead>\n",
       "    <tr style=\"text-align: right;\">\n",
       "      <th></th>\n",
       "      <th>id</th>\n",
       "      <th>latitude</th>\n",
       "      <th>longitude</th>\n",
       "      <th>name</th>\n",
       "      <th>amenity</th>\n",
       "      <th>rating</th>\n",
       "      <th>reviews</th>\n",
       "      <th>price</th>\n",
       "      <th>closed</th>\n",
       "    </tr>\n",
       "  </thead>\n",
       "  <tbody>\n",
       "    <tr>\n",
       "      <th>0</th>\n",
       "      <td>451152</td>\n",
       "      <td>51.600840</td>\n",
       "      <td>-0.194608</td>\n",
       "      <td>King of Prussia</td>\n",
       "      <td>pub</td>\n",
       "      <td>4.5</td>\n",
       "      <td>291</td>\n",
       "      <td>None</td>\n",
       "      <td>false</td>\n",
       "    </tr>\n",
       "    <tr>\n",
       "      <th>1</th>\n",
       "      <td>451153</td>\n",
       "      <td>51.602031</td>\n",
       "      <td>-0.193503</td>\n",
       "      <td>Central Restaurant</td>\n",
       "      <td>restaurant</td>\n",
       "      <td>NaN</td>\n",
       "      <td>NaN</td>\n",
       "      <td>NaN</td>\n",
       "      <td>NaN</td>\n",
       "    </tr>\n",
       "    <tr>\n",
       "      <th>2</th>\n",
       "      <td>451154</td>\n",
       "      <td>51.599579</td>\n",
       "      <td>-0.196028</td>\n",
       "      <td>The Catcher in the Rye</td>\n",
       "      <td>pub</td>\n",
       "      <td>4.2</td>\n",
       "      <td>811</td>\n",
       "      <td>€€</td>\n",
       "      <td>false</td>\n",
       "    </tr>\n",
       "    <tr>\n",
       "      <th>3</th>\n",
       "      <td>451271</td>\n",
       "      <td>51.614104</td>\n",
       "      <td>-0.176556</td>\n",
       "      <td>The Tally Ho</td>\n",
       "      <td>pub</td>\n",
       "      <td>4.0</td>\n",
       "      <td>1,330</td>\n",
       "      <td>€</td>\n",
       "      <td>false</td>\n",
       "    </tr>\n",
       "    <tr>\n",
       "      <th>4</th>\n",
       "      <td>12242503</td>\n",
       "      <td>51.592016</td>\n",
       "      <td>0.027962</td>\n",
       "      <td>Railway Bell</td>\n",
       "      <td>pub</td>\n",
       "      <td>NaN</td>\n",
       "      <td>NaN</td>\n",
       "      <td>NaN</td>\n",
       "      <td>NaN</td>\n",
       "    </tr>\n",
       "  </tbody>\n",
       "</table>\n",
       "</div>"
      ],
      "text/plain": [
       "         id   latitude  longitude                    name     amenity rating  \\\n",
       "0    451152  51.600840  -0.194608         King of Prussia         pub    4.5   \n",
       "1    451153  51.602031  -0.193503      Central Restaurant  restaurant    NaN   \n",
       "2    451154  51.599579  -0.196028  The Catcher in the Rye         pub    4.2   \n",
       "3    451271  51.614104  -0.176556            The Tally Ho         pub    4.0   \n",
       "4  12242503  51.592016   0.027962            Railway Bell         pub    NaN   \n",
       "\n",
       "  reviews price closed  \n",
       "0     291  None  false  \n",
       "1     NaN   NaN    NaN  \n",
       "2     811    €€  false  \n",
       "3   1,330     €  false  \n",
       "4     NaN   NaN    NaN  "
      ]
     },
     "execution_count": 164,
     "metadata": {},
     "output_type": "execute_result"
    }
   ],
   "source": [
    "osm_vs_reviews.head()"
   ]
  },
  {
   "cell_type": "code",
   "execution_count": 168,
   "metadata": {},
   "outputs": [],
   "source": [
    "osm_vs_reviews = osm_vs_reviews.drop(osm_vs_reviews[osm_vs_reviews['name'].isna()].index)"
   ]
  },
  {
   "cell_type": "code",
   "execution_count": 173,
   "metadata": {},
   "outputs": [
    {
     "data": {
      "text/plain": [
       "(25095, 9)"
      ]
     },
     "execution_count": 173,
     "metadata": {},
     "output_type": "execute_result"
    }
   ],
   "source": [
    "osm_vs_reviews.shape"
   ]
  },
  {
   "cell_type": "code",
   "execution_count": 174,
   "metadata": {},
   "outputs": [],
   "source": [
    "osm_vs_reviews['amenity'] = osm_vs_reviews['amenity'].str.replace('pub', 'bar')"
   ]
  },
  {
   "cell_type": "code",
   "execution_count": 175,
   "metadata": {},
   "outputs": [
    {
     "data": {
      "text/html": [
       "<div>\n",
       "<style scoped>\n",
       "    .dataframe tbody tr th:only-of-type {\n",
       "        vertical-align: middle;\n",
       "    }\n",
       "\n",
       "    .dataframe tbody tr th {\n",
       "        vertical-align: top;\n",
       "    }\n",
       "\n",
       "    .dataframe thead th {\n",
       "        text-align: right;\n",
       "    }\n",
       "</style>\n",
       "<table border=\"1\" class=\"dataframe\">\n",
       "  <thead>\n",
       "    <tr style=\"text-align: right;\">\n",
       "      <th></th>\n",
       "      <th>id</th>\n",
       "      <th>latitude</th>\n",
       "      <th>longitude</th>\n",
       "      <th>name</th>\n",
       "      <th>amenity</th>\n",
       "      <th>rating</th>\n",
       "      <th>reviews</th>\n",
       "      <th>price</th>\n",
       "      <th>closed</th>\n",
       "    </tr>\n",
       "  </thead>\n",
       "  <tbody>\n",
       "    <tr>\n",
       "      <th>0</th>\n",
       "      <td>451152</td>\n",
       "      <td>51.600840</td>\n",
       "      <td>-0.194608</td>\n",
       "      <td>King of Prussia</td>\n",
       "      <td>bar</td>\n",
       "      <td>4.5</td>\n",
       "      <td>291</td>\n",
       "      <td>None</td>\n",
       "      <td>false</td>\n",
       "    </tr>\n",
       "    <tr>\n",
       "      <th>1</th>\n",
       "      <td>451153</td>\n",
       "      <td>51.602031</td>\n",
       "      <td>-0.193503</td>\n",
       "      <td>Central Restaurant</td>\n",
       "      <td>restaurant</td>\n",
       "      <td>NaN</td>\n",
       "      <td>NaN</td>\n",
       "      <td>NaN</td>\n",
       "      <td>NaN</td>\n",
       "    </tr>\n",
       "    <tr>\n",
       "      <th>2</th>\n",
       "      <td>451154</td>\n",
       "      <td>51.599579</td>\n",
       "      <td>-0.196028</td>\n",
       "      <td>The Catcher in the Rye</td>\n",
       "      <td>bar</td>\n",
       "      <td>4.2</td>\n",
       "      <td>811</td>\n",
       "      <td>€€</td>\n",
       "      <td>false</td>\n",
       "    </tr>\n",
       "    <tr>\n",
       "      <th>3</th>\n",
       "      <td>451271</td>\n",
       "      <td>51.614104</td>\n",
       "      <td>-0.176556</td>\n",
       "      <td>The Tally Ho</td>\n",
       "      <td>bar</td>\n",
       "      <td>4.0</td>\n",
       "      <td>1,330</td>\n",
       "      <td>€</td>\n",
       "      <td>false</td>\n",
       "    </tr>\n",
       "    <tr>\n",
       "      <th>4</th>\n",
       "      <td>12242503</td>\n",
       "      <td>51.592016</td>\n",
       "      <td>0.027962</td>\n",
       "      <td>Railway Bell</td>\n",
       "      <td>bar</td>\n",
       "      <td>NaN</td>\n",
       "      <td>NaN</td>\n",
       "      <td>NaN</td>\n",
       "      <td>NaN</td>\n",
       "    </tr>\n",
       "  </tbody>\n",
       "</table>\n",
       "</div>"
      ],
      "text/plain": [
       "         id   latitude  longitude                    name     amenity rating  \\\n",
       "0    451152  51.600840  -0.194608         King of Prussia         bar    4.5   \n",
       "1    451153  51.602031  -0.193503      Central Restaurant  restaurant    NaN   \n",
       "2    451154  51.599579  -0.196028  The Catcher in the Rye         bar    4.2   \n",
       "3    451271  51.614104  -0.176556            The Tally Ho         bar    4.0   \n",
       "4  12242503  51.592016   0.027962            Railway Bell         bar    NaN   \n",
       "\n",
       "  reviews price closed  \n",
       "0     291  None  false  \n",
       "1     NaN   NaN    NaN  \n",
       "2     811    €€  false  \n",
       "3   1,330     €  false  \n",
       "4     NaN   NaN    NaN  "
      ]
     },
     "execution_count": 175,
     "metadata": {},
     "output_type": "execute_result"
    }
   ],
   "source": [
    "osm_vs_reviews.head()"
   ]
  },
  {
   "cell_type": "code",
   "execution_count": null,
   "metadata": {},
   "outputs": [],
   "source": []
  }
 ],
 "metadata": {
  "kernelspec": {
   "display_name": "nf_base",
   "language": "python",
   "name": "python3"
  },
  "language_info": {
   "codemirror_mode": {
    "name": "ipython",
    "version": 3
   },
   "file_extension": ".py",
   "mimetype": "text/x-python",
   "name": "python",
   "nbconvert_exporter": "python",
   "pygments_lexer": "ipython3",
   "version": "3.9.16"
  },
  "orig_nbformat": 4,
  "vscode": {
   "interpreter": {
    "hash": "ab3d85a18739f6fff6a9c8c504adc2ff9340867b576dede986e2ee74c099e4e5"
   }
  }
 },
 "nbformat": 4,
 "nbformat_minor": 2
}
