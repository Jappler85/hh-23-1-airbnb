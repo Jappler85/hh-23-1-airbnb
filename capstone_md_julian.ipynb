{
 "cells": [
  {
   "attachments": {},
   "cell_type": "markdown",
   "metadata": {},
   "source": [
    "# Airbnb Capstone Project"
   ]
  },
  {
   "attachments": {},
   "cell_type": "markdown",
   "metadata": {},
   "source": [
    "## 1.Import all Libraries"
   ]
  },
  {
   "cell_type": "code",
   "execution_count": 1,
   "metadata": {},
   "outputs": [],
   "source": [
    "### import all libraries and set settings \n",
    "import pandas as pd\n",
    "import numpy as np\n",
    "import requests\n",
    "import json\n",
    "import gzip\n",
    "from py_functions import increase_bbox \n",
    "\n",
    "pd.set_option('display.max_columns', None) # show all columns  "
   ]
  },
  {
   "attachments": {},
   "cell_type": "markdown",
   "metadata": {},
   "source": [
    "## 2.Inside Airbnb pipeline"
   ]
  },
  {
   "cell_type": "code",
   "execution_count": 2,
   "metadata": {},
   "outputs": [],
   "source": [
    "### Define path, .gz archive file name, country and city for url\n",
    "path ='data/'\n",
    "gz_file = \"listings.csv.gz\"\n",
    "country = \"united-kingdom\"\n",
    "state = \"england\"\n",
    "city = \"london\"\n",
    "url = f\"http://data.insideairbnb.com/{country}/{state}/{city}/2023-03-14/data/{gz_file}\""
   ]
  },
  {
   "cell_type": "code",
   "execution_count": 4,
   "metadata": {},
   "outputs": [
    {
     "name": "stdout",
     "output_type": "stream",
     "text": [
      "mkdir: data/london: File exists\n"
     ]
    }
   ],
   "source": [
    "### Create new directory for city\n",
    "!mkdir {path}{city}"
   ]
  },
  {
   "cell_type": "code",
   "execution_count": 38,
   "metadata": {},
   "outputs": [],
   "source": [
    "### Download the .gz file\n",
    "r = requests.get(url)\n",
    "with open(path+city+'/'+gz_file, 'wb') as f:\n",
    "    f.write(r.content)"
   ]
  },
  {
   "cell_type": "code",
   "execution_count": 3,
   "metadata": {},
   "outputs": [],
   "source": [
    "### Unzip the .gz file and save the content as pd.DataFrame via read_csv\n",
    "with gzip.open(path+city+'/'+gz_file) as f:\n",
    "    listings = pd.read_csv(f)\n"
   ]
  },
  {
   "cell_type": "code",
   "execution_count": 4,
   "metadata": {},
   "outputs": [],
   "source": [
    "### select only desired columns \n",
    "columns_keeper = ([\"id\",\n",
    "                   \"listing_url\",\n",
    "                   \"name\",\n",
    "                   \"picture_url\",\n",
    "                   \"host_id\",\n",
    "                   \"host_response_rate\",\n",
    "                   \"host_acceptance_rate\",\n",
    "                   \"host_is_superhost\",\n",
    "                   \"host_listings_count\",\n",
    "                   \"host_total_listings_count\",\n",
    "                   \"neighbourhood_cleansed\",\n",
    "                   \"latitude\",\n",
    "                   \"longitude\",\n",
    "                   \"room_type\",\n",
    "                   \"accommodates\",\n",
    "                   \"bathrooms_text\",\n",
    "                   \"bedrooms\",\n",
    "                   \"beds\",\n",
    "                   \"amenities\",\n",
    "                   \"price\",\n",
    "                   \"minimum_nights\",\n",
    "                   \"maximum_nights\",\n",
    "                   \"instant_bookable\",\n",
    "                   \"number_of_reviews\",\n",
    "                   \"number_of_reviews_ltm\",\n",
    "                   \"number_of_reviews_l30d\",\n",
    "                   \"first_review\",\n",
    "                   \"last_review\",\n",
    "                   \"review_scores_rating\",\n",
    "                   \"review_scores_accuracy\",\n",
    "                   \"review_scores_cleanliness\",\n",
    "                   \"review_scores_checkin\",\n",
    "                   \"review_scores_communication\",\n",
    "                   \"review_scores_location\",\n",
    "                   \"review_scores_value\",\n",
    "                   \"reviews_per_month\"]\n",
    "                  )"
   ]
  },
  {
   "cell_type": "code",
   "execution_count": 5,
   "metadata": {},
   "outputs": [],
   "source": [
    "### filter columns \n",
    "listings_short = listings[columns_keeper]"
   ]
  },
  {
   "attachments": {},
   "cell_type": "markdown",
   "metadata": {},
   "source": [
    "### 2.2.First Look - Airbnb Data"
   ]
  },
  {
   "cell_type": "code",
   "execution_count": 6,
   "metadata": {},
   "outputs": [
    {
     "data": {
      "text/html": [
       "<div>\n",
       "<style scoped>\n",
       "    .dataframe tbody tr th:only-of-type {\n",
       "        vertical-align: middle;\n",
       "    }\n",
       "\n",
       "    .dataframe tbody tr th {\n",
       "        vertical-align: top;\n",
       "    }\n",
       "\n",
       "    .dataframe thead th {\n",
       "        text-align: right;\n",
       "    }\n",
       "</style>\n",
       "<table border=\"1\" class=\"dataframe\">\n",
       "  <thead>\n",
       "    <tr style=\"text-align: right;\">\n",
       "      <th></th>\n",
       "      <th>id</th>\n",
       "      <th>listing_url</th>\n",
       "      <th>name</th>\n",
       "      <th>picture_url</th>\n",
       "      <th>host_id</th>\n",
       "      <th>host_response_rate</th>\n",
       "      <th>host_acceptance_rate</th>\n",
       "      <th>host_is_superhost</th>\n",
       "      <th>host_listings_count</th>\n",
       "      <th>host_total_listings_count</th>\n",
       "      <th>neighbourhood_cleansed</th>\n",
       "      <th>latitude</th>\n",
       "      <th>longitude</th>\n",
       "      <th>room_type</th>\n",
       "      <th>accommodates</th>\n",
       "      <th>bathrooms_text</th>\n",
       "      <th>bedrooms</th>\n",
       "      <th>beds</th>\n",
       "      <th>amenities</th>\n",
       "      <th>price</th>\n",
       "      <th>minimum_nights</th>\n",
       "      <th>maximum_nights</th>\n",
       "      <th>instant_bookable</th>\n",
       "      <th>number_of_reviews</th>\n",
       "      <th>number_of_reviews_ltm</th>\n",
       "      <th>number_of_reviews_l30d</th>\n",
       "      <th>first_review</th>\n",
       "      <th>last_review</th>\n",
       "      <th>review_scores_rating</th>\n",
       "      <th>review_scores_accuracy</th>\n",
       "      <th>review_scores_cleanliness</th>\n",
       "      <th>review_scores_checkin</th>\n",
       "      <th>review_scores_communication</th>\n",
       "      <th>review_scores_location</th>\n",
       "      <th>review_scores_value</th>\n",
       "      <th>reviews_per_month</th>\n",
       "    </tr>\n",
       "  </thead>\n",
       "  <tbody>\n",
       "    <tr>\n",
       "      <th>0</th>\n",
       "      <td>714569379355913481</td>\n",
       "      <td>https://www.airbnb.com/rooms/714569379355913481</td>\n",
       "      <td>Lovely private bedroom in Muswell Hill.</td>\n",
       "      <td>https://a0.muscache.com/pictures/miso/Hosting-...</td>\n",
       "      <td>39009854</td>\n",
       "      <td>NaN</td>\n",
       "      <td>NaN</td>\n",
       "      <td>f</td>\n",
       "      <td>1.0</td>\n",
       "      <td>1.0</td>\n",
       "      <td>Haringey</td>\n",
       "      <td>51.597280</td>\n",
       "      <td>-0.139330</td>\n",
       "      <td>Private room</td>\n",
       "      <td>1</td>\n",
       "      <td>1 shared bath</td>\n",
       "      <td>1.0</td>\n",
       "      <td>1.0</td>\n",
       "      <td>[\"Iron\", \"Hangers\", \"Hair dryer\", \"Outdoor din...</td>\n",
       "      <td>$100.00</td>\n",
       "      <td>1</td>\n",
       "      <td>365</td>\n",
       "      <td>f</td>\n",
       "      <td>0</td>\n",
       "      <td>0</td>\n",
       "      <td>0</td>\n",
       "      <td>NaN</td>\n",
       "      <td>NaN</td>\n",
       "      <td>NaN</td>\n",
       "      <td>NaN</td>\n",
       "      <td>NaN</td>\n",
       "      <td>NaN</td>\n",
       "      <td>NaN</td>\n",
       "      <td>NaN</td>\n",
       "      <td>NaN</td>\n",
       "      <td>NaN</td>\n",
       "    </tr>\n",
       "    <tr>\n",
       "      <th>1</th>\n",
       "      <td>808038970516277767</td>\n",
       "      <td>https://www.airbnb.com/rooms/808038970516277767</td>\n",
       "      <td>Studio Flat  Franklin London</td>\n",
       "      <td>https://a0.muscache.com/pictures/miso/Hosting-...</td>\n",
       "      <td>495977998</td>\n",
       "      <td>100%</td>\n",
       "      <td>100%</td>\n",
       "      <td>f</td>\n",
       "      <td>14.0</td>\n",
       "      <td>31.0</td>\n",
       "      <td>Barnet</td>\n",
       "      <td>51.636518</td>\n",
       "      <td>-0.177475</td>\n",
       "      <td>Entire home/apt</td>\n",
       "      <td>1</td>\n",
       "      <td>1 bath</td>\n",
       "      <td>1.0</td>\n",
       "      <td>1.0</td>\n",
       "      <td>[]</td>\n",
       "      <td>$65.00</td>\n",
       "      <td>180</td>\n",
       "      <td>365</td>\n",
       "      <td>t</td>\n",
       "      <td>0</td>\n",
       "      <td>0</td>\n",
       "      <td>0</td>\n",
       "      <td>NaN</td>\n",
       "      <td>NaN</td>\n",
       "      <td>NaN</td>\n",
       "      <td>NaN</td>\n",
       "      <td>NaN</td>\n",
       "      <td>NaN</td>\n",
       "      <td>NaN</td>\n",
       "      <td>NaN</td>\n",
       "      <td>NaN</td>\n",
       "      <td>NaN</td>\n",
       "    </tr>\n",
       "    <tr>\n",
       "      <th>2</th>\n",
       "      <td>822557738577472503</td>\n",
       "      <td>https://www.airbnb.com/rooms/822557738577472503</td>\n",
       "      <td>PropertyPlug - 2Bed Flat in Edgware SmartTV WiFi</td>\n",
       "      <td>https://a0.muscache.com/pictures/d77957d5-695a...</td>\n",
       "      <td>325629338</td>\n",
       "      <td>100%</td>\n",
       "      <td>91%</td>\n",
       "      <td>t</td>\n",
       "      <td>4.0</td>\n",
       "      <td>8.0</td>\n",
       "      <td>Harrow</td>\n",
       "      <td>51.608180</td>\n",
       "      <td>-0.277400</td>\n",
       "      <td>Entire home/apt</td>\n",
       "      <td>4</td>\n",
       "      <td>2 baths</td>\n",
       "      <td>2.0</td>\n",
       "      <td>2.0</td>\n",
       "      <td>[\"Dining table\", \"Washer\", \"Outdoor furniture\"...</td>\n",
       "      <td>$132.00</td>\n",
       "      <td>2</td>\n",
       "      <td>28</td>\n",
       "      <td>t</td>\n",
       "      <td>0</td>\n",
       "      <td>0</td>\n",
       "      <td>0</td>\n",
       "      <td>NaN</td>\n",
       "      <td>NaN</td>\n",
       "      <td>NaN</td>\n",
       "      <td>NaN</td>\n",
       "      <td>NaN</td>\n",
       "      <td>NaN</td>\n",
       "      <td>NaN</td>\n",
       "      <td>NaN</td>\n",
       "      <td>NaN</td>\n",
       "      <td>NaN</td>\n",
       "    </tr>\n",
       "    <tr>\n",
       "      <th>3</th>\n",
       "      <td>3518856</td>\n",
       "      <td>https://www.airbnb.com/rooms/3518856</td>\n",
       "      <td>Wimbledon Double Bedroom Ensuite</td>\n",
       "      <td>https://a0.muscache.com/pictures/23a18442-fc1d...</td>\n",
       "      <td>187811</td>\n",
       "      <td>NaN</td>\n",
       "      <td>100%</td>\n",
       "      <td>f</td>\n",
       "      <td>2.0</td>\n",
       "      <td>5.0</td>\n",
       "      <td>Merton</td>\n",
       "      <td>51.422310</td>\n",
       "      <td>-0.188410</td>\n",
       "      <td>Private room</td>\n",
       "      <td>1</td>\n",
       "      <td>1 private bath</td>\n",
       "      <td>1.0</td>\n",
       "      <td>1.0</td>\n",
       "      <td>[\"Washer\", \"Iron\", \"Hangers\", \"Kitchen\", \"Smok...</td>\n",
       "      <td>$100.00</td>\n",
       "      <td>5</td>\n",
       "      <td>1125</td>\n",
       "      <td>f</td>\n",
       "      <td>4</td>\n",
       "      <td>0</td>\n",
       "      <td>0</td>\n",
       "      <td>2015-12-27</td>\n",
       "      <td>2016-07-11</td>\n",
       "      <td>3.67</td>\n",
       "      <td>3.0</td>\n",
       "      <td>4.33</td>\n",
       "      <td>4.67</td>\n",
       "      <td>5.0</td>\n",
       "      <td>3.67</td>\n",
       "      <td>3.67</td>\n",
       "      <td>0.05</td>\n",
       "    </tr>\n",
       "    <tr>\n",
       "      <th>4</th>\n",
       "      <td>4876550</td>\n",
       "      <td>https://www.airbnb.com/rooms/4876550</td>\n",
       "      <td>Stunning Apartment 2 minutes walk to Tube Station</td>\n",
       "      <td>https://a0.muscache.com/pictures/miso/Hosting-...</td>\n",
       "      <td>25087384</td>\n",
       "      <td>75%</td>\n",
       "      <td>46%</td>\n",
       "      <td>f</td>\n",
       "      <td>1.0</td>\n",
       "      <td>1.0</td>\n",
       "      <td>Barnet</td>\n",
       "      <td>51.602282</td>\n",
       "      <td>-0.193606</td>\n",
       "      <td>Entire home/apt</td>\n",
       "      <td>2</td>\n",
       "      <td>1 bath</td>\n",
       "      <td>1.0</td>\n",
       "      <td>1.0</td>\n",
       "      <td>[\"First aid kit\", \"Washer\", \"Fire extinguisher...</td>\n",
       "      <td>$120.00</td>\n",
       "      <td>5</td>\n",
       "      <td>90</td>\n",
       "      <td>f</td>\n",
       "      <td>0</td>\n",
       "      <td>0</td>\n",
       "      <td>0</td>\n",
       "      <td>NaN</td>\n",
       "      <td>NaN</td>\n",
       "      <td>NaN</td>\n",
       "      <td>NaN</td>\n",
       "      <td>NaN</td>\n",
       "      <td>NaN</td>\n",
       "      <td>NaN</td>\n",
       "      <td>NaN</td>\n",
       "      <td>NaN</td>\n",
       "      <td>NaN</td>\n",
       "    </tr>\n",
       "  </tbody>\n",
       "</table>\n",
       "</div>"
      ],
      "text/plain": [
       "                   id                                      listing_url  \\\n",
       "0  714569379355913481  https://www.airbnb.com/rooms/714569379355913481   \n",
       "1  808038970516277767  https://www.airbnb.com/rooms/808038970516277767   \n",
       "2  822557738577472503  https://www.airbnb.com/rooms/822557738577472503   \n",
       "3             3518856             https://www.airbnb.com/rooms/3518856   \n",
       "4             4876550             https://www.airbnb.com/rooms/4876550   \n",
       "\n",
       "                                                name  \\\n",
       "0            Lovely private bedroom in Muswell Hill.   \n",
       "1                       Studio Flat  Franklin London   \n",
       "2   PropertyPlug - 2Bed Flat in Edgware SmartTV WiFi   \n",
       "3                   Wimbledon Double Bedroom Ensuite   \n",
       "4  Stunning Apartment 2 minutes walk to Tube Station   \n",
       "\n",
       "                                         picture_url    host_id  \\\n",
       "0  https://a0.muscache.com/pictures/miso/Hosting-...   39009854   \n",
       "1  https://a0.muscache.com/pictures/miso/Hosting-...  495977998   \n",
       "2  https://a0.muscache.com/pictures/d77957d5-695a...  325629338   \n",
       "3  https://a0.muscache.com/pictures/23a18442-fc1d...     187811   \n",
       "4  https://a0.muscache.com/pictures/miso/Hosting-...   25087384   \n",
       "\n",
       "  host_response_rate host_acceptance_rate host_is_superhost  \\\n",
       "0                NaN                  NaN                 f   \n",
       "1               100%                 100%                 f   \n",
       "2               100%                  91%                 t   \n",
       "3                NaN                 100%                 f   \n",
       "4                75%                  46%                 f   \n",
       "\n",
       "   host_listings_count  host_total_listings_count neighbourhood_cleansed  \\\n",
       "0                  1.0                        1.0               Haringey   \n",
       "1                 14.0                       31.0                 Barnet   \n",
       "2                  4.0                        8.0                 Harrow   \n",
       "3                  2.0                        5.0                 Merton   \n",
       "4                  1.0                        1.0                 Barnet   \n",
       "\n",
       "    latitude  longitude        room_type  accommodates  bathrooms_text  \\\n",
       "0  51.597280  -0.139330     Private room             1   1 shared bath   \n",
       "1  51.636518  -0.177475  Entire home/apt             1          1 bath   \n",
       "2  51.608180  -0.277400  Entire home/apt             4         2 baths   \n",
       "3  51.422310  -0.188410     Private room             1  1 private bath   \n",
       "4  51.602282  -0.193606  Entire home/apt             2          1 bath   \n",
       "\n",
       "   bedrooms  beds                                          amenities    price  \\\n",
       "0       1.0   1.0  [\"Iron\", \"Hangers\", \"Hair dryer\", \"Outdoor din...  $100.00   \n",
       "1       1.0   1.0                                                 []   $65.00   \n",
       "2       2.0   2.0  [\"Dining table\", \"Washer\", \"Outdoor furniture\"...  $132.00   \n",
       "3       1.0   1.0  [\"Washer\", \"Iron\", \"Hangers\", \"Kitchen\", \"Smok...  $100.00   \n",
       "4       1.0   1.0  [\"First aid kit\", \"Washer\", \"Fire extinguisher...  $120.00   \n",
       "\n",
       "   minimum_nights  maximum_nights instant_bookable  number_of_reviews  \\\n",
       "0               1             365                f                  0   \n",
       "1             180             365                t                  0   \n",
       "2               2              28                t                  0   \n",
       "3               5            1125                f                  4   \n",
       "4               5              90                f                  0   \n",
       "\n",
       "   number_of_reviews_ltm  number_of_reviews_l30d first_review last_review  \\\n",
       "0                      0                       0          NaN         NaN   \n",
       "1                      0                       0          NaN         NaN   \n",
       "2                      0                       0          NaN         NaN   \n",
       "3                      0                       0   2015-12-27  2016-07-11   \n",
       "4                      0                       0          NaN         NaN   \n",
       "\n",
       "   review_scores_rating  review_scores_accuracy  review_scores_cleanliness  \\\n",
       "0                   NaN                     NaN                        NaN   \n",
       "1                   NaN                     NaN                        NaN   \n",
       "2                   NaN                     NaN                        NaN   \n",
       "3                  3.67                     3.0                       4.33   \n",
       "4                   NaN                     NaN                        NaN   \n",
       "\n",
       "   review_scores_checkin  review_scores_communication  review_scores_location  \\\n",
       "0                    NaN                          NaN                     NaN   \n",
       "1                    NaN                          NaN                     NaN   \n",
       "2                    NaN                          NaN                     NaN   \n",
       "3                   4.67                          5.0                    3.67   \n",
       "4                    NaN                          NaN                     NaN   \n",
       "\n",
       "   review_scores_value  reviews_per_month  \n",
       "0                  NaN                NaN  \n",
       "1                  NaN                NaN  \n",
       "2                  NaN                NaN  \n",
       "3                 3.67               0.05  \n",
       "4                  NaN                NaN  "
      ]
     },
     "execution_count": 6,
     "metadata": {},
     "output_type": "execute_result"
    }
   ],
   "source": [
    "listings_short.head()"
   ]
  },
  {
   "cell_type": "code",
   "execution_count": 7,
   "metadata": {},
   "outputs": [
    {
     "name": "stdout",
     "output_type": "stream",
     "text": [
      "<class 'pandas.core.frame.DataFrame'>\n",
      "RangeIndex: 75241 entries, 0 to 75240\n",
      "Data columns (total 36 columns):\n",
      " #   Column                       Non-Null Count  Dtype  \n",
      "---  ------                       --------------  -----  \n",
      " 0   id                           75241 non-null  int64  \n",
      " 1   listing_url                  75241 non-null  object \n",
      " 2   name                         75210 non-null  object \n",
      " 3   picture_url                  75241 non-null  object \n",
      " 4   host_id                      75241 non-null  int64  \n",
      " 5   host_response_rate           46285 non-null  object \n",
      " 6   host_acceptance_rate         51028 non-null  object \n",
      " 7   host_is_superhost            75223 non-null  object \n",
      " 8   host_listings_count          75236 non-null  float64\n",
      " 9   host_total_listings_count    75236 non-null  float64\n",
      " 10  neighbourhood_cleansed       75241 non-null  object \n",
      " 11  latitude                     75241 non-null  float64\n",
      " 12  longitude                    75241 non-null  float64\n",
      " 13  room_type                    75241 non-null  object \n",
      " 14  accommodates                 75241 non-null  int64  \n",
      " 15  bathrooms_text               75117 non-null  object \n",
      " 16  bedrooms                     71768 non-null  float64\n",
      " 17  beds                         74135 non-null  float64\n",
      " 18  amenities                    75241 non-null  object \n",
      " 19  price                        75241 non-null  object \n",
      " 20  minimum_nights               75241 non-null  int64  \n",
      " 21  maximum_nights               75241 non-null  int64  \n",
      " 22  instant_bookable             75241 non-null  object \n",
      " 23  number_of_reviews            75241 non-null  int64  \n",
      " 24  number_of_reviews_ltm        75241 non-null  int64  \n",
      " 25  number_of_reviews_l30d       75241 non-null  int64  \n",
      " 26  first_review                 56548 non-null  object \n",
      " 27  last_review                  56548 non-null  object \n",
      " 28  review_scores_rating         56548 non-null  float64\n",
      " 29  review_scores_accuracy       55595 non-null  float64\n",
      " 30  review_scores_cleanliness    55606 non-null  float64\n",
      " 31  review_scores_checkin        55564 non-null  float64\n",
      " 32  review_scores_communication  55592 non-null  float64\n",
      " 33  review_scores_location       55565 non-null  float64\n",
      " 34  review_scores_value          55562 non-null  float64\n",
      " 35  reviews_per_month            56548 non-null  float64\n",
      "dtypes: float64(14), int64(8), object(14)\n",
      "memory usage: 20.7+ MB\n"
     ]
    }
   ],
   "source": [
    "listings_short.info()"
   ]
  },
  {
   "cell_type": "code",
   "execution_count": 8,
   "metadata": {},
   "outputs": [
    {
     "data": {
      "text/html": [
       "<div>\n",
       "<style scoped>\n",
       "    .dataframe tbody tr th:only-of-type {\n",
       "        vertical-align: middle;\n",
       "    }\n",
       "\n",
       "    .dataframe tbody tr th {\n",
       "        vertical-align: top;\n",
       "    }\n",
       "\n",
       "    .dataframe thead th {\n",
       "        text-align: right;\n",
       "    }\n",
       "</style>\n",
       "<table border=\"1\" class=\"dataframe\">\n",
       "  <thead>\n",
       "    <tr style=\"text-align: right;\">\n",
       "      <th></th>\n",
       "      <th>id</th>\n",
       "      <th>host_id</th>\n",
       "      <th>host_listings_count</th>\n",
       "      <th>host_total_listings_count</th>\n",
       "      <th>latitude</th>\n",
       "      <th>longitude</th>\n",
       "      <th>accommodates</th>\n",
       "      <th>bedrooms</th>\n",
       "      <th>beds</th>\n",
       "      <th>minimum_nights</th>\n",
       "      <th>maximum_nights</th>\n",
       "      <th>number_of_reviews</th>\n",
       "      <th>number_of_reviews_ltm</th>\n",
       "      <th>number_of_reviews_l30d</th>\n",
       "      <th>review_scores_rating</th>\n",
       "      <th>review_scores_accuracy</th>\n",
       "      <th>review_scores_cleanliness</th>\n",
       "      <th>review_scores_checkin</th>\n",
       "      <th>review_scores_communication</th>\n",
       "      <th>review_scores_location</th>\n",
       "      <th>review_scores_value</th>\n",
       "      <th>reviews_per_month</th>\n",
       "    </tr>\n",
       "  </thead>\n",
       "  <tbody>\n",
       "    <tr>\n",
       "      <th>count</th>\n",
       "      <td>7.524100e+04</td>\n",
       "      <td>7.524100e+04</td>\n",
       "      <td>75236.000000</td>\n",
       "      <td>75236.000000</td>\n",
       "      <td>75241.000000</td>\n",
       "      <td>75241.000000</td>\n",
       "      <td>75241.000000</td>\n",
       "      <td>71768.000000</td>\n",
       "      <td>74135.000000</td>\n",
       "      <td>75241.000000</td>\n",
       "      <td>7.524100e+04</td>\n",
       "      <td>75241.000000</td>\n",
       "      <td>75241.000000</td>\n",
       "      <td>75241.000000</td>\n",
       "      <td>56548.000000</td>\n",
       "      <td>55595.000000</td>\n",
       "      <td>55606.000000</td>\n",
       "      <td>55564.000000</td>\n",
       "      <td>55592.000000</td>\n",
       "      <td>55565.000000</td>\n",
       "      <td>55562.000000</td>\n",
       "      <td>56548.000000</td>\n",
       "    </tr>\n",
       "    <tr>\n",
       "      <th>mean</th>\n",
       "      <td>2.368628e+17</td>\n",
       "      <td>1.390765e+08</td>\n",
       "      <td>39.525958</td>\n",
       "      <td>71.379100</td>\n",
       "      <td>51.509708</td>\n",
       "      <td>-0.128108</td>\n",
       "      <td>3.105793</td>\n",
       "      <td>1.513153</td>\n",
       "      <td>1.772833</td>\n",
       "      <td>5.750748</td>\n",
       "      <td>7.790300e+03</td>\n",
       "      <td>17.974668</td>\n",
       "      <td>5.736301</td>\n",
       "      <td>0.456467</td>\n",
       "      <td>4.588159</td>\n",
       "      <td>4.723349</td>\n",
       "      <td>4.623915</td>\n",
       "      <td>4.783393</td>\n",
       "      <td>4.801027</td>\n",
       "      <td>4.729358</td>\n",
       "      <td>4.607755</td>\n",
       "      <td>0.877064</td>\n",
       "    </tr>\n",
       "    <tr>\n",
       "      <th>std</th>\n",
       "      <td>3.425911e+17</td>\n",
       "      <td>1.529621e+08</td>\n",
       "      <td>222.170789</td>\n",
       "      <td>420.039233</td>\n",
       "      <td>0.048369</td>\n",
       "      <td>0.099341</td>\n",
       "      <td>1.936972</td>\n",
       "      <td>0.885015</td>\n",
       "      <td>1.228013</td>\n",
       "      <td>24.240947</td>\n",
       "      <td>1.914055e+06</td>\n",
       "      <td>41.984021</td>\n",
       "      <td>12.991805</td>\n",
       "      <td>1.277612</td>\n",
       "      <td>0.779083</td>\n",
       "      <td>0.489328</td>\n",
       "      <td>0.550721</td>\n",
       "      <td>0.453835</td>\n",
       "      <td>0.448759</td>\n",
       "      <td>0.418873</td>\n",
       "      <td>0.521839</td>\n",
       "      <td>1.234003</td>\n",
       "    </tr>\n",
       "    <tr>\n",
       "      <th>min</th>\n",
       "      <td>1.391300e+04</td>\n",
       "      <td>2.594000e+03</td>\n",
       "      <td>1.000000</td>\n",
       "      <td>1.000000</td>\n",
       "      <td>51.295937</td>\n",
       "      <td>-0.497800</td>\n",
       "      <td>0.000000</td>\n",
       "      <td>1.000000</td>\n",
       "      <td>1.000000</td>\n",
       "      <td>1.000000</td>\n",
       "      <td>1.000000e+00</td>\n",
       "      <td>0.000000</td>\n",
       "      <td>0.000000</td>\n",
       "      <td>0.000000</td>\n",
       "      <td>0.000000</td>\n",
       "      <td>0.000000</td>\n",
       "      <td>0.000000</td>\n",
       "      <td>0.000000</td>\n",
       "      <td>0.000000</td>\n",
       "      <td>0.000000</td>\n",
       "      <td>0.000000</td>\n",
       "      <td>0.010000</td>\n",
       "    </tr>\n",
       "    <tr>\n",
       "      <th>25%</th>\n",
       "      <td>1.981740e+07</td>\n",
       "      <td>1.995923e+07</td>\n",
       "      <td>1.000000</td>\n",
       "      <td>1.000000</td>\n",
       "      <td>51.483540</td>\n",
       "      <td>-0.189390</td>\n",
       "      <td>2.000000</td>\n",
       "      <td>1.000000</td>\n",
       "      <td>1.000000</td>\n",
       "      <td>1.000000</td>\n",
       "      <td>4.200000e+01</td>\n",
       "      <td>1.000000</td>\n",
       "      <td>0.000000</td>\n",
       "      <td>0.000000</td>\n",
       "      <td>4.500000</td>\n",
       "      <td>4.670000</td>\n",
       "      <td>4.500000</td>\n",
       "      <td>4.750000</td>\n",
       "      <td>4.790000</td>\n",
       "      <td>4.640000</td>\n",
       "      <td>4.500000</td>\n",
       "      <td>0.130000</td>\n",
       "    </tr>\n",
       "    <tr>\n",
       "      <th>50%</th>\n",
       "      <td>3.933875e+07</td>\n",
       "      <td>6.745519e+07</td>\n",
       "      <td>2.000000</td>\n",
       "      <td>2.000000</td>\n",
       "      <td>51.513840</td>\n",
       "      <td>-0.126280</td>\n",
       "      <td>2.000000</td>\n",
       "      <td>1.000000</td>\n",
       "      <td>1.000000</td>\n",
       "      <td>2.000000</td>\n",
       "      <td>3.650000e+02</td>\n",
       "      <td>4.000000</td>\n",
       "      <td>0.000000</td>\n",
       "      <td>0.000000</td>\n",
       "      <td>4.820000</td>\n",
       "      <td>4.890000</td>\n",
       "      <td>4.800000</td>\n",
       "      <td>4.940000</td>\n",
       "      <td>4.970000</td>\n",
       "      <td>4.850000</td>\n",
       "      <td>4.750000</td>\n",
       "      <td>0.450000</td>\n",
       "    </tr>\n",
       "    <tr>\n",
       "      <th>75%</th>\n",
       "      <td>6.562985e+17</td>\n",
       "      <td>2.248670e+08</td>\n",
       "      <td>5.000000</td>\n",
       "      <td>8.000000</td>\n",
       "      <td>51.539450</td>\n",
       "      <td>-0.068460</td>\n",
       "      <td>4.000000</td>\n",
       "      <td>2.000000</td>\n",
       "      <td>2.000000</td>\n",
       "      <td>4.000000</td>\n",
       "      <td>1.125000e+03</td>\n",
       "      <td>17.000000</td>\n",
       "      <td>6.000000</td>\n",
       "      <td>0.000000</td>\n",
       "      <td>5.000000</td>\n",
       "      <td>5.000000</td>\n",
       "      <td>5.000000</td>\n",
       "      <td>5.000000</td>\n",
       "      <td>5.000000</td>\n",
       "      <td>5.000000</td>\n",
       "      <td>4.970000</td>\n",
       "      <td>1.090000</td>\n",
       "    </tr>\n",
       "    <tr>\n",
       "      <th>max</th>\n",
       "      <td>8.463271e+17</td>\n",
       "      <td>5.050400e+08</td>\n",
       "      <td>2138.000000</td>\n",
       "      <td>24047.000000</td>\n",
       "      <td>51.681142</td>\n",
       "      <td>0.288570</td>\n",
       "      <td>16.000000</td>\n",
       "      <td>22.000000</td>\n",
       "      <td>38.000000</td>\n",
       "      <td>1125.000000</td>\n",
       "      <td>5.248556e+08</td>\n",
       "      <td>1328.000000</td>\n",
       "      <td>564.000000</td>\n",
       "      <td>68.000000</td>\n",
       "      <td>5.000000</td>\n",
       "      <td>5.000000</td>\n",
       "      <td>5.000000</td>\n",
       "      <td>5.000000</td>\n",
       "      <td>5.000000</td>\n",
       "      <td>5.000000</td>\n",
       "      <td>5.000000</td>\n",
       "      <td>51.050000</td>\n",
       "    </tr>\n",
       "  </tbody>\n",
       "</table>\n",
       "</div>"
      ],
      "text/plain": [
       "                 id       host_id  host_listings_count  \\\n",
       "count  7.524100e+04  7.524100e+04         75236.000000   \n",
       "mean   2.368628e+17  1.390765e+08            39.525958   \n",
       "std    3.425911e+17  1.529621e+08           222.170789   \n",
       "min    1.391300e+04  2.594000e+03             1.000000   \n",
       "25%    1.981740e+07  1.995923e+07             1.000000   \n",
       "50%    3.933875e+07  6.745519e+07             2.000000   \n",
       "75%    6.562985e+17  2.248670e+08             5.000000   \n",
       "max    8.463271e+17  5.050400e+08          2138.000000   \n",
       "\n",
       "       host_total_listings_count      latitude     longitude  accommodates  \\\n",
       "count               75236.000000  75241.000000  75241.000000  75241.000000   \n",
       "mean                   71.379100     51.509708     -0.128108      3.105793   \n",
       "std                   420.039233      0.048369      0.099341      1.936972   \n",
       "min                     1.000000     51.295937     -0.497800      0.000000   \n",
       "25%                     1.000000     51.483540     -0.189390      2.000000   \n",
       "50%                     2.000000     51.513840     -0.126280      2.000000   \n",
       "75%                     8.000000     51.539450     -0.068460      4.000000   \n",
       "max                 24047.000000     51.681142      0.288570     16.000000   \n",
       "\n",
       "           bedrooms          beds  minimum_nights  maximum_nights  \\\n",
       "count  71768.000000  74135.000000    75241.000000    7.524100e+04   \n",
       "mean       1.513153      1.772833        5.750748    7.790300e+03   \n",
       "std        0.885015      1.228013       24.240947    1.914055e+06   \n",
       "min        1.000000      1.000000        1.000000    1.000000e+00   \n",
       "25%        1.000000      1.000000        1.000000    4.200000e+01   \n",
       "50%        1.000000      1.000000        2.000000    3.650000e+02   \n",
       "75%        2.000000      2.000000        4.000000    1.125000e+03   \n",
       "max       22.000000     38.000000     1125.000000    5.248556e+08   \n",
       "\n",
       "       number_of_reviews  number_of_reviews_ltm  number_of_reviews_l30d  \\\n",
       "count       75241.000000           75241.000000            75241.000000   \n",
       "mean           17.974668               5.736301                0.456467   \n",
       "std            41.984021              12.991805                1.277612   \n",
       "min             0.000000               0.000000                0.000000   \n",
       "25%             1.000000               0.000000                0.000000   \n",
       "50%             4.000000               0.000000                0.000000   \n",
       "75%            17.000000               6.000000                0.000000   \n",
       "max          1328.000000             564.000000               68.000000   \n",
       "\n",
       "       review_scores_rating  review_scores_accuracy  \\\n",
       "count          56548.000000            55595.000000   \n",
       "mean               4.588159                4.723349   \n",
       "std                0.779083                0.489328   \n",
       "min                0.000000                0.000000   \n",
       "25%                4.500000                4.670000   \n",
       "50%                4.820000                4.890000   \n",
       "75%                5.000000                5.000000   \n",
       "max                5.000000                5.000000   \n",
       "\n",
       "       review_scores_cleanliness  review_scores_checkin  \\\n",
       "count               55606.000000           55564.000000   \n",
       "mean                    4.623915               4.783393   \n",
       "std                     0.550721               0.453835   \n",
       "min                     0.000000               0.000000   \n",
       "25%                     4.500000               4.750000   \n",
       "50%                     4.800000               4.940000   \n",
       "75%                     5.000000               5.000000   \n",
       "max                     5.000000               5.000000   \n",
       "\n",
       "       review_scores_communication  review_scores_location  \\\n",
       "count                 55592.000000            55565.000000   \n",
       "mean                      4.801027                4.729358   \n",
       "std                       0.448759                0.418873   \n",
       "min                       0.000000                0.000000   \n",
       "25%                       4.790000                4.640000   \n",
       "50%                       4.970000                4.850000   \n",
       "75%                       5.000000                5.000000   \n",
       "max                       5.000000                5.000000   \n",
       "\n",
       "       review_scores_value  reviews_per_month  \n",
       "count         55562.000000       56548.000000  \n",
       "mean              4.607755           0.877064  \n",
       "std               0.521839           1.234003  \n",
       "min               0.000000           0.010000  \n",
       "25%               4.500000           0.130000  \n",
       "50%               4.750000           0.450000  \n",
       "75%               4.970000           1.090000  \n",
       "max               5.000000          51.050000  "
      ]
     },
     "execution_count": 8,
     "metadata": {},
     "output_type": "execute_result"
    }
   ],
   "source": [
    "listings_short.describe()"
   ]
  },
  {
   "attachments": {},
   "cell_type": "markdown",
   "metadata": {},
   "source": [
    "## 2.3. Clean Airbnb "
   ]
  },
  {
   "attachments": {},
   "cell_type": "markdown",
   "metadata": {},
   "source": [
    "### 2.3.1. Handling Missing Data "
   ]
  },
  {
   "cell_type": "code",
   "execution_count": 10,
   "metadata": {},
   "outputs": [
    {
     "data": {
      "text/plain": [
       "(75241, 36)"
      ]
     },
     "execution_count": 10,
     "metadata": {},
     "output_type": "execute_result"
    }
   ],
   "source": [
    "listings_short.shape"
   ]
  },
  {
   "cell_type": "code",
   "execution_count": 11,
   "metadata": {},
   "outputs": [
    {
     "data": {
      "text/plain": [
       "id                                 0\n",
       "listing_url                        0\n",
       "name                              31\n",
       "picture_url                        0\n",
       "host_id                            0\n",
       "host_response_rate             28956\n",
       "host_acceptance_rate           24213\n",
       "host_is_superhost                 18\n",
       "host_listings_count                5\n",
       "host_total_listings_count          5\n",
       "neighbourhood_cleansed             0\n",
       "latitude                           0\n",
       "longitude                          0\n",
       "room_type                          0\n",
       "accommodates                       0\n",
       "bathrooms_text                   124\n",
       "bedrooms                        3473\n",
       "beds                            1106\n",
       "amenities                          0\n",
       "price                              0\n",
       "minimum_nights                     0\n",
       "maximum_nights                     0\n",
       "instant_bookable                   0\n",
       "number_of_reviews                  0\n",
       "number_of_reviews_ltm              0\n",
       "number_of_reviews_l30d             0\n",
       "first_review                   18693\n",
       "last_review                    18693\n",
       "review_scores_rating           18693\n",
       "review_scores_accuracy         19646\n",
       "review_scores_cleanliness      19635\n",
       "review_scores_checkin          19677\n",
       "review_scores_communication    19649\n",
       "review_scores_location         19676\n",
       "review_scores_value            19679\n",
       "reviews_per_month              18693\n",
       "dtype: int64"
      ]
     },
     "execution_count": 11,
     "metadata": {},
     "output_type": "execute_result"
    }
   ],
   "source": [
    "listings_short.isnull().sum()"
   ]
  },
  {
   "attachments": {},
   "cell_type": "markdown",
   "metadata": {},
   "source": [
    "**host_is_superhost**"
   ]
  },
  {
   "cell_type": "code",
   "execution_count": 12,
   "metadata": {},
   "outputs": [
    {
     "data": {
      "text/plain": [
       "f      64574\n",
       "t      10649\n",
       "NaN       18\n",
       "Name: host_is_superhost, dtype: int64"
      ]
     },
     "execution_count": 12,
     "metadata": {},
     "output_type": "execute_result"
    }
   ],
   "source": [
    "# check the different values of \"host_is_superhost\"\n",
    "listings_short[\"host_is_superhost\"].value_counts(dropna=False)"
   ]
  },
  {
   "cell_type": "code",
   "execution_count": 13,
   "metadata": {},
   "outputs": [
    {
     "data": {
      "text/plain": [
       "5.0     4\n",
       "2.0     3\n",
       "6.0     2\n",
       "10.0    2\n",
       "7.0     2\n",
       "4.0     2\n",
       "26.0    2\n",
       "1.0     1\n",
       "Name: host_total_listings_count, dtype: int64"
      ]
     },
     "execution_count": 13,
     "metadata": {},
     "output_type": "execute_result"
    }
   ],
   "source": [
    "# check how many listings the hosts with nan value for \"host_is_superhost\" have: \n",
    "listings_short[listings_short['host_is_superhost'].isna()][\"host_total_listings_count\"].value_counts()"
   ]
  },
  {
   "cell_type": "code",
   "execution_count": 14,
   "metadata": {},
   "outputs": [
    {
     "name": "stderr",
     "output_type": "stream",
     "text": [
      "/var/folders/7p/5hb3bs814mz8v_v78023f0sh0000gn/T/ipykernel_50397/3651527053.py:2: SettingWithCopyWarning: \n",
      "A value is trying to be set on a copy of a slice from a DataFrame.\n",
      "Try using .loc[row_indexer,col_indexer] = value instead\n",
      "\n",
      "See the caveats in the documentation: https://pandas.pydata.org/pandas-docs/stable/user_guide/indexing.html#returning-a-view-versus-a-copy\n",
      "  listings_short[\"host_is_superhost\"] = listings_short[\"host_is_superhost\"].fillna(\"f\")\n"
     ]
    }
   ],
   "source": [
    "# we can fill values with \"f\" for false \n",
    "listings_short[\"host_is_superhost\"] = listings_short[\"host_is_superhost\"].fillna(\"f\")"
   ]
  },
  {
   "cell_type": "code",
   "execution_count": 15,
   "metadata": {},
   "outputs": [
    {
     "name": "stderr",
     "output_type": "stream",
     "text": [
      "/var/folders/7p/5hb3bs814mz8v_v78023f0sh0000gn/T/ipykernel_50397/3052865995.py:2: SettingWithCopyWarning: \n",
      "A value is trying to be set on a copy of a slice from a DataFrame.\n",
      "Try using .loc[row_indexer,col_indexer] = value instead\n",
      "\n",
      "See the caveats in the documentation: https://pandas.pydata.org/pandas-docs/stable/user_guide/indexing.html#returning-a-view-versus-a-copy\n",
      "  listings_short[[\"name\", \"host_response_rate\",\n"
     ]
    }
   ],
   "source": [
    "# renaming Rows with NaN to \"Unknown\"\n",
    "listings_short[[\"name\", \"host_response_rate\",\n",
    "                \"host_acceptance_rate\"]] = listings_short[[\"name\", \"host_response_rate\",\n",
    "                                                           \"host_acceptance_rate\"]].fillna(\"Unknown\")\n"
   ]
  },
  {
   "attachments": {},
   "cell_type": "markdown",
   "metadata": {},
   "source": [
    "**host_listings_count & host_total_listings_count**"
   ]
  },
  {
   "cell_type": "code",
   "execution_count": 16,
   "metadata": {},
   "outputs": [
    {
     "name": "stderr",
     "output_type": "stream",
     "text": [
      "/var/folders/7p/5hb3bs814mz8v_v78023f0sh0000gn/T/ipykernel_50397/859434433.py:2: SettingWithCopyWarning: \n",
      "A value is trying to be set on a copy of a slice from a DataFrame\n",
      "\n",
      "See the caveats in the documentation: https://pandas.pydata.org/pandas-docs/stable/user_guide/indexing.html#returning-a-view-versus-a-copy\n",
      "  listings_short[\"host_listings_count\"].fillna(listings_short[\"host_listings_count\"].mode()[0], inplace=True)\n",
      "/var/folders/7p/5hb3bs814mz8v_v78023f0sh0000gn/T/ipykernel_50397/859434433.py:4: SettingWithCopyWarning: \n",
      "A value is trying to be set on a copy of a slice from a DataFrame\n",
      "\n",
      "See the caveats in the documentation: https://pandas.pydata.org/pandas-docs/stable/user_guide/indexing.html#returning-a-view-versus-a-copy\n",
      "  listings_short[\"host_total_listings_count\"].fillna(listings_short[\"host_total_listings_count\"].mode()[0], inplace=True)\n"
     ]
    }
   ],
   "source": [
    "# set the mode for host_listings_count & host_total_listings_count\n",
    "listings_short[\"host_listings_count\"].fillna(listings_short[\"host_listings_count\"].mode()[0], inplace=True)\n",
    "\n",
    "listings_short[\"host_total_listings_count\"].fillna(listings_short[\"host_total_listings_count\"].mode()[0], inplace=True)"
   ]
  },
  {
   "attachments": {},
   "cell_type": "markdown",
   "metadata": {},
   "source": [
    "**bedrooms , beds & bathrooms_text**"
   ]
  },
  {
   "cell_type": "code",
   "execution_count": 17,
   "metadata": {},
   "outputs": [
    {
     "name": "stderr",
     "output_type": "stream",
     "text": [
      "/var/folders/7p/5hb3bs814mz8v_v78023f0sh0000gn/T/ipykernel_50397/1250815054.py:2: SettingWithCopyWarning: \n",
      "A value is trying to be set on a copy of a slice from a DataFrame\n",
      "\n",
      "See the caveats in the documentation: https://pandas.pydata.org/pandas-docs/stable/user_guide/indexing.html#returning-a-view-versus-a-copy\n",
      "  listings_short[\"bathrooms_text\"].fillna(listings_short[\"bathrooms_text\"].mode()[0], inplace=True)\n",
      "/var/folders/7p/5hb3bs814mz8v_v78023f0sh0000gn/T/ipykernel_50397/1250815054.py:4: SettingWithCopyWarning: \n",
      "A value is trying to be set on a copy of a slice from a DataFrame\n",
      "\n",
      "See the caveats in the documentation: https://pandas.pydata.org/pandas-docs/stable/user_guide/indexing.html#returning-a-view-versus-a-copy\n",
      "  listings_short[\"bedrooms\"].fillna(listings_short[\"bedrooms\"].mode()[0], inplace=True)\n",
      "/var/folders/7p/5hb3bs814mz8v_v78023f0sh0000gn/T/ipykernel_50397/1250815054.py:6: SettingWithCopyWarning: \n",
      "A value is trying to be set on a copy of a slice from a DataFrame\n",
      "\n",
      "See the caveats in the documentation: https://pandas.pydata.org/pandas-docs/stable/user_guide/indexing.html#returning-a-view-versus-a-copy\n",
      "  listings_short[\"beds\"].fillna(listings_short[\"beds\"].mode()[0], inplace=True)\n"
     ]
    }
   ],
   "source": [
    "# set the mode for above columns\n",
    "listings_short[\"bathrooms_text\"].fillna(listings_short[\"bathrooms_text\"].mode()[0], inplace=True)\n",
    "\n",
    "listings_short[\"bedrooms\"].fillna(listings_short[\"bedrooms\"].mode()[0], inplace=True)\n",
    "\n",
    "listings_short[\"beds\"].fillna(listings_short[\"beds\"].mode()[0], inplace=True)"
   ]
  },
  {
   "attachments": {},
   "cell_type": "markdown",
   "metadata": {},
   "source": [
    "**Convert host_response_rate & host_acceptance_rate**"
   ]
  },
  {
   "cell_type": "code",
   "execution_count": 18,
   "metadata": {},
   "outputs": [
    {
     "name": "stderr",
     "output_type": "stream",
     "text": [
      "/var/folders/7p/5hb3bs814mz8v_v78023f0sh0000gn/T/ipykernel_50397/4137212484.py:2: SettingWithCopyWarning: \n",
      "A value is trying to be set on a copy of a slice from a DataFrame.\n",
      "Try using .loc[row_indexer,col_indexer] = value instead\n",
      "\n",
      "See the caveats in the documentation: https://pandas.pydata.org/pandas-docs/stable/user_guide/indexing.html#returning-a-view-versus-a-copy\n",
      "  listings_short[\"host_acceptance_rate_int\"] = listings_short[\"host_acceptance_rate\"].str[:-1]\n",
      "/var/folders/7p/5hb3bs814mz8v_v78023f0sh0000gn/T/ipykernel_50397/4137212484.py:3: SettingWithCopyWarning: \n",
      "A value is trying to be set on a copy of a slice from a DataFrame.\n",
      "Try using .loc[row_indexer,col_indexer] = value instead\n",
      "\n",
      "See the caveats in the documentation: https://pandas.pydata.org/pandas-docs/stable/user_guide/indexing.html#returning-a-view-versus-a-copy\n",
      "  listings_short[\"host_acceptance_rate_int\"] = listings_short[\"host_acceptance_rate_int\"].replace('Unknow', np.nan)\n",
      "/var/folders/7p/5hb3bs814mz8v_v78023f0sh0000gn/T/ipykernel_50397/4137212484.py:4: SettingWithCopyWarning: \n",
      "A value is trying to be set on a copy of a slice from a DataFrame.\n",
      "Try using .loc[row_indexer,col_indexer] = value instead\n",
      "\n",
      "See the caveats in the documentation: https://pandas.pydata.org/pandas-docs/stable/user_guide/indexing.html#returning-a-view-versus-a-copy\n",
      "  listings_short[\"host_acceptance_rate_int\"] = listings_short[\"host_acceptance_rate_int\"].astype(\"float64\")\n",
      "/var/folders/7p/5hb3bs814mz8v_v78023f0sh0000gn/T/ipykernel_50397/4137212484.py:5: SettingWithCopyWarning: \n",
      "A value is trying to be set on a copy of a slice from a DataFrame.\n",
      "Try using .loc[row_indexer,col_indexer] = value instead\n",
      "\n",
      "See the caveats in the documentation: https://pandas.pydata.org/pandas-docs/stable/user_guide/indexing.html#returning-a-view-versus-a-copy\n",
      "  listings_short[\"host_acceptance_rate\"] = listings_short[\"host_acceptance_rate_int\"]\n",
      "/var/folders/7p/5hb3bs814mz8v_v78023f0sh0000gn/T/ipykernel_50397/4137212484.py:6: SettingWithCopyWarning: \n",
      "A value is trying to be set on a copy of a slice from a DataFrame\n",
      "\n",
      "See the caveats in the documentation: https://pandas.pydata.org/pandas-docs/stable/user_guide/indexing.html#returning-a-view-versus-a-copy\n",
      "  listings_short.drop(\"host_acceptance_rate_int\", axis=1, inplace = True)\n"
     ]
    }
   ],
   "source": [
    "## Convert response rate/acceptance rate from % in integer\n",
    "listings_short[\"host_acceptance_rate_int\"] = listings_short[\"host_acceptance_rate\"].str[:-1]\n",
    "listings_short[\"host_acceptance_rate_int\"] = listings_short[\"host_acceptance_rate_int\"].replace('Unknow', np.nan)\n",
    "listings_short[\"host_acceptance_rate_int\"] = listings_short[\"host_acceptance_rate_int\"].astype(\"float64\")\n",
    "listings_short[\"host_acceptance_rate\"] = listings_short[\"host_acceptance_rate_int\"]\n",
    "listings_short.drop(\"host_acceptance_rate_int\", axis=1, inplace = True)"
   ]
  },
  {
   "cell_type": "code",
   "execution_count": 19,
   "metadata": {},
   "outputs": [
    {
     "name": "stderr",
     "output_type": "stream",
     "text": [
      "/var/folders/7p/5hb3bs814mz8v_v78023f0sh0000gn/T/ipykernel_50397/3075004784.py:3: SettingWithCopyWarning: \n",
      "A value is trying to be set on a copy of a slice from a DataFrame.\n",
      "Try using .loc[row_indexer,col_indexer] = value instead\n",
      "\n",
      "See the caveats in the documentation: https://pandas.pydata.org/pandas-docs/stable/user_guide/indexing.html#returning-a-view-versus-a-copy\n",
      "  listings_short[\"host_response_rate_int\"] = listings_short[\"host_response_rate\"].str[:-1]\n",
      "/var/folders/7p/5hb3bs814mz8v_v78023f0sh0000gn/T/ipykernel_50397/3075004784.py:4: SettingWithCopyWarning: \n",
      "A value is trying to be set on a copy of a slice from a DataFrame.\n",
      "Try using .loc[row_indexer,col_indexer] = value instead\n",
      "\n",
      "See the caveats in the documentation: https://pandas.pydata.org/pandas-docs/stable/user_guide/indexing.html#returning-a-view-versus-a-copy\n",
      "  listings_short[\"host_response_rate_int\"] = listings_short[\"host_response_rate_int\"].replace('Unknow', np.nan)\n",
      "/var/folders/7p/5hb3bs814mz8v_v78023f0sh0000gn/T/ipykernel_50397/3075004784.py:5: SettingWithCopyWarning: \n",
      "A value is trying to be set on a copy of a slice from a DataFrame.\n",
      "Try using .loc[row_indexer,col_indexer] = value instead\n",
      "\n",
      "See the caveats in the documentation: https://pandas.pydata.org/pandas-docs/stable/user_guide/indexing.html#returning-a-view-versus-a-copy\n",
      "  listings_short[\"host_response_rate\"] = listings_short[\"host_response_rate_int\"].astype(\"float64\")\n",
      "/var/folders/7p/5hb3bs814mz8v_v78023f0sh0000gn/T/ipykernel_50397/3075004784.py:6: SettingWithCopyWarning: \n",
      "A value is trying to be set on a copy of a slice from a DataFrame\n",
      "\n",
      "See the caveats in the documentation: https://pandas.pydata.org/pandas-docs/stable/user_guide/indexing.html#returning-a-view-versus-a-copy\n",
      "  listings_short.drop(\"host_response_rate_int\", axis=1, inplace = True)\n"
     ]
    }
   ],
   "source": [
    "#same for host_acceptance_rate \n",
    "\n",
    "listings_short[\"host_response_rate_int\"] = listings_short[\"host_response_rate\"].str[:-1]\n",
    "listings_short[\"host_response_rate_int\"] = listings_short[\"host_response_rate_int\"].replace('Unknow', np.nan)\n",
    "listings_short[\"host_response_rate\"] = listings_short[\"host_response_rate_int\"].astype(\"float64\")\n",
    "listings_short.drop(\"host_response_rate_int\", axis=1, inplace = True)"
   ]
  },
  {
   "attachments": {},
   "cell_type": "markdown",
   "metadata": {},
   "source": [
    "**price**"
   ]
  },
  {
   "cell_type": "code",
   "execution_count": 20,
   "metadata": {},
   "outputs": [
    {
     "name": "stderr",
     "output_type": "stream",
     "text": [
      "/var/folders/7p/5hb3bs814mz8v_v78023f0sh0000gn/T/ipykernel_50397/4083807180.py:3: SettingWithCopyWarning: \n",
      "A value is trying to be set on a copy of a slice from a DataFrame.\n",
      "Try using .loc[row_indexer,col_indexer] = value instead\n",
      "\n",
      "See the caveats in the documentation: https://pandas.pydata.org/pandas-docs/stable/user_guide/indexing.html#returning-a-view-versus-a-copy\n",
      "  listings_short[\"price\"] = listings_short[\"price\"].str[1:]\n",
      "/var/folders/7p/5hb3bs814mz8v_v78023f0sh0000gn/T/ipykernel_50397/4083807180.py:4: SettingWithCopyWarning: \n",
      "A value is trying to be set on a copy of a slice from a DataFrame.\n",
      "Try using .loc[row_indexer,col_indexer] = value instead\n",
      "\n",
      "See the caveats in the documentation: https://pandas.pydata.org/pandas-docs/stable/user_guide/indexing.html#returning-a-view-versus-a-copy\n",
      "  listings_short[\"price\"] = listings_short[\"price\"].str.replace(\",\", \"\")\n",
      "/var/folders/7p/5hb3bs814mz8v_v78023f0sh0000gn/T/ipykernel_50397/4083807180.py:5: SettingWithCopyWarning: \n",
      "A value is trying to be set on a copy of a slice from a DataFrame.\n",
      "Try using .loc[row_indexer,col_indexer] = value instead\n",
      "\n",
      "See the caveats in the documentation: https://pandas.pydata.org/pandas-docs/stable/user_guide/indexing.html#returning-a-view-versus-a-copy\n",
      "  listings_short[\"price\"] = listings_short[\"price\"].astype(\"float64\")\n"
     ]
    }
   ],
   "source": [
    "#convert Price in Integer\n",
    "\n",
    "listings_short[\"price\"] = listings_short[\"price\"].str[1:]\n",
    "listings_short[\"price\"] = listings_short[\"price\"].str.replace(\",\", \"\")\n",
    "listings_short[\"price\"] = listings_short[\"price\"].astype(\"float64\")"
   ]
  },
  {
   "attachments": {},
   "cell_type": "markdown",
   "metadata": {},
   "source": [
    "**Bathroom_text & private_bath**"
   ]
  },
  {
   "cell_type": "code",
   "execution_count": 21,
   "metadata": {},
   "outputs": [
    {
     "name": "stderr",
     "output_type": "stream",
     "text": [
      "/var/folders/7p/5hb3bs814mz8v_v78023f0sh0000gn/T/ipykernel_50397/2776869170.py:2: SettingWithCopyWarning: \n",
      "A value is trying to be set on a copy of a slice from a DataFrame.\n",
      "Try using .loc[row_indexer,col_indexer] = value instead\n",
      "\n",
      "See the caveats in the documentation: https://pandas.pydata.org/pandas-docs/stable/user_guide/indexing.html#returning-a-view-versus-a-copy\n",
      "  listings_short['private_bath'] = ~listings_short['bathrooms_text'].str.contains('shared|Shared')\n",
      "/var/folders/7p/5hb3bs814mz8v_v78023f0sh0000gn/T/ipykernel_50397/2776869170.py:3: SettingWithCopyWarning: \n",
      "A value is trying to be set on a copy of a slice from a DataFrame\n",
      "\n",
      "See the caveats in the documentation: https://pandas.pydata.org/pandas-docs/stable/user_guide/indexing.html#returning-a-view-versus-a-copy\n",
      "  listings_short.drop('bathrooms_text', inplace = True, axis = 1)\n"
     ]
    }
   ],
   "source": [
    "#convert bathroom text top bool ('private_bath)\n",
    "listings_short['private_bath'] = ~listings_short['bathrooms_text'].str.contains('shared|Shared')\n",
    "listings_short.drop('bathrooms_text', inplace = True, axis = 1)"
   ]
  },
  {
   "cell_type": "code",
   "execution_count": 22,
   "metadata": {},
   "outputs": [
    {
     "data": {
      "text/html": [
       "<div>\n",
       "<style scoped>\n",
       "    .dataframe tbody tr th:only-of-type {\n",
       "        vertical-align: middle;\n",
       "    }\n",
       "\n",
       "    .dataframe tbody tr th {\n",
       "        vertical-align: top;\n",
       "    }\n",
       "\n",
       "    .dataframe thead th {\n",
       "        text-align: right;\n",
       "    }\n",
       "</style>\n",
       "<table border=\"1\" class=\"dataframe\">\n",
       "  <thead>\n",
       "    <tr style=\"text-align: right;\">\n",
       "      <th></th>\n",
       "      <th>id</th>\n",
       "      <th>listing_url</th>\n",
       "      <th>name</th>\n",
       "      <th>picture_url</th>\n",
       "      <th>host_id</th>\n",
       "      <th>host_response_rate</th>\n",
       "      <th>host_acceptance_rate</th>\n",
       "      <th>host_is_superhost</th>\n",
       "      <th>host_listings_count</th>\n",
       "      <th>host_total_listings_count</th>\n",
       "      <th>neighbourhood_cleansed</th>\n",
       "      <th>latitude</th>\n",
       "      <th>longitude</th>\n",
       "      <th>room_type</th>\n",
       "      <th>accommodates</th>\n",
       "      <th>bedrooms</th>\n",
       "      <th>beds</th>\n",
       "      <th>amenities</th>\n",
       "      <th>price</th>\n",
       "      <th>minimum_nights</th>\n",
       "      <th>maximum_nights</th>\n",
       "      <th>instant_bookable</th>\n",
       "      <th>number_of_reviews</th>\n",
       "      <th>number_of_reviews_ltm</th>\n",
       "      <th>number_of_reviews_l30d</th>\n",
       "      <th>first_review</th>\n",
       "      <th>last_review</th>\n",
       "      <th>review_scores_rating</th>\n",
       "      <th>review_scores_accuracy</th>\n",
       "      <th>review_scores_cleanliness</th>\n",
       "      <th>review_scores_checkin</th>\n",
       "      <th>review_scores_communication</th>\n",
       "      <th>review_scores_location</th>\n",
       "      <th>review_scores_value</th>\n",
       "      <th>reviews_per_month</th>\n",
       "      <th>private_bath</th>\n",
       "    </tr>\n",
       "  </thead>\n",
       "  <tbody>\n",
       "    <tr>\n",
       "      <th>0</th>\n",
       "      <td>714569379355913481</td>\n",
       "      <td>https://www.airbnb.com/rooms/714569379355913481</td>\n",
       "      <td>Lovely private bedroom in Muswell Hill.</td>\n",
       "      <td>https://a0.muscache.com/pictures/miso/Hosting-...</td>\n",
       "      <td>39009854</td>\n",
       "      <td>NaN</td>\n",
       "      <td>NaN</td>\n",
       "      <td>f</td>\n",
       "      <td>1.0</td>\n",
       "      <td>1.0</td>\n",
       "      <td>Haringey</td>\n",
       "      <td>51.597280</td>\n",
       "      <td>-0.139330</td>\n",
       "      <td>Private room</td>\n",
       "      <td>1</td>\n",
       "      <td>1.0</td>\n",
       "      <td>1.0</td>\n",
       "      <td>[\"Iron\", \"Hangers\", \"Hair dryer\", \"Outdoor din...</td>\n",
       "      <td>100.0</td>\n",
       "      <td>1</td>\n",
       "      <td>365</td>\n",
       "      <td>f</td>\n",
       "      <td>0</td>\n",
       "      <td>0</td>\n",
       "      <td>0</td>\n",
       "      <td>NaN</td>\n",
       "      <td>NaN</td>\n",
       "      <td>NaN</td>\n",
       "      <td>NaN</td>\n",
       "      <td>NaN</td>\n",
       "      <td>NaN</td>\n",
       "      <td>NaN</td>\n",
       "      <td>NaN</td>\n",
       "      <td>NaN</td>\n",
       "      <td>NaN</td>\n",
       "      <td>False</td>\n",
       "    </tr>\n",
       "    <tr>\n",
       "      <th>1</th>\n",
       "      <td>808038970516277767</td>\n",
       "      <td>https://www.airbnb.com/rooms/808038970516277767</td>\n",
       "      <td>Studio Flat  Franklin London</td>\n",
       "      <td>https://a0.muscache.com/pictures/miso/Hosting-...</td>\n",
       "      <td>495977998</td>\n",
       "      <td>100.0</td>\n",
       "      <td>100.0</td>\n",
       "      <td>f</td>\n",
       "      <td>14.0</td>\n",
       "      <td>31.0</td>\n",
       "      <td>Barnet</td>\n",
       "      <td>51.636518</td>\n",
       "      <td>-0.177475</td>\n",
       "      <td>Entire home/apt</td>\n",
       "      <td>1</td>\n",
       "      <td>1.0</td>\n",
       "      <td>1.0</td>\n",
       "      <td>[]</td>\n",
       "      <td>65.0</td>\n",
       "      <td>180</td>\n",
       "      <td>365</td>\n",
       "      <td>t</td>\n",
       "      <td>0</td>\n",
       "      <td>0</td>\n",
       "      <td>0</td>\n",
       "      <td>NaN</td>\n",
       "      <td>NaN</td>\n",
       "      <td>NaN</td>\n",
       "      <td>NaN</td>\n",
       "      <td>NaN</td>\n",
       "      <td>NaN</td>\n",
       "      <td>NaN</td>\n",
       "      <td>NaN</td>\n",
       "      <td>NaN</td>\n",
       "      <td>NaN</td>\n",
       "      <td>True</td>\n",
       "    </tr>\n",
       "  </tbody>\n",
       "</table>\n",
       "</div>"
      ],
      "text/plain": [
       "                   id                                      listing_url  \\\n",
       "0  714569379355913481  https://www.airbnb.com/rooms/714569379355913481   \n",
       "1  808038970516277767  https://www.airbnb.com/rooms/808038970516277767   \n",
       "\n",
       "                                      name  \\\n",
       "0  Lovely private bedroom in Muswell Hill.   \n",
       "1             Studio Flat  Franklin London   \n",
       "\n",
       "                                         picture_url    host_id  \\\n",
       "0  https://a0.muscache.com/pictures/miso/Hosting-...   39009854   \n",
       "1  https://a0.muscache.com/pictures/miso/Hosting-...  495977998   \n",
       "\n",
       "   host_response_rate  host_acceptance_rate host_is_superhost  \\\n",
       "0                 NaN                   NaN                 f   \n",
       "1               100.0                 100.0                 f   \n",
       "\n",
       "   host_listings_count  host_total_listings_count neighbourhood_cleansed  \\\n",
       "0                  1.0                        1.0               Haringey   \n",
       "1                 14.0                       31.0                 Barnet   \n",
       "\n",
       "    latitude  longitude        room_type  accommodates  bedrooms  beds  \\\n",
       "0  51.597280  -0.139330     Private room             1       1.0   1.0   \n",
       "1  51.636518  -0.177475  Entire home/apt             1       1.0   1.0   \n",
       "\n",
       "                                           amenities  price  minimum_nights  \\\n",
       "0  [\"Iron\", \"Hangers\", \"Hair dryer\", \"Outdoor din...  100.0               1   \n",
       "1                                                 []   65.0             180   \n",
       "\n",
       "   maximum_nights instant_bookable  number_of_reviews  number_of_reviews_ltm  \\\n",
       "0             365                f                  0                      0   \n",
       "1             365                t                  0                      0   \n",
       "\n",
       "   number_of_reviews_l30d first_review last_review  review_scores_rating  \\\n",
       "0                       0          NaN         NaN                   NaN   \n",
       "1                       0          NaN         NaN                   NaN   \n",
       "\n",
       "   review_scores_accuracy  review_scores_cleanliness  review_scores_checkin  \\\n",
       "0                     NaN                        NaN                    NaN   \n",
       "1                     NaN                        NaN                    NaN   \n",
       "\n",
       "   review_scores_communication  review_scores_location  review_scores_value  \\\n",
       "0                          NaN                     NaN                  NaN   \n",
       "1                          NaN                     NaN                  NaN   \n",
       "\n",
       "   reviews_per_month  private_bath  \n",
       "0                NaN         False  \n",
       "1                NaN          True  "
      ]
     },
     "execution_count": 22,
     "metadata": {},
     "output_type": "execute_result"
    }
   ],
   "source": [
    "listings_short.head(2)"
   ]
  },
  {
   "attachments": {},
   "cell_type": "markdown",
   "metadata": {},
   "source": [
    "**room_type**"
   ]
  },
  {
   "cell_type": "code",
   "execution_count": 23,
   "metadata": {},
   "outputs": [
    {
     "name": "stderr",
     "output_type": "stream",
     "text": [
      "/var/folders/7p/5hb3bs814mz8v_v78023f0sh0000gn/T/ipykernel_50397/1045346324.py:2: SettingWithCopyWarning: \n",
      "A value is trying to be set on a copy of a slice from a DataFrame.\n",
      "Try using .loc[row_indexer,col_indexer] = value instead\n",
      "\n",
      "See the caveats in the documentation: https://pandas.pydata.org/pandas-docs/stable/user_guide/indexing.html#returning-a-view-versus-a-copy\n",
      "  listings_short[\"room_type\"] = listings_short[\"room_type\"].str.replace(\"Entire home/apt\", \"Entire home\")\n"
     ]
    }
   ],
   "source": [
    "#renaming the values \n",
    "listings_short[\"room_type\"] = listings_short[\"room_type\"].str.replace(\"Entire home/apt\", \"Entire home\")"
   ]
  },
  {
   "attachments": {},
   "cell_type": "markdown",
   "metadata": {},
   "source": [
    "**Instant_bookable and Host_is_superhost as bool**"
   ]
  },
  {
   "cell_type": "code",
   "execution_count": null,
   "metadata": {},
   "outputs": [],
   "source": [
    "listings_short['instant_bookable'] = listings_short['instant_bookable'].map({'f': False, 't': True})\n",
    "listings_short['host_is_superhost'] = listings_short['host_is_superhost'].map({'f': False, 't': True})"
   ]
  },
  {
   "attachments": {},
   "cell_type": "markdown",
   "metadata": {},
   "source": [
    "**amenities**"
   ]
  },
  {
   "cell_type": "code",
   "execution_count": 134,
   "metadata": {},
   "outputs": [],
   "source": [
    "test = listings_short.copy()"
   ]
  },
  {
   "cell_type": "code",
   "execution_count": 135,
   "metadata": {},
   "outputs": [
    {
     "name": "stderr",
     "output_type": "stream",
     "text": [
      "/var/folders/7p/5hb3bs814mz8v_v78023f0sh0000gn/T/ipykernel_50397/1066789727.py:2: FutureWarning: The default value of regex will change from True to False in a future version. In addition, single character regular expressions will *not* be treated as literal strings when regex=True.\n",
      "  test[\"amenities\"] = test[\"amenities\"].str.lower().str.replace('[','').str.replace(']','').str.replace('\"','').str.replace(' ','_').str.split(',')\n"
     ]
    }
   ],
   "source": [
    "# convert items in \"amenities\" to a list\n",
    "test[\"amenities\"] = test[\"amenities\"].str.lower().str.replace('[','').str.replace(']','').str.replace('\"','').str.replace(' ','_').str.split(',')\n"
   ]
  },
  {
   "cell_type": "code",
   "execution_count": 136,
   "metadata": {},
   "outputs": [],
   "source": [
    "# create new columns for each amenity \n",
    "from sklearn.preprocessing import MultiLabelBinarizer\n",
    "mlb = MultiLabelBinarizer()\n",
    "amenities = test.join(pd.DataFrame(mlb.fit_transform(test.pop('amenities')),\n",
    "                          columns=mlb.classes_,\n",
    "                          index=test.index))"
   ]
  },
  {
   "cell_type": "code",
   "execution_count": 137,
   "metadata": {},
   "outputs": [],
   "source": [
    "# create a list of amenity with fewer than 10% of listings\n",
    "infrequent_amenities = []\n",
    "for col in amenities.iloc[: , 35:].columns:\n",
    "    if amenities[col].sum() < len(amenities)/10:\n",
    "        infrequent_amenities.append(col)\n",
    "\n",
    "# drop infrequent amenity features\n",
    "amenities.drop(infrequent_amenities, axis=1, inplace=True)\n"
   ]
  },
  {
   "cell_type": "code",
   "execution_count": 138,
   "metadata": {},
   "outputs": [],
   "source": [
    "# combine _coffee & _coffe_maker to one column\n",
    "amenities['_coffee_'] = (amenities['_coffee_maker'] | amenities['_coffee']).astype(int)\n"
   ]
  },
  {
   "cell_type": "code",
   "execution_count": 139,
   "metadata": {},
   "outputs": [],
   "source": [
    "# focus on relevant columns\n",
    "amenity_keeper = [\"id\",\n",
    "                  \"_wifi\",\n",
    "                  \"_long_term_stays_allowed\",\n",
    "                  \"_private_patio_or_balcony\",\n",
    "                  \"_private_entrance\",\n",
    "                  \"_pets_allowed\",\n",
    "                  \"_outdoor_dining_area\",\n",
    "                  \"_lockbox\",\n",
    "                  \"_kitchen\",\n",
    "                  \"_hair_dryer\",\n",
    "                  \"_free_street_parking\",\n",
    "                  \"_free_parking_on_premises\",\n",
    "                  \"_dedicated_workspace\",\n",
    "                  \"_coffee_maker\",\n",
    "                  \"_coffee\",\n",
    "                  \"_bed_linens\",\n",
    "                  \"_bathtub\"]\n"
   ]
  },
  {
   "cell_type": "code",
   "execution_count": 140,
   "metadata": {},
   "outputs": [],
   "source": [
    "# keep only relevant columns \n",
    "amenities_short = amenities[amenity_keeper]"
   ]
  },
  {
   "cell_type": "code",
   "execution_count": 142,
   "metadata": {},
   "outputs": [],
   "source": [
    "# get rid of first \"_\"\n",
    "amenities_short.columns = amenities_short.columns.str.replace('_','', 1)\n"
   ]
  },
  {
   "cell_type": "code",
   "execution_count": 148,
   "metadata": {},
   "outputs": [],
   "source": [
    "# merge to one dataframe \n",
    "airbnb = listings_short.merge(amenities_short, how=\"left\", on=\"id\")"
   ]
  },
  {
   "cell_type": "code",
   "execution_count": 149,
   "metadata": {},
   "outputs": [
    {
     "data": {
      "text/plain": [
       "(75241, 52)"
      ]
     },
     "execution_count": 149,
     "metadata": {},
     "output_type": "execute_result"
    }
   ],
   "source": [
    "airbnb.shape"
   ]
  },
  {
   "cell_type": "markdown",
   "metadata": {},
   "source": [
    "## 3.Overpass Pipeline"
   ]
  },
  {
   "cell_type": "code",
   "execution_count": null,
   "metadata": {},
   "outputs": [],
   "source": [
    "### Increase outside border of listings\n",
    "london_bbox = increase_bbox(listings)"
   ]
  },
  {
   "cell_type": "code",
   "execution_count": null,
   "metadata": {},
   "outputs": [],
   "source": [
    "# Increasing the maxs by 0.01 and decreasing the mins by 0.01 \n",
    "# will shift the outline's border by a bit more than 1km in each direction.\n",
    "\n",
    "# See increase_bbox function in py_functions.py"
   ]
  },
  {
   "cell_type": "code",
   "execution_count": null,
   "metadata": {},
   "outputs": [],
   "source": [
    "# (northern hemisphere)\n",
    "# latitude max = north\n",
    "# latitude min = south\n",
    "# longitude max = east\n",
    "# longitude min = west"
   ]
  },
  {
   "cell_type": "code",
   "execution_count": null,
   "metadata": {},
   "outputs": [],
   "source": [
    "### Get OSM data for slightly bigger bbox\n",
    "overpass_url = \"http://overpass-api.de/api/interpreter\"\n",
    "overpass_query = f\"\"\"\n",
    "[out:json];\n",
    "(\n",
    "    node[\"amenity\"=\"bar\"]({london_bbox[\"south_shifted\"]},{london_bbox[\"west_shifted\"]},{london_bbox[\"north_shifted\"]},{london_bbox[\"east_shifted\"]});\n",
    "    node[\"amenity\"=\"pub\"]({london_bbox[\"south_shifted\"]},{london_bbox[\"west_shifted\"]},{london_bbox[\"north_shifted\"]},{london_bbox[\"east_shifted\"]});\n",
    "    node[\"amenity\"=\"restaurant\"]({london_bbox[\"south_shifted\"]},{london_bbox[\"west_shifted\"]},{london_bbox[\"north_shifted\"]},{london_bbox[\"east_shifted\"]});\n",
    "    node[\"amenity\"=\"cafe\"]({london_bbox[\"south_shifted\"]},{london_bbox[\"west_shifted\"]},{london_bbox[\"north_shifted\"]},{london_bbox[\"east_shifted\"]});\n",
    "    node[\"amenity\"=\"fast_food\"]({london_bbox[\"south_shifted\"]},{london_bbox[\"west_shifted\"]},{london_bbox[\"north_shifted\"]},{london_bbox[\"east_shifted\"]});\n",
    "    node[\"railway\"=\"subway_entrance\"]({london_bbox[\"south_shifted\"]},{london_bbox[\"west_shifted\"]},{london_bbox[\"north_shifted\"]},{london_bbox[\"east_shifted\"]});\n",
    "    node[\"cuisine\"]({london_bbox[\"south_shifted\"]},{london_bbox[\"west_shifted\"]},{london_bbox[\"north_shifted\"]},{london_bbox[\"east_shifted\"]});\n",
    "    way[\"amenity\"=\"bar\"]({london_bbox[\"south_shifted\"]},{london_bbox[\"west_shifted\"]},{london_bbox[\"north_shifted\"]},{london_bbox[\"east_shifted\"]});\n",
    "    way[\"amenity\"=\"pub\"]({london_bbox[\"south_shifted\"]},{london_bbox[\"west_shifted\"]},{london_bbox[\"north_shifted\"]},{london_bbox[\"east_shifted\"]});\n",
    "    way[\"amenity\"=\"restaurant\"]({london_bbox[\"south_shifted\"]},{london_bbox[\"west_shifted\"]},{london_bbox[\"north_shifted\"]},{london_bbox[\"east_shifted\"]});\n",
    "    way[\"amenity\"=\"cafe\"]({london_bbox[\"south_shifted\"]},{london_bbox[\"west_shifted\"]},{london_bbox[\"north_shifted\"]},{london_bbox[\"east_shifted\"]});\n",
    "    way[\"amenity\"=\"fast_food\"]({london_bbox[\"south_shifted\"]},{london_bbox[\"west_shifted\"]},{london_bbox[\"north_shifted\"]},{london_bbox[\"east_shifted\"]});\n",
    "    way[\"railway\"=\"subway_entrance\"]({london_bbox[\"south_shifted\"]},{london_bbox[\"west_shifted\"]},{london_bbox[\"north_shifted\"]},{london_bbox[\"east_shifted\"]});\n",
    "    way[\"cuisine\"]({london_bbox[\"south_shifted\"]},{london_bbox[\"west_shifted\"]},{london_bbox[\"north_shifted\"]},{london_bbox[\"east_shifted\"]});\n",
    "\n",
    "    );\n",
    "    (._;>;);\n",
    "out center;\n",
    "\"\"\"\n",
    "response = requests.get(overpass_url,\n",
    "                        params={'data': overpass_query})\n",
    "data = response.json()\n",
    "\n",
    "osm = pd.json_normalize(data, record_path=\"elements\")\n"
   ]
  },
  {
   "cell_type": "code",
   "execution_count": null,
   "metadata": {},
   "outputs": [],
   "source": [
    "### clean column names \n",
    "osm.columns = osm.columns.str.replace(\".\", \"_\", regex=False)\n",
    "osm.columns = osm.columns.str.replace(\":\", \"_\", regex=False)\n"
   ]
  },
  {
   "cell_type": "code",
   "execution_count": null,
   "metadata": {},
   "outputs": [],
   "source": [
    "osm[\"lat\"] = np.where(osm[\"lat\"].isna(), osm[\"center_lat\"], osm['lat'])\n",
    "osm[\"lon\"] = np.where(osm[\"lon\"].isna(), osm[\"center_lon\"], osm['lon'])"
   ]
  },
  {
   "cell_type": "code",
   "execution_count": null,
   "metadata": {},
   "outputs": [],
   "source": [
    "### select only desired columns\n",
    "osm_keepers = [\"id\",\n",
    "                     \"lat\",\n",
    "                     \"lon\",\n",
    "                     \"tags_name\",\n",
    "                     \"tags_amenity\",\n",
    "                     \"tags_cuisine\",\n",
    "                     \"tags_diet_vegetarian\",\n",
    "                     \"tags_diet_vegan\",\n",
    "                     \"tags_railway\"]\n",
    "                     "
   ]
  },
  {
   "cell_type": "code",
   "execution_count": null,
   "metadata": {},
   "outputs": [],
   "source": [
    "osm_short = osm[osm_keepers]"
   ]
  },
  {
   "cell_type": "code",
   "execution_count": null,
   "metadata": {},
   "outputs": [],
   "source": [
    "### combine lat & lon to a new column lat_lon, to check for duplicates \n",
    "# osm_short[\"lat_lon\"] = osm_short[\"lat\"].astype(str) + osm_short[\"lon\"].astype(str)"
   ]
  },
  {
   "cell_type": "code",
   "execution_count": null,
   "metadata": {},
   "outputs": [],
   "source": [
    "### drop all rows with no lat/lon\n",
    "osm_short = osm_short.dropna(subset=['lat'])\n"
   ]
  },
  {
   "cell_type": "code",
   "execution_count": null,
   "metadata": {},
   "outputs": [],
   "source": [
    "osm_short = osm_short.drop(osm_short[(osm_short['tags_name'].isna()) & (osm_short['tags_amenity'].isna())].index)"
   ]
  },
  {
   "cell_type": "code",
   "execution_count": null,
   "metadata": {},
   "outputs": [],
   "source": [
    "osm_short['tags_amenity'] = osm_short['tags_amenity'].str.replace('pub', 'bar')"
   ]
  },
  {
   "cell_type": "code",
   "execution_count": null,
   "metadata": {},
   "outputs": [],
   "source": [
    "osm_short['gastronomy'] = np.where(osm_short['tags_amenity'].isin(['restaurant', 'fast_food']), True, False)"
   ]
  },
  {
   "cell_type": "code",
   "execution_count": null,
   "metadata": {},
   "outputs": [],
   "source": [
    "osm_short = osm_short[osm_short['tags_amenity'].isin(['bar', 'restaurant', np.nan, 'cafe', 'fast_food', 'bakery', 'food_court'])]"
   ]
  },
  {
   "cell_type": "code",
   "execution_count": null,
   "metadata": {},
   "outputs": [
    {
     "data": {
      "text/html": [
       "<div>\n",
       "<style scoped>\n",
       "    .dataframe tbody tr th:only-of-type {\n",
       "        vertical-align: middle;\n",
       "    }\n",
       "\n",
       "    .dataframe tbody tr th {\n",
       "        vertical-align: top;\n",
       "    }\n",
       "\n",
       "    .dataframe thead th {\n",
       "        text-align: right;\n",
       "    }\n",
       "</style>\n",
       "<table border=\"1\" class=\"dataframe\">\n",
       "  <thead>\n",
       "    <tr style=\"text-align: right;\">\n",
       "      <th></th>\n",
       "      <th>id</th>\n",
       "      <th>lat</th>\n",
       "      <th>lon</th>\n",
       "      <th>tags_name</th>\n",
       "      <th>tags_amenity</th>\n",
       "      <th>tags_cuisine</th>\n",
       "      <th>tags_diet_vegetarian</th>\n",
       "      <th>tags_diet_vegan</th>\n",
       "      <th>tags_railway</th>\n",
       "      <th>gastronomy</th>\n",
       "    </tr>\n",
       "  </thead>\n",
       "  <tbody>\n",
       "    <tr>\n",
       "      <th>84154</th>\n",
       "      <td>626036832</td>\n",
       "      <td>51.309568</td>\n",
       "      <td>-0.053992</td>\n",
       "      <td>White Lion</td>\n",
       "      <td>bar</td>\n",
       "      <td>NaN</td>\n",
       "      <td>limited</td>\n",
       "      <td>limited</td>\n",
       "      <td>NaN</td>\n",
       "      <td>False</td>\n",
       "    </tr>\n",
       "  </tbody>\n",
       "</table>\n",
       "</div>"
      ],
      "text/plain": [
       "              id        lat       lon   tags_name tags_amenity tags_cuisine  \\\n",
       "84154  626036832  51.309568 -0.053992  White Lion          bar          NaN   \n",
       "\n",
       "      tags_diet_vegetarian tags_diet_vegan tags_railway  gastronomy  \n",
       "84154              limited         limited          NaN       False  "
      ]
     },
     "metadata": {},
     "output_type": "display_data"
    }
   ],
   "source": [
    "osm_short[osm_short['tags_name'] == 'White Lion']"
   ]
  },
  {
   "cell_type": "code",
   "execution_count": null,
   "metadata": {},
   "outputs": [
    {
     "data": {
      "text/plain": [
       "array(['yes', nan, 'no', 'only', 'limited'], dtype=object)"
      ]
     },
     "metadata": {},
     "output_type": "display_data"
    }
   ],
   "source": [
    "osm_short['tags_diet_vegan'].unique()"
   ]
  },
  {
   "cell_type": "code",
   "execution_count": null,
   "metadata": {},
   "outputs": [],
   "source": [
    "osm_short['tags_diet_vegetarian'] = np.where(osm_short['tags_diet_vegetarian'].isin(['yes', 'only', 'limited']), True, osm_short['tags_diet_vegetarian'])\n",
    "osm_short['tags_diet_vegetarian'] = np.where(osm_short['tags_diet_vegetarian'] == 'no', False, osm_short['tags_diet_vegetarian'])\n",
    "osm_short['tags_diet_vegan'] = np.where(osm_short['tags_diet_vegan'].isin(['yes', 'only', 'limited']), True, osm_short['tags_diet_vegan'])\n",
    "osm_short['tags_diet_vegan'] = np.where(osm_short['tags_diet_vegan'] == 'no', False, osm_short['tags_diet_vegan'])"
   ]
  },
  {
   "cell_type": "code",
   "execution_count": null,
   "metadata": {},
   "outputs": [
    {
     "data": {
      "text/html": [
       "<div>\n",
       "<style scoped>\n",
       "    .dataframe tbody tr th:only-of-type {\n",
       "        vertical-align: middle;\n",
       "    }\n",
       "\n",
       "    .dataframe tbody tr th {\n",
       "        vertical-align: top;\n",
       "    }\n",
       "\n",
       "    .dataframe thead th {\n",
       "        text-align: right;\n",
       "    }\n",
       "</style>\n",
       "<table border=\"1\" class=\"dataframe\">\n",
       "  <thead>\n",
       "    <tr style=\"text-align: right;\">\n",
       "      <th></th>\n",
       "      <th>id</th>\n",
       "      <th>lat</th>\n",
       "      <th>lon</th>\n",
       "      <th>tags_name</th>\n",
       "      <th>tags_amenity</th>\n",
       "      <th>tags_cuisine</th>\n",
       "      <th>tags_diet_vegetarian</th>\n",
       "      <th>tags_diet_vegan</th>\n",
       "      <th>tags_railway</th>\n",
       "      <th>gastronomy</th>\n",
       "    </tr>\n",
       "  </thead>\n",
       "  <tbody>\n",
       "    <tr>\n",
       "      <th>69299</th>\n",
       "      <td>9154045091</td>\n",
       "      <td>51.551510</td>\n",
       "      <td>0.025445</td>\n",
       "      <td>% Arabica</td>\n",
       "      <td>cafe</td>\n",
       "      <td>coffee_shop</td>\n",
       "      <td>NaN</td>\n",
       "      <td>NaN</td>\n",
       "      <td>NaN</td>\n",
       "      <td>False</td>\n",
       "    </tr>\n",
       "    <tr>\n",
       "      <th>81868</th>\n",
       "      <td>366302157</td>\n",
       "      <td>51.536501</td>\n",
       "      <td>-0.062015</td>\n",
       "      <td>% Arabica</td>\n",
       "      <td>cafe</td>\n",
       "      <td>coffee_shop</td>\n",
       "      <td>NaN</td>\n",
       "      <td>NaN</td>\n",
       "      <td>NaN</td>\n",
       "      <td>False</td>\n",
       "    </tr>\n",
       "    <tr>\n",
       "      <th>56910</th>\n",
       "      <td>7162287707</td>\n",
       "      <td>51.511600</td>\n",
       "      <td>-0.124178</td>\n",
       "      <td>% Arabica</td>\n",
       "      <td>cafe</td>\n",
       "      <td>NaN</td>\n",
       "      <td>NaN</td>\n",
       "      <td>NaN</td>\n",
       "      <td>NaN</td>\n",
       "      <td>False</td>\n",
       "    </tr>\n",
       "    <tr>\n",
       "      <th>75624</th>\n",
       "      <td>10266440589</td>\n",
       "      <td>51.481276</td>\n",
       "      <td>-0.009764</td>\n",
       "      <td>15grams</td>\n",
       "      <td>cafe</td>\n",
       "      <td>coffee_shop</td>\n",
       "      <td>NaN</td>\n",
       "      <td>NaN</td>\n",
       "      <td>NaN</td>\n",
       "      <td>False</td>\n",
       "    </tr>\n",
       "    <tr>\n",
       "      <th>75802</th>\n",
       "      <td>10280308656</td>\n",
       "      <td>51.466273</td>\n",
       "      <td>0.008868</td>\n",
       "      <td>15grams</td>\n",
       "      <td>cafe</td>\n",
       "      <td>NaN</td>\n",
       "      <td>NaN</td>\n",
       "      <td>NaN</td>\n",
       "      <td>NaN</td>\n",
       "      <td>False</td>\n",
       "    </tr>\n",
       "    <tr>\n",
       "      <th>...</th>\n",
       "      <td>...</td>\n",
       "      <td>...</td>\n",
       "      <td>...</td>\n",
       "      <td>...</td>\n",
       "      <td>...</td>\n",
       "      <td>...</td>\n",
       "      <td>...</td>\n",
       "      <td>...</td>\n",
       "      <td>...</td>\n",
       "      <td>...</td>\n",
       "    </tr>\n",
       "    <tr>\n",
       "      <th>85121</th>\n",
       "      <td>835331045</td>\n",
       "      <td>51.517020</td>\n",
       "      <td>-0.083122</td>\n",
       "      <td>itsu</td>\n",
       "      <td>fast_food</td>\n",
       "      <td>asian</td>\n",
       "      <td>NaN</td>\n",
       "      <td>NaN</td>\n",
       "      <td>NaN</td>\n",
       "      <td>True</td>\n",
       "    </tr>\n",
       "    <tr>\n",
       "      <th>81068</th>\n",
       "      <td>294886288</td>\n",
       "      <td>51.522595</td>\n",
       "      <td>-0.136622</td>\n",
       "      <td>itsu</td>\n",
       "      <td>fast_food</td>\n",
       "      <td>asian</td>\n",
       "      <td>NaN</td>\n",
       "      <td>NaN</td>\n",
       "      <td>NaN</td>\n",
       "      <td>True</td>\n",
       "    </tr>\n",
       "    <tr>\n",
       "      <th>81607</th>\n",
       "      <td>349295161</td>\n",
       "      <td>51.519376</td>\n",
       "      <td>-0.135280</td>\n",
       "      <td>mooboo</td>\n",
       "      <td>cafe</td>\n",
       "      <td>bubble_tea</td>\n",
       "      <td>NaN</td>\n",
       "      <td>NaN</td>\n",
       "      <td>NaN</td>\n",
       "      <td>False</td>\n",
       "    </tr>\n",
       "    <tr>\n",
       "      <th>75459</th>\n",
       "      <td>10243071184</td>\n",
       "      <td>51.581536</td>\n",
       "      <td>-0.339206</td>\n",
       "      <td>mooboo</td>\n",
       "      <td>cafe</td>\n",
       "      <td>bubble_tea</td>\n",
       "      <td>NaN</td>\n",
       "      <td>NaN</td>\n",
       "      <td>NaN</td>\n",
       "      <td>False</td>\n",
       "    </tr>\n",
       "    <tr>\n",
       "      <th>12804</th>\n",
       "      <td>1540888903</td>\n",
       "      <td>51.557974</td>\n",
       "      <td>-0.118892</td>\n",
       "      <td>mooboo</td>\n",
       "      <td>cafe</td>\n",
       "      <td>bubble tea</td>\n",
       "      <td>NaN</td>\n",
       "      <td>NaN</td>\n",
       "      <td>NaN</td>\n",
       "      <td>False</td>\n",
       "    </tr>\n",
       "  </tbody>\n",
       "</table>\n",
       "<p>9198 rows × 10 columns</p>\n",
       "</div>"
      ],
      "text/plain": [
       "                id        lat       lon  tags_name tags_amenity tags_cuisine  \\\n",
       "69299   9154045091  51.551510  0.025445  % Arabica         cafe  coffee_shop   \n",
       "81868    366302157  51.536501 -0.062015  % Arabica         cafe  coffee_shop   \n",
       "56910   7162287707  51.511600 -0.124178  % Arabica         cafe          NaN   \n",
       "75624  10266440589  51.481276 -0.009764    15grams         cafe  coffee_shop   \n",
       "75802  10280308656  51.466273  0.008868    15grams         cafe          NaN   \n",
       "...            ...        ...       ...        ...          ...          ...   \n",
       "85121    835331045  51.517020 -0.083122       itsu    fast_food        asian   \n",
       "81068    294886288  51.522595 -0.136622       itsu    fast_food        asian   \n",
       "81607    349295161  51.519376 -0.135280     mooboo         cafe   bubble_tea   \n",
       "75459  10243071184  51.581536 -0.339206     mooboo         cafe   bubble_tea   \n",
       "12804   1540888903  51.557974 -0.118892     mooboo         cafe   bubble tea   \n",
       "\n",
       "      tags_diet_vegetarian tags_diet_vegan tags_railway  gastronomy  \n",
       "69299                  NaN             NaN          NaN       False  \n",
       "81868                  NaN             NaN          NaN       False  \n",
       "56910                  NaN             NaN          NaN       False  \n",
       "75624                  NaN             NaN          NaN       False  \n",
       "75802                  NaN             NaN          NaN       False  \n",
       "...                    ...             ...          ...         ...  \n",
       "85121                  NaN             NaN          NaN        True  \n",
       "81068                  NaN             NaN          NaN        True  \n",
       "81607                  NaN             NaN          NaN       False  \n",
       "75459                  NaN             NaN          NaN       False  \n",
       "12804                  NaN             NaN          NaN       False  \n",
       "\n",
       "[9198 rows x 10 columns]"
      ]
     },
     "metadata": {},
     "output_type": "display_data"
    }
   ],
   "source": [
    "osm_short[(osm_short['tags_name'].duplicated(keep=False)) & (~osm_short['tags_name'].isna())].sort_values('tags_name')"
   ]
  },
  {
   "cell_type": "code",
   "execution_count": null,
   "metadata": {},
   "outputs": [
    {
     "data": {
      "text/html": [
       "<div>\n",
       "<style scoped>\n",
       "    .dataframe tbody tr th:only-of-type {\n",
       "        vertical-align: middle;\n",
       "    }\n",
       "\n",
       "    .dataframe tbody tr th {\n",
       "        vertical-align: top;\n",
       "    }\n",
       "\n",
       "    .dataframe thead th {\n",
       "        text-align: right;\n",
       "    }\n",
       "</style>\n",
       "<table border=\"1\" class=\"dataframe\">\n",
       "  <thead>\n",
       "    <tr style=\"text-align: right;\">\n",
       "      <th></th>\n",
       "      <th>id</th>\n",
       "      <th>lat</th>\n",
       "      <th>lon</th>\n",
       "      <th>tags_name</th>\n",
       "      <th>tags_amenity</th>\n",
       "      <th>tags_cuisine</th>\n",
       "      <th>tags_diet_vegetarian</th>\n",
       "      <th>tags_diet_vegan</th>\n",
       "      <th>tags_railway</th>\n",
       "      <th>gastronomy</th>\n",
       "    </tr>\n",
       "  </thead>\n",
       "  <tbody>\n",
       "    <tr>\n",
       "      <th>77013</th>\n",
       "      <td>10804698810</td>\n",
       "      <td>51.517783</td>\n",
       "      <td>-0.119808</td>\n",
       "      <td>Hiba</td>\n",
       "      <td>NaN</td>\n",
       "      <td>lebanese;kebab</td>\n",
       "      <td>NaN</td>\n",
       "      <td>NaN</td>\n",
       "      <td>NaN</td>\n",
       "      <td>False</td>\n",
       "    </tr>\n",
       "    <tr>\n",
       "      <th>77014</th>\n",
       "      <td>10804707265</td>\n",
       "      <td>51.517783</td>\n",
       "      <td>-0.119808</td>\n",
       "      <td>Hiba</td>\n",
       "      <td>fast_food</td>\n",
       "      <td>lebanese;kebab</td>\n",
       "      <td>NaN</td>\n",
       "      <td>NaN</td>\n",
       "      <td>NaN</td>\n",
       "      <td>True</td>\n",
       "    </tr>\n",
       "    <tr>\n",
       "      <th>78421</th>\n",
       "      <td>148523747</td>\n",
       "      <td>51.510973</td>\n",
       "      <td>-0.119257</td>\n",
       "      <td>Pret a Manger</td>\n",
       "      <td>cafe</td>\n",
       "      <td>NaN</td>\n",
       "      <td>NaN</td>\n",
       "      <td>NaN</td>\n",
       "      <td>NaN</td>\n",
       "      <td>False</td>\n",
       "    </tr>\n",
       "    <tr>\n",
       "      <th>78950</th>\n",
       "      <td>161420170</td>\n",
       "      <td>51.513528</td>\n",
       "      <td>-0.112037</td>\n",
       "      <td>Wrap It Up!</td>\n",
       "      <td>fast_food</td>\n",
       "      <td>NaN</td>\n",
       "      <td>NaN</td>\n",
       "      <td>NaN</td>\n",
       "      <td>NaN</td>\n",
       "      <td>True</td>\n",
       "    </tr>\n",
       "    <tr>\n",
       "      <th>78955</th>\n",
       "      <td>161420193</td>\n",
       "      <td>51.513528</td>\n",
       "      <td>-0.112037</td>\n",
       "      <td>Wrap It Up!</td>\n",
       "      <td>fast_food</td>\n",
       "      <td>NaN</td>\n",
       "      <td>True</td>\n",
       "      <td>NaN</td>\n",
       "      <td>NaN</td>\n",
       "      <td>True</td>\n",
       "    </tr>\n",
       "    <tr>\n",
       "      <th>79145</th>\n",
       "      <td>175155045</td>\n",
       "      <td>51.514317</td>\n",
       "      <td>-0.126766</td>\n",
       "      <td>Monmouth Coffee Company</td>\n",
       "      <td>NaN</td>\n",
       "      <td>coffee_shop</td>\n",
       "      <td>NaN</td>\n",
       "      <td>NaN</td>\n",
       "      <td>NaN</td>\n",
       "      <td>False</td>\n",
       "    </tr>\n",
       "    <tr>\n",
       "      <th>80097</th>\n",
       "      <td>232232236</td>\n",
       "      <td>51.514317</td>\n",
       "      <td>-0.126766</td>\n",
       "      <td>Monmouth Coffee Company</td>\n",
       "      <td>cafe</td>\n",
       "      <td>NaN</td>\n",
       "      <td>NaN</td>\n",
       "      <td>NaN</td>\n",
       "      <td>NaN</td>\n",
       "      <td>False</td>\n",
       "    </tr>\n",
       "    <tr>\n",
       "      <th>84331</th>\n",
       "      <td>671375498</td>\n",
       "      <td>51.510973</td>\n",
       "      <td>-0.119257</td>\n",
       "      <td>Pret a Manger</td>\n",
       "      <td>fast_food</td>\n",
       "      <td>NaN</td>\n",
       "      <td>NaN</td>\n",
       "      <td>NaN</td>\n",
       "      <td>NaN</td>\n",
       "      <td>True</td>\n",
       "    </tr>\n",
       "    <tr>\n",
       "      <th>85644</th>\n",
       "      <td>917487765</td>\n",
       "      <td>51.413644</td>\n",
       "      <td>-0.124324</td>\n",
       "      <td>NaN</td>\n",
       "      <td>fast_food</td>\n",
       "      <td>burger</td>\n",
       "      <td>NaN</td>\n",
       "      <td>NaN</td>\n",
       "      <td>NaN</td>\n",
       "      <td>True</td>\n",
       "    </tr>\n",
       "    <tr>\n",
       "      <th>85645</th>\n",
       "      <td>917487766</td>\n",
       "      <td>51.413613</td>\n",
       "      <td>-0.124324</td>\n",
       "      <td>NaN</td>\n",
       "      <td>fast_food</td>\n",
       "      <td>NaN</td>\n",
       "      <td>NaN</td>\n",
       "      <td>NaN</td>\n",
       "      <td>NaN</td>\n",
       "      <td>True</td>\n",
       "    </tr>\n",
       "  </tbody>\n",
       "</table>\n",
       "</div>"
      ],
      "text/plain": [
       "                id        lat       lon                tags_name tags_amenity  \\\n",
       "77013  10804698810  51.517783 -0.119808                     Hiba          NaN   \n",
       "77014  10804707265  51.517783 -0.119808                     Hiba    fast_food   \n",
       "78421    148523747  51.510973 -0.119257            Pret a Manger         cafe   \n",
       "78950    161420170  51.513528 -0.112037              Wrap It Up!    fast_food   \n",
       "78955    161420193  51.513528 -0.112037              Wrap It Up!    fast_food   \n",
       "79145    175155045  51.514317 -0.126766  Monmouth Coffee Company          NaN   \n",
       "80097    232232236  51.514317 -0.126766  Monmouth Coffee Company         cafe   \n",
       "84331    671375498  51.510973 -0.119257            Pret a Manger    fast_food   \n",
       "85644    917487765  51.413644 -0.124324                      NaN    fast_food   \n",
       "85645    917487766  51.413613 -0.124324                      NaN    fast_food   \n",
       "\n",
       "         tags_cuisine tags_diet_vegetarian tags_diet_vegan tags_railway  \\\n",
       "77013  lebanese;kebab                  NaN             NaN          NaN   \n",
       "77014  lebanese;kebab                  NaN             NaN          NaN   \n",
       "78421             NaN                  NaN             NaN          NaN   \n",
       "78950             NaN                  NaN             NaN          NaN   \n",
       "78955             NaN                 True             NaN          NaN   \n",
       "79145     coffee_shop                  NaN             NaN          NaN   \n",
       "80097             NaN                  NaN             NaN          NaN   \n",
       "84331             NaN                  NaN             NaN          NaN   \n",
       "85644          burger                  NaN             NaN          NaN   \n",
       "85645             NaN                  NaN             NaN          NaN   \n",
       "\n",
       "       gastronomy  \n",
       "77013       False  \n",
       "77014        True  \n",
       "78421       False  \n",
       "78950        True  \n",
       "78955        True  \n",
       "79145       False  \n",
       "80097       False  \n",
       "84331        True  \n",
       "85644        True  \n",
       "85645        True  "
      ]
     },
     "metadata": {},
     "output_type": "display_data"
    }
   ],
   "source": [
    "osm_short[(osm_short[['tags_name', 'lon']].duplicated(keep=False))]"
   ]
  },
  {
   "cell_type": "code",
   "execution_count": null,
   "metadata": {},
   "outputs": [],
   "source": [
    "osm_short.columns = osm_short.columns.str.replace('tags_' , '')"
   ]
  },
  {
   "cell_type": "code",
   "execution_count": null,
   "metadata": {},
   "outputs": [
    {
     "data": {
      "text/html": [
       "<div>\n",
       "<style scoped>\n",
       "    .dataframe tbody tr th:only-of-type {\n",
       "        vertical-align: middle;\n",
       "    }\n",
       "\n",
       "    .dataframe tbody tr th {\n",
       "        vertical-align: top;\n",
       "    }\n",
       "\n",
       "    .dataframe thead th {\n",
       "        text-align: right;\n",
       "    }\n",
       "</style>\n",
       "<table border=\"1\" class=\"dataframe\">\n",
       "  <thead>\n",
       "    <tr style=\"text-align: right;\">\n",
       "      <th></th>\n",
       "      <th>id</th>\n",
       "      <th>lat</th>\n",
       "      <th>lon</th>\n",
       "      <th>name</th>\n",
       "      <th>amenity</th>\n",
       "      <th>cuisine</th>\n",
       "      <th>diet_vegetarian</th>\n",
       "      <th>diet_vegan</th>\n",
       "      <th>railway</th>\n",
       "      <th>gastronomy</th>\n",
       "    </tr>\n",
       "  </thead>\n",
       "  <tbody>\n",
       "    <tr>\n",
       "      <th>0</th>\n",
       "      <td>451152</td>\n",
       "      <td>51.600840</td>\n",
       "      <td>-0.194608</td>\n",
       "      <td>King of Prussia</td>\n",
       "      <td>bar</td>\n",
       "      <td>pizza;burger</td>\n",
       "      <td>True</td>\n",
       "      <td>True</td>\n",
       "      <td>NaN</td>\n",
       "      <td>False</td>\n",
       "    </tr>\n",
       "    <tr>\n",
       "      <th>1</th>\n",
       "      <td>451153</td>\n",
       "      <td>51.602031</td>\n",
       "      <td>-0.193503</td>\n",
       "      <td>Central Restaurant</td>\n",
       "      <td>restaurant</td>\n",
       "      <td>NaN</td>\n",
       "      <td>NaN</td>\n",
       "      <td>NaN</td>\n",
       "      <td>NaN</td>\n",
       "      <td>True</td>\n",
       "    </tr>\n",
       "    <tr>\n",
       "      <th>2</th>\n",
       "      <td>451154</td>\n",
       "      <td>51.599579</td>\n",
       "      <td>-0.196028</td>\n",
       "      <td>The Catcher in the Rye</td>\n",
       "      <td>bar</td>\n",
       "      <td>NaN</td>\n",
       "      <td>NaN</td>\n",
       "      <td>NaN</td>\n",
       "      <td>NaN</td>\n",
       "      <td>False</td>\n",
       "    </tr>\n",
       "    <tr>\n",
       "      <th>3</th>\n",
       "      <td>451271</td>\n",
       "      <td>51.614104</td>\n",
       "      <td>-0.176556</td>\n",
       "      <td>The Tally Ho</td>\n",
       "      <td>bar</td>\n",
       "      <td>NaN</td>\n",
       "      <td>NaN</td>\n",
       "      <td>NaN</td>\n",
       "      <td>NaN</td>\n",
       "      <td>False</td>\n",
       "    </tr>\n",
       "    <tr>\n",
       "      <th>4</th>\n",
       "      <td>12242503</td>\n",
       "      <td>51.592016</td>\n",
       "      <td>0.027962</td>\n",
       "      <td>Railway Bell</td>\n",
       "      <td>bar</td>\n",
       "      <td>NaN</td>\n",
       "      <td>NaN</td>\n",
       "      <td>NaN</td>\n",
       "      <td>NaN</td>\n",
       "      <td>False</td>\n",
       "    </tr>\n",
       "  </tbody>\n",
       "</table>\n",
       "</div>"
      ],
      "text/plain": [
       "         id        lat       lon                    name     amenity  \\\n",
       "0    451152  51.600840 -0.194608         King of Prussia         bar   \n",
       "1    451153  51.602031 -0.193503      Central Restaurant  restaurant   \n",
       "2    451154  51.599579 -0.196028  The Catcher in the Rye         bar   \n",
       "3    451271  51.614104 -0.176556            The Tally Ho         bar   \n",
       "4  12242503  51.592016  0.027962            Railway Bell         bar   \n",
       "\n",
       "        cuisine diet_vegetarian diet_vegan railway  gastronomy  \n",
       "0  pizza;burger            True       True     NaN       False  \n",
       "1           NaN             NaN        NaN     NaN        True  \n",
       "2           NaN             NaN        NaN     NaN       False  \n",
       "3           NaN             NaN        NaN     NaN       False  \n",
       "4           NaN             NaN        NaN     NaN       False  "
      ]
     },
     "metadata": {},
     "output_type": "display_data"
    }
   ],
   "source": [
    "osm_short.head()"
   ]
  },
  {
   "cell_type": "markdown",
   "metadata": {},
   "source": [
    "### 3.1. First Look - Open Street Maps-Data"
   ]
  },
  {
   "cell_type": "code",
   "execution_count": null,
   "metadata": {},
   "outputs": [
    {
     "ename": "NameError",
     "evalue": "name 'streetmap_short' is not defined",
     "output_type": "error",
     "traceback": [
      "\u001b[0;31m---------------------------------------------------------------------------\u001b[0m\n",
      "\u001b[0;31mNameError\u001b[0m                                 Traceback (most recent call last)\n",
      "Cell \u001b[0;32mIn[47], line 1\u001b[0m\n",
      "\u001b[0;32m----> 1\u001b[0m streetmap_short[streetmap_short[\u001b[39m\"\u001b[39m\u001b[39mtags.amenity\u001b[39m\u001b[39m\"\u001b[39m] \u001b[39m==\u001b[39m \u001b[39m\"\u001b[39m\u001b[39mrestaurant\u001b[39m\u001b[39m\"\u001b[39m]\u001b[39m.\u001b[39mshape\n",
      "\n",
      "\u001b[0;31mNameError\u001b[0m: name 'streetmap_short' is not defined"
     ]
    }
   ],
   "source": [
    "streetmap_short[streetmap_short[\"tags.amenity\"] == \"restaurant\"].shape"
   ]
  },
  {
   "cell_type": "code",
   "execution_count": null,
   "metadata": {},
   "outputs": [],
   "source": [
    "streetmap_short[streetmap_short[\"tags.amenity\"] == \"restaurant\"][\"tags.cuisine\"].value_counts(dropna=False)"
   ]
  },
  {
   "cell_type": "code",
   "execution_count": null,
   "metadata": {},
   "outputs": [],
   "source": [
    "streetmap_short[\"tags.cuisine\"].value_counts(dropna=False)"
   ]
  },
  {
   "cell_type": "code",
   "execution_count": null,
   "metadata": {},
   "outputs": [],
   "source": [
    "streetmap_short.head()"
   ]
  },
  {
   "cell_type": "code",
   "execution_count": null,
   "metadata": {},
   "outputs": [],
   "source": [
    "streetmap_short[\"tags.amenity\"].unique()"
   ]
  },
  {
   "cell_type": "code",
   "execution_count": null,
   "metadata": {},
   "outputs": [],
   "source": [
    "streetmap_short.info()"
   ]
  },
  {
   "cell_type": "code",
   "execution_count": null,
   "metadata": {},
   "outputs": [],
   "source": [
    "streetmap_short.describe()"
   ]
  },
  {
   "cell_type": "code",
   "execution_count": null,
   "metadata": {},
   "outputs": [],
   "source": [
    "### Increase outside border of listings\n",
    "london_bbox = increase_bbox(listings)"
   ]
  },
  {
   "cell_type": "code",
   "execution_count": null,
   "metadata": {},
   "outputs": [],
   "source": [
    "# Increasing the maxs by 0.01 and decreasing the mins by 0.01 \n",
    "# will shift the outline's border by a bit more than 1km in each direction.\n",
    "\n",
    "# See increase_bbox function in py_functions.py"
   ]
  },
  {
   "cell_type": "code",
   "execution_count": null,
   "metadata": {},
   "outputs": [],
   "source": [
    "# (northern hemisphere)\n",
    "# latitude max = north\n",
    "# latitude min = south\n",
    "# longitude max = east\n",
    "# longitude min = west"
   ]
  },
  {
   "cell_type": "code",
   "execution_count": null,
   "metadata": {},
   "outputs": [],
   "source": [
    "### Get OSM data for slightly bigger bbox\n",
    "overpass_url = \"http://overpass-api.de/api/interpreter\"\n",
    "overpass_query = f\"\"\"\n",
    "[out:json];\n",
    "(\n",
    "    node[\"amenity\"=\"bar\"]({london_bbox[\"south_shifted\"]},{london_bbox[\"west_shifted\"]},{london_bbox[\"north_shifted\"]},{london_bbox[\"east_shifted\"]});\n",
    "    node[\"amenity\"=\"pub\"]({london_bbox[\"south_shifted\"]},{london_bbox[\"west_shifted\"]},{london_bbox[\"north_shifted\"]},{london_bbox[\"east_shifted\"]});\n",
    "    node[\"amenity\"=\"restaurant\"]({london_bbox[\"south_shifted\"]},{london_bbox[\"west_shifted\"]},{london_bbox[\"north_shifted\"]},{london_bbox[\"east_shifted\"]});\n",
    "    node[\"amenity\"=\"cafe\"]({london_bbox[\"south_shifted\"]},{london_bbox[\"west_shifted\"]},{london_bbox[\"north_shifted\"]},{london_bbox[\"east_shifted\"]});\n",
    "    node[\"amenity\"=\"fast_food\"]({london_bbox[\"south_shifted\"]},{london_bbox[\"west_shifted\"]},{london_bbox[\"north_shifted\"]},{london_bbox[\"east_shifted\"]});\n",
    "    node[\"railway\"=\"subway_entrance\"]({london_bbox[\"south_shifted\"]},{london_bbox[\"west_shifted\"]},{london_bbox[\"north_shifted\"]},{london_bbox[\"east_shifted\"]});\n",
    "    node[\"cuisine\"]({london_bbox[\"south_shifted\"]},{london_bbox[\"west_shifted\"]},{london_bbox[\"north_shifted\"]},{london_bbox[\"east_shifted\"]});\n",
    "    way[\"amenity\"=\"bar\"]({london_bbox[\"south_shifted\"]},{london_bbox[\"west_shifted\"]},{london_bbox[\"north_shifted\"]},{london_bbox[\"east_shifted\"]});\n",
    "    way[\"amenity\"=\"pub\"]({london_bbox[\"south_shifted\"]},{london_bbox[\"west_shifted\"]},{london_bbox[\"north_shifted\"]},{london_bbox[\"east_shifted\"]});\n",
    "    way[\"amenity\"=\"restaurant\"]({london_bbox[\"south_shifted\"]},{london_bbox[\"west_shifted\"]},{london_bbox[\"north_shifted\"]},{london_bbox[\"east_shifted\"]});\n",
    "    way[\"amenity\"=\"cafe\"]({london_bbox[\"south_shifted\"]},{london_bbox[\"west_shifted\"]},{london_bbox[\"north_shifted\"]},{london_bbox[\"east_shifted\"]});\n",
    "    way[\"amenity\"=\"fast_food\"]({london_bbox[\"south_shifted\"]},{london_bbox[\"west_shifted\"]},{london_bbox[\"north_shifted\"]},{london_bbox[\"east_shifted\"]});\n",
    "    way[\"railway\"=\"subway_entrance\"]({london_bbox[\"south_shifted\"]},{london_bbox[\"west_shifted\"]},{london_bbox[\"north_shifted\"]},{london_bbox[\"east_shifted\"]});\n",
    "    way[\"cuisine\"]({london_bbox[\"south_shifted\"]},{london_bbox[\"west_shifted\"]},{london_bbox[\"north_shifted\"]},{london_bbox[\"east_shifted\"]});\n",
    "\n",
    "    );\n",
    "    (._;>;);\n",
    "out body;\n",
    "\"\"\"\n",
    "response = requests.get(overpass_url,\n",
    "                        params={'data': overpass_query})\n",
    "data = response.json()\n",
    "\n",
    "osm = pd.json_normalize(data, record_path=\"elements\")\n"
   ]
  },
  {
   "cell_type": "code",
   "execution_count": null,
   "metadata": {},
   "outputs": [],
   "source": [
    "### clean column names \n",
    "osm.columns = osm.columns.str.replace(\".\", \"_\", regex=False)\n",
    "osm.columns = osm.columns.str.replace(\":\", \"_\", regex=False)\n"
   ]
  },
  {
   "cell_type": "code",
   "execution_count": null,
   "metadata": {},
   "outputs": [],
   "source": [
    "### select only desired columns\n",
    "osm_keepers = ([\"id\",\n",
    "                     \"lat\",\n",
    "                     \"lon\",\n",
    "                     \"tags_name\",\n",
    "                     \"tags_amenity\",\n",
    "                     \"tags_cuisine\",\n",
    "                     \"tags_diet_vegetarian\",\n",
    "                     \"tags_diet_vegan\",\n",
    "                     \"tags_railway\"]\n",
    "                     )"
   ]
  },
  {
   "cell_type": "code",
   "execution_count": null,
   "metadata": {},
   "outputs": [],
   "source": [
    "osm_short = osm[osm_keepers]"
   ]
  },
  {
   "cell_type": "code",
   "execution_count": null,
   "metadata": {},
   "outputs": [],
   "source": [
    "### combine lat & lon to a new column lat_lon, to check for duplicates \n",
    "osm_short[\"lat_lon\"] = osm_short[\"lat\"].astype(str) + osm_short[\"lon\"].astype(str)"
   ]
  },
  {
   "cell_type": "code",
   "execution_count": null,
   "metadata": {},
   "outputs": [],
   "source": [
    "### drop all rows with no lat/lon\n",
    "osm_short = osm_short.dropna(subset=['lat'])\n"
   ]
  },
  {
   "cell_type": "code",
   "execution_count": null,
   "metadata": {},
   "outputs": [],
   "source": [
    "osm_short.head()"
   ]
  },
  {
   "attachments": {},
   "cell_type": "markdown",
   "metadata": {},
   "source": [
    "### 3.1. First Look - Open Street Maps-Data"
   ]
  },
  {
   "cell_type": "code",
   "execution_count": null,
   "metadata": {},
   "outputs": [],
   "source": [
    "streetmap_short[streetmap_short[\"tags.amenity\"] == \"restaurant\"].shape"
   ]
  },
  {
   "cell_type": "code",
   "execution_count": null,
   "metadata": {},
   "outputs": [],
   "source": [
    "streetmap_short[streetmap_short[\"tags.amenity\"] == \"restaurant\"][\"tags.cuisine\"].value_counts(dropna=False)"
   ]
  },
  {
   "cell_type": "code",
   "execution_count": null,
   "metadata": {},
   "outputs": [],
   "source": [
    "streetmap_short[\"tags.cuisine\"].value_counts(dropna=False)"
   ]
  },
  {
   "cell_type": "code",
   "execution_count": null,
   "metadata": {},
   "outputs": [],
   "source": [
    "streetmap_short.head()"
   ]
  },
  {
   "cell_type": "code",
   "execution_count": null,
   "metadata": {},
   "outputs": [],
   "source": [
    "streetmap_short[\"tags.amenity\"].unique()"
   ]
  },
  {
   "cell_type": "code",
   "execution_count": null,
   "metadata": {},
   "outputs": [],
   "source": [
    "streetmap_short.info()"
   ]
  },
  {
   "cell_type": "code",
   "execution_count": null,
   "metadata": {},
   "outputs": [],
   "source": [
    "streetmap_short.describe()"
   ]
  },
  {
   "attachments": {},
   "cell_type": "markdown",
   "metadata": {},
   "source": [
    "## 4. Web scraping test"
   ]
  },
  {
   "cell_type": "code",
   "execution_count": null,
   "metadata": {},
   "outputs": [],
   "source": [
    "from bs4 import BeautifulSoup"
   ]
  },
  {
   "cell_type": "code",
   "execution_count": null,
   "metadata": {},
   "outputs": [],
   "source": [
    "url = \"http://insideairbnb.com/get-the-data/\"\n",
    "page = requests.get(url)"
   ]
  },
  {
   "cell_type": "code",
   "execution_count": null,
   "metadata": {},
   "outputs": [],
   "source": [
    "soup = BeautifulSoup(page.content, \"html.parser\")"
   ]
  },
  {
   "cell_type": "code",
   "execution_count": null,
   "metadata": {},
   "outputs": [],
   "source": [
    "print(soup)"
   ]
  },
  {
   "attachments": {},
   "cell_type": "markdown",
   "metadata": {},
   "source": [
    "## 5.Area-Calc-Test"
   ]
  },
  {
   "cell_type": "code",
   "execution_count": null,
   "metadata": {},
   "outputs": [],
   "source": [
    "streetmap.head()"
   ]
  },
  {
   "cell_type": "code",
   "execution_count": null,
   "metadata": {},
   "outputs": [],
   "source": [
    "# Import libraries and set test subsets of the data\n",
    "from sklearn.neighbors import BallTree\n",
    "list_test = listings_short[[\"id\", \"name\", \"latitude\", \"longitude\"]]\n",
    "street_test = streetmap[[\"id\", \"lat\", \"lon\", \"tags.amenity\", \"tags.railway\"]]"
   ]
  },
  {
   "cell_type": "code",
   "execution_count": null,
   "metadata": {},
   "outputs": [],
   "source": [
    "#rename the column name so that they are equal \n",
    "streetmap = streetmap.rename(columns={\"lat\": \"latitude\", \"lon\": \"longitude\"})\n"
   ]
  },
  {
   "cell_type": "code",
   "execution_count": null,
   "metadata": {},
   "outputs": [],
   "source": [
    "# Calculate the needed radius when converted to unit sphere.\n",
    "distance_in_meter = 500\n",
    "earth_radius_in_meter = 6_371_000\n",
    "\n",
    "radius = distance_in_meter / earth_radius_in_meter"
   ]
  },
  {
   "cell_type": "code",
   "execution_count": null,
   "metadata": {},
   "outputs": [],
   "source": [
    "# Convert the latitude and longitude columns to radians\n",
    "list_test = list_test.copy()\n",
    "list_test.loc[:, 'lat_rad'] = np.radians(list_test['latitude'])\n",
    "list_test.loc[:, 'lon_rad'] = np.radians(list_test['longitude'])\n",
    "street_test = street_test.copy()\n",
    "street_test.loc[:, 'lat_rad'] = np.radians(street_test['latitude'])\n",
    "street_test.loc[:, 'lon_rad'] = np.radians(street_test['longitude'])\n",
    "\n",
    "# Create a BallTree object with the latitude and longitude columns\n",
    "tree = BallTree(street_test[['lat_rad', 'lon_rad']],\n",
    "                leaf_size=15, metric='haversine')\n",
    "\n",
    "# Find the indices of all neighbors within a radius of 500 meters\n",
    "# for each row in list_test\n",
    "indices = tree.query_radius(\n",
    "    list_test[['lat_rad', 'lon_rad']], r=radius, count_only=False)\n",
    "\n",
    "# Calculate the number of neighbors for each amenity type\n",
    "amenity_types = street_test['tags.amenity'].unique()\n",
    "amenity_counts = np.zeros((list_test.shape[0], amenity_types.shape[0]))\n",
    "for i, amenity in enumerate(amenity_types):\n",
    "    street_indices = street_test[street_test['tags.amenity'] == amenity].index\n",
    "    intersection_counts = np.array(\n",
    "        [np.intersect1d(street_indices, idx).size for idx in indices])\n",
    "    amenity_counts[:, i] = intersection_counts\n",
    "\n",
    "# Add the new columns to list_test\n",
    "list_test = pd.concat([list_test, pd.DataFrame(amenity_counts, columns=[\n",
    "                      f'num_neighbors_{amenity}' for amenity in amenity_types])], axis=1)\n",
    "\n",
    "# Calculate the number of neighbors for each railway type\n",
    "railway_types = street_test['tags.railway'].unique()\n",
    "railway_counts = np.zeros((list_test.shape[0], railway_types.shape[0]))\n",
    "for i, railway in enumerate(railway_types):\n",
    "    street_indices = street_test[street_test['tags.railway'] == railway].index\n",
    "    intersection_counts = np.array(\n",
    "        [np.intersect1d(street_indices, idx).size for idx in indices])\n",
    "    railway_counts[:, i] = intersection_counts\n",
    "\n",
    "# Add the new columns to list_test\n",
    "list_test = pd.concat([list_test, pd.DataFrame(railway_counts, columns=[\n",
    "                      f'num_neighbors_{railway}' for railway in railway_types])], axis=1)\n",
    "\n",
    "\n",
    "# Remove the temporary columns\n",
    "list_test.drop(columns=['lat_rad', 'lon_rad'], inplace=True)\n",
    "street_test.drop(columns=['lat_rad', 'lon_rad'], inplace=True)\n"
   ]
  },
  {
   "cell_type": "code",
   "execution_count": null,
   "metadata": {},
   "outputs": [],
   "source": [
    "list_test.describe()"
   ]
  },
  {
   "attachments": {},
   "cell_type": "markdown",
   "metadata": {},
   "source": [
    "## 6.Nearest Station-Test"
   ]
  },
  {
   "cell_type": "code",
   "execution_count": null,
   "metadata": {},
   "outputs": [],
   "source": [
    "streetmap[\"tags.railway\"].unique()"
   ]
  },
  {
   "cell_type": "code",
   "execution_count": null,
   "metadata": {},
   "outputs": [],
   "source": [
    "streetmap.dropna(subset=[\"tags.railway\"], inplace=True)\n"
   ]
  },
  {
   "cell_type": "code",
   "execution_count": null,
   "metadata": {},
   "outputs": [],
   "source": [
    "from haversine import haversine, Unit\n",
    "\n",
    "# define a function to calculate distance between two points\n",
    "def calc_distance(lat1, lon1, lat2, lon2):\n",
    "    return haversine((lat1, lon1), (lat2, lon2), unit=Unit.METERS)\n",
    "\n",
    "# get all unique values in \"tags.railway\"\n",
    "railway_tags = streetmap[\"tags.railway\"].unique()\n",
    "\n",
    "# loop through each row in listings_short and calculate the minimum distance\n",
    "# for each value in streetmap[\"tags.railway\"]\n",
    "for tag in railway_tags:\n",
    "    distances = []\n",
    "    for _, row in listings_short.iterrows():\n",
    "        min_distance = None\n",
    "        for _, sm_row in streetmap[streetmap[\"tags.railway\"] == tag].iterrows():\n",
    "            distance = calc_distance(row[\"latitude\"], row[\"longitude\"], sm_row[\"latitude\"], sm_row[\"longitude\"])\n",
    "            if min_distance is None or distance < min_distance:\n",
    "                min_distance = distance\n",
    "        distances.append(min_distance)\n",
    "\n",
    "    # add the calculated minimum distances as a new column in listings_short\n",
    "    col_name = \"min_distance_{}\".format(tag)\n",
    "    listings_short[col_name] = distances\n"
   ]
  },
  {
   "cell_type": "code",
   "execution_count": null,
   "metadata": {},
   "outputs": [],
   "source": [
    "# from haversine import haversine, Unit\n",
    "\n",
    "# # define a function to calculate distance between two points\n",
    "# def calc_distance(lat1, lon1, lat2, lon2):\n",
    "#     return haversine((lat1, lon1), (lat2, lon2), unit=Unit.METERS)\n",
    "\n",
    "# # loop through each row in listings_short and calculate the minimum distance\n",
    "# # for \"subway_entrance\" tag\n",
    "# distances = []\n",
    "# for _, row in listings_short.iterrows():\n",
    "#     min_distance = None\n",
    "#     for _, sm_row in streetmap[streetmap[\"tags.railway\"] == \"subway_entrance\"].iterrows():\n",
    "#         distance = calc_distance(row[\"latitude\"], row[\"longitude\"], sm_row[\"latitude\"], sm_row[\"longitude\"])\n",
    "#         if min_distance is None or distance < min_distance:\n",
    "#             min_distance = distance\n",
    "#     distances.append(min_distance)\n",
    "\n",
    "# # add the calculated minimum distances as a new column in listings_short\n",
    "# listings_short[\"min_distance_subway_entrance\"] = distances\n"
   ]
  },
  {
   "cell_type": "code",
   "execution_count": null,
   "metadata": {},
   "outputs": [],
   "source": [
    "listings_short.describe()"
   ]
  },
  {
   "attachments": {},
   "cell_type": "markdown",
   "metadata": {},
   "source": [
    "Price correlation"
   ]
  },
  {
   "cell_type": "code",
   "execution_count": null,
   "metadata": {},
   "outputs": [],
   "source": [
    "list_test[\"price\"] = listings_short[\"price\"]"
   ]
  },
  {
   "cell_type": "code",
   "execution_count": null,
   "metadata": {},
   "outputs": [],
   "source": [
    "list_test.price = list_test.price.str[1:-3]\n",
    "list_test.price = list_test.price.str.replace(\",\", \"\")\n",
    "list_test.price = list_test.price.astype('int64')"
   ]
  },
  {
   "cell_type": "code",
   "execution_count": null,
   "metadata": {},
   "outputs": [],
   "source": [
    "list_test.corrwith(list_test['price'])"
   ]
  },
  {
   "cell_type": "code",
   "execution_count": null,
   "metadata": {},
   "outputs": [],
   "source": []
  }
 ],
 "metadata": {
  "kernelspec": {
   "display_name": "nf_base",
   "language": "python",
   "name": "python3"
  },
  "language_info": {
   "codemirror_mode": {
    "name": "ipython",
    "version": 3
   },
   "file_extension": ".py",
   "mimetype": "text/x-python",
   "name": "python",
   "nbconvert_exporter": "python",
   "pygments_lexer": "ipython3",
   "version": "3.9.16"
  },
  "orig_nbformat": 4,
  "vscode": {
   "interpreter": {
    "hash": "ab3d85a18739f6fff6a9c8c504adc2ff9340867b576dede986e2ee74c099e4e5"
   }
  }
 },
 "nbformat": 4,
 "nbformat_minor": 2
}
